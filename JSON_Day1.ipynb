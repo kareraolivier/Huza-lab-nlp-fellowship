{
  "nbformat": 4,
  "nbformat_minor": 0,
  "metadata": {
    "colab": {
      "provenance": [],
      "collapsed_sections": [],
      "include_colab_link": true
    },
    "kernelspec": {
      "name": "python3",
      "display_name": "Python 3"
    },
    "language_info": {
      "name": "python"
    }
  },
  "cells": [
    {
      "cell_type": "markdown",
      "metadata": {
        "id": "view-in-github",
        "colab_type": "text"
      },
      "source": [
        "<a href=\"https://colab.research.google.com/github/kareraolivier/Huza-lab-nlp-fellowship/blob/class_assignment/JSON_Day1.ipynb\" target=\"_parent\"><img src=\"https://colab.research.google.com/assets/colab-badge.svg\" alt=\"Open In Colab\"/></a>"
      ]
    },
    {
      "cell_type": "markdown",
      "source": [
        "# Working with JSON Day 1\n",
        "Json stands for JavaScript Object Notation. Json is formed in a key, value format. It can take Strings, Numbers, Lists and even other Json Objects. \n",
        "\n",
        "You will find json object as responses from APIs.\n",
        "\n",
        "## Objective of this sessions\n",
        "\n",
        "\n",
        "1.   Learn how to read a json file\n",
        "2.   Learn how to request data from an API\n",
        "3.   Learn how to get values from a json object\n",
        "4.   Learn how to add values\n",
        "5.   Learn how to update values\n",
        "6.   Learn how to delete values\n",
        "\n"
      ],
      "metadata": {
        "id": "u2dtvbb_DpCQ"
      }
    },
    {
      "cell_type": "code",
      "execution_count": null,
      "metadata": {
        "colab": {
          "base_uri": "https://localhost:8080/"
        },
        "id": "cJkjPu3EDn5j",
        "outputId": "086abf18-cee5-47fa-a868-6fe73fbd0561"
      },
      "outputs": [
        {
          "output_type": "stream",
          "name": "stdout",
          "text": [
            "{'country': {'name': 'Rwanda', 'continent': 'Africa'}}\n"
          ]
        }
      ],
      "source": [
        "import json\n",
        "# create a json object\n",
        "data = {\n",
        "    \"country\": {\n",
        "        \"name\": \"Rwanda\",\n",
        "        \"continent\": \"Africa\"\n",
        "    }\n",
        "}\n",
        "\n",
        "print(data)"
      ]
    },
    {
      "cell_type": "markdown",
      "source": [
        "## dump vs dumps | load vs loads\n",
        "### Serializating JSON\n",
        "\n",
        "When you was to write the json object to a file, you use:\n",
        "\n",
        " `json.dump(object,filename)`\n",
        " \n",
        " When you want to change it to a json string:\n",
        "\n",
        " `json_string = json.dumps(object)`\n",
        "\n",
        " ### Deserializing JSON\n",
        " When you want to read from a json file, use:\n",
        "\n",
        " `json.load(filename)`\n",
        "\n",
        " When you want to change from json string:\n",
        "\n",
        "  `json_object = json.loads(json_string)`"
      ],
      "metadata": {
        "id": "CsQdYuFjZJJv"
      }
    },
    {
      "cell_type": "code",
      "source": [
        "# Accessing the values\n",
        "print(data['country'])\n",
        "print('------------------------')\n",
        "print(data['country']['continent'])"
      ],
      "metadata": {
        "colab": {
          "base_uri": "https://localhost:8080/"
        },
        "id": "UHzkgChomwxc",
        "outputId": "d2482bec-6e23-4f3d-be54-9a97095b16ff"
      },
      "execution_count": null,
      "outputs": [
        {
          "output_type": "stream",
          "name": "stdout",
          "text": [
            "{'name': 'Rwanda', 'continent': 'Africa'}\n",
            "------------------------\n",
            "Africa\n"
          ]
        }
      ]
    },
    {
      "cell_type": "code",
      "source": [
        "# updating values\n",
        "#data['country']['name'] = 'Rwanda'\n",
        "\n",
        "# adding new values\n",
        "#data['country']['population'] = 14000000\n",
        "\n",
        "\n",
        "# removing values\n",
        "del data['country']['population']\n",
        "\n",
        "print(data)"
      ],
      "metadata": {
        "colab": {
          "base_uri": "https://localhost:8080/"
        },
        "id": "uw3VPX9Qp0mm",
        "outputId": "4d8aae98-6235-4c21-b3cf-cbc37c58f22b"
      },
      "execution_count": null,
      "outputs": [
        {
          "output_type": "stream",
          "name": "stdout",
          "text": [
            "{'country': {'name': 'Rwanda', 'continent': 'Africa'}}\n"
          ]
        }
      ]
    },
    {
      "cell_type": "markdown",
      "source": [
        "## Working with APIs\n"
      ],
      "metadata": {
        "id": "3CqcHzyeuX91"
      }
    },
    {
      "cell_type": "code",
      "source": [
        "import requests\n",
        "import json\n",
        "response = requests.get(\"https://jsonplaceholder.typicode.com/albums\")\n",
        "albums = json.loads(response.text)\n",
        "\n",
        "print(len(albums))\n",
        "print(response.json())"
      ],
      "metadata": {
        "colab": {
          "base_uri": "https://localhost:8080/"
        },
        "id": "0OgpzHMluVkR",
        "outputId": "a1d90212-9cc1-40a3-85e1-8360fe0ade98"
      },
      "execution_count": null,
      "outputs": [
        {
          "output_type": "stream",
          "name": "stdout",
          "text": [
            "10636\n",
            "[{'userId': 1, 'id': 1, 'title': 'quidem molestiae enim'}, {'userId': 1, 'id': 2, 'title': 'sunt qui excepturi placeat culpa'}, {'userId': 1, 'id': 3, 'title': 'omnis laborum odio'}, {'userId': 1, 'id': 4, 'title': 'non esse culpa molestiae omnis sed optio'}, {'userId': 1, 'id': 5, 'title': 'eaque aut omnis a'}, {'userId': 1, 'id': 6, 'title': 'natus impedit quibusdam illo est'}, {'userId': 1, 'id': 7, 'title': 'quibusdam autem aliquid et et quia'}, {'userId': 1, 'id': 8, 'title': 'qui fuga est a eum'}, {'userId': 1, 'id': 9, 'title': 'saepe unde necessitatibus rem'}, {'userId': 1, 'id': 10, 'title': 'distinctio laborum qui'}, {'userId': 2, 'id': 11, 'title': 'quam nostrum impedit mollitia quod et dolor'}, {'userId': 2, 'id': 12, 'title': 'consequatur autem doloribus natus consectetur'}, {'userId': 2, 'id': 13, 'title': 'ab rerum non rerum consequatur ut ea unde'}, {'userId': 2, 'id': 14, 'title': 'ducimus molestias eos animi atque nihil'}, {'userId': 2, 'id': 15, 'title': 'ut pariatur rerum ipsum natus repellendus praesentium'}, {'userId': 2, 'id': 16, 'title': 'voluptatem aut maxime inventore autem magnam atque repellat'}, {'userId': 2, 'id': 17, 'title': 'aut minima voluptatem ut velit'}, {'userId': 2, 'id': 18, 'title': 'nesciunt quia et doloremque'}, {'userId': 2, 'id': 19, 'title': 'velit pariatur quaerat similique libero omnis quia'}, {'userId': 2, 'id': 20, 'title': 'voluptas rerum iure ut enim'}, {'userId': 3, 'id': 21, 'title': 'repudiandae voluptatem optio est consequatur rem in temporibus et'}, {'userId': 3, 'id': 22, 'title': 'et rem non provident vel ut'}, {'userId': 3, 'id': 23, 'title': 'incidunt quisquam hic adipisci sequi'}, {'userId': 3, 'id': 24, 'title': 'dolores ut et facere placeat'}, {'userId': 3, 'id': 25, 'title': 'vero maxime id possimus sunt neque et consequatur'}, {'userId': 3, 'id': 26, 'title': 'quibusdam saepe ipsa vel harum'}, {'userId': 3, 'id': 27, 'title': 'id non nostrum expedita'}, {'userId': 3, 'id': 28, 'title': 'omnis neque exercitationem sed dolor atque maxime aut cum'}, {'userId': 3, 'id': 29, 'title': 'inventore ut quasi magnam itaque est fugit'}, {'userId': 3, 'id': 30, 'title': 'tempora assumenda et similique odit distinctio error'}, {'userId': 4, 'id': 31, 'title': 'adipisci laborum fuga laboriosam'}, {'userId': 4, 'id': 32, 'title': 'reiciendis dolores a ut qui debitis non quo labore'}, {'userId': 4, 'id': 33, 'title': 'iste eos nostrum'}, {'userId': 4, 'id': 34, 'title': 'cumque voluptatibus rerum architecto blanditiis'}, {'userId': 4, 'id': 35, 'title': 'et impedit nisi quae magni necessitatibus sed aut pariatur'}, {'userId': 4, 'id': 36, 'title': 'nihil cupiditate voluptate neque'}, {'userId': 4, 'id': 37, 'title': 'est placeat dicta ut nisi rerum iste'}, {'userId': 4, 'id': 38, 'title': 'unde a sequi id'}, {'userId': 4, 'id': 39, 'title': 'ratione porro illum labore eum aperiam sed'}, {'userId': 4, 'id': 40, 'title': 'voluptas neque et sint aut quo odit'}, {'userId': 5, 'id': 41, 'title': 'ea voluptates maiores eos accusantium officiis tempore mollitia consequatur'}, {'userId': 5, 'id': 42, 'title': 'tenetur explicabo ea'}, {'userId': 5, 'id': 43, 'title': 'aperiam doloremque nihil'}, {'userId': 5, 'id': 44, 'title': 'sapiente cum numquam officia consequatur vel natus quos suscipit'}, {'userId': 5, 'id': 45, 'title': 'tenetur quos ea unde est enim corrupti qui'}, {'userId': 5, 'id': 46, 'title': 'molestiae voluptate non'}, {'userId': 5, 'id': 47, 'title': 'temporibus molestiae aut'}, {'userId': 5, 'id': 48, 'title': 'modi consequatur culpa aut quam soluta alias perspiciatis laudantium'}, {'userId': 5, 'id': 49, 'title': 'ut aut vero repudiandae voluptas ullam voluptas at consequatur'}, {'userId': 5, 'id': 50, 'title': 'sed qui sed quas sit ducimus dolor'}, {'userId': 6, 'id': 51, 'title': 'odit laboriosam sint quia cupiditate animi quis'}, {'userId': 6, 'id': 52, 'title': 'necessitatibus quas et sunt at voluptatem'}, {'userId': 6, 'id': 53, 'title': 'est vel sequi voluptatem nemo quam molestiae modi enim'}, {'userId': 6, 'id': 54, 'title': 'aut non illo amet perferendis'}, {'userId': 6, 'id': 55, 'title': 'qui culpa itaque omnis in nesciunt architecto error'}, {'userId': 6, 'id': 56, 'title': 'omnis qui maiores tempora officiis omnis rerum sed repellat'}, {'userId': 6, 'id': 57, 'title': 'libero excepturi voluptatem est architecto quae voluptatum officia tempora'}, {'userId': 6, 'id': 58, 'title': 'nulla illo consequatur aspernatur veritatis aut error delectus et'}, {'userId': 6, 'id': 59, 'title': 'eligendi similique provident nihil'}, {'userId': 6, 'id': 60, 'title': 'omnis mollitia sunt aliquid eum consequatur fugit minus laudantium'}, {'userId': 7, 'id': 61, 'title': 'delectus iusto et'}, {'userId': 7, 'id': 62, 'title': 'eos ea non recusandae iste ut quasi'}, {'userId': 7, 'id': 63, 'title': 'velit est quam'}, {'userId': 7, 'id': 64, 'title': 'autem voluptatem amet iure quae'}, {'userId': 7, 'id': 65, 'title': 'voluptates delectus iure iste qui'}, {'userId': 7, 'id': 66, 'title': 'velit sed quia dolor dolores delectus'}, {'userId': 7, 'id': 67, 'title': 'ad voluptas nostrum et nihil'}, {'userId': 7, 'id': 68, 'title': 'qui quasi nihil aut voluptatum sit dolore minima'}, {'userId': 7, 'id': 69, 'title': 'qui aut est'}, {'userId': 7, 'id': 70, 'title': 'et deleniti unde'}, {'userId': 8, 'id': 71, 'title': 'et vel corporis'}, {'userId': 8, 'id': 72, 'title': 'unde exercitationem ut'}, {'userId': 8, 'id': 73, 'title': 'quos omnis officia'}, {'userId': 8, 'id': 74, 'title': 'quia est eius vitae dolor'}, {'userId': 8, 'id': 75, 'title': 'aut quia expedita non'}, {'userId': 8, 'id': 76, 'title': 'dolorem magnam facere itaque ut reprehenderit tenetur corrupti'}, {'userId': 8, 'id': 77, 'title': 'cupiditate sapiente maiores iusto ducimus cum excepturi veritatis quia'}, {'userId': 8, 'id': 78, 'title': 'est minima eius possimus ea ratione velit et'}, {'userId': 8, 'id': 79, 'title': 'ipsa quae voluptas natus ut suscipit soluta quia quidem'}, {'userId': 8, 'id': 80, 'title': 'id nihil reprehenderit'}, {'userId': 9, 'id': 81, 'title': 'quibusdam sapiente et'}, {'userId': 9, 'id': 82, 'title': 'recusandae consequatur vel amet unde'}, {'userId': 9, 'id': 83, 'title': 'aperiam odio fugiat'}, {'userId': 9, 'id': 84, 'title': 'est et at eos expedita'}, {'userId': 9, 'id': 85, 'title': 'qui voluptatem consequatur aut ab quis temporibus praesentium'}, {'userId': 9, 'id': 86, 'title': 'eligendi mollitia alias aspernatur vel ut iusto'}, {'userId': 9, 'id': 87, 'title': 'aut aut architecto'}, {'userId': 9, 'id': 88, 'title': 'quas perspiciatis optio'}, {'userId': 9, 'id': 89, 'title': 'sit optio id voluptatem est eum et'}, {'userId': 9, 'id': 90, 'title': 'est vel dignissimos'}, {'userId': 10, 'id': 91, 'title': 'repellendus praesentium debitis officiis'}, {'userId': 10, 'id': 92, 'title': 'incidunt et et eligendi assumenda soluta quia recusandae'}, {'userId': 10, 'id': 93, 'title': 'nisi qui dolores perspiciatis'}, {'userId': 10, 'id': 94, 'title': 'quisquam a dolores et earum vitae'}, {'userId': 10, 'id': 95, 'title': 'consectetur vel rerum qui aperiam modi eos aspernatur ipsa'}, {'userId': 10, 'id': 96, 'title': 'unde et ut molestiae est molestias voluptatem sint'}, {'userId': 10, 'id': 97, 'title': 'est quod aut'}, {'userId': 10, 'id': 98, 'title': 'omnis quia possimus nesciunt deleniti assumenda sed autem'}, {'userId': 10, 'id': 99, 'title': 'consectetur ut id impedit dolores sit ad ex aut'}, {'userId': 10, 'id': 100, 'title': 'enim repellat iste'}]\n"
          ]
        }
      ]
    },
    {
      "cell_type": "code",
      "source": [
        "albums[0]"
      ],
      "metadata": {
        "colab": {
          "base_uri": "https://localhost:8080/"
        },
        "id": "CfR8VZPlwIp0",
        "outputId": "45da3c31-9e79-4cc6-d26c-66b24282c13a"
      },
      "execution_count": null,
      "outputs": [
        {
          "output_type": "execute_result",
          "data": {
            "text/plain": [
              "{'userId': 1, 'id': 1, 'title': 'quidem molestiae enim'}"
            ]
          },
          "metadata": {},
          "execution_count": 10
        }
      ]
    },
    {
      "cell_type": "code",
      "source": [
        "# TODO: Get products from https://dummyjson.com\n",
        "\n",
        "# Enter code here #\n",
        "import requests\n",
        "import json\n",
        "response = requests.get(\"https://dummyjson.com/products\")\n",
        "products = json.dumps(response.text)\n",
        "data= response.json()\n",
        "\n",
        "\n",
        "print(len(products))\n",
        "print(\"all products available\",data)\n",
        "print(\"all data available on product\",data['products'])\n",
        "print(\"All products:\")\n",
        "for item in data['products']:\n",
        "  print(item)"
      ],
      "metadata": {
        "colab": {
          "base_uri": "https://localhost:8080/"
        },
        "id": "1n679t5WEe2d",
        "outputId": "01508c9d-8875-4af2-85e2-441d175224a2"
      },
      "execution_count": null,
      "outputs": [
        {
          "output_type": "stream",
          "name": "stdout",
          "text": [
            "18145\n",
            "all products available {'products': [{'id': 1, 'title': 'iPhone 9', 'description': 'An apple mobile which is nothing like apple', 'price': 549, 'discountPercentage': 12.96, 'rating': 4.69, 'stock': 94, 'brand': 'Apple', 'category': 'smartphones', 'thumbnail': 'https://dummyjson.com/image/i/products/1/thumbnail.jpg', 'images': ['https://dummyjson.com/image/i/products/1/1.jpg', 'https://dummyjson.com/image/i/products/1/2.jpg', 'https://dummyjson.com/image/i/products/1/3.jpg', 'https://dummyjson.com/image/i/products/1/4.jpg', 'https://dummyjson.com/image/i/products/1/thumbnail.jpg']}, {'id': 2, 'title': 'iPhone X', 'description': 'SIM-Free, Model A19211 6.5-inch Super Retina HD display with OLED technology A12 Bionic chip with ...', 'price': 899, 'discountPercentage': 17.94, 'rating': 4.44, 'stock': 34, 'brand': 'Apple', 'category': 'smartphones', 'thumbnail': 'https://dummyjson.com/image/i/products/2/thumbnail.jpg', 'images': ['https://dummyjson.com/image/i/products/2/1.jpg', 'https://dummyjson.com/image/i/products/2/2.jpg', 'https://dummyjson.com/image/i/products/2/3.jpg', 'https://dummyjson.com/image/i/products/2/thumbnail.jpg']}, {'id': 3, 'title': 'Samsung Universe 9', 'description': \"Samsung's new variant which goes beyond Galaxy to the Universe\", 'price': 1249, 'discountPercentage': 15.46, 'rating': 4.09, 'stock': 36, 'brand': 'Samsung', 'category': 'smartphones', 'thumbnail': 'https://dummyjson.com/image/i/products/3/thumbnail.jpg', 'images': ['https://dummyjson.com/image/i/products/3/1.jpg']}, {'id': 4, 'title': 'OPPOF19', 'description': 'OPPO F19 is officially announced on April 2021.', 'price': 280, 'discountPercentage': 17.91, 'rating': 4.3, 'stock': 123, 'brand': 'OPPO', 'category': 'smartphones', 'thumbnail': 'https://dummyjson.com/image/i/products/4/thumbnail.jpg', 'images': ['https://dummyjson.com/image/i/products/4/1.jpg', 'https://dummyjson.com/image/i/products/4/2.jpg', 'https://dummyjson.com/image/i/products/4/3.jpg', 'https://dummyjson.com/image/i/products/4/4.jpg', 'https://dummyjson.com/image/i/products/4/thumbnail.jpg']}, {'id': 5, 'title': 'Huawei P30', 'description': 'Huawei’s re-badged P30 Pro New Edition was officially unveiled yesterday in Germany and now the device has made its way to the UK.', 'price': 499, 'discountPercentage': 10.58, 'rating': 4.09, 'stock': 32, 'brand': 'Huawei', 'category': 'smartphones', 'thumbnail': 'https://dummyjson.com/image/i/products/5/thumbnail.jpg', 'images': ['https://dummyjson.com/image/i/products/5/1.jpg', 'https://dummyjson.com/image/i/products/5/2.jpg', 'https://dummyjson.com/image/i/products/5/3.jpg']}, {'id': 6, 'title': 'MacBook Pro', 'description': 'MacBook Pro 2021 with mini-LED display may launch between September, November', 'price': 1749, 'discountPercentage': 11.02, 'rating': 4.57, 'stock': 83, 'brand': 'APPle', 'category': 'laptops', 'thumbnail': 'https://dummyjson.com/image/i/products/6/thumbnail.png', 'images': ['https://dummyjson.com/image/i/products/6/1.png', 'https://dummyjson.com/image/i/products/6/2.jpg', 'https://dummyjson.com/image/i/products/6/3.png', 'https://dummyjson.com/image/i/products/6/4.jpg']}, {'id': 7, 'title': 'Samsung Galaxy Book', 'description': 'Samsung Galaxy Book S (2020) Laptop With Intel Lakefield Chip, 8GB of RAM Launched', 'price': 1499, 'discountPercentage': 4.15, 'rating': 4.25, 'stock': 50, 'brand': 'Samsung', 'category': 'laptops', 'thumbnail': 'https://dummyjson.com/image/i/products/7/thumbnail.jpg', 'images': ['https://dummyjson.com/image/i/products/7/1.jpg', 'https://dummyjson.com/image/i/products/7/2.jpg', 'https://dummyjson.com/image/i/products/7/3.jpg', 'https://dummyjson.com/image/i/products/7/thumbnail.jpg']}, {'id': 8, 'title': 'Microsoft Surface Laptop 4', 'description': 'Style and speed. Stand out on HD video calls backed by Studio Mics. Capture ideas on the vibrant touchscreen.', 'price': 1499, 'discountPercentage': 10.23, 'rating': 4.43, 'stock': 68, 'brand': 'Microsoft Surface', 'category': 'laptops', 'thumbnail': 'https://dummyjson.com/image/i/products/8/thumbnail.jpg', 'images': ['https://dummyjson.com/image/i/products/8/1.jpg', 'https://dummyjson.com/image/i/products/8/2.jpg', 'https://dummyjson.com/image/i/products/8/3.jpg', 'https://dummyjson.com/image/i/products/8/4.jpg', 'https://dummyjson.com/image/i/products/8/thumbnail.jpg']}, {'id': 9, 'title': 'Infinix INBOOK', 'description': 'Infinix Inbook X1 Ci3 10th 8GB 256GB 14 Win10 Grey – 1 Year Warranty', 'price': 1099, 'discountPercentage': 11.83, 'rating': 4.54, 'stock': 96, 'brand': 'Infinix', 'category': 'laptops', 'thumbnail': 'https://dummyjson.com/image/i/products/9/thumbnail.jpg', 'images': ['https://dummyjson.com/image/i/products/9/1.jpg', 'https://dummyjson.com/image/i/products/9/2.png', 'https://dummyjson.com/image/i/products/9/3.png', 'https://dummyjson.com/image/i/products/9/4.jpg', 'https://dummyjson.com/image/i/products/9/thumbnail.jpg']}, {'id': 10, 'title': 'HP Pavilion 15-DK1056WM', 'description': 'HP Pavilion 15-DK1056WM Gaming Laptop 10th Gen Core i5, 8GB, 256GB SSD, GTX 1650 4GB, Windows 10', 'price': 1099, 'discountPercentage': 6.18, 'rating': 4.43, 'stock': 89, 'brand': 'HP Pavilion', 'category': 'laptops', 'thumbnail': 'https://dummyjson.com/image/i/products/10/thumbnail.jpeg', 'images': ['https://dummyjson.com/image/i/products/10/1.jpg', 'https://dummyjson.com/image/i/products/10/2.jpg', 'https://dummyjson.com/image/i/products/10/3.jpg', 'https://dummyjson.com/image/i/products/10/thumbnail.jpeg']}, {'id': 11, 'title': 'perfume Oil', 'description': 'Mega Discount, Impression of Acqua Di Gio by GiorgioArmani concentrated attar perfume Oil', 'price': 13, 'discountPercentage': 8.4, 'rating': 4.26, 'stock': 65, 'brand': 'Impression of Acqua Di Gio', 'category': 'fragrances', 'thumbnail': 'https://dummyjson.com/image/i/products/11/thumbnail.jpg', 'images': ['https://dummyjson.com/image/i/products/11/1.jpg', 'https://dummyjson.com/image/i/products/11/2.jpg', 'https://dummyjson.com/image/i/products/11/3.jpg', 'https://dummyjson.com/image/i/products/11/thumbnail.jpg']}, {'id': 12, 'title': 'Brown Perfume', 'description': 'Royal_Mirage Sport Brown Perfume for Men & Women - 120ml', 'price': 40, 'discountPercentage': 15.66, 'rating': 4, 'stock': 52, 'brand': 'Royal_Mirage', 'category': 'fragrances', 'thumbnail': 'https://dummyjson.com/image/i/products/12/thumbnail.jpg', 'images': ['https://dummyjson.com/image/i/products/12/1.jpg', 'https://dummyjson.com/image/i/products/12/2.jpg', 'https://dummyjson.com/image/i/products/12/3.png', 'https://dummyjson.com/image/i/products/12/4.jpg', 'https://dummyjson.com/image/i/products/12/thumbnail.jpg']}, {'id': 13, 'title': 'Fog Scent Xpressio Perfume', 'description': 'Product details of Best Fog Scent Xpressio Perfume 100ml For Men cool long lasting perfumes for Men', 'price': 13, 'discountPercentage': 8.14, 'rating': 4.59, 'stock': 61, 'brand': 'Fog Scent Xpressio', 'category': 'fragrances', 'thumbnail': 'https://dummyjson.com/image/i/products/13/thumbnail.webp', 'images': ['https://dummyjson.com/image/i/products/13/1.jpg', 'https://dummyjson.com/image/i/products/13/2.png', 'https://dummyjson.com/image/i/products/13/3.jpg', 'https://dummyjson.com/image/i/products/13/4.jpg', 'https://dummyjson.com/image/i/products/13/thumbnail.webp']}, {'id': 14, 'title': 'Non-Alcoholic Concentrated Perfume Oil', 'description': 'Original Al Munakh® by Mahal Al Musk | Our Impression of Climate | 6ml Non-Alcoholic Concentrated Perfume Oil', 'price': 120, 'discountPercentage': 15.6, 'rating': 4.21, 'stock': 114, 'brand': 'Al Munakh', 'category': 'fragrances', 'thumbnail': 'https://dummyjson.com/image/i/products/14/thumbnail.jpg', 'images': ['https://dummyjson.com/image/i/products/14/1.jpg', 'https://dummyjson.com/image/i/products/14/2.jpg', 'https://dummyjson.com/image/i/products/14/3.jpg', 'https://dummyjson.com/image/i/products/14/thumbnail.jpg']}, {'id': 15, 'title': 'Eau De Perfume Spray', 'description': 'Genuine  Al-Rehab spray perfume from UAE/Saudi Arabia/Yemen High Quality', 'price': 30, 'discountPercentage': 10.99, 'rating': 4.7, 'stock': 105, 'brand': 'Lord - Al-Rehab', 'category': 'fragrances', 'thumbnail': 'https://dummyjson.com/image/i/products/15/thumbnail.jpg', 'images': ['https://dummyjson.com/image/i/products/15/1.jpg', 'https://dummyjson.com/image/i/products/15/2.jpg', 'https://dummyjson.com/image/i/products/15/3.jpg', 'https://dummyjson.com/image/i/products/15/4.jpg', 'https://dummyjson.com/image/i/products/15/thumbnail.jpg']}, {'id': 16, 'title': 'Hyaluronic Acid Serum', 'description': \"L'OrÃ©al Paris introduces Hyaluron Expert Replumping Serum formulated with 1.5% Hyaluronic Acid\", 'price': 19, 'discountPercentage': 13.31, 'rating': 4.83, 'stock': 110, 'brand': \"L'Oreal Paris\", 'category': 'skincare', 'thumbnail': 'https://dummyjson.com/image/i/products/16/thumbnail.jpg', 'images': ['https://dummyjson.com/image/i/products/16/1.png', 'https://dummyjson.com/image/i/products/16/2.webp', 'https://dummyjson.com/image/i/products/16/3.jpg', 'https://dummyjson.com/image/i/products/16/4.jpg', 'https://dummyjson.com/image/i/products/16/thumbnail.jpg']}, {'id': 17, 'title': 'Tree Oil 30ml', 'description': 'Tea tree oil contains a number of compounds, including terpinen-4-ol, that have been shown to kill certain bacteria,', 'price': 12, 'discountPercentage': 4.09, 'rating': 4.52, 'stock': 78, 'brand': 'Hemani Tea', 'category': 'skincare', 'thumbnail': 'https://dummyjson.com/image/i/products/17/thumbnail.jpg', 'images': ['https://dummyjson.com/image/i/products/17/1.jpg', 'https://dummyjson.com/image/i/products/17/2.jpg', 'https://dummyjson.com/image/i/products/17/3.jpg', 'https://dummyjson.com/image/i/products/17/thumbnail.jpg']}, {'id': 18, 'title': 'Oil Free Moisturizer 100ml', 'description': 'Dermive Oil Free Moisturizer with SPF 20 is specifically formulated with ceramides, hyaluronic acid & sunscreen.', 'price': 40, 'discountPercentage': 13.1, 'rating': 4.56, 'stock': 88, 'brand': 'Dermive', 'category': 'skincare', 'thumbnail': 'https://dummyjson.com/image/i/products/18/thumbnail.jpg', 'images': ['https://dummyjson.com/image/i/products/18/1.jpg', 'https://dummyjson.com/image/i/products/18/2.jpg', 'https://dummyjson.com/image/i/products/18/3.jpg', 'https://dummyjson.com/image/i/products/18/4.jpg', 'https://dummyjson.com/image/i/products/18/thumbnail.jpg']}, {'id': 19, 'title': 'Skin Beauty Serum.', 'description': 'Product name: rorec collagen hyaluronic acid white face serum riceNet weight: 15 m', 'price': 46, 'discountPercentage': 10.68, 'rating': 4.42, 'stock': 54, 'brand': 'ROREC White Rice', 'category': 'skincare', 'thumbnail': 'https://dummyjson.com/image/i/products/19/thumbnail.jpg', 'images': ['https://dummyjson.com/image/i/products/19/1.jpg', 'https://dummyjson.com/image/i/products/19/2.jpg', 'https://dummyjson.com/image/i/products/19/3.png', 'https://dummyjson.com/image/i/products/19/thumbnail.jpg']}, {'id': 20, 'title': 'Freckle Treatment Cream- 15gm', 'description': \"Fair & Clear is Pakistan's only pure Freckle cream which helpsfade Freckles, Darkspots and pigments. Mercury level is 0%, so there are no side effects.\", 'price': 70, 'discountPercentage': 16.99, 'rating': 4.06, 'stock': 140, 'brand': 'Fair & Clear', 'category': 'skincare', 'thumbnail': 'https://dummyjson.com/image/i/products/20/thumbnail.jpg', 'images': ['https://dummyjson.com/image/i/products/20/1.jpg', 'https://dummyjson.com/image/i/products/20/2.jpg', 'https://dummyjson.com/image/i/products/20/3.jpg', 'https://dummyjson.com/image/i/products/20/4.jpg', 'https://dummyjson.com/image/i/products/20/thumbnail.jpg']}, {'id': 21, 'title': '- Daal Masoor 500 grams', 'description': 'Fine quality Branded Product Keep in a cool and dry place', 'price': 20, 'discountPercentage': 4.81, 'rating': 4.44, 'stock': 133, 'brand': 'Saaf & Khaas', 'category': 'groceries', 'thumbnail': 'https://dummyjson.com/image/i/products/21/thumbnail.png', 'images': ['https://dummyjson.com/image/i/products/21/1.png', 'https://dummyjson.com/image/i/products/21/2.jpg', 'https://dummyjson.com/image/i/products/21/3.jpg']}, {'id': 22, 'title': 'Elbow Macaroni - 400 gm', 'description': 'Product details of Bake Parlor Big Elbow Macaroni - 400 gm', 'price': 14, 'discountPercentage': 15.58, 'rating': 4.57, 'stock': 146, 'brand': 'Bake Parlor Big', 'category': 'groceries', 'thumbnail': 'https://dummyjson.com/image/i/products/22/thumbnail.jpg', 'images': ['https://dummyjson.com/image/i/products/22/1.jpg', 'https://dummyjson.com/image/i/products/22/2.jpg', 'https://dummyjson.com/image/i/products/22/3.jpg']}, {'id': 23, 'title': 'Orange Essence Food Flavou', 'description': 'Specifications of Orange Essence Food Flavour For Cakes and Baking Food Item', 'price': 14, 'discountPercentage': 8.04, 'rating': 4.85, 'stock': 26, 'brand': 'Baking Food Items', 'category': 'groceries', 'thumbnail': 'https://dummyjson.com/image/i/products/23/thumbnail.jpg', 'images': ['https://dummyjson.com/image/i/products/23/1.jpg', 'https://dummyjson.com/image/i/products/23/2.jpg', 'https://dummyjson.com/image/i/products/23/3.jpg', 'https://dummyjson.com/image/i/products/23/4.jpg', 'https://dummyjson.com/image/i/products/23/thumbnail.jpg']}, {'id': 24, 'title': 'cereals muesli fruit nuts', 'description': 'original fauji cereal muesli 250gm box pack original fauji cereals muesli fruit nuts flakes breakfast cereal break fast faujicereals cerels cerel foji fouji', 'price': 46, 'discountPercentage': 16.8, 'rating': 4.94, 'stock': 113, 'brand': 'fauji', 'category': 'groceries', 'thumbnail': 'https://dummyjson.com/image/i/products/24/thumbnail.jpg', 'images': ['https://dummyjson.com/image/i/products/24/1.jpg', 'https://dummyjson.com/image/i/products/24/2.jpg', 'https://dummyjson.com/image/i/products/24/3.jpg', 'https://dummyjson.com/image/i/products/24/4.jpg', 'https://dummyjson.com/image/i/products/24/thumbnail.jpg']}, {'id': 25, 'title': 'Gulab Powder 50 Gram', 'description': 'Dry Rose Flower Powder Gulab Powder 50 Gram • Treats Wounds', 'price': 70, 'discountPercentage': 13.58, 'rating': 4.87, 'stock': 47, 'brand': 'Dry Rose', 'category': 'groceries', 'thumbnail': 'https://dummyjson.com/image/i/products/25/thumbnail.jpg', 'images': ['https://dummyjson.com/image/i/products/25/1.png', 'https://dummyjson.com/image/i/products/25/2.jpg', 'https://dummyjson.com/image/i/products/25/3.png', 'https://dummyjson.com/image/i/products/25/4.jpg', 'https://dummyjson.com/image/i/products/25/thumbnail.jpg']}, {'id': 26, 'title': 'Plant Hanger For Home', 'description': 'Boho Decor Plant Hanger For Home Wall Decoration Macrame Wall Hanging Shelf', 'price': 41, 'discountPercentage': 17.86, 'rating': 4.08, 'stock': 131, 'brand': 'Boho Decor', 'category': 'home-decoration', 'thumbnail': 'https://dummyjson.com/image/i/products/26/thumbnail.jpg', 'images': ['https://dummyjson.com/image/i/products/26/1.jpg', 'https://dummyjson.com/image/i/products/26/2.jpg', 'https://dummyjson.com/image/i/products/26/3.jpg', 'https://dummyjson.com/image/i/products/26/4.jpg', 'https://dummyjson.com/image/i/products/26/5.jpg', 'https://dummyjson.com/image/i/products/26/thumbnail.jpg']}, {'id': 27, 'title': 'Flying Wooden Bird', 'description': 'Package Include 6 Birds with Adhesive Tape Shape: 3D Shaped Wooden Birds Material: Wooden MDF, Laminated 3.5mm', 'price': 51, 'discountPercentage': 15.58, 'rating': 4.41, 'stock': 17, 'brand': 'Flying Wooden', 'category': 'home-decoration', 'thumbnail': 'https://dummyjson.com/image/i/products/27/thumbnail.webp', 'images': ['https://dummyjson.com/image/i/products/27/1.jpg', 'https://dummyjson.com/image/i/products/27/2.jpg', 'https://dummyjson.com/image/i/products/27/3.jpg', 'https://dummyjson.com/image/i/products/27/4.jpg', 'https://dummyjson.com/image/i/products/27/thumbnail.webp']}, {'id': 28, 'title': '3D Embellishment Art Lamp', 'description': '3D led lamp sticker Wall sticker 3d wall art light on/off button  cell operated (included)', 'price': 20, 'discountPercentage': 16.49, 'rating': 4.82, 'stock': 54, 'brand': 'LED Lights', 'category': 'home-decoration', 'thumbnail': 'https://dummyjson.com/image/i/products/28/thumbnail.jpg', 'images': ['https://dummyjson.com/image/i/products/28/1.jpg', 'https://dummyjson.com/image/i/products/28/2.jpg', 'https://dummyjson.com/image/i/products/28/3.png', 'https://dummyjson.com/image/i/products/28/4.jpg', 'https://dummyjson.com/image/i/products/28/thumbnail.jpg']}, {'id': 29, 'title': 'Handcraft Chinese style', 'description': 'Handcraft Chinese style art luxury palace hotel villa mansion home decor ceramic vase with brass fruit plate', 'price': 60, 'discountPercentage': 15.34, 'rating': 4.44, 'stock': 7, 'brand': 'luxury palace', 'category': 'home-decoration', 'thumbnail': 'https://dummyjson.com/image/i/products/29/thumbnail.webp', 'images': ['https://dummyjson.com/image/i/products/29/1.jpg', 'https://dummyjson.com/image/i/products/29/2.jpg', 'https://dummyjson.com/image/i/products/29/3.webp', 'https://dummyjson.com/image/i/products/29/4.webp', 'https://dummyjson.com/image/i/products/29/thumbnail.webp']}, {'id': 30, 'title': 'Key Holder', 'description': 'Attractive DesignMetallic materialFour key hooksReliable & DurablePremium Quality', 'price': 30, 'discountPercentage': 2.92, 'rating': 4.92, 'stock': 54, 'brand': 'Golden', 'category': 'home-decoration', 'thumbnail': 'https://dummyjson.com/image/i/products/30/thumbnail.jpg', 'images': ['https://dummyjson.com/image/i/products/30/1.jpg', 'https://dummyjson.com/image/i/products/30/2.jpg', 'https://dummyjson.com/image/i/products/30/3.jpg', 'https://dummyjson.com/image/i/products/30/thumbnail.jpg']}], 'total': 100, 'skip': 0, 'limit': 30}\n",
            "all data available on product [{'id': 1, 'title': 'iPhone 9', 'description': 'An apple mobile which is nothing like apple', 'price': 549, 'discountPercentage': 12.96, 'rating': 4.69, 'stock': 94, 'brand': 'Apple', 'category': 'smartphones', 'thumbnail': 'https://dummyjson.com/image/i/products/1/thumbnail.jpg', 'images': ['https://dummyjson.com/image/i/products/1/1.jpg', 'https://dummyjson.com/image/i/products/1/2.jpg', 'https://dummyjson.com/image/i/products/1/3.jpg', 'https://dummyjson.com/image/i/products/1/4.jpg', 'https://dummyjson.com/image/i/products/1/thumbnail.jpg']}, {'id': 2, 'title': 'iPhone X', 'description': 'SIM-Free, Model A19211 6.5-inch Super Retina HD display with OLED technology A12 Bionic chip with ...', 'price': 899, 'discountPercentage': 17.94, 'rating': 4.44, 'stock': 34, 'brand': 'Apple', 'category': 'smartphones', 'thumbnail': 'https://dummyjson.com/image/i/products/2/thumbnail.jpg', 'images': ['https://dummyjson.com/image/i/products/2/1.jpg', 'https://dummyjson.com/image/i/products/2/2.jpg', 'https://dummyjson.com/image/i/products/2/3.jpg', 'https://dummyjson.com/image/i/products/2/thumbnail.jpg']}, {'id': 3, 'title': 'Samsung Universe 9', 'description': \"Samsung's new variant which goes beyond Galaxy to the Universe\", 'price': 1249, 'discountPercentage': 15.46, 'rating': 4.09, 'stock': 36, 'brand': 'Samsung', 'category': 'smartphones', 'thumbnail': 'https://dummyjson.com/image/i/products/3/thumbnail.jpg', 'images': ['https://dummyjson.com/image/i/products/3/1.jpg']}, {'id': 4, 'title': 'OPPOF19', 'description': 'OPPO F19 is officially announced on April 2021.', 'price': 280, 'discountPercentage': 17.91, 'rating': 4.3, 'stock': 123, 'brand': 'OPPO', 'category': 'smartphones', 'thumbnail': 'https://dummyjson.com/image/i/products/4/thumbnail.jpg', 'images': ['https://dummyjson.com/image/i/products/4/1.jpg', 'https://dummyjson.com/image/i/products/4/2.jpg', 'https://dummyjson.com/image/i/products/4/3.jpg', 'https://dummyjson.com/image/i/products/4/4.jpg', 'https://dummyjson.com/image/i/products/4/thumbnail.jpg']}, {'id': 5, 'title': 'Huawei P30', 'description': 'Huawei’s re-badged P30 Pro New Edition was officially unveiled yesterday in Germany and now the device has made its way to the UK.', 'price': 499, 'discountPercentage': 10.58, 'rating': 4.09, 'stock': 32, 'brand': 'Huawei', 'category': 'smartphones', 'thumbnail': 'https://dummyjson.com/image/i/products/5/thumbnail.jpg', 'images': ['https://dummyjson.com/image/i/products/5/1.jpg', 'https://dummyjson.com/image/i/products/5/2.jpg', 'https://dummyjson.com/image/i/products/5/3.jpg']}, {'id': 6, 'title': 'MacBook Pro', 'description': 'MacBook Pro 2021 with mini-LED display may launch between September, November', 'price': 1749, 'discountPercentage': 11.02, 'rating': 4.57, 'stock': 83, 'brand': 'APPle', 'category': 'laptops', 'thumbnail': 'https://dummyjson.com/image/i/products/6/thumbnail.png', 'images': ['https://dummyjson.com/image/i/products/6/1.png', 'https://dummyjson.com/image/i/products/6/2.jpg', 'https://dummyjson.com/image/i/products/6/3.png', 'https://dummyjson.com/image/i/products/6/4.jpg']}, {'id': 7, 'title': 'Samsung Galaxy Book', 'description': 'Samsung Galaxy Book S (2020) Laptop With Intel Lakefield Chip, 8GB of RAM Launched', 'price': 1499, 'discountPercentage': 4.15, 'rating': 4.25, 'stock': 50, 'brand': 'Samsung', 'category': 'laptops', 'thumbnail': 'https://dummyjson.com/image/i/products/7/thumbnail.jpg', 'images': ['https://dummyjson.com/image/i/products/7/1.jpg', 'https://dummyjson.com/image/i/products/7/2.jpg', 'https://dummyjson.com/image/i/products/7/3.jpg', 'https://dummyjson.com/image/i/products/7/thumbnail.jpg']}, {'id': 8, 'title': 'Microsoft Surface Laptop 4', 'description': 'Style and speed. Stand out on HD video calls backed by Studio Mics. Capture ideas on the vibrant touchscreen.', 'price': 1499, 'discountPercentage': 10.23, 'rating': 4.43, 'stock': 68, 'brand': 'Microsoft Surface', 'category': 'laptops', 'thumbnail': 'https://dummyjson.com/image/i/products/8/thumbnail.jpg', 'images': ['https://dummyjson.com/image/i/products/8/1.jpg', 'https://dummyjson.com/image/i/products/8/2.jpg', 'https://dummyjson.com/image/i/products/8/3.jpg', 'https://dummyjson.com/image/i/products/8/4.jpg', 'https://dummyjson.com/image/i/products/8/thumbnail.jpg']}, {'id': 9, 'title': 'Infinix INBOOK', 'description': 'Infinix Inbook X1 Ci3 10th 8GB 256GB 14 Win10 Grey – 1 Year Warranty', 'price': 1099, 'discountPercentage': 11.83, 'rating': 4.54, 'stock': 96, 'brand': 'Infinix', 'category': 'laptops', 'thumbnail': 'https://dummyjson.com/image/i/products/9/thumbnail.jpg', 'images': ['https://dummyjson.com/image/i/products/9/1.jpg', 'https://dummyjson.com/image/i/products/9/2.png', 'https://dummyjson.com/image/i/products/9/3.png', 'https://dummyjson.com/image/i/products/9/4.jpg', 'https://dummyjson.com/image/i/products/9/thumbnail.jpg']}, {'id': 10, 'title': 'HP Pavilion 15-DK1056WM', 'description': 'HP Pavilion 15-DK1056WM Gaming Laptop 10th Gen Core i5, 8GB, 256GB SSD, GTX 1650 4GB, Windows 10', 'price': 1099, 'discountPercentage': 6.18, 'rating': 4.43, 'stock': 89, 'brand': 'HP Pavilion', 'category': 'laptops', 'thumbnail': 'https://dummyjson.com/image/i/products/10/thumbnail.jpeg', 'images': ['https://dummyjson.com/image/i/products/10/1.jpg', 'https://dummyjson.com/image/i/products/10/2.jpg', 'https://dummyjson.com/image/i/products/10/3.jpg', 'https://dummyjson.com/image/i/products/10/thumbnail.jpeg']}, {'id': 11, 'title': 'perfume Oil', 'description': 'Mega Discount, Impression of Acqua Di Gio by GiorgioArmani concentrated attar perfume Oil', 'price': 13, 'discountPercentage': 8.4, 'rating': 4.26, 'stock': 65, 'brand': 'Impression of Acqua Di Gio', 'category': 'fragrances', 'thumbnail': 'https://dummyjson.com/image/i/products/11/thumbnail.jpg', 'images': ['https://dummyjson.com/image/i/products/11/1.jpg', 'https://dummyjson.com/image/i/products/11/2.jpg', 'https://dummyjson.com/image/i/products/11/3.jpg', 'https://dummyjson.com/image/i/products/11/thumbnail.jpg']}, {'id': 12, 'title': 'Brown Perfume', 'description': 'Royal_Mirage Sport Brown Perfume for Men & Women - 120ml', 'price': 40, 'discountPercentage': 15.66, 'rating': 4, 'stock': 52, 'brand': 'Royal_Mirage', 'category': 'fragrances', 'thumbnail': 'https://dummyjson.com/image/i/products/12/thumbnail.jpg', 'images': ['https://dummyjson.com/image/i/products/12/1.jpg', 'https://dummyjson.com/image/i/products/12/2.jpg', 'https://dummyjson.com/image/i/products/12/3.png', 'https://dummyjson.com/image/i/products/12/4.jpg', 'https://dummyjson.com/image/i/products/12/thumbnail.jpg']}, {'id': 13, 'title': 'Fog Scent Xpressio Perfume', 'description': 'Product details of Best Fog Scent Xpressio Perfume 100ml For Men cool long lasting perfumes for Men', 'price': 13, 'discountPercentage': 8.14, 'rating': 4.59, 'stock': 61, 'brand': 'Fog Scent Xpressio', 'category': 'fragrances', 'thumbnail': 'https://dummyjson.com/image/i/products/13/thumbnail.webp', 'images': ['https://dummyjson.com/image/i/products/13/1.jpg', 'https://dummyjson.com/image/i/products/13/2.png', 'https://dummyjson.com/image/i/products/13/3.jpg', 'https://dummyjson.com/image/i/products/13/4.jpg', 'https://dummyjson.com/image/i/products/13/thumbnail.webp']}, {'id': 14, 'title': 'Non-Alcoholic Concentrated Perfume Oil', 'description': 'Original Al Munakh® by Mahal Al Musk | Our Impression of Climate | 6ml Non-Alcoholic Concentrated Perfume Oil', 'price': 120, 'discountPercentage': 15.6, 'rating': 4.21, 'stock': 114, 'brand': 'Al Munakh', 'category': 'fragrances', 'thumbnail': 'https://dummyjson.com/image/i/products/14/thumbnail.jpg', 'images': ['https://dummyjson.com/image/i/products/14/1.jpg', 'https://dummyjson.com/image/i/products/14/2.jpg', 'https://dummyjson.com/image/i/products/14/3.jpg', 'https://dummyjson.com/image/i/products/14/thumbnail.jpg']}, {'id': 15, 'title': 'Eau De Perfume Spray', 'description': 'Genuine  Al-Rehab spray perfume from UAE/Saudi Arabia/Yemen High Quality', 'price': 30, 'discountPercentage': 10.99, 'rating': 4.7, 'stock': 105, 'brand': 'Lord - Al-Rehab', 'category': 'fragrances', 'thumbnail': 'https://dummyjson.com/image/i/products/15/thumbnail.jpg', 'images': ['https://dummyjson.com/image/i/products/15/1.jpg', 'https://dummyjson.com/image/i/products/15/2.jpg', 'https://dummyjson.com/image/i/products/15/3.jpg', 'https://dummyjson.com/image/i/products/15/4.jpg', 'https://dummyjson.com/image/i/products/15/thumbnail.jpg']}, {'id': 16, 'title': 'Hyaluronic Acid Serum', 'description': \"L'OrÃ©al Paris introduces Hyaluron Expert Replumping Serum formulated with 1.5% Hyaluronic Acid\", 'price': 19, 'discountPercentage': 13.31, 'rating': 4.83, 'stock': 110, 'brand': \"L'Oreal Paris\", 'category': 'skincare', 'thumbnail': 'https://dummyjson.com/image/i/products/16/thumbnail.jpg', 'images': ['https://dummyjson.com/image/i/products/16/1.png', 'https://dummyjson.com/image/i/products/16/2.webp', 'https://dummyjson.com/image/i/products/16/3.jpg', 'https://dummyjson.com/image/i/products/16/4.jpg', 'https://dummyjson.com/image/i/products/16/thumbnail.jpg']}, {'id': 17, 'title': 'Tree Oil 30ml', 'description': 'Tea tree oil contains a number of compounds, including terpinen-4-ol, that have been shown to kill certain bacteria,', 'price': 12, 'discountPercentage': 4.09, 'rating': 4.52, 'stock': 78, 'brand': 'Hemani Tea', 'category': 'skincare', 'thumbnail': 'https://dummyjson.com/image/i/products/17/thumbnail.jpg', 'images': ['https://dummyjson.com/image/i/products/17/1.jpg', 'https://dummyjson.com/image/i/products/17/2.jpg', 'https://dummyjson.com/image/i/products/17/3.jpg', 'https://dummyjson.com/image/i/products/17/thumbnail.jpg']}, {'id': 18, 'title': 'Oil Free Moisturizer 100ml', 'description': 'Dermive Oil Free Moisturizer with SPF 20 is specifically formulated with ceramides, hyaluronic acid & sunscreen.', 'price': 40, 'discountPercentage': 13.1, 'rating': 4.56, 'stock': 88, 'brand': 'Dermive', 'category': 'skincare', 'thumbnail': 'https://dummyjson.com/image/i/products/18/thumbnail.jpg', 'images': ['https://dummyjson.com/image/i/products/18/1.jpg', 'https://dummyjson.com/image/i/products/18/2.jpg', 'https://dummyjson.com/image/i/products/18/3.jpg', 'https://dummyjson.com/image/i/products/18/4.jpg', 'https://dummyjson.com/image/i/products/18/thumbnail.jpg']}, {'id': 19, 'title': 'Skin Beauty Serum.', 'description': 'Product name: rorec collagen hyaluronic acid white face serum riceNet weight: 15 m', 'price': 46, 'discountPercentage': 10.68, 'rating': 4.42, 'stock': 54, 'brand': 'ROREC White Rice', 'category': 'skincare', 'thumbnail': 'https://dummyjson.com/image/i/products/19/thumbnail.jpg', 'images': ['https://dummyjson.com/image/i/products/19/1.jpg', 'https://dummyjson.com/image/i/products/19/2.jpg', 'https://dummyjson.com/image/i/products/19/3.png', 'https://dummyjson.com/image/i/products/19/thumbnail.jpg']}, {'id': 20, 'title': 'Freckle Treatment Cream- 15gm', 'description': \"Fair & Clear is Pakistan's only pure Freckle cream which helpsfade Freckles, Darkspots and pigments. Mercury level is 0%, so there are no side effects.\", 'price': 70, 'discountPercentage': 16.99, 'rating': 4.06, 'stock': 140, 'brand': 'Fair & Clear', 'category': 'skincare', 'thumbnail': 'https://dummyjson.com/image/i/products/20/thumbnail.jpg', 'images': ['https://dummyjson.com/image/i/products/20/1.jpg', 'https://dummyjson.com/image/i/products/20/2.jpg', 'https://dummyjson.com/image/i/products/20/3.jpg', 'https://dummyjson.com/image/i/products/20/4.jpg', 'https://dummyjson.com/image/i/products/20/thumbnail.jpg']}, {'id': 21, 'title': '- Daal Masoor 500 grams', 'description': 'Fine quality Branded Product Keep in a cool and dry place', 'price': 20, 'discountPercentage': 4.81, 'rating': 4.44, 'stock': 133, 'brand': 'Saaf & Khaas', 'category': 'groceries', 'thumbnail': 'https://dummyjson.com/image/i/products/21/thumbnail.png', 'images': ['https://dummyjson.com/image/i/products/21/1.png', 'https://dummyjson.com/image/i/products/21/2.jpg', 'https://dummyjson.com/image/i/products/21/3.jpg']}, {'id': 22, 'title': 'Elbow Macaroni - 400 gm', 'description': 'Product details of Bake Parlor Big Elbow Macaroni - 400 gm', 'price': 14, 'discountPercentage': 15.58, 'rating': 4.57, 'stock': 146, 'brand': 'Bake Parlor Big', 'category': 'groceries', 'thumbnail': 'https://dummyjson.com/image/i/products/22/thumbnail.jpg', 'images': ['https://dummyjson.com/image/i/products/22/1.jpg', 'https://dummyjson.com/image/i/products/22/2.jpg', 'https://dummyjson.com/image/i/products/22/3.jpg']}, {'id': 23, 'title': 'Orange Essence Food Flavou', 'description': 'Specifications of Orange Essence Food Flavour For Cakes and Baking Food Item', 'price': 14, 'discountPercentage': 8.04, 'rating': 4.85, 'stock': 26, 'brand': 'Baking Food Items', 'category': 'groceries', 'thumbnail': 'https://dummyjson.com/image/i/products/23/thumbnail.jpg', 'images': ['https://dummyjson.com/image/i/products/23/1.jpg', 'https://dummyjson.com/image/i/products/23/2.jpg', 'https://dummyjson.com/image/i/products/23/3.jpg', 'https://dummyjson.com/image/i/products/23/4.jpg', 'https://dummyjson.com/image/i/products/23/thumbnail.jpg']}, {'id': 24, 'title': 'cereals muesli fruit nuts', 'description': 'original fauji cereal muesli 250gm box pack original fauji cereals muesli fruit nuts flakes breakfast cereal break fast faujicereals cerels cerel foji fouji', 'price': 46, 'discountPercentage': 16.8, 'rating': 4.94, 'stock': 113, 'brand': 'fauji', 'category': 'groceries', 'thumbnail': 'https://dummyjson.com/image/i/products/24/thumbnail.jpg', 'images': ['https://dummyjson.com/image/i/products/24/1.jpg', 'https://dummyjson.com/image/i/products/24/2.jpg', 'https://dummyjson.com/image/i/products/24/3.jpg', 'https://dummyjson.com/image/i/products/24/4.jpg', 'https://dummyjson.com/image/i/products/24/thumbnail.jpg']}, {'id': 25, 'title': 'Gulab Powder 50 Gram', 'description': 'Dry Rose Flower Powder Gulab Powder 50 Gram • Treats Wounds', 'price': 70, 'discountPercentage': 13.58, 'rating': 4.87, 'stock': 47, 'brand': 'Dry Rose', 'category': 'groceries', 'thumbnail': 'https://dummyjson.com/image/i/products/25/thumbnail.jpg', 'images': ['https://dummyjson.com/image/i/products/25/1.png', 'https://dummyjson.com/image/i/products/25/2.jpg', 'https://dummyjson.com/image/i/products/25/3.png', 'https://dummyjson.com/image/i/products/25/4.jpg', 'https://dummyjson.com/image/i/products/25/thumbnail.jpg']}, {'id': 26, 'title': 'Plant Hanger For Home', 'description': 'Boho Decor Plant Hanger For Home Wall Decoration Macrame Wall Hanging Shelf', 'price': 41, 'discountPercentage': 17.86, 'rating': 4.08, 'stock': 131, 'brand': 'Boho Decor', 'category': 'home-decoration', 'thumbnail': 'https://dummyjson.com/image/i/products/26/thumbnail.jpg', 'images': ['https://dummyjson.com/image/i/products/26/1.jpg', 'https://dummyjson.com/image/i/products/26/2.jpg', 'https://dummyjson.com/image/i/products/26/3.jpg', 'https://dummyjson.com/image/i/products/26/4.jpg', 'https://dummyjson.com/image/i/products/26/5.jpg', 'https://dummyjson.com/image/i/products/26/thumbnail.jpg']}, {'id': 27, 'title': 'Flying Wooden Bird', 'description': 'Package Include 6 Birds with Adhesive Tape Shape: 3D Shaped Wooden Birds Material: Wooden MDF, Laminated 3.5mm', 'price': 51, 'discountPercentage': 15.58, 'rating': 4.41, 'stock': 17, 'brand': 'Flying Wooden', 'category': 'home-decoration', 'thumbnail': 'https://dummyjson.com/image/i/products/27/thumbnail.webp', 'images': ['https://dummyjson.com/image/i/products/27/1.jpg', 'https://dummyjson.com/image/i/products/27/2.jpg', 'https://dummyjson.com/image/i/products/27/3.jpg', 'https://dummyjson.com/image/i/products/27/4.jpg', 'https://dummyjson.com/image/i/products/27/thumbnail.webp']}, {'id': 28, 'title': '3D Embellishment Art Lamp', 'description': '3D led lamp sticker Wall sticker 3d wall art light on/off button  cell operated (included)', 'price': 20, 'discountPercentage': 16.49, 'rating': 4.82, 'stock': 54, 'brand': 'LED Lights', 'category': 'home-decoration', 'thumbnail': 'https://dummyjson.com/image/i/products/28/thumbnail.jpg', 'images': ['https://dummyjson.com/image/i/products/28/1.jpg', 'https://dummyjson.com/image/i/products/28/2.jpg', 'https://dummyjson.com/image/i/products/28/3.png', 'https://dummyjson.com/image/i/products/28/4.jpg', 'https://dummyjson.com/image/i/products/28/thumbnail.jpg']}, {'id': 29, 'title': 'Handcraft Chinese style', 'description': 'Handcraft Chinese style art luxury palace hotel villa mansion home decor ceramic vase with brass fruit plate', 'price': 60, 'discountPercentage': 15.34, 'rating': 4.44, 'stock': 7, 'brand': 'luxury palace', 'category': 'home-decoration', 'thumbnail': 'https://dummyjson.com/image/i/products/29/thumbnail.webp', 'images': ['https://dummyjson.com/image/i/products/29/1.jpg', 'https://dummyjson.com/image/i/products/29/2.jpg', 'https://dummyjson.com/image/i/products/29/3.webp', 'https://dummyjson.com/image/i/products/29/4.webp', 'https://dummyjson.com/image/i/products/29/thumbnail.webp']}, {'id': 30, 'title': 'Key Holder', 'description': 'Attractive DesignMetallic materialFour key hooksReliable & DurablePremium Quality', 'price': 30, 'discountPercentage': 2.92, 'rating': 4.92, 'stock': 54, 'brand': 'Golden', 'category': 'home-decoration', 'thumbnail': 'https://dummyjson.com/image/i/products/30/thumbnail.jpg', 'images': ['https://dummyjson.com/image/i/products/30/1.jpg', 'https://dummyjson.com/image/i/products/30/2.jpg', 'https://dummyjson.com/image/i/products/30/3.jpg', 'https://dummyjson.com/image/i/products/30/thumbnail.jpg']}]\n",
            "All products:\n",
            "{'id': 1, 'title': 'iPhone 9', 'description': 'An apple mobile which is nothing like apple', 'price': 549, 'discountPercentage': 12.96, 'rating': 4.69, 'stock': 94, 'brand': 'Apple', 'category': 'smartphones', 'thumbnail': 'https://dummyjson.com/image/i/products/1/thumbnail.jpg', 'images': ['https://dummyjson.com/image/i/products/1/1.jpg', 'https://dummyjson.com/image/i/products/1/2.jpg', 'https://dummyjson.com/image/i/products/1/3.jpg', 'https://dummyjson.com/image/i/products/1/4.jpg', 'https://dummyjson.com/image/i/products/1/thumbnail.jpg']}\n",
            "{'id': 2, 'title': 'iPhone X', 'description': 'SIM-Free, Model A19211 6.5-inch Super Retina HD display with OLED technology A12 Bionic chip with ...', 'price': 899, 'discountPercentage': 17.94, 'rating': 4.44, 'stock': 34, 'brand': 'Apple', 'category': 'smartphones', 'thumbnail': 'https://dummyjson.com/image/i/products/2/thumbnail.jpg', 'images': ['https://dummyjson.com/image/i/products/2/1.jpg', 'https://dummyjson.com/image/i/products/2/2.jpg', 'https://dummyjson.com/image/i/products/2/3.jpg', 'https://dummyjson.com/image/i/products/2/thumbnail.jpg']}\n",
            "{'id': 3, 'title': 'Samsung Universe 9', 'description': \"Samsung's new variant which goes beyond Galaxy to the Universe\", 'price': 1249, 'discountPercentage': 15.46, 'rating': 4.09, 'stock': 36, 'brand': 'Samsung', 'category': 'smartphones', 'thumbnail': 'https://dummyjson.com/image/i/products/3/thumbnail.jpg', 'images': ['https://dummyjson.com/image/i/products/3/1.jpg']}\n",
            "{'id': 4, 'title': 'OPPOF19', 'description': 'OPPO F19 is officially announced on April 2021.', 'price': 280, 'discountPercentage': 17.91, 'rating': 4.3, 'stock': 123, 'brand': 'OPPO', 'category': 'smartphones', 'thumbnail': 'https://dummyjson.com/image/i/products/4/thumbnail.jpg', 'images': ['https://dummyjson.com/image/i/products/4/1.jpg', 'https://dummyjson.com/image/i/products/4/2.jpg', 'https://dummyjson.com/image/i/products/4/3.jpg', 'https://dummyjson.com/image/i/products/4/4.jpg', 'https://dummyjson.com/image/i/products/4/thumbnail.jpg']}\n",
            "{'id': 5, 'title': 'Huawei P30', 'description': 'Huawei’s re-badged P30 Pro New Edition was officially unveiled yesterday in Germany and now the device has made its way to the UK.', 'price': 499, 'discountPercentage': 10.58, 'rating': 4.09, 'stock': 32, 'brand': 'Huawei', 'category': 'smartphones', 'thumbnail': 'https://dummyjson.com/image/i/products/5/thumbnail.jpg', 'images': ['https://dummyjson.com/image/i/products/5/1.jpg', 'https://dummyjson.com/image/i/products/5/2.jpg', 'https://dummyjson.com/image/i/products/5/3.jpg']}\n",
            "{'id': 6, 'title': 'MacBook Pro', 'description': 'MacBook Pro 2021 with mini-LED display may launch between September, November', 'price': 1749, 'discountPercentage': 11.02, 'rating': 4.57, 'stock': 83, 'brand': 'APPle', 'category': 'laptops', 'thumbnail': 'https://dummyjson.com/image/i/products/6/thumbnail.png', 'images': ['https://dummyjson.com/image/i/products/6/1.png', 'https://dummyjson.com/image/i/products/6/2.jpg', 'https://dummyjson.com/image/i/products/6/3.png', 'https://dummyjson.com/image/i/products/6/4.jpg']}\n",
            "{'id': 7, 'title': 'Samsung Galaxy Book', 'description': 'Samsung Galaxy Book S (2020) Laptop With Intel Lakefield Chip, 8GB of RAM Launched', 'price': 1499, 'discountPercentage': 4.15, 'rating': 4.25, 'stock': 50, 'brand': 'Samsung', 'category': 'laptops', 'thumbnail': 'https://dummyjson.com/image/i/products/7/thumbnail.jpg', 'images': ['https://dummyjson.com/image/i/products/7/1.jpg', 'https://dummyjson.com/image/i/products/7/2.jpg', 'https://dummyjson.com/image/i/products/7/3.jpg', 'https://dummyjson.com/image/i/products/7/thumbnail.jpg']}\n",
            "{'id': 8, 'title': 'Microsoft Surface Laptop 4', 'description': 'Style and speed. Stand out on HD video calls backed by Studio Mics. Capture ideas on the vibrant touchscreen.', 'price': 1499, 'discountPercentage': 10.23, 'rating': 4.43, 'stock': 68, 'brand': 'Microsoft Surface', 'category': 'laptops', 'thumbnail': 'https://dummyjson.com/image/i/products/8/thumbnail.jpg', 'images': ['https://dummyjson.com/image/i/products/8/1.jpg', 'https://dummyjson.com/image/i/products/8/2.jpg', 'https://dummyjson.com/image/i/products/8/3.jpg', 'https://dummyjson.com/image/i/products/8/4.jpg', 'https://dummyjson.com/image/i/products/8/thumbnail.jpg']}\n",
            "{'id': 9, 'title': 'Infinix INBOOK', 'description': 'Infinix Inbook X1 Ci3 10th 8GB 256GB 14 Win10 Grey – 1 Year Warranty', 'price': 1099, 'discountPercentage': 11.83, 'rating': 4.54, 'stock': 96, 'brand': 'Infinix', 'category': 'laptops', 'thumbnail': 'https://dummyjson.com/image/i/products/9/thumbnail.jpg', 'images': ['https://dummyjson.com/image/i/products/9/1.jpg', 'https://dummyjson.com/image/i/products/9/2.png', 'https://dummyjson.com/image/i/products/9/3.png', 'https://dummyjson.com/image/i/products/9/4.jpg', 'https://dummyjson.com/image/i/products/9/thumbnail.jpg']}\n",
            "{'id': 10, 'title': 'HP Pavilion 15-DK1056WM', 'description': 'HP Pavilion 15-DK1056WM Gaming Laptop 10th Gen Core i5, 8GB, 256GB SSD, GTX 1650 4GB, Windows 10', 'price': 1099, 'discountPercentage': 6.18, 'rating': 4.43, 'stock': 89, 'brand': 'HP Pavilion', 'category': 'laptops', 'thumbnail': 'https://dummyjson.com/image/i/products/10/thumbnail.jpeg', 'images': ['https://dummyjson.com/image/i/products/10/1.jpg', 'https://dummyjson.com/image/i/products/10/2.jpg', 'https://dummyjson.com/image/i/products/10/3.jpg', 'https://dummyjson.com/image/i/products/10/thumbnail.jpeg']}\n",
            "{'id': 11, 'title': 'perfume Oil', 'description': 'Mega Discount, Impression of Acqua Di Gio by GiorgioArmani concentrated attar perfume Oil', 'price': 13, 'discountPercentage': 8.4, 'rating': 4.26, 'stock': 65, 'brand': 'Impression of Acqua Di Gio', 'category': 'fragrances', 'thumbnail': 'https://dummyjson.com/image/i/products/11/thumbnail.jpg', 'images': ['https://dummyjson.com/image/i/products/11/1.jpg', 'https://dummyjson.com/image/i/products/11/2.jpg', 'https://dummyjson.com/image/i/products/11/3.jpg', 'https://dummyjson.com/image/i/products/11/thumbnail.jpg']}\n",
            "{'id': 12, 'title': 'Brown Perfume', 'description': 'Royal_Mirage Sport Brown Perfume for Men & Women - 120ml', 'price': 40, 'discountPercentage': 15.66, 'rating': 4, 'stock': 52, 'brand': 'Royal_Mirage', 'category': 'fragrances', 'thumbnail': 'https://dummyjson.com/image/i/products/12/thumbnail.jpg', 'images': ['https://dummyjson.com/image/i/products/12/1.jpg', 'https://dummyjson.com/image/i/products/12/2.jpg', 'https://dummyjson.com/image/i/products/12/3.png', 'https://dummyjson.com/image/i/products/12/4.jpg', 'https://dummyjson.com/image/i/products/12/thumbnail.jpg']}\n",
            "{'id': 13, 'title': 'Fog Scent Xpressio Perfume', 'description': 'Product details of Best Fog Scent Xpressio Perfume 100ml For Men cool long lasting perfumes for Men', 'price': 13, 'discountPercentage': 8.14, 'rating': 4.59, 'stock': 61, 'brand': 'Fog Scent Xpressio', 'category': 'fragrances', 'thumbnail': 'https://dummyjson.com/image/i/products/13/thumbnail.webp', 'images': ['https://dummyjson.com/image/i/products/13/1.jpg', 'https://dummyjson.com/image/i/products/13/2.png', 'https://dummyjson.com/image/i/products/13/3.jpg', 'https://dummyjson.com/image/i/products/13/4.jpg', 'https://dummyjson.com/image/i/products/13/thumbnail.webp']}\n",
            "{'id': 14, 'title': 'Non-Alcoholic Concentrated Perfume Oil', 'description': 'Original Al Munakh® by Mahal Al Musk | Our Impression of Climate | 6ml Non-Alcoholic Concentrated Perfume Oil', 'price': 120, 'discountPercentage': 15.6, 'rating': 4.21, 'stock': 114, 'brand': 'Al Munakh', 'category': 'fragrances', 'thumbnail': 'https://dummyjson.com/image/i/products/14/thumbnail.jpg', 'images': ['https://dummyjson.com/image/i/products/14/1.jpg', 'https://dummyjson.com/image/i/products/14/2.jpg', 'https://dummyjson.com/image/i/products/14/3.jpg', 'https://dummyjson.com/image/i/products/14/thumbnail.jpg']}\n",
            "{'id': 15, 'title': 'Eau De Perfume Spray', 'description': 'Genuine  Al-Rehab spray perfume from UAE/Saudi Arabia/Yemen High Quality', 'price': 30, 'discountPercentage': 10.99, 'rating': 4.7, 'stock': 105, 'brand': 'Lord - Al-Rehab', 'category': 'fragrances', 'thumbnail': 'https://dummyjson.com/image/i/products/15/thumbnail.jpg', 'images': ['https://dummyjson.com/image/i/products/15/1.jpg', 'https://dummyjson.com/image/i/products/15/2.jpg', 'https://dummyjson.com/image/i/products/15/3.jpg', 'https://dummyjson.com/image/i/products/15/4.jpg', 'https://dummyjson.com/image/i/products/15/thumbnail.jpg']}\n",
            "{'id': 16, 'title': 'Hyaluronic Acid Serum', 'description': \"L'OrÃ©al Paris introduces Hyaluron Expert Replumping Serum formulated with 1.5% Hyaluronic Acid\", 'price': 19, 'discountPercentage': 13.31, 'rating': 4.83, 'stock': 110, 'brand': \"L'Oreal Paris\", 'category': 'skincare', 'thumbnail': 'https://dummyjson.com/image/i/products/16/thumbnail.jpg', 'images': ['https://dummyjson.com/image/i/products/16/1.png', 'https://dummyjson.com/image/i/products/16/2.webp', 'https://dummyjson.com/image/i/products/16/3.jpg', 'https://dummyjson.com/image/i/products/16/4.jpg', 'https://dummyjson.com/image/i/products/16/thumbnail.jpg']}\n",
            "{'id': 17, 'title': 'Tree Oil 30ml', 'description': 'Tea tree oil contains a number of compounds, including terpinen-4-ol, that have been shown to kill certain bacteria,', 'price': 12, 'discountPercentage': 4.09, 'rating': 4.52, 'stock': 78, 'brand': 'Hemani Tea', 'category': 'skincare', 'thumbnail': 'https://dummyjson.com/image/i/products/17/thumbnail.jpg', 'images': ['https://dummyjson.com/image/i/products/17/1.jpg', 'https://dummyjson.com/image/i/products/17/2.jpg', 'https://dummyjson.com/image/i/products/17/3.jpg', 'https://dummyjson.com/image/i/products/17/thumbnail.jpg']}\n",
            "{'id': 18, 'title': 'Oil Free Moisturizer 100ml', 'description': 'Dermive Oil Free Moisturizer with SPF 20 is specifically formulated with ceramides, hyaluronic acid & sunscreen.', 'price': 40, 'discountPercentage': 13.1, 'rating': 4.56, 'stock': 88, 'brand': 'Dermive', 'category': 'skincare', 'thumbnail': 'https://dummyjson.com/image/i/products/18/thumbnail.jpg', 'images': ['https://dummyjson.com/image/i/products/18/1.jpg', 'https://dummyjson.com/image/i/products/18/2.jpg', 'https://dummyjson.com/image/i/products/18/3.jpg', 'https://dummyjson.com/image/i/products/18/4.jpg', 'https://dummyjson.com/image/i/products/18/thumbnail.jpg']}\n",
            "{'id': 19, 'title': 'Skin Beauty Serum.', 'description': 'Product name: rorec collagen hyaluronic acid white face serum riceNet weight: 15 m', 'price': 46, 'discountPercentage': 10.68, 'rating': 4.42, 'stock': 54, 'brand': 'ROREC White Rice', 'category': 'skincare', 'thumbnail': 'https://dummyjson.com/image/i/products/19/thumbnail.jpg', 'images': ['https://dummyjson.com/image/i/products/19/1.jpg', 'https://dummyjson.com/image/i/products/19/2.jpg', 'https://dummyjson.com/image/i/products/19/3.png', 'https://dummyjson.com/image/i/products/19/thumbnail.jpg']}\n",
            "{'id': 20, 'title': 'Freckle Treatment Cream- 15gm', 'description': \"Fair & Clear is Pakistan's only pure Freckle cream which helpsfade Freckles, Darkspots and pigments. Mercury level is 0%, so there are no side effects.\", 'price': 70, 'discountPercentage': 16.99, 'rating': 4.06, 'stock': 140, 'brand': 'Fair & Clear', 'category': 'skincare', 'thumbnail': 'https://dummyjson.com/image/i/products/20/thumbnail.jpg', 'images': ['https://dummyjson.com/image/i/products/20/1.jpg', 'https://dummyjson.com/image/i/products/20/2.jpg', 'https://dummyjson.com/image/i/products/20/3.jpg', 'https://dummyjson.com/image/i/products/20/4.jpg', 'https://dummyjson.com/image/i/products/20/thumbnail.jpg']}\n",
            "{'id': 21, 'title': '- Daal Masoor 500 grams', 'description': 'Fine quality Branded Product Keep in a cool and dry place', 'price': 20, 'discountPercentage': 4.81, 'rating': 4.44, 'stock': 133, 'brand': 'Saaf & Khaas', 'category': 'groceries', 'thumbnail': 'https://dummyjson.com/image/i/products/21/thumbnail.png', 'images': ['https://dummyjson.com/image/i/products/21/1.png', 'https://dummyjson.com/image/i/products/21/2.jpg', 'https://dummyjson.com/image/i/products/21/3.jpg']}\n",
            "{'id': 22, 'title': 'Elbow Macaroni - 400 gm', 'description': 'Product details of Bake Parlor Big Elbow Macaroni - 400 gm', 'price': 14, 'discountPercentage': 15.58, 'rating': 4.57, 'stock': 146, 'brand': 'Bake Parlor Big', 'category': 'groceries', 'thumbnail': 'https://dummyjson.com/image/i/products/22/thumbnail.jpg', 'images': ['https://dummyjson.com/image/i/products/22/1.jpg', 'https://dummyjson.com/image/i/products/22/2.jpg', 'https://dummyjson.com/image/i/products/22/3.jpg']}\n",
            "{'id': 23, 'title': 'Orange Essence Food Flavou', 'description': 'Specifications of Orange Essence Food Flavour For Cakes and Baking Food Item', 'price': 14, 'discountPercentage': 8.04, 'rating': 4.85, 'stock': 26, 'brand': 'Baking Food Items', 'category': 'groceries', 'thumbnail': 'https://dummyjson.com/image/i/products/23/thumbnail.jpg', 'images': ['https://dummyjson.com/image/i/products/23/1.jpg', 'https://dummyjson.com/image/i/products/23/2.jpg', 'https://dummyjson.com/image/i/products/23/3.jpg', 'https://dummyjson.com/image/i/products/23/4.jpg', 'https://dummyjson.com/image/i/products/23/thumbnail.jpg']}\n",
            "{'id': 24, 'title': 'cereals muesli fruit nuts', 'description': 'original fauji cereal muesli 250gm box pack original fauji cereals muesli fruit nuts flakes breakfast cereal break fast faujicereals cerels cerel foji fouji', 'price': 46, 'discountPercentage': 16.8, 'rating': 4.94, 'stock': 113, 'brand': 'fauji', 'category': 'groceries', 'thumbnail': 'https://dummyjson.com/image/i/products/24/thumbnail.jpg', 'images': ['https://dummyjson.com/image/i/products/24/1.jpg', 'https://dummyjson.com/image/i/products/24/2.jpg', 'https://dummyjson.com/image/i/products/24/3.jpg', 'https://dummyjson.com/image/i/products/24/4.jpg', 'https://dummyjson.com/image/i/products/24/thumbnail.jpg']}\n",
            "{'id': 25, 'title': 'Gulab Powder 50 Gram', 'description': 'Dry Rose Flower Powder Gulab Powder 50 Gram • Treats Wounds', 'price': 70, 'discountPercentage': 13.58, 'rating': 4.87, 'stock': 47, 'brand': 'Dry Rose', 'category': 'groceries', 'thumbnail': 'https://dummyjson.com/image/i/products/25/thumbnail.jpg', 'images': ['https://dummyjson.com/image/i/products/25/1.png', 'https://dummyjson.com/image/i/products/25/2.jpg', 'https://dummyjson.com/image/i/products/25/3.png', 'https://dummyjson.com/image/i/products/25/4.jpg', 'https://dummyjson.com/image/i/products/25/thumbnail.jpg']}\n",
            "{'id': 26, 'title': 'Plant Hanger For Home', 'description': 'Boho Decor Plant Hanger For Home Wall Decoration Macrame Wall Hanging Shelf', 'price': 41, 'discountPercentage': 17.86, 'rating': 4.08, 'stock': 131, 'brand': 'Boho Decor', 'category': 'home-decoration', 'thumbnail': 'https://dummyjson.com/image/i/products/26/thumbnail.jpg', 'images': ['https://dummyjson.com/image/i/products/26/1.jpg', 'https://dummyjson.com/image/i/products/26/2.jpg', 'https://dummyjson.com/image/i/products/26/3.jpg', 'https://dummyjson.com/image/i/products/26/4.jpg', 'https://dummyjson.com/image/i/products/26/5.jpg', 'https://dummyjson.com/image/i/products/26/thumbnail.jpg']}\n",
            "{'id': 27, 'title': 'Flying Wooden Bird', 'description': 'Package Include 6 Birds with Adhesive Tape Shape: 3D Shaped Wooden Birds Material: Wooden MDF, Laminated 3.5mm', 'price': 51, 'discountPercentage': 15.58, 'rating': 4.41, 'stock': 17, 'brand': 'Flying Wooden', 'category': 'home-decoration', 'thumbnail': 'https://dummyjson.com/image/i/products/27/thumbnail.webp', 'images': ['https://dummyjson.com/image/i/products/27/1.jpg', 'https://dummyjson.com/image/i/products/27/2.jpg', 'https://dummyjson.com/image/i/products/27/3.jpg', 'https://dummyjson.com/image/i/products/27/4.jpg', 'https://dummyjson.com/image/i/products/27/thumbnail.webp']}\n",
            "{'id': 28, 'title': '3D Embellishment Art Lamp', 'description': '3D led lamp sticker Wall sticker 3d wall art light on/off button  cell operated (included)', 'price': 20, 'discountPercentage': 16.49, 'rating': 4.82, 'stock': 54, 'brand': 'LED Lights', 'category': 'home-decoration', 'thumbnail': 'https://dummyjson.com/image/i/products/28/thumbnail.jpg', 'images': ['https://dummyjson.com/image/i/products/28/1.jpg', 'https://dummyjson.com/image/i/products/28/2.jpg', 'https://dummyjson.com/image/i/products/28/3.png', 'https://dummyjson.com/image/i/products/28/4.jpg', 'https://dummyjson.com/image/i/products/28/thumbnail.jpg']}\n",
            "{'id': 29, 'title': 'Handcraft Chinese style', 'description': 'Handcraft Chinese style art luxury palace hotel villa mansion home decor ceramic vase with brass fruit plate', 'price': 60, 'discountPercentage': 15.34, 'rating': 4.44, 'stock': 7, 'brand': 'luxury palace', 'category': 'home-decoration', 'thumbnail': 'https://dummyjson.com/image/i/products/29/thumbnail.webp', 'images': ['https://dummyjson.com/image/i/products/29/1.jpg', 'https://dummyjson.com/image/i/products/29/2.jpg', 'https://dummyjson.com/image/i/products/29/3.webp', 'https://dummyjson.com/image/i/products/29/4.webp', 'https://dummyjson.com/image/i/products/29/thumbnail.webp']}\n",
            "{'id': 30, 'title': 'Key Holder', 'description': 'Attractive DesignMetallic materialFour key hooksReliable & DurablePremium Quality', 'price': 30, 'discountPercentage': 2.92, 'rating': 4.92, 'stock': 54, 'brand': 'Golden', 'category': 'home-decoration', 'thumbnail': 'https://dummyjson.com/image/i/products/30/thumbnail.jpg', 'images': ['https://dummyjson.com/image/i/products/30/1.jpg', 'https://dummyjson.com/image/i/products/30/2.jpg', 'https://dummyjson.com/image/i/products/30/3.jpg', 'https://dummyjson.com/image/i/products/30/thumbnail.jpg']}\n"
          ]
        }
      ]
    },
    {
      "cell_type": "code",
      "source": [
        "from ast import Slice\n",
        "# TODO Get the last 20 products\n",
        "# Enter code here #\n",
        "response = requests.get(\"https://dummyjson.com/products\")\n",
        "products = json.dumps(response.text)\n",
        "data= response.json()\n",
        "# last = slice(20)\n",
        "print(data['products'][-20:])\n",
        "for item in data['products']:\n",
        "\n",
        "  if(31>item['id']>10):\n",
        "     print(\"item\",item)"
      ],
      "metadata": {
        "id": "J1n2KHZ5YeZp",
        "colab": {
          "base_uri": "https://localhost:8080/"
        },
        "outputId": "759d2383-26eb-4fe9-a672-bead052a2d8f"
      },
      "execution_count": 60,
      "outputs": [
        {
          "output_type": "stream",
          "name": "stdout",
          "text": [
            "[{'id': 11, 'title': 'perfume Oil', 'description': 'Mega Discount, Impression of Acqua Di Gio by GiorgioArmani concentrated attar perfume Oil', 'price': 13, 'discountPercentage': 8.4, 'rating': 4.26, 'stock': 65, 'brand': 'Impression of Acqua Di Gio', 'category': 'fragrances', 'thumbnail': 'https://dummyjson.com/image/i/products/11/thumbnail.jpg', 'images': ['https://dummyjson.com/image/i/products/11/1.jpg', 'https://dummyjson.com/image/i/products/11/2.jpg', 'https://dummyjson.com/image/i/products/11/3.jpg', 'https://dummyjson.com/image/i/products/11/thumbnail.jpg']}, {'id': 12, 'title': 'Brown Perfume', 'description': 'Royal_Mirage Sport Brown Perfume for Men & Women - 120ml', 'price': 40, 'discountPercentage': 15.66, 'rating': 4, 'stock': 52, 'brand': 'Royal_Mirage', 'category': 'fragrances', 'thumbnail': 'https://dummyjson.com/image/i/products/12/thumbnail.jpg', 'images': ['https://dummyjson.com/image/i/products/12/1.jpg', 'https://dummyjson.com/image/i/products/12/2.jpg', 'https://dummyjson.com/image/i/products/12/3.png', 'https://dummyjson.com/image/i/products/12/4.jpg', 'https://dummyjson.com/image/i/products/12/thumbnail.jpg']}, {'id': 13, 'title': 'Fog Scent Xpressio Perfume', 'description': 'Product details of Best Fog Scent Xpressio Perfume 100ml For Men cool long lasting perfumes for Men', 'price': 13, 'discountPercentage': 8.14, 'rating': 4.59, 'stock': 61, 'brand': 'Fog Scent Xpressio', 'category': 'fragrances', 'thumbnail': 'https://dummyjson.com/image/i/products/13/thumbnail.webp', 'images': ['https://dummyjson.com/image/i/products/13/1.jpg', 'https://dummyjson.com/image/i/products/13/2.png', 'https://dummyjson.com/image/i/products/13/3.jpg', 'https://dummyjson.com/image/i/products/13/4.jpg', 'https://dummyjson.com/image/i/products/13/thumbnail.webp']}, {'id': 14, 'title': 'Non-Alcoholic Concentrated Perfume Oil', 'description': 'Original Al Munakh® by Mahal Al Musk | Our Impression of Climate | 6ml Non-Alcoholic Concentrated Perfume Oil', 'price': 120, 'discountPercentage': 15.6, 'rating': 4.21, 'stock': 114, 'brand': 'Al Munakh', 'category': 'fragrances', 'thumbnail': 'https://dummyjson.com/image/i/products/14/thumbnail.jpg', 'images': ['https://dummyjson.com/image/i/products/14/1.jpg', 'https://dummyjson.com/image/i/products/14/2.jpg', 'https://dummyjson.com/image/i/products/14/3.jpg', 'https://dummyjson.com/image/i/products/14/thumbnail.jpg']}, {'id': 15, 'title': 'Eau De Perfume Spray', 'description': 'Genuine  Al-Rehab spray perfume from UAE/Saudi Arabia/Yemen High Quality', 'price': 30, 'discountPercentage': 10.99, 'rating': 4.7, 'stock': 105, 'brand': 'Lord - Al-Rehab', 'category': 'fragrances', 'thumbnail': 'https://dummyjson.com/image/i/products/15/thumbnail.jpg', 'images': ['https://dummyjson.com/image/i/products/15/1.jpg', 'https://dummyjson.com/image/i/products/15/2.jpg', 'https://dummyjson.com/image/i/products/15/3.jpg', 'https://dummyjson.com/image/i/products/15/4.jpg', 'https://dummyjson.com/image/i/products/15/thumbnail.jpg']}, {'id': 16, 'title': 'Hyaluronic Acid Serum', 'description': \"L'OrÃ©al Paris introduces Hyaluron Expert Replumping Serum formulated with 1.5% Hyaluronic Acid\", 'price': 19, 'discountPercentage': 13.31, 'rating': 4.83, 'stock': 110, 'brand': \"L'Oreal Paris\", 'category': 'skincare', 'thumbnail': 'https://dummyjson.com/image/i/products/16/thumbnail.jpg', 'images': ['https://dummyjson.com/image/i/products/16/1.png', 'https://dummyjson.com/image/i/products/16/2.webp', 'https://dummyjson.com/image/i/products/16/3.jpg', 'https://dummyjson.com/image/i/products/16/4.jpg', 'https://dummyjson.com/image/i/products/16/thumbnail.jpg']}, {'id': 17, 'title': 'Tree Oil 30ml', 'description': 'Tea tree oil contains a number of compounds, including terpinen-4-ol, that have been shown to kill certain bacteria,', 'price': 12, 'discountPercentage': 4.09, 'rating': 4.52, 'stock': 78, 'brand': 'Hemani Tea', 'category': 'skincare', 'thumbnail': 'https://dummyjson.com/image/i/products/17/thumbnail.jpg', 'images': ['https://dummyjson.com/image/i/products/17/1.jpg', 'https://dummyjson.com/image/i/products/17/2.jpg', 'https://dummyjson.com/image/i/products/17/3.jpg', 'https://dummyjson.com/image/i/products/17/thumbnail.jpg']}, {'id': 18, 'title': 'Oil Free Moisturizer 100ml', 'description': 'Dermive Oil Free Moisturizer with SPF 20 is specifically formulated with ceramides, hyaluronic acid & sunscreen.', 'price': 40, 'discountPercentage': 13.1, 'rating': 4.56, 'stock': 88, 'brand': 'Dermive', 'category': 'skincare', 'thumbnail': 'https://dummyjson.com/image/i/products/18/thumbnail.jpg', 'images': ['https://dummyjson.com/image/i/products/18/1.jpg', 'https://dummyjson.com/image/i/products/18/2.jpg', 'https://dummyjson.com/image/i/products/18/3.jpg', 'https://dummyjson.com/image/i/products/18/4.jpg', 'https://dummyjson.com/image/i/products/18/thumbnail.jpg']}, {'id': 19, 'title': 'Skin Beauty Serum.', 'description': 'Product name: rorec collagen hyaluronic acid white face serum riceNet weight: 15 m', 'price': 46, 'discountPercentage': 10.68, 'rating': 4.42, 'stock': 54, 'brand': 'ROREC White Rice', 'category': 'skincare', 'thumbnail': 'https://dummyjson.com/image/i/products/19/thumbnail.jpg', 'images': ['https://dummyjson.com/image/i/products/19/1.jpg', 'https://dummyjson.com/image/i/products/19/2.jpg', 'https://dummyjson.com/image/i/products/19/3.png', 'https://dummyjson.com/image/i/products/19/thumbnail.jpg']}, {'id': 20, 'title': 'Freckle Treatment Cream- 15gm', 'description': \"Fair & Clear is Pakistan's only pure Freckle cream which helpsfade Freckles, Darkspots and pigments. Mercury level is 0%, so there are no side effects.\", 'price': 70, 'discountPercentage': 16.99, 'rating': 4.06, 'stock': 140, 'brand': 'Fair & Clear', 'category': 'skincare', 'thumbnail': 'https://dummyjson.com/image/i/products/20/thumbnail.jpg', 'images': ['https://dummyjson.com/image/i/products/20/1.jpg', 'https://dummyjson.com/image/i/products/20/2.jpg', 'https://dummyjson.com/image/i/products/20/3.jpg', 'https://dummyjson.com/image/i/products/20/4.jpg', 'https://dummyjson.com/image/i/products/20/thumbnail.jpg']}, {'id': 21, 'title': '- Daal Masoor 500 grams', 'description': 'Fine quality Branded Product Keep in a cool and dry place', 'price': 20, 'discountPercentage': 4.81, 'rating': 4.44, 'stock': 133, 'brand': 'Saaf & Khaas', 'category': 'groceries', 'thumbnail': 'https://dummyjson.com/image/i/products/21/thumbnail.png', 'images': ['https://dummyjson.com/image/i/products/21/1.png', 'https://dummyjson.com/image/i/products/21/2.jpg', 'https://dummyjson.com/image/i/products/21/3.jpg']}, {'id': 22, 'title': 'Elbow Macaroni - 400 gm', 'description': 'Product details of Bake Parlor Big Elbow Macaroni - 400 gm', 'price': 14, 'discountPercentage': 15.58, 'rating': 4.57, 'stock': 146, 'brand': 'Bake Parlor Big', 'category': 'groceries', 'thumbnail': 'https://dummyjson.com/image/i/products/22/thumbnail.jpg', 'images': ['https://dummyjson.com/image/i/products/22/1.jpg', 'https://dummyjson.com/image/i/products/22/2.jpg', 'https://dummyjson.com/image/i/products/22/3.jpg']}, {'id': 23, 'title': 'Orange Essence Food Flavou', 'description': 'Specifications of Orange Essence Food Flavour For Cakes and Baking Food Item', 'price': 14, 'discountPercentage': 8.04, 'rating': 4.85, 'stock': 26, 'brand': 'Baking Food Items', 'category': 'groceries', 'thumbnail': 'https://dummyjson.com/image/i/products/23/thumbnail.jpg', 'images': ['https://dummyjson.com/image/i/products/23/1.jpg', 'https://dummyjson.com/image/i/products/23/2.jpg', 'https://dummyjson.com/image/i/products/23/3.jpg', 'https://dummyjson.com/image/i/products/23/4.jpg', 'https://dummyjson.com/image/i/products/23/thumbnail.jpg']}, {'id': 24, 'title': 'cereals muesli fruit nuts', 'description': 'original fauji cereal muesli 250gm box pack original fauji cereals muesli fruit nuts flakes breakfast cereal break fast faujicereals cerels cerel foji fouji', 'price': 46, 'discountPercentage': 16.8, 'rating': 4.94, 'stock': 113, 'brand': 'fauji', 'category': 'groceries', 'thumbnail': 'https://dummyjson.com/image/i/products/24/thumbnail.jpg', 'images': ['https://dummyjson.com/image/i/products/24/1.jpg', 'https://dummyjson.com/image/i/products/24/2.jpg', 'https://dummyjson.com/image/i/products/24/3.jpg', 'https://dummyjson.com/image/i/products/24/4.jpg', 'https://dummyjson.com/image/i/products/24/thumbnail.jpg']}, {'id': 25, 'title': 'Gulab Powder 50 Gram', 'description': 'Dry Rose Flower Powder Gulab Powder 50 Gram • Treats Wounds', 'price': 70, 'discountPercentage': 13.58, 'rating': 4.87, 'stock': 47, 'brand': 'Dry Rose', 'category': 'groceries', 'thumbnail': 'https://dummyjson.com/image/i/products/25/thumbnail.jpg', 'images': ['https://dummyjson.com/image/i/products/25/1.png', 'https://dummyjson.com/image/i/products/25/2.jpg', 'https://dummyjson.com/image/i/products/25/3.png', 'https://dummyjson.com/image/i/products/25/4.jpg', 'https://dummyjson.com/image/i/products/25/thumbnail.jpg']}, {'id': 26, 'title': 'Plant Hanger For Home', 'description': 'Boho Decor Plant Hanger For Home Wall Decoration Macrame Wall Hanging Shelf', 'price': 41, 'discountPercentage': 17.86, 'rating': 4.08, 'stock': 131, 'brand': 'Boho Decor', 'category': 'home-decoration', 'thumbnail': 'https://dummyjson.com/image/i/products/26/thumbnail.jpg', 'images': ['https://dummyjson.com/image/i/products/26/1.jpg', 'https://dummyjson.com/image/i/products/26/2.jpg', 'https://dummyjson.com/image/i/products/26/3.jpg', 'https://dummyjson.com/image/i/products/26/4.jpg', 'https://dummyjson.com/image/i/products/26/5.jpg', 'https://dummyjson.com/image/i/products/26/thumbnail.jpg']}, {'id': 27, 'title': 'Flying Wooden Bird', 'description': 'Package Include 6 Birds with Adhesive Tape Shape: 3D Shaped Wooden Birds Material: Wooden MDF, Laminated 3.5mm', 'price': 51, 'discountPercentage': 15.58, 'rating': 4.41, 'stock': 17, 'brand': 'Flying Wooden', 'category': 'home-decoration', 'thumbnail': 'https://dummyjson.com/image/i/products/27/thumbnail.webp', 'images': ['https://dummyjson.com/image/i/products/27/1.jpg', 'https://dummyjson.com/image/i/products/27/2.jpg', 'https://dummyjson.com/image/i/products/27/3.jpg', 'https://dummyjson.com/image/i/products/27/4.jpg', 'https://dummyjson.com/image/i/products/27/thumbnail.webp']}, {'id': 28, 'title': '3D Embellishment Art Lamp', 'description': '3D led lamp sticker Wall sticker 3d wall art light on/off button  cell operated (included)', 'price': 20, 'discountPercentage': 16.49, 'rating': 4.82, 'stock': 54, 'brand': 'LED Lights', 'category': 'home-decoration', 'thumbnail': 'https://dummyjson.com/image/i/products/28/thumbnail.jpg', 'images': ['https://dummyjson.com/image/i/products/28/1.jpg', 'https://dummyjson.com/image/i/products/28/2.jpg', 'https://dummyjson.com/image/i/products/28/3.png', 'https://dummyjson.com/image/i/products/28/4.jpg', 'https://dummyjson.com/image/i/products/28/thumbnail.jpg']}, {'id': 29, 'title': 'Handcraft Chinese style', 'description': 'Handcraft Chinese style art luxury palace hotel villa mansion home decor ceramic vase with brass fruit plate', 'price': 60, 'discountPercentage': 15.34, 'rating': 4.44, 'stock': 7, 'brand': 'luxury palace', 'category': 'home-decoration', 'thumbnail': 'https://dummyjson.com/image/i/products/29/thumbnail.webp', 'images': ['https://dummyjson.com/image/i/products/29/1.jpg', 'https://dummyjson.com/image/i/products/29/2.jpg', 'https://dummyjson.com/image/i/products/29/3.webp', 'https://dummyjson.com/image/i/products/29/4.webp', 'https://dummyjson.com/image/i/products/29/thumbnail.webp']}, {'id': 30, 'title': 'Key Holder', 'description': 'Attractive DesignMetallic materialFour key hooksReliable & DurablePremium Quality', 'price': 30, 'discountPercentage': 2.92, 'rating': 4.92, 'stock': 54, 'brand': 'Golden', 'category': 'home-decoration', 'thumbnail': 'https://dummyjson.com/image/i/products/30/thumbnail.jpg', 'images': ['https://dummyjson.com/image/i/products/30/1.jpg', 'https://dummyjson.com/image/i/products/30/2.jpg', 'https://dummyjson.com/image/i/products/30/3.jpg', 'https://dummyjson.com/image/i/products/30/thumbnail.jpg']}]\n",
            "item {'id': 11, 'title': 'perfume Oil', 'description': 'Mega Discount, Impression of Acqua Di Gio by GiorgioArmani concentrated attar perfume Oil', 'price': 13, 'discountPercentage': 8.4, 'rating': 4.26, 'stock': 65, 'brand': 'Impression of Acqua Di Gio', 'category': 'fragrances', 'thumbnail': 'https://dummyjson.com/image/i/products/11/thumbnail.jpg', 'images': ['https://dummyjson.com/image/i/products/11/1.jpg', 'https://dummyjson.com/image/i/products/11/2.jpg', 'https://dummyjson.com/image/i/products/11/3.jpg', 'https://dummyjson.com/image/i/products/11/thumbnail.jpg']}\n",
            "item {'id': 12, 'title': 'Brown Perfume', 'description': 'Royal_Mirage Sport Brown Perfume for Men & Women - 120ml', 'price': 40, 'discountPercentage': 15.66, 'rating': 4, 'stock': 52, 'brand': 'Royal_Mirage', 'category': 'fragrances', 'thumbnail': 'https://dummyjson.com/image/i/products/12/thumbnail.jpg', 'images': ['https://dummyjson.com/image/i/products/12/1.jpg', 'https://dummyjson.com/image/i/products/12/2.jpg', 'https://dummyjson.com/image/i/products/12/3.png', 'https://dummyjson.com/image/i/products/12/4.jpg', 'https://dummyjson.com/image/i/products/12/thumbnail.jpg']}\n",
            "item {'id': 13, 'title': 'Fog Scent Xpressio Perfume', 'description': 'Product details of Best Fog Scent Xpressio Perfume 100ml For Men cool long lasting perfumes for Men', 'price': 13, 'discountPercentage': 8.14, 'rating': 4.59, 'stock': 61, 'brand': 'Fog Scent Xpressio', 'category': 'fragrances', 'thumbnail': 'https://dummyjson.com/image/i/products/13/thumbnail.webp', 'images': ['https://dummyjson.com/image/i/products/13/1.jpg', 'https://dummyjson.com/image/i/products/13/2.png', 'https://dummyjson.com/image/i/products/13/3.jpg', 'https://dummyjson.com/image/i/products/13/4.jpg', 'https://dummyjson.com/image/i/products/13/thumbnail.webp']}\n",
            "item {'id': 14, 'title': 'Non-Alcoholic Concentrated Perfume Oil', 'description': 'Original Al Munakh® by Mahal Al Musk | Our Impression of Climate | 6ml Non-Alcoholic Concentrated Perfume Oil', 'price': 120, 'discountPercentage': 15.6, 'rating': 4.21, 'stock': 114, 'brand': 'Al Munakh', 'category': 'fragrances', 'thumbnail': 'https://dummyjson.com/image/i/products/14/thumbnail.jpg', 'images': ['https://dummyjson.com/image/i/products/14/1.jpg', 'https://dummyjson.com/image/i/products/14/2.jpg', 'https://dummyjson.com/image/i/products/14/3.jpg', 'https://dummyjson.com/image/i/products/14/thumbnail.jpg']}\n",
            "item {'id': 15, 'title': 'Eau De Perfume Spray', 'description': 'Genuine  Al-Rehab spray perfume from UAE/Saudi Arabia/Yemen High Quality', 'price': 30, 'discountPercentage': 10.99, 'rating': 4.7, 'stock': 105, 'brand': 'Lord - Al-Rehab', 'category': 'fragrances', 'thumbnail': 'https://dummyjson.com/image/i/products/15/thumbnail.jpg', 'images': ['https://dummyjson.com/image/i/products/15/1.jpg', 'https://dummyjson.com/image/i/products/15/2.jpg', 'https://dummyjson.com/image/i/products/15/3.jpg', 'https://dummyjson.com/image/i/products/15/4.jpg', 'https://dummyjson.com/image/i/products/15/thumbnail.jpg']}\n",
            "item {'id': 16, 'title': 'Hyaluronic Acid Serum', 'description': \"L'OrÃ©al Paris introduces Hyaluron Expert Replumping Serum formulated with 1.5% Hyaluronic Acid\", 'price': 19, 'discountPercentage': 13.31, 'rating': 4.83, 'stock': 110, 'brand': \"L'Oreal Paris\", 'category': 'skincare', 'thumbnail': 'https://dummyjson.com/image/i/products/16/thumbnail.jpg', 'images': ['https://dummyjson.com/image/i/products/16/1.png', 'https://dummyjson.com/image/i/products/16/2.webp', 'https://dummyjson.com/image/i/products/16/3.jpg', 'https://dummyjson.com/image/i/products/16/4.jpg', 'https://dummyjson.com/image/i/products/16/thumbnail.jpg']}\n",
            "item {'id': 17, 'title': 'Tree Oil 30ml', 'description': 'Tea tree oil contains a number of compounds, including terpinen-4-ol, that have been shown to kill certain bacteria,', 'price': 12, 'discountPercentage': 4.09, 'rating': 4.52, 'stock': 78, 'brand': 'Hemani Tea', 'category': 'skincare', 'thumbnail': 'https://dummyjson.com/image/i/products/17/thumbnail.jpg', 'images': ['https://dummyjson.com/image/i/products/17/1.jpg', 'https://dummyjson.com/image/i/products/17/2.jpg', 'https://dummyjson.com/image/i/products/17/3.jpg', 'https://dummyjson.com/image/i/products/17/thumbnail.jpg']}\n",
            "item {'id': 18, 'title': 'Oil Free Moisturizer 100ml', 'description': 'Dermive Oil Free Moisturizer with SPF 20 is specifically formulated with ceramides, hyaluronic acid & sunscreen.', 'price': 40, 'discountPercentage': 13.1, 'rating': 4.56, 'stock': 88, 'brand': 'Dermive', 'category': 'skincare', 'thumbnail': 'https://dummyjson.com/image/i/products/18/thumbnail.jpg', 'images': ['https://dummyjson.com/image/i/products/18/1.jpg', 'https://dummyjson.com/image/i/products/18/2.jpg', 'https://dummyjson.com/image/i/products/18/3.jpg', 'https://dummyjson.com/image/i/products/18/4.jpg', 'https://dummyjson.com/image/i/products/18/thumbnail.jpg']}\n",
            "item {'id': 19, 'title': 'Skin Beauty Serum.', 'description': 'Product name: rorec collagen hyaluronic acid white face serum riceNet weight: 15 m', 'price': 46, 'discountPercentage': 10.68, 'rating': 4.42, 'stock': 54, 'brand': 'ROREC White Rice', 'category': 'skincare', 'thumbnail': 'https://dummyjson.com/image/i/products/19/thumbnail.jpg', 'images': ['https://dummyjson.com/image/i/products/19/1.jpg', 'https://dummyjson.com/image/i/products/19/2.jpg', 'https://dummyjson.com/image/i/products/19/3.png', 'https://dummyjson.com/image/i/products/19/thumbnail.jpg']}\n",
            "item {'id': 20, 'title': 'Freckle Treatment Cream- 15gm', 'description': \"Fair & Clear is Pakistan's only pure Freckle cream which helpsfade Freckles, Darkspots and pigments. Mercury level is 0%, so there are no side effects.\", 'price': 70, 'discountPercentage': 16.99, 'rating': 4.06, 'stock': 140, 'brand': 'Fair & Clear', 'category': 'skincare', 'thumbnail': 'https://dummyjson.com/image/i/products/20/thumbnail.jpg', 'images': ['https://dummyjson.com/image/i/products/20/1.jpg', 'https://dummyjson.com/image/i/products/20/2.jpg', 'https://dummyjson.com/image/i/products/20/3.jpg', 'https://dummyjson.com/image/i/products/20/4.jpg', 'https://dummyjson.com/image/i/products/20/thumbnail.jpg']}\n",
            "item {'id': 21, 'title': '- Daal Masoor 500 grams', 'description': 'Fine quality Branded Product Keep in a cool and dry place', 'price': 20, 'discountPercentage': 4.81, 'rating': 4.44, 'stock': 133, 'brand': 'Saaf & Khaas', 'category': 'groceries', 'thumbnail': 'https://dummyjson.com/image/i/products/21/thumbnail.png', 'images': ['https://dummyjson.com/image/i/products/21/1.png', 'https://dummyjson.com/image/i/products/21/2.jpg', 'https://dummyjson.com/image/i/products/21/3.jpg']}\n",
            "item {'id': 22, 'title': 'Elbow Macaroni - 400 gm', 'description': 'Product details of Bake Parlor Big Elbow Macaroni - 400 gm', 'price': 14, 'discountPercentage': 15.58, 'rating': 4.57, 'stock': 146, 'brand': 'Bake Parlor Big', 'category': 'groceries', 'thumbnail': 'https://dummyjson.com/image/i/products/22/thumbnail.jpg', 'images': ['https://dummyjson.com/image/i/products/22/1.jpg', 'https://dummyjson.com/image/i/products/22/2.jpg', 'https://dummyjson.com/image/i/products/22/3.jpg']}\n",
            "item {'id': 23, 'title': 'Orange Essence Food Flavou', 'description': 'Specifications of Orange Essence Food Flavour For Cakes and Baking Food Item', 'price': 14, 'discountPercentage': 8.04, 'rating': 4.85, 'stock': 26, 'brand': 'Baking Food Items', 'category': 'groceries', 'thumbnail': 'https://dummyjson.com/image/i/products/23/thumbnail.jpg', 'images': ['https://dummyjson.com/image/i/products/23/1.jpg', 'https://dummyjson.com/image/i/products/23/2.jpg', 'https://dummyjson.com/image/i/products/23/3.jpg', 'https://dummyjson.com/image/i/products/23/4.jpg', 'https://dummyjson.com/image/i/products/23/thumbnail.jpg']}\n",
            "item {'id': 24, 'title': 'cereals muesli fruit nuts', 'description': 'original fauji cereal muesli 250gm box pack original fauji cereals muesli fruit nuts flakes breakfast cereal break fast faujicereals cerels cerel foji fouji', 'price': 46, 'discountPercentage': 16.8, 'rating': 4.94, 'stock': 113, 'brand': 'fauji', 'category': 'groceries', 'thumbnail': 'https://dummyjson.com/image/i/products/24/thumbnail.jpg', 'images': ['https://dummyjson.com/image/i/products/24/1.jpg', 'https://dummyjson.com/image/i/products/24/2.jpg', 'https://dummyjson.com/image/i/products/24/3.jpg', 'https://dummyjson.com/image/i/products/24/4.jpg', 'https://dummyjson.com/image/i/products/24/thumbnail.jpg']}\n",
            "item {'id': 25, 'title': 'Gulab Powder 50 Gram', 'description': 'Dry Rose Flower Powder Gulab Powder 50 Gram • Treats Wounds', 'price': 70, 'discountPercentage': 13.58, 'rating': 4.87, 'stock': 47, 'brand': 'Dry Rose', 'category': 'groceries', 'thumbnail': 'https://dummyjson.com/image/i/products/25/thumbnail.jpg', 'images': ['https://dummyjson.com/image/i/products/25/1.png', 'https://dummyjson.com/image/i/products/25/2.jpg', 'https://dummyjson.com/image/i/products/25/3.png', 'https://dummyjson.com/image/i/products/25/4.jpg', 'https://dummyjson.com/image/i/products/25/thumbnail.jpg']}\n",
            "item {'id': 26, 'title': 'Plant Hanger For Home', 'description': 'Boho Decor Plant Hanger For Home Wall Decoration Macrame Wall Hanging Shelf', 'price': 41, 'discountPercentage': 17.86, 'rating': 4.08, 'stock': 131, 'brand': 'Boho Decor', 'category': 'home-decoration', 'thumbnail': 'https://dummyjson.com/image/i/products/26/thumbnail.jpg', 'images': ['https://dummyjson.com/image/i/products/26/1.jpg', 'https://dummyjson.com/image/i/products/26/2.jpg', 'https://dummyjson.com/image/i/products/26/3.jpg', 'https://dummyjson.com/image/i/products/26/4.jpg', 'https://dummyjson.com/image/i/products/26/5.jpg', 'https://dummyjson.com/image/i/products/26/thumbnail.jpg']}\n",
            "item {'id': 27, 'title': 'Flying Wooden Bird', 'description': 'Package Include 6 Birds with Adhesive Tape Shape: 3D Shaped Wooden Birds Material: Wooden MDF, Laminated 3.5mm', 'price': 51, 'discountPercentage': 15.58, 'rating': 4.41, 'stock': 17, 'brand': 'Flying Wooden', 'category': 'home-decoration', 'thumbnail': 'https://dummyjson.com/image/i/products/27/thumbnail.webp', 'images': ['https://dummyjson.com/image/i/products/27/1.jpg', 'https://dummyjson.com/image/i/products/27/2.jpg', 'https://dummyjson.com/image/i/products/27/3.jpg', 'https://dummyjson.com/image/i/products/27/4.jpg', 'https://dummyjson.com/image/i/products/27/thumbnail.webp']}\n",
            "item {'id': 28, 'title': '3D Embellishment Art Lamp', 'description': '3D led lamp sticker Wall sticker 3d wall art light on/off button  cell operated (included)', 'price': 20, 'discountPercentage': 16.49, 'rating': 4.82, 'stock': 54, 'brand': 'LED Lights', 'category': 'home-decoration', 'thumbnail': 'https://dummyjson.com/image/i/products/28/thumbnail.jpg', 'images': ['https://dummyjson.com/image/i/products/28/1.jpg', 'https://dummyjson.com/image/i/products/28/2.jpg', 'https://dummyjson.com/image/i/products/28/3.png', 'https://dummyjson.com/image/i/products/28/4.jpg', 'https://dummyjson.com/image/i/products/28/thumbnail.jpg']}\n",
            "item {'id': 29, 'title': 'Handcraft Chinese style', 'description': 'Handcraft Chinese style art luxury palace hotel villa mansion home decor ceramic vase with brass fruit plate', 'price': 60, 'discountPercentage': 15.34, 'rating': 4.44, 'stock': 7, 'brand': 'luxury palace', 'category': 'home-decoration', 'thumbnail': 'https://dummyjson.com/image/i/products/29/thumbnail.webp', 'images': ['https://dummyjson.com/image/i/products/29/1.jpg', 'https://dummyjson.com/image/i/products/29/2.jpg', 'https://dummyjson.com/image/i/products/29/3.webp', 'https://dummyjson.com/image/i/products/29/4.webp', 'https://dummyjson.com/image/i/products/29/thumbnail.webp']}\n",
            "item {'id': 30, 'title': 'Key Holder', 'description': 'Attractive DesignMetallic materialFour key hooksReliable & DurablePremium Quality', 'price': 30, 'discountPercentage': 2.92, 'rating': 4.92, 'stock': 54, 'brand': 'Golden', 'category': 'home-decoration', 'thumbnail': 'https://dummyjson.com/image/i/products/30/thumbnail.jpg', 'images': ['https://dummyjson.com/image/i/products/30/1.jpg', 'https://dummyjson.com/image/i/products/30/2.jpg', 'https://dummyjson.com/image/i/products/30/3.jpg', 'https://dummyjson.com/image/i/products/30/thumbnail.jpg']}\n"
          ]
        }
      ]
    },
    {
      "cell_type": "code",
      "source": [
        "# Create a new json consisting of aggregated data of the products: {category, brand : list of products, average price}\n",
        "# Enter code here #\n",
        "response = requests.get(\"https://dummyjson.com/products\")\n",
        "products = json.dumps(response.text)\n",
        "data= response.json()\n",
        "items_append=[]\n",
        "for item in data['products']:\n",
        "  # items_append.append({\n",
        "  #     'category':item['category'],\n",
        "  #     'brand':item['brand'],\n",
        "  #     'price':item['price']\n",
        "  # })\n",
        "\n",
        "  if item['category'] or item['brand'] in products:\n",
        "     item['category']['brand'].append({'title':item['title']})\n",
        "\n",
        "  else:\n",
        "     item['category']['brand'].append({\n",
        "      'category':item['category'],\n",
        "      'brand':item['brand'],\n",
        "      'price':item['price']})\n",
        "  items_append= item['category']['brand']\n",
        "\n",
        "  \n",
        "\n",
        "print(items_append)\n"
      ],
      "metadata": {
        "id": "VDwkT2MV3wxQ",
        "colab": {
          "base_uri": "https://localhost:8080/",
          "height": 276
        },
        "outputId": "685eac1d-71c9-44b4-b6c9-4d0539c6b89e"
      },
      "execution_count": null,
      "outputs": [
        {
          "output_type": "error",
          "ename": "TypeError",
          "evalue": "ignored",
          "traceback": [
            "\u001b[0;31m---------------------------------------------------------------------------\u001b[0m",
            "\u001b[0;31mTypeError\u001b[0m                                 Traceback (most recent call last)",
            "\u001b[0;32m<ipython-input-28-5dd0cd546641>\u001b[0m in \u001b[0;36m<module>\u001b[0;34m\u001b[0m\n\u001b[1;32m     13\u001b[0m \u001b[0;34m\u001b[0m\u001b[0m\n\u001b[1;32m     14\u001b[0m   \u001b[0;32mif\u001b[0m \u001b[0;34m[\u001b[0m\u001b[0;34m'category'\u001b[0m\u001b[0;34m]\u001b[0m \u001b[0;32mor\u001b[0m \u001b[0;34m[\u001b[0m\u001b[0;34m'brand'\u001b[0m\u001b[0;34m]\u001b[0m \u001b[0;32min\u001b[0m \u001b[0mproducts\u001b[0m\u001b[0;34m:\u001b[0m\u001b[0;34m\u001b[0m\u001b[0;34m\u001b[0m\u001b[0m\n\u001b[0;32m---> 15\u001b[0;31m      \u001b[0mitem\u001b[0m\u001b[0;34m[\u001b[0m\u001b[0;34m'category'\u001b[0m\u001b[0;34m]\u001b[0m\u001b[0;34m[\u001b[0m\u001b[0;34m'brand'\u001b[0m\u001b[0;34m]\u001b[0m\u001b[0;34m.\u001b[0m\u001b[0mappend\u001b[0m\u001b[0;34m(\u001b[0m\u001b[0;34m{\u001b[0m\u001b[0;34m'title'\u001b[0m\u001b[0;34m:\u001b[0m\u001b[0mitem\u001b[0m\u001b[0;34m[\u001b[0m\u001b[0;34m'title'\u001b[0m\u001b[0;34m]\u001b[0m\u001b[0;34m}\u001b[0m\u001b[0;34m)\u001b[0m\u001b[0;34m\u001b[0m\u001b[0;34m\u001b[0m\u001b[0m\n\u001b[0m\u001b[1;32m     16\u001b[0m \u001b[0;34m\u001b[0m\u001b[0m\n\u001b[1;32m     17\u001b[0m   \u001b[0;32melse\u001b[0m\u001b[0;34m:\u001b[0m\u001b[0;34m\u001b[0m\u001b[0;34m\u001b[0m\u001b[0m\n",
            "\u001b[0;31mTypeError\u001b[0m: string indices must be integers"
          ]
        }
      ]
    },
    {
      "cell_type": "code",
      "source": [
        "# Write the new json to a file\n",
        "# Enter code here #\n",
        "\n",
        "response = requests.get(\"https://dummyjson.com/products\")\n",
        "products = json.dumps(response.text)\n",
        "data= response.json()\n",
        "\n",
        "with open('new_file.json', 'w') as f:\n",
        "    json.dump(data, f, indent=2)\n",
        "    print(\"New json file is created succesfully\")"
      ],
      "metadata": {
        "id": "uYq4WWJA443O",
        "colab": {
          "base_uri": "https://localhost:8080/"
        },
        "outputId": "c179e2cf-73f1-4d67-eb4e-00458d47629f"
      },
      "execution_count": null,
      "outputs": [
        {
          "output_type": "stream",
          "name": "stdout",
          "text": [
            "New json file is created from data.json file\n"
          ]
        }
      ]
    },
    {
      "cell_type": "code",
      "source": [
        "# Complex json: http://ergast.com/api/f1/2018/drivers/hamilton/results.json\n",
        "# Organize the code into csv format in a way one can get information. Be creative with the presentation :) 3 drivers\n",
        "# Enter code here\n",
        "def jsonExtracter(file_path='',link='',output_format='csv'):\n",
        "  with open('http://ergast.com/api/f1/2018/drivers/hamilton/results.json') as smallfile:\n",
        "     file = json.load(smallfile)\n",
        "  return file.lead \n",
        "# jsonExtracter()"
      ],
      "metadata": {
        "id": "tDjS4_AjONs0"
      },
      "execution_count": null,
      "outputs": []
    },
    {
      "cell_type": "code",
      "source": [],
      "metadata": {
        "id": "-cfAZgm727_7"
      },
      "execution_count": null,
      "outputs": []
    },
    {
      "cell_type": "code",
      "source": [
        "import urllib\n",
        "import json\n",
        "import requests\n",
        "import pandas as pd\n",
        "def jsonExtracter( filename:str):\n",
        "  with urllib.request.urlopen(filename) as url:\n",
        "    data=json.load(url)\n",
        "\n",
        "  df = pd.DataFrame.from_dict(data, orient='index') \n",
        "  \n",
        "  for item in data['MRData']['DriverTable']['Drivers']:\n",
        "    print(item)\n",
        "    new_item = pd.DataFrame(item)\n",
        "    new_item.to_csv (r'myCsvName.csv')\n",
        "  new_data=pd.read_csv('myCsvName.csv')\n",
        "  print(new_data)\n",
        "    # for items in item['DriverTable']:\n",
        "    #     for driver in items['Drivers']:\n",
        "    #        print(\"my\",driver)\n",
        "\n",
        "  #return (data['MRData']['DriverTable'])\n",
        "\n",
        "jsonExtracter('http://ergast.com/api/f1/2018/drivers.json')"
      ],
      "metadata": {
        "colab": {
          "base_uri": "https://localhost:8080/",
          "height": 391
        },
        "id": "3oxYvdnyfCh2",
        "outputId": "f01af025-0561-45a4-8fad-cc220ad0067f"
      },
      "execution_count": 116,
      "outputs": [
        {
          "output_type": "stream",
          "name": "stdout",
          "text": [
            "{'driverId': 'alonso', 'permanentNumber': '14', 'code': 'ALO', 'url': 'http://en.wikipedia.org/wiki/Fernando_Alonso', 'givenName': 'Fernando', 'familyName': 'Alonso', 'dateOfBirth': '1981-07-29', 'nationality': 'Spanish'}\n"
          ]
        },
        {
          "output_type": "error",
          "ename": "ValueError",
          "evalue": "ignored",
          "traceback": [
            "\u001b[0;31m---------------------------------------------------------------------------\u001b[0m",
            "\u001b[0;31mValueError\u001b[0m                                Traceback (most recent call last)",
            "\u001b[0;32m<ipython-input-116-bd6cd9bbf5fb>\u001b[0m in \u001b[0;36m<module>\u001b[0;34m\u001b[0m\n\u001b[1;32m     21\u001b[0m   \u001b[0;31m#return (data['MRData']['DriverTable'])\u001b[0m\u001b[0;34m\u001b[0m\u001b[0;34m\u001b[0m\u001b[0;34m\u001b[0m\u001b[0m\n\u001b[1;32m     22\u001b[0m \u001b[0;34m\u001b[0m\u001b[0m\n\u001b[0;32m---> 23\u001b[0;31m \u001b[0mjsonExtracter\u001b[0m\u001b[0;34m(\u001b[0m\u001b[0;34m'http://ergast.com/api/f1/2018/drivers.json'\u001b[0m\u001b[0;34m)\u001b[0m\u001b[0;34m\u001b[0m\u001b[0;34m\u001b[0m\u001b[0m\n\u001b[0m",
            "\u001b[0;32m<ipython-input-116-bd6cd9bbf5fb>\u001b[0m in \u001b[0;36mjsonExtracter\u001b[0;34m(filename)\u001b[0m\n\u001b[1;32m     11\u001b[0m   \u001b[0;32mfor\u001b[0m \u001b[0mitem\u001b[0m \u001b[0;32min\u001b[0m \u001b[0mdata\u001b[0m\u001b[0;34m[\u001b[0m\u001b[0;34m'MRData'\u001b[0m\u001b[0;34m]\u001b[0m\u001b[0;34m[\u001b[0m\u001b[0;34m'DriverTable'\u001b[0m\u001b[0;34m]\u001b[0m\u001b[0;34m[\u001b[0m\u001b[0;34m'Drivers'\u001b[0m\u001b[0;34m]\u001b[0m\u001b[0;34m:\u001b[0m\u001b[0;34m\u001b[0m\u001b[0;34m\u001b[0m\u001b[0m\n\u001b[1;32m     12\u001b[0m     \u001b[0mprint\u001b[0m\u001b[0;34m(\u001b[0m\u001b[0mitem\u001b[0m\u001b[0;34m)\u001b[0m\u001b[0;34m\u001b[0m\u001b[0;34m\u001b[0m\u001b[0m\n\u001b[0;32m---> 13\u001b[0;31m     \u001b[0mnew_item\u001b[0m \u001b[0;34m=\u001b[0m \u001b[0mpd\u001b[0m\u001b[0;34m.\u001b[0m\u001b[0mDataFrame\u001b[0m\u001b[0;34m(\u001b[0m\u001b[0mitem\u001b[0m\u001b[0;34m)\u001b[0m\u001b[0;34m\u001b[0m\u001b[0;34m\u001b[0m\u001b[0m\n\u001b[0m\u001b[1;32m     14\u001b[0m     \u001b[0mnew_item\u001b[0m\u001b[0;34m.\u001b[0m\u001b[0mto_csv\u001b[0m \u001b[0;34m(\u001b[0m\u001b[0;34mr'myCsvName.csv'\u001b[0m\u001b[0;34m)\u001b[0m\u001b[0;34m\u001b[0m\u001b[0;34m\u001b[0m\u001b[0m\n\u001b[1;32m     15\u001b[0m   \u001b[0mnew_data\u001b[0m\u001b[0;34m=\u001b[0m\u001b[0mpd\u001b[0m\u001b[0;34m.\u001b[0m\u001b[0mread_csv\u001b[0m\u001b[0;34m(\u001b[0m\u001b[0;34m'myCsvName.csv'\u001b[0m\u001b[0;34m)\u001b[0m\u001b[0;34m\u001b[0m\u001b[0;34m\u001b[0m\u001b[0m\n",
            "\u001b[0;32m/usr/local/lib/python3.7/dist-packages/pandas/core/frame.py\u001b[0m in \u001b[0;36m__init__\u001b[0;34m(self, data, index, columns, dtype, copy)\u001b[0m\n\u001b[1;32m    612\u001b[0m         \u001b[0;32melif\u001b[0m \u001b[0misinstance\u001b[0m\u001b[0;34m(\u001b[0m\u001b[0mdata\u001b[0m\u001b[0;34m,\u001b[0m \u001b[0mdict\u001b[0m\u001b[0;34m)\u001b[0m\u001b[0;34m:\u001b[0m\u001b[0;34m\u001b[0m\u001b[0;34m\u001b[0m\u001b[0m\n\u001b[1;32m    613\u001b[0m             \u001b[0;31m# GH#38939 de facto copy defaults to False only in non-dict cases\u001b[0m\u001b[0;34m\u001b[0m\u001b[0;34m\u001b[0m\u001b[0;34m\u001b[0m\u001b[0m\n\u001b[0;32m--> 614\u001b[0;31m             \u001b[0mmgr\u001b[0m \u001b[0;34m=\u001b[0m \u001b[0mdict_to_mgr\u001b[0m\u001b[0;34m(\u001b[0m\u001b[0mdata\u001b[0m\u001b[0;34m,\u001b[0m \u001b[0mindex\u001b[0m\u001b[0;34m,\u001b[0m \u001b[0mcolumns\u001b[0m\u001b[0;34m,\u001b[0m \u001b[0mdtype\u001b[0m\u001b[0;34m=\u001b[0m\u001b[0mdtype\u001b[0m\u001b[0;34m,\u001b[0m \u001b[0mcopy\u001b[0m\u001b[0;34m=\u001b[0m\u001b[0mcopy\u001b[0m\u001b[0;34m,\u001b[0m \u001b[0mtyp\u001b[0m\u001b[0;34m=\u001b[0m\u001b[0mmanager\u001b[0m\u001b[0;34m)\u001b[0m\u001b[0;34m\u001b[0m\u001b[0;34m\u001b[0m\u001b[0m\n\u001b[0m\u001b[1;32m    615\u001b[0m         \u001b[0;32melif\u001b[0m \u001b[0misinstance\u001b[0m\u001b[0;34m(\u001b[0m\u001b[0mdata\u001b[0m\u001b[0;34m,\u001b[0m \u001b[0mma\u001b[0m\u001b[0;34m.\u001b[0m\u001b[0mMaskedArray\u001b[0m\u001b[0;34m)\u001b[0m\u001b[0;34m:\u001b[0m\u001b[0;34m\u001b[0m\u001b[0;34m\u001b[0m\u001b[0m\n\u001b[1;32m    616\u001b[0m             \u001b[0;32mimport\u001b[0m \u001b[0mnumpy\u001b[0m\u001b[0;34m.\u001b[0m\u001b[0mma\u001b[0m\u001b[0;34m.\u001b[0m\u001b[0mmrecords\u001b[0m \u001b[0;32mas\u001b[0m \u001b[0mmrecords\u001b[0m\u001b[0;34m\u001b[0m\u001b[0;34m\u001b[0m\u001b[0m\n",
            "\u001b[0;32m/usr/local/lib/python3.7/dist-packages/pandas/core/internals/construction.py\u001b[0m in \u001b[0;36mdict_to_mgr\u001b[0;34m(data, index, columns, dtype, typ, copy)\u001b[0m\n\u001b[1;32m    463\u001b[0m \u001b[0;34m\u001b[0m\u001b[0m\n\u001b[1;32m    464\u001b[0m     return arrays_to_mgr(\n\u001b[0;32m--> 465\u001b[0;31m         \u001b[0marrays\u001b[0m\u001b[0;34m,\u001b[0m \u001b[0mdata_names\u001b[0m\u001b[0;34m,\u001b[0m \u001b[0mindex\u001b[0m\u001b[0;34m,\u001b[0m \u001b[0mcolumns\u001b[0m\u001b[0;34m,\u001b[0m \u001b[0mdtype\u001b[0m\u001b[0;34m=\u001b[0m\u001b[0mdtype\u001b[0m\u001b[0;34m,\u001b[0m \u001b[0mtyp\u001b[0m\u001b[0;34m=\u001b[0m\u001b[0mtyp\u001b[0m\u001b[0;34m,\u001b[0m \u001b[0mconsolidate\u001b[0m\u001b[0;34m=\u001b[0m\u001b[0mcopy\u001b[0m\u001b[0;34m\u001b[0m\u001b[0;34m\u001b[0m\u001b[0m\n\u001b[0m\u001b[1;32m    466\u001b[0m     )\n\u001b[1;32m    467\u001b[0m \u001b[0;34m\u001b[0m\u001b[0m\n",
            "\u001b[0;32m/usr/local/lib/python3.7/dist-packages/pandas/core/internals/construction.py\u001b[0m in \u001b[0;36marrays_to_mgr\u001b[0;34m(arrays, arr_names, index, columns, dtype, verify_integrity, typ, consolidate)\u001b[0m\n\u001b[1;32m    117\u001b[0m         \u001b[0;31m# figure out the index, if necessary\u001b[0m\u001b[0;34m\u001b[0m\u001b[0;34m\u001b[0m\u001b[0;34m\u001b[0m\u001b[0m\n\u001b[1;32m    118\u001b[0m         \u001b[0;32mif\u001b[0m \u001b[0mindex\u001b[0m \u001b[0;32mis\u001b[0m \u001b[0;32mNone\u001b[0m\u001b[0;34m:\u001b[0m\u001b[0;34m\u001b[0m\u001b[0;34m\u001b[0m\u001b[0m\n\u001b[0;32m--> 119\u001b[0;31m             \u001b[0mindex\u001b[0m \u001b[0;34m=\u001b[0m \u001b[0m_extract_index\u001b[0m\u001b[0;34m(\u001b[0m\u001b[0marrays\u001b[0m\u001b[0;34m)\u001b[0m\u001b[0;34m\u001b[0m\u001b[0;34m\u001b[0m\u001b[0m\n\u001b[0m\u001b[1;32m    120\u001b[0m         \u001b[0;32melse\u001b[0m\u001b[0;34m:\u001b[0m\u001b[0;34m\u001b[0m\u001b[0;34m\u001b[0m\u001b[0m\n\u001b[1;32m    121\u001b[0m             \u001b[0mindex\u001b[0m \u001b[0;34m=\u001b[0m \u001b[0mensure_index\u001b[0m\u001b[0;34m(\u001b[0m\u001b[0mindex\u001b[0m\u001b[0;34m)\u001b[0m\u001b[0;34m\u001b[0m\u001b[0;34m\u001b[0m\u001b[0m\n",
            "\u001b[0;32m/usr/local/lib/python3.7/dist-packages/pandas/core/internals/construction.py\u001b[0m in \u001b[0;36m_extract_index\u001b[0;34m(data)\u001b[0m\n\u001b[1;32m    623\u001b[0m \u001b[0;34m\u001b[0m\u001b[0m\n\u001b[1;32m    624\u001b[0m         \u001b[0;32mif\u001b[0m \u001b[0;32mnot\u001b[0m \u001b[0mindexes\u001b[0m \u001b[0;32mand\u001b[0m \u001b[0;32mnot\u001b[0m \u001b[0mraw_lengths\u001b[0m\u001b[0;34m:\u001b[0m\u001b[0;34m\u001b[0m\u001b[0;34m\u001b[0m\u001b[0m\n\u001b[0;32m--> 625\u001b[0;31m             \u001b[0;32mraise\u001b[0m \u001b[0mValueError\u001b[0m\u001b[0;34m(\u001b[0m\u001b[0;34m\"If using all scalar values, you must pass an index\"\u001b[0m\u001b[0;34m)\u001b[0m\u001b[0;34m\u001b[0m\u001b[0;34m\u001b[0m\u001b[0m\n\u001b[0m\u001b[1;32m    626\u001b[0m \u001b[0;34m\u001b[0m\u001b[0m\n\u001b[1;32m    627\u001b[0m         \u001b[0;32mif\u001b[0m \u001b[0mhave_series\u001b[0m\u001b[0;34m:\u001b[0m\u001b[0;34m\u001b[0m\u001b[0;34m\u001b[0m\u001b[0m\n",
            "\u001b[0;31mValueError\u001b[0m: If using all scalar values, you must pass an index"
          ]
        }
      ]
    },
    {
      "cell_type": "code",
      "source": [
        "import pandas as pd\n",
        "df = pd.read_json (r'http://ergast.com/api/f1/2018/drivers.json')\n",
        "df.to_csv (r'myName.csv', index = None)\n",
        "with open(\"/content/myName.csv\") as smallfile:\n",
        "  file= smallfile.read()\n",
        "print(file)\n",
        "print(\"before\",df)"
      ],
      "metadata": {
        "colab": {
          "base_uri": "https://localhost:8080/"
        },
        "id": "0rk4PZe1jF0-",
        "outputId": "78450c0f-d620-4762-8811-d8e51c770f13"
      },
      "execution_count": 110,
      "outputs": [
        {
          "output_type": "stream",
          "name": "stdout",
          "text": [
            "MRData\n",
            "\"{'season': '2018', 'Drivers': [{'driverId': 'alonso', 'permanentNumber': '14', 'code': 'ALO', 'url': 'http://en.wikipedia.org/wiki/Fernando_Alonso', 'givenName': 'Fernando', 'familyName': 'Alonso', 'dateOfBirth': '1981-07-29', 'nationality': 'Spanish'}, {'driverId': 'bottas', 'permanentNumber': '77', 'code': 'BOT', 'url': 'http://en.wikipedia.org/wiki/Valtteri_Bottas', 'givenName': 'Valtteri', 'familyName': 'Bottas', 'dateOfBirth': '1989-08-28', 'nationality': 'Finnish'}, {'driverId': 'ericsson', 'permanentNumber': '9', 'code': 'ERI', 'url': 'http://en.wikipedia.org/wiki/Marcus_Ericsson', 'givenName': 'Marcus', 'familyName': 'Ericsson', 'dateOfBirth': '1990-09-02', 'nationality': 'Swedish'}, {'driverId': 'gasly', 'permanentNumber': '10', 'code': 'GAS', 'url': 'http://en.wikipedia.org/wiki/Pierre_Gasly', 'givenName': 'Pierre', 'familyName': 'Gasly', 'dateOfBirth': '1996-02-07', 'nationality': 'French'}, {'driverId': 'grosjean', 'permanentNumber': '8', 'code': 'GRO', 'url': 'http://en.wikipedia.org/wiki/Romain_Grosjean', 'givenName': 'Romain', 'familyName': 'Grosjean', 'dateOfBirth': '1986-04-17', 'nationality': 'French'}, {'driverId': 'hamilton', 'permanentNumber': '44', 'code': 'HAM', 'url': 'http://en.wikipedia.org/wiki/Lewis_Hamilton', 'givenName': 'Lewis', 'familyName': 'Hamilton', 'dateOfBirth': '1985-01-07', 'nationality': 'British'}, {'driverId': 'brendon_hartley', 'permanentNumber': '28', 'code': 'HAR', 'url': 'http://en.wikipedia.org/wiki/Brendon_Hartley', 'givenName': 'Brendon', 'familyName': 'Hartley', 'dateOfBirth': '1989-11-10', 'nationality': 'New Zealander'}, {'driverId': 'hulkenberg', 'permanentNumber': '27', 'code': 'HUL', 'url': 'http://en.wikipedia.org/wiki/Nico_H%C3%BClkenberg', 'givenName': 'Nico', 'familyName': 'Hülkenberg', 'dateOfBirth': '1987-08-19', 'nationality': 'German'}, {'driverId': 'leclerc', 'permanentNumber': '16', 'code': 'LEC', 'url': 'http://en.wikipedia.org/wiki/Charles_Leclerc', 'givenName': 'Charles', 'familyName': 'Leclerc', 'dateOfBirth': '1997-10-16', 'nationality': 'Monegasque'}, {'driverId': 'kevin_magnussen', 'permanentNumber': '20', 'code': 'MAG', 'url': 'http://en.wikipedia.org/wiki/Kevin_Magnussen', 'givenName': 'Kevin', 'familyName': 'Magnussen', 'dateOfBirth': '1992-10-05', 'nationality': 'Danish'}, {'driverId': 'ocon', 'permanentNumber': '31', 'code': 'OCO', 'url': 'http://en.wikipedia.org/wiki/Esteban_Ocon', 'givenName': 'Esteban', 'familyName': 'Ocon', 'dateOfBirth': '1996-09-17', 'nationality': 'French'}, {'driverId': 'perez', 'permanentNumber': '11', 'code': 'PER', 'url': 'http://en.wikipedia.org/wiki/Sergio_P%C3%A9rez', 'givenName': 'Sergio', 'familyName': 'Pérez', 'dateOfBirth': '1990-01-26', 'nationality': 'Mexican'}, {'driverId': 'raikkonen', 'permanentNumber': '7', 'code': 'RAI', 'url': 'http://en.wikipedia.org/wiki/Kimi_R%C3%A4ikk%C3%B6nen', 'givenName': 'Kimi', 'familyName': 'Räikkönen', 'dateOfBirth': '1979-10-17', 'nationality': 'Finnish'}, {'driverId': 'ricciardo', 'permanentNumber': '3', 'code': 'RIC', 'url': 'http://en.wikipedia.org/wiki/Daniel_Ricciardo', 'givenName': 'Daniel', 'familyName': 'Ricciardo', 'dateOfBirth': '1989-07-01', 'nationality': 'Australian'}, {'driverId': 'sainz', 'permanentNumber': '55', 'code': 'SAI', 'url': 'http://en.wikipedia.org/wiki/Carlos_Sainz_Jr.', 'givenName': 'Carlos', 'familyName': 'Sainz', 'dateOfBirth': '1994-09-01', 'nationality': 'Spanish'}, {'driverId': 'sirotkin', 'permanentNumber': '35', 'code': 'SIR', 'url': 'http://en.wikipedia.org/wiki/Sergey_Sirotkin_(racing_driver)', 'givenName': 'Sergey', 'familyName': 'Sirotkin', 'dateOfBirth': '1995-08-27', 'nationality': 'Russian'}, {'driverId': 'stroll', 'permanentNumber': '18', 'code': 'STR', 'url': 'http://en.wikipedia.org/wiki/Lance_Stroll', 'givenName': 'Lance', 'familyName': 'Stroll', 'dateOfBirth': '1998-10-29', 'nationality': 'Canadian'}, {'driverId': 'vandoorne', 'permanentNumber': '2', 'code': 'VAN', 'url': 'http://en.wikipedia.org/wiki/Stoffel_Vandoorne', 'givenName': 'Stoffel', 'familyName': 'Vandoorne', 'dateOfBirth': '1992-03-26', 'nationality': 'Belgian'}, {'driverId': 'max_verstappen', 'permanentNumber': '33', 'code': 'VER', 'url': 'http://en.wikipedia.org/wiki/Max_Verstappen', 'givenName': 'Max', 'familyName': 'Verstappen', 'dateOfBirth': '1997-09-30', 'nationality': 'Dutch'}, {'driverId': 'vettel', 'permanentNumber': '5', 'code': 'VET', 'url': 'http://en.wikipedia.org/wiki/Sebastian_Vettel', 'givenName': 'Sebastian', 'familyName': 'Vettel', 'dateOfBirth': '1987-07-03', 'nationality': 'German'}]}\"\n",
            "30\n",
            "0\n",
            "f1\n",
            "20\n",
            "http://ergast.com/api/f1/2018/drivers.json\n",
            "http://ergast.com/mrd/1.5\n",
            "\n",
            "before                                                         MRData\n",
            "DriverTable  {'season': '2018', 'Drivers': [{'driverId': 'a...\n",
            "limit                                                       30\n",
            "offset                                                       0\n",
            "series                                                      f1\n",
            "total                                                       20\n",
            "url                 http://ergast.com/api/f1/2018/drivers.json\n",
            "xmlns                                http://ergast.com/mrd/1.5\n"
          ]
        }
      ]
    },
    {
      "cell_type": "code",
      "source": [
        "import urllib\n",
        "import json\n",
        "import pandas as pd\n",
        "import requests\n",
        "import csv\n",
        "def get_drivers_data():\n",
        "    response = requests.get('http://ergast.com/api/f1/2018/drivers.json')\n",
        "    data = response.json()\n",
        "    final_drivers = data['MRData']['DriverTable']['Drivers']\n",
        "    return final_drivers\n",
        "final_dict = []\n",
        "for data in get_drivers_data():\n",
        "    \n",
        "        final_dict.append({\n",
        "            'driver_name': data['driverId'],\n",
        "            'nationality': data['nationality'],\n",
        "            'code': data['code']\n",
        "        })\n",
        "def jsonExtracter(file_path):\n",
        "    products_set = final_dict[:3]\n",
        "    field_names = ['driver_name', 'nationality', 'code']\n",
        "    with open(f'{file_path}', 'w') as csvfile:\n",
        "        writer = csv.DictWriter(csvfile, fieldnames=field_names)\n",
        "        writer.writeheader()\n",
        "        writer.writerows(products_set)\n",
        "        return products_set\n",
        "jsonExtracter('/content/race.csv')"
      ],
      "metadata": {
        "colab": {
          "base_uri": "https://localhost:8080/"
        },
        "id": "bSuSrOLO1taZ",
        "outputId": "217a6edf-e1a3-4fb6-b641-0470cf966874"
      },
      "execution_count": 122,
      "outputs": [
        {
          "output_type": "execute_result",
          "data": {
            "text/plain": [
              "[{'driver_name': 'alonso', 'nationality': 'Spanish', 'code': 'ALO'},\n",
              " {'driver_name': 'bottas', 'nationality': 'Finnish', 'code': 'BOT'},\n",
              " {'driver_name': 'ericsson', 'nationality': 'Swedish', 'code': 'ERI'}]"
            ]
          },
          "metadata": {},
          "execution_count": 122
        }
      ]
    },
    {
      "cell_type": "code",
      "source": [
        "import pandas as pd\n",
        "df = pd.read_json (r'http://ergast.com/api/f1/2018/drivers/hamilton/results.json')\n",
        "df.to_csv('mydata.csv')\n",
        "new_data=pd.read_csv('mydata.csv')\n",
        "print(new_data)"
      ],
      "metadata": {
        "colab": {
          "base_uri": "https://localhost:8080/"
        },
        "id": "F-Ef_OjpnPhc",
        "outputId": "7378fd3c-7f94-4b64-b0d8-de4548f04ed5"
      },
      "execution_count": 65,
      "outputs": [
        {
          "output_type": "stream",
          "name": "stdout",
          "text": [
            "    Unnamed: 0                                             MRData\n",
            "0  DriverTable  {'season': '2018', 'Drivers': [{'driverId': 'a...\n",
            "1        limit                                                 30\n",
            "2       offset                                                  0\n",
            "3       series                                                 f1\n",
            "4        total                                                 20\n",
            "5          url         http://ergast.com/api/f1/2018/drivers.json\n",
            "6        xmlns                          http://ergast.com/mrd/1.5\n",
            "                                                        MRData\n",
            "DriverTable  {'season': '2018', 'Drivers': [{'driverId': 'a...\n",
            "limit                                                       30\n",
            "offset                                                       0\n",
            "series                                                      f1\n",
            "total                                                       20\n",
            "url                 http://ergast.com/api/f1/2018/drivers.json\n",
            "xmlns                                http://ergast.com/mrd/1.5\n"
          ]
        }
      ]
    },
    {
      "cell_type": "code",
      "source": [
        "from google.colab import drive\n",
        "drive.mount('/content/drive')\n"
      ],
      "metadata": {
        "colab": {
          "base_uri": "https://localhost:8080/"
        },
        "id": "W-xQ3LLCkR1b",
        "outputId": "7bcb9824-ea61-4c4b-c479-7ddac0f7f552"
      },
      "execution_count": null,
      "outputs": [
        {
          "output_type": "stream",
          "name": "stdout",
          "text": [
            "Mounted at /content/drive\n"
          ]
        }
      ]
    }
  ]
}