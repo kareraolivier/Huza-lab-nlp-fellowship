{
  "nbformat": 4,
  "nbformat_minor": 0,
  "metadata": {
    "colab": {
      "provenance": [],
      "include_colab_link": true
    },
    "kernelspec": {
      "name": "python3",
      "display_name": "Python 3"
    },
    "language_info": {
      "name": "python"
    }
  },
  "cells": [
    {
      "cell_type": "markdown",
      "metadata": {
        "id": "view-in-github",
        "colab_type": "text"
      },
      "source": [
        "<a href=\"https://colab.research.google.com/github/kareraolivier/Huza-lab-nlp-fellowship/blob/day2classassgnmet/Assignment_1.ipynb\" target=\"_parent\"><img src=\"https://colab.research.google.com/assets/colab-badge.svg\" alt=\"Open In Colab\"/></a>"
      ]
    },
    {
      "cell_type": "code",
      "execution_count": null,
      "metadata": {
        "id": "i0a2oPFde3l-"
      },
      "outputs": [],
      "source": [
        "import requests\n",
        "import json\n",
        "import pandas as pd\n",
        "import numpy as np \n",
        "response = requests.get(\"http://ergast.com/api/f1/2018/drivers/hamilton/results.json\")\n",
        "race = json.loads(response.text)\n",
        "\n",
        "#print(len(race))\n",
        "#print(response.json())"
      ]
    },
    {
      "cell_type": "code",
      "source": [
        "type(race)"
      ],
      "metadata": {
        "colab": {
          "base_uri": "https://localhost:8080/"
        },
        "id": "bh98qQc3uiXd",
        "outputId": "284412b7-3e16-41d8-84ea-5a3420558599"
      },
      "execution_count": null,
      "outputs": [
        {
          "output_type": "execute_result",
          "data": {
            "text/plain": [
              "dict"
            ]
          },
          "metadata": {},
          "execution_count": 2
        }
      ]
    },
    {
      "cell_type": "code",
      "source": [
        "for key, val in race.items():\n",
        "    for i in val:\n",
        "        print(\"{} : {}\".format(key, i))\n",
        "    print(\"--------------------\")"
      ],
      "metadata": {
        "colab": {
          "base_uri": "https://localhost:8080/"
        },
        "id": "sAZHbChmtWQ4",
        "outputId": "ce952bc4-4f5d-4580-a336-2dc81a3a7b82"
      },
      "execution_count": null,
      "outputs": [
        {
          "output_type": "stream",
          "name": "stdout",
          "text": [
            "MRData : xmlns\n",
            "MRData : series\n",
            "MRData : url\n",
            "MRData : limit\n",
            "MRData : offset\n",
            "MRData : total\n",
            "MRData : RaceTable\n",
            "--------------------\n"
          ]
        }
      ]
    },
    {
      "cell_type": "code",
      "source": [
        "type(race)"
      ],
      "metadata": {
        "colab": {
          "base_uri": "https://localhost:8080/"
        },
        "id": "oXYGcwTv-pUu",
        "outputId": "294292e7-d01e-44b9-c50f-df2ffadcc532"
      },
      "execution_count": null,
      "outputs": [
        {
          "output_type": "execute_result",
          "data": {
            "text/plain": [
              "dict"
            ]
          },
          "metadata": {},
          "execution_count": 90
        }
      ]
    },
    {
      "cell_type": "code",
      "source": [
        "for id, info in race.items():\n",
        "    print(\"\\nrace key:\", id)\n",
        "    for key in info:\n",
        "  \n",
        "        print(key + ':', info[key])"
      ],
      "metadata": {
        "colab": {
          "base_uri": "https://localhost:8080/"
        },
        "id": "9xlSth6jxvpe",
        "outputId": "f5ad4525-1673-42e8-e12a-a9616da903b4"
      },
      "execution_count": null,
      "outputs": [
        {
          "output_type": "stream",
          "name": "stdout",
          "text": [
            "\n",
            "race key: MRData\n",
            "xmlns: http://ergast.com/mrd/1.5\n",
            "series: f1\n",
            "url: http://ergast.com/api/f1/2018/drivers/hamilton/results.json\n",
            "limit: 30\n",
            "offset: 0\n",
            "total: 21\n",
            "RaceTable: {'season': '2018', 'driverId': 'hamilton', 'Races': [{'season': '2018', 'round': '1', 'url': 'http://en.wikipedia.org/wiki/2018_Australian_Grand_Prix', 'raceName': 'Australian Grand Prix', 'Circuit': {'circuitId': 'albert_park', 'url': 'http://en.wikipedia.org/wiki/Melbourne_Grand_Prix_Circuit', 'circuitName': 'Albert Park Grand Prix Circuit', 'Location': {'lat': '-37.8497', 'long': '144.968', 'locality': 'Melbourne', 'country': 'Australia'}}, 'date': '2018-03-25', 'time': '05:10:00Z', 'Results': [{'number': '44', 'position': '2', 'positionText': '2', 'points': '18', 'Driver': {'driverId': 'hamilton', 'permanentNumber': '44', 'code': 'HAM', 'url': 'http://en.wikipedia.org/wiki/Lewis_Hamilton', 'givenName': 'Lewis', 'familyName': 'Hamilton', 'dateOfBirth': '1985-01-07', 'nationality': 'British'}, 'Constructor': {'constructorId': 'mercedes', 'url': 'http://en.wikipedia.org/wiki/Mercedes-Benz_in_Formula_One', 'name': 'Mercedes', 'nationality': 'German'}, 'grid': '1', 'laps': '58', 'status': 'Finished', 'Time': {'millis': '5378319', 'time': '+5.036'}, 'FastestLap': {'rank': '3', 'lap': '50', 'Time': {'time': '1:26.444'}, 'AverageSpeed': {'units': 'kph', 'speed': '220.845'}}}]}, {'season': '2018', 'round': '2', 'url': 'http://en.wikipedia.org/wiki/2018_Bahrain_Grand_Prix', 'raceName': 'Bahrain Grand Prix', 'Circuit': {'circuitId': 'bahrain', 'url': 'http://en.wikipedia.org/wiki/Bahrain_International_Circuit', 'circuitName': 'Bahrain International Circuit', 'Location': {'lat': '26.0325', 'long': '50.5106', 'locality': 'Sakhir', 'country': 'Bahrain'}}, 'date': '2018-04-08', 'time': '15:10:00Z', 'Results': [{'number': '44', 'position': '3', 'positionText': '3', 'points': '15', 'Driver': {'driverId': 'hamilton', 'permanentNumber': '44', 'code': 'HAM', 'url': 'http://en.wikipedia.org/wiki/Lewis_Hamilton', 'givenName': 'Lewis', 'familyName': 'Hamilton', 'dateOfBirth': '1985-01-07', 'nationality': 'British'}, 'Constructor': {'constructorId': 'mercedes', 'url': 'http://en.wikipedia.org/wiki/Mercedes-Benz_in_Formula_One', 'name': 'Mercedes', 'nationality': 'German'}, 'grid': '9', 'laps': '57', 'status': 'Finished', 'Time': {'millis': '5528452', 'time': '+6.512'}, 'FastestLap': {'rank': '2', 'lap': '51', 'Time': {'time': '1:33.953'}, 'AverageSpeed': {'units': 'kph', 'speed': '207.371'}}}]}, {'season': '2018', 'round': '3', 'url': 'http://en.wikipedia.org/wiki/2018_Chinese_Grand_Prix', 'raceName': 'Chinese Grand Prix', 'Circuit': {'circuitId': 'shanghai', 'url': 'http://en.wikipedia.org/wiki/Shanghai_International_Circuit', 'circuitName': 'Shanghai International Circuit', 'Location': {'lat': '31.3389', 'long': '121.22', 'locality': 'Shanghai', 'country': 'China'}}, 'date': '2018-04-15', 'time': '06:10:00Z', 'Results': [{'number': '44', 'position': '4', 'positionText': '4', 'points': '12', 'Driver': {'driverId': 'hamilton', 'permanentNumber': '44', 'code': 'HAM', 'url': 'http://en.wikipedia.org/wiki/Lewis_Hamilton', 'givenName': 'Lewis', 'familyName': 'Hamilton', 'dateOfBirth': '1985-01-07', 'nationality': 'British'}, 'Constructor': {'constructorId': 'mercedes', 'url': 'http://en.wikipedia.org/wiki/Mercedes-Benz_in_Formula_One', 'name': 'Mercedes', 'nationality': 'German'}, 'grid': '4', 'laps': '56', 'status': 'Finished', 'Time': {'millis': '5753365', 'time': '+16.985'}, 'FastestLap': {'rank': '4', 'lap': '20', 'Time': {'time': '1:36.878'}, 'AverageSpeed': {'units': 'kph', 'speed': '202.559'}}}]}, {'season': '2018', 'round': '4', 'url': 'http://en.wikipedia.org/wiki/2018_Azerbaijan_Grand_Prix', 'raceName': 'Azerbaijan Grand Prix', 'Circuit': {'circuitId': 'baku', 'url': 'http://en.wikipedia.org/wiki/Baku_City_Circuit', 'circuitName': 'Baku City Circuit', 'Location': {'lat': '40.3725', 'long': '49.8533', 'locality': 'Baku', 'country': 'Azerbaijan'}}, 'date': '2018-04-29', 'time': '12:10:00Z', 'Results': [{'number': '44', 'position': '1', 'positionText': '1', 'points': '25', 'Driver': {'driverId': 'hamilton', 'permanentNumber': '44', 'code': 'HAM', 'url': 'http://en.wikipedia.org/wiki/Lewis_Hamilton', 'givenName': 'Lewis', 'familyName': 'Hamilton', 'dateOfBirth': '1985-01-07', 'nationality': 'British'}, 'Constructor': {'constructorId': 'mercedes', 'url': 'http://en.wikipedia.org/wiki/Mercedes-Benz_in_Formula_One', 'name': 'Mercedes', 'nationality': 'German'}, 'grid': '2', 'laps': '51', 'status': 'Finished', 'Time': {'millis': '6224291', 'time': '1:43:44.291'}, 'FastestLap': {'rank': '2', 'lap': '35', 'Time': {'time': '1:45.412'}, 'AverageSpeed': {'units': 'kph', 'speed': '205.012'}}}]}, {'season': '2018', 'round': '5', 'url': 'http://en.wikipedia.org/wiki/2018_Spanish_Grand_Prix', 'raceName': 'Spanish Grand Prix', 'Circuit': {'circuitId': 'catalunya', 'url': 'http://en.wikipedia.org/wiki/Circuit_de_Barcelona-Catalunya', 'circuitName': 'Circuit de Barcelona-Catalunya', 'Location': {'lat': '41.57', 'long': '2.26111', 'locality': 'Montmeló', 'country': 'Spain'}}, 'date': '2018-05-13', 'time': '13:10:00Z', 'Results': [{'number': '44', 'position': '1', 'positionText': '1', 'points': '25', 'Driver': {'driverId': 'hamilton', 'permanentNumber': '44', 'code': 'HAM', 'url': 'http://en.wikipedia.org/wiki/Lewis_Hamilton', 'givenName': 'Lewis', 'familyName': 'Hamilton', 'dateOfBirth': '1985-01-07', 'nationality': 'British'}, 'Constructor': {'constructorId': 'mercedes', 'url': 'http://en.wikipedia.org/wiki/Mercedes-Benz_in_Formula_One', 'name': 'Mercedes', 'nationality': 'German'}, 'grid': '1', 'laps': '66', 'status': 'Finished', 'Time': {'millis': '5729972', 'time': '1:35:29.972'}, 'FastestLap': {'rank': '3', 'lap': '64', 'Time': {'time': '1:19.133'}, 'AverageSpeed': {'units': 'kph', 'speed': '211.770'}}}]}, {'season': '2018', 'round': '6', 'url': 'http://en.wikipedia.org/wiki/2018_Monaco_Grand_Prix', 'raceName': 'Monaco Grand Prix', 'Circuit': {'circuitId': 'monaco', 'url': 'http://en.wikipedia.org/wiki/Circuit_de_Monaco', 'circuitName': 'Circuit de Monaco', 'Location': {'lat': '43.7347', 'long': '7.42056', 'locality': 'Monte-Carlo', 'country': 'Monaco'}}, 'date': '2018-05-27', 'time': '13:10:00Z', 'Results': [{'number': '44', 'position': '3', 'positionText': '3', 'points': '15', 'Driver': {'driverId': 'hamilton', 'permanentNumber': '44', 'code': 'HAM', 'url': 'http://en.wikipedia.org/wiki/Lewis_Hamilton', 'givenName': 'Lewis', 'familyName': 'Hamilton', 'dateOfBirth': '1985-01-07', 'nationality': 'British'}, 'Constructor': {'constructorId': 'mercedes', 'url': 'http://en.wikipedia.org/wiki/Mercedes-Benz_in_Formula_One', 'name': 'Mercedes', 'nationality': 'German'}, 'grid': '3', 'laps': '78', 'status': 'Finished', 'Time': {'millis': '6191820', 'time': '+17.013'}, 'FastestLap': {'rank': '8', 'lap': '15', 'Time': {'time': '1:16.270'}, 'AverageSpeed': {'units': 'kph', 'speed': '157.508'}}}]}, {'season': '2018', 'round': '7', 'url': 'http://en.wikipedia.org/wiki/2018_Canadian_Grand_Prix', 'raceName': 'Canadian Grand Prix', 'Circuit': {'circuitId': 'villeneuve', 'url': 'http://en.wikipedia.org/wiki/Circuit_Gilles_Villeneuve', 'circuitName': 'Circuit Gilles Villeneuve', 'Location': {'lat': '45.5', 'long': '-73.5228', 'locality': 'Montreal', 'country': 'Canada'}}, 'date': '2018-06-10', 'time': '18:10:00Z', 'Results': [{'number': '44', 'position': '5', 'positionText': '5', 'points': '10', 'Driver': {'driverId': 'hamilton', 'permanentNumber': '44', 'code': 'HAM', 'url': 'http://en.wikipedia.org/wiki/Lewis_Hamilton', 'givenName': 'Lewis', 'familyName': 'Hamilton', 'dateOfBirth': '1985-01-07', 'nationality': 'British'}, 'Constructor': {'constructorId': 'mercedes', 'url': 'http://en.wikipedia.org/wiki/Mercedes-Benz_in_Formula_One', 'name': 'Mercedes', 'nationality': 'German'}, 'grid': '4', 'laps': '68', 'status': 'Finished', 'Time': {'millis': '5332936', 'time': '+21.559'}, 'FastestLap': {'rank': '6', 'lap': '66', 'Time': {'time': '1:14.183'}, 'AverageSpeed': {'units': 'kph', 'speed': '211.633'}}}]}, {'season': '2018', 'round': '8', 'url': 'http://en.wikipedia.org/wiki/2018_French_Grand_Prix', 'raceName': 'French Grand Prix', 'Circuit': {'circuitId': 'ricard', 'url': 'http://en.wikipedia.org/wiki/Paul_Ricard_Circuit', 'circuitName': 'Circuit Paul Ricard', 'Location': {'lat': '43.2506', 'long': '5.79167', 'locality': 'Le Castellet', 'country': 'France'}}, 'date': '2018-06-24', 'time': '14:10:00Z', 'Results': [{'number': '44', 'position': '1', 'positionText': '1', 'points': '25', 'Driver': {'driverId': 'hamilton', 'permanentNumber': '44', 'code': 'HAM', 'url': 'http://en.wikipedia.org/wiki/Lewis_Hamilton', 'givenName': 'Lewis', 'familyName': 'Hamilton', 'dateOfBirth': '1985-01-07', 'nationality': 'British'}, 'Constructor': {'constructorId': 'mercedes', 'url': 'http://en.wikipedia.org/wiki/Mercedes-Benz_in_Formula_One', 'name': 'Mercedes', 'nationality': 'German'}, 'grid': '1', 'laps': '53', 'status': 'Finished', 'Time': {'millis': '5411385', 'time': '1:30:11.385'}, 'FastestLap': {'rank': '5', 'lap': '49', 'Time': {'time': '1:34.509'}, 'AverageSpeed': {'units': 'kph', 'speed': '222.531'}}}]}, {'season': '2018', 'round': '9', 'url': 'http://en.wikipedia.org/wiki/2018_Austrian_Grand_Prix', 'raceName': 'Austrian Grand Prix', 'Circuit': {'circuitId': 'red_bull_ring', 'url': 'http://en.wikipedia.org/wiki/Red_Bull_Ring', 'circuitName': 'Red Bull Ring', 'Location': {'lat': '47.2197', 'long': '14.7647', 'locality': 'Spielberg', 'country': 'Austria'}}, 'date': '2018-07-01', 'time': '13:10:00Z', 'Results': [{'number': '44', 'position': '16', 'positionText': 'R', 'points': '0', 'Driver': {'driverId': 'hamilton', 'permanentNumber': '44', 'code': 'HAM', 'url': 'http://en.wikipedia.org/wiki/Lewis_Hamilton', 'givenName': 'Lewis', 'familyName': 'Hamilton', 'dateOfBirth': '1985-01-07', 'nationality': 'British'}, 'Constructor': {'constructorId': 'mercedes', 'url': 'http://en.wikipedia.org/wiki/Mercedes-Benz_in_Formula_One', 'name': 'Mercedes', 'nationality': 'German'}, 'grid': '2', 'laps': '62', 'status': 'Fuel pressure', 'FastestLap': {'rank': '3', 'lap': '58', 'Time': {'time': '1:07.241'}, 'AverageSpeed': {'units': 'kph', 'speed': '231.180'}}}]}, {'season': '2018', 'round': '10', 'url': 'http://en.wikipedia.org/wiki/2018_British_Grand_Prix', 'raceName': 'British Grand Prix', 'Circuit': {'circuitId': 'silverstone', 'url': 'http://en.wikipedia.org/wiki/Silverstone_Circuit', 'circuitName': 'Silverstone Circuit', 'Location': {'lat': '52.0786', 'long': '-1.01694', 'locality': 'Silverstone', 'country': 'UK'}}, 'date': '2018-07-08', 'time': '13:10:00Z', 'Results': [{'number': '44', 'position': '2', 'positionText': '2', 'points': '18', 'Driver': {'driverId': 'hamilton', 'permanentNumber': '44', 'code': 'HAM', 'url': 'http://en.wikipedia.org/wiki/Lewis_Hamilton', 'givenName': 'Lewis', 'familyName': 'Hamilton', 'dateOfBirth': '1985-01-07', 'nationality': 'British'}, 'Constructor': {'constructorId': 'mercedes', 'url': 'http://en.wikipedia.org/wiki/Mercedes-Benz_in_Formula_One', 'name': 'Mercedes', 'nationality': 'German'}, 'grid': '1', 'laps': '52', 'status': 'Finished', 'Time': {'millis': '5252048', 'time': '+2.264'}, 'FastestLap': {'rank': '3', 'lap': '52', 'Time': {'time': '1:31.245'}, 'AverageSpeed': {'units': 'kph', 'speed': '232.424'}}}]}, {'season': '2018', 'round': '11', 'url': 'http://en.wikipedia.org/wiki/2018_German_Grand_Prix', 'raceName': 'German Grand Prix', 'Circuit': {'circuitId': 'hockenheimring', 'url': 'http://en.wikipedia.org/wiki/Hockenheimring', 'circuitName': 'Hockenheimring', 'Location': {'lat': '49.3278', 'long': '8.56583', 'locality': 'Hockenheim', 'country': 'Germany'}}, 'date': '2018-07-22', 'time': '13:10:00Z', 'Results': [{'number': '44', 'position': '1', 'positionText': '1', 'points': '25', 'Driver': {'driverId': 'hamilton', 'permanentNumber': '44', 'code': 'HAM', 'url': 'http://en.wikipedia.org/wiki/Lewis_Hamilton', 'givenName': 'Lewis', 'familyName': 'Hamilton', 'dateOfBirth': '1985-01-07', 'nationality': 'British'}, 'Constructor': {'constructorId': 'mercedes', 'url': 'http://en.wikipedia.org/wiki/Mercedes-Benz_in_Formula_One', 'name': 'Mercedes', 'nationality': 'German'}, 'grid': '14', 'laps': '67', 'status': 'Finished', 'Time': {'millis': '5549845', 'time': '1:32:29.845'}, 'FastestLap': {'rank': '1', 'lap': '66', 'Time': {'time': '1:15.545'}, 'AverageSpeed': {'units': 'kph', 'speed': '217.968'}}}]}, {'season': '2018', 'round': '12', 'url': 'http://en.wikipedia.org/wiki/2018_Hungarian_Grand_Prix', 'raceName': 'Hungarian Grand Prix', 'Circuit': {'circuitId': 'hungaroring', 'url': 'http://en.wikipedia.org/wiki/Hungaroring', 'circuitName': 'Hungaroring', 'Location': {'lat': '47.5789', 'long': '19.2486', 'locality': 'Budapest', 'country': 'Hungary'}}, 'date': '2018-07-29', 'time': '13:10:00Z', 'Results': [{'number': '44', 'position': '1', 'positionText': '1', 'points': '25', 'Driver': {'driverId': 'hamilton', 'permanentNumber': '44', 'code': 'HAM', 'url': 'http://en.wikipedia.org/wiki/Lewis_Hamilton', 'givenName': 'Lewis', 'familyName': 'Hamilton', 'dateOfBirth': '1985-01-07', 'nationality': 'British'}, 'Constructor': {'constructorId': 'mercedes', 'url': 'http://en.wikipedia.org/wiki/Mercedes-Benz_in_Formula_One', 'name': 'Mercedes', 'nationality': 'German'}, 'grid': '1', 'laps': '70', 'status': 'Finished', 'Time': {'millis': '5836427', 'time': '1:37:16.427'}, 'FastestLap': {'rank': '4', 'lap': '63', 'Time': {'time': '1:21.107'}, 'AverageSpeed': {'units': 'kph', 'speed': '194.454'}}}]}, {'season': '2018', 'round': '13', 'url': 'http://en.wikipedia.org/wiki/2018_Belgian_Grand_Prix', 'raceName': 'Belgian Grand Prix', 'Circuit': {'circuitId': 'spa', 'url': 'http://en.wikipedia.org/wiki/Circuit_de_Spa-Francorchamps', 'circuitName': 'Circuit de Spa-Francorchamps', 'Location': {'lat': '50.4372', 'long': '5.97139', 'locality': 'Spa', 'country': 'Belgium'}}, 'date': '2018-08-26', 'time': '13:10:00Z', 'Results': [{'number': '44', 'position': '2', 'positionText': '2', 'points': '18', 'Driver': {'driverId': 'hamilton', 'permanentNumber': '44', 'code': 'HAM', 'url': 'http://en.wikipedia.org/wiki/Lewis_Hamilton', 'givenName': 'Lewis', 'familyName': 'Hamilton', 'dateOfBirth': '1985-01-07', 'nationality': 'British'}, 'Constructor': {'constructorId': 'mercedes', 'url': 'http://en.wikipedia.org/wiki/Mercedes-Benz_in_Formula_One', 'name': 'Mercedes', 'nationality': 'German'}, 'grid': '1', 'laps': '44', 'status': 'Finished', 'Time': {'millis': '5025537', 'time': '+11.061'}, 'FastestLap': {'rank': '3', 'lap': '23', 'Time': {'time': '1:46.721'}, 'AverageSpeed': {'units': 'kph', 'speed': '236.264'}}}]}, {'season': '2018', 'round': '14', 'url': 'http://en.wikipedia.org/wiki/2018_Italian_Grand_Prix', 'raceName': 'Italian Grand Prix', 'Circuit': {'circuitId': 'monza', 'url': 'http://en.wikipedia.org/wiki/Autodromo_Nazionale_Monza', 'circuitName': 'Autodromo Nazionale di Monza', 'Location': {'lat': '45.6156', 'long': '9.28111', 'locality': 'Monza', 'country': 'Italy'}}, 'date': '2018-09-02', 'time': '13:10:00Z', 'Results': [{'number': '44', 'position': '1', 'positionText': '1', 'points': '25', 'Driver': {'driverId': 'hamilton', 'permanentNumber': '44', 'code': 'HAM', 'url': 'http://en.wikipedia.org/wiki/Lewis_Hamilton', 'givenName': 'Lewis', 'familyName': 'Hamilton', 'dateOfBirth': '1985-01-07', 'nationality': 'British'}, 'Constructor': {'constructorId': 'mercedes', 'url': 'http://en.wikipedia.org/wiki/Mercedes-Benz_in_Formula_One', 'name': 'Mercedes', 'nationality': 'German'}, 'grid': '3', 'laps': '53', 'status': 'Finished', 'Time': {'millis': '4614484', 'time': '1:16:54.484'}, 'FastestLap': {'rank': '1', 'lap': '30', 'Time': {'time': '1:22.497'}, 'AverageSpeed': {'units': 'kph', 'speed': '252.794'}}}]}, {'season': '2018', 'round': '15', 'url': 'http://en.wikipedia.org/wiki/2018_Singapore_Grand_Prix', 'raceName': 'Singapore Grand Prix', 'Circuit': {'circuitId': 'marina_bay', 'url': 'http://en.wikipedia.org/wiki/Marina_Bay_Street_Circuit', 'circuitName': 'Marina Bay Street Circuit', 'Location': {'lat': '1.2914', 'long': '103.864', 'locality': 'Marina Bay', 'country': 'Singapore'}}, 'date': '2018-09-16', 'time': '12:10:00Z', 'Results': [{'number': '44', 'position': '1', 'positionText': '1', 'points': '25', 'Driver': {'driverId': 'hamilton', 'permanentNumber': '44', 'code': 'HAM', 'url': 'http://en.wikipedia.org/wiki/Lewis_Hamilton', 'givenName': 'Lewis', 'familyName': 'Hamilton', 'dateOfBirth': '1985-01-07', 'nationality': 'British'}, 'Constructor': {'constructorId': 'mercedes', 'url': 'http://en.wikipedia.org/wiki/Mercedes-Benz_in_Formula_One', 'name': 'Mercedes', 'nationality': 'German'}, 'grid': '1', 'laps': '61', 'status': 'Finished', 'Time': {'millis': '6671611', 'time': '1:51:11.611'}, 'FastestLap': {'rank': '2', 'lap': '56', 'Time': {'time': '1:42.913'}, 'AverageSpeed': {'units': 'kph', 'speed': '177.108'}}}]}, {'season': '2018', 'round': '16', 'url': 'http://en.wikipedia.org/wiki/2018_Russian_Grand_Prix', 'raceName': 'Russian Grand Prix', 'Circuit': {'circuitId': 'sochi', 'url': 'http://en.wikipedia.org/wiki/Sochi_Autodrom', 'circuitName': 'Sochi Autodrom', 'Location': {'lat': '43.4057', 'long': '39.9578', 'locality': 'Sochi', 'country': 'Russia'}}, 'date': '2018-09-30', 'time': '11:10:00Z', 'Results': [{'number': '44', 'position': '1', 'positionText': '1', 'points': '25', 'Driver': {'driverId': 'hamilton', 'permanentNumber': '44', 'code': 'HAM', 'url': 'http://en.wikipedia.org/wiki/Lewis_Hamilton', 'givenName': 'Lewis', 'familyName': 'Hamilton', 'dateOfBirth': '1985-01-07', 'nationality': 'British'}, 'Constructor': {'constructorId': 'mercedes', 'url': 'http://en.wikipedia.org/wiki/Mercedes-Benz_in_Formula_One', 'name': 'Mercedes', 'nationality': 'German'}, 'grid': '2', 'laps': '53', 'status': 'Finished', 'Time': {'millis': '5245181', 'time': '1:27:25.181'}, 'FastestLap': {'rank': '2', 'lap': '50', 'Time': {'time': '1:35.916'}, 'AverageSpeed': {'units': 'kph', 'speed': '219.492'}}}]}, {'season': '2018', 'round': '17', 'url': 'http://en.wikipedia.org/wiki/2018_Japanese_Grand_Prix', 'raceName': 'Japanese Grand Prix', 'Circuit': {'circuitId': 'suzuka', 'url': 'http://en.wikipedia.org/wiki/Suzuka_Circuit', 'circuitName': 'Suzuka Circuit', 'Location': {'lat': '34.8431', 'long': '136.541', 'locality': 'Suzuka', 'country': 'Japan'}}, 'date': '2018-10-07', 'time': '05:10:00Z', 'Results': [{'number': '44', 'position': '1', 'positionText': '1', 'points': '25', 'Driver': {'driverId': 'hamilton', 'permanentNumber': '44', 'code': 'HAM', 'url': 'http://en.wikipedia.org/wiki/Lewis_Hamilton', 'givenName': 'Lewis', 'familyName': 'Hamilton', 'dateOfBirth': '1985-01-07', 'nationality': 'British'}, 'Constructor': {'constructorId': 'mercedes', 'url': 'http://en.wikipedia.org/wiki/Mercedes-Benz_in_Formula_One', 'name': 'Mercedes', 'nationality': 'German'}, 'grid': '1', 'laps': '53', 'status': 'Finished', 'Time': {'millis': '5237062', 'time': '1:27:17.062'}, 'FastestLap': {'rank': '2', 'lap': '51', 'Time': {'time': '1:32.785'}, 'AverageSpeed': {'units': 'kph', 'speed': '225.307'}}}]}, {'season': '2018', 'round': '18', 'url': 'http://en.wikipedia.org/wiki/2018_United_States_Grand_Prix', 'raceName': 'United States Grand Prix', 'Circuit': {'circuitId': 'americas', 'url': 'http://en.wikipedia.org/wiki/Circuit_of_the_Americas', 'circuitName': 'Circuit of the Americas', 'Location': {'lat': '30.1328', 'long': '-97.6411', 'locality': 'Austin', 'country': 'USA'}}, 'date': '2018-10-21', 'time': '18:10:00Z', 'Results': [{'number': '44', 'position': '3', 'positionText': '3', 'points': '15', 'Driver': {'driverId': 'hamilton', 'permanentNumber': '44', 'code': 'HAM', 'url': 'http://en.wikipedia.org/wiki/Lewis_Hamilton', 'givenName': 'Lewis', 'familyName': 'Hamilton', 'dateOfBirth': '1985-01-07', 'nationality': 'British'}, 'Constructor': {'constructorId': 'mercedes', 'url': 'http://en.wikipedia.org/wiki/Mercedes-Benz_in_Formula_One', 'name': 'Mercedes', 'nationality': 'German'}, 'grid': '1', 'laps': '56', 'status': 'Finished', 'Time': {'millis': '5660985', 'time': '+2.342'}, 'FastestLap': {'rank': '1', 'lap': '40', 'Time': {'time': '1:37.392'}, 'AverageSpeed': {'units': 'kph', 'speed': '203.782'}}}]}, {'season': '2018', 'round': '19', 'url': 'http://en.wikipedia.org/wiki/2018_Mexican_Grand_Prix', 'raceName': 'Mexican Grand Prix', 'Circuit': {'circuitId': 'rodriguez', 'url': 'http://en.wikipedia.org/wiki/Aut%C3%B3dromo_Hermanos_Rodr%C3%ADguez', 'circuitName': 'Autódromo Hermanos Rodríguez', 'Location': {'lat': '19.4042', 'long': '-99.0907', 'locality': 'Mexico City', 'country': 'Mexico'}}, 'date': '2018-10-28', 'time': '19:10:00Z', 'Results': [{'number': '44', 'position': '4', 'positionText': '4', 'points': '12', 'Driver': {'driverId': 'hamilton', 'permanentNumber': '44', 'code': 'HAM', 'url': 'http://en.wikipedia.org/wiki/Lewis_Hamilton', 'givenName': 'Lewis', 'familyName': 'Hamilton', 'dateOfBirth': '1985-01-07', 'nationality': 'British'}, 'Constructor': {'constructorId': 'mercedes', 'url': 'http://en.wikipedia.org/wiki/Mercedes-Benz_in_Formula_One', 'name': 'Mercedes', 'nationality': 'German'}, 'grid': '3', 'laps': '71', 'status': 'Finished', 'Time': {'millis': '5987589', 'time': '+1:18.738'}, 'FastestLap': {'rank': '8', 'lap': '49', 'Time': {'time': '1:20.728'}, 'AverageSpeed': {'units': 'kph', 'speed': '191.933'}}}]}, {'season': '2018', 'round': '20', 'url': 'http://en.wikipedia.org/wiki/2018_Brazilian_Grand_Prix', 'raceName': 'Brazilian Grand Prix', 'Circuit': {'circuitId': 'interlagos', 'url': 'http://en.wikipedia.org/wiki/Aut%C3%B3dromo_Jos%C3%A9_Carlos_Pace', 'circuitName': 'Autódromo José Carlos Pace', 'Location': {'lat': '-23.7036', 'long': '-46.6997', 'locality': 'São Paulo', 'country': 'Brazil'}}, 'date': '2018-11-11', 'time': '17:10:00Z', 'Results': [{'number': '44', 'position': '1', 'positionText': '1', 'points': '25', 'Driver': {'driverId': 'hamilton', 'permanentNumber': '44', 'code': 'HAM', 'url': 'http://en.wikipedia.org/wiki/Lewis_Hamilton', 'givenName': 'Lewis', 'familyName': 'Hamilton', 'dateOfBirth': '1985-01-07', 'nationality': 'British'}, 'Constructor': {'constructorId': 'mercedes', 'url': 'http://en.wikipedia.org/wiki/Mercedes-Benz_in_Formula_One', 'name': 'Mercedes', 'nationality': 'German'}, 'grid': '1', 'laps': '71', 'status': 'Finished', 'Time': {'millis': '5229066', 'time': '1:27:09.066'}, 'FastestLap': {'rank': '7', 'lap': '70', 'Time': {'time': '1:11.795'}, 'AverageSpeed': {'units': 'kph', 'speed': '216.065'}}}]}, {'season': '2018', 'round': '21', 'url': 'http://en.wikipedia.org/wiki/2018_Abu_Dhabi_Grand_Prix', 'raceName': 'Abu Dhabi Grand Prix', 'Circuit': {'circuitId': 'yas_marina', 'url': 'http://en.wikipedia.org/wiki/Yas_Marina_Circuit', 'circuitName': 'Yas Marina Circuit', 'Location': {'lat': '24.4672', 'long': '54.6031', 'locality': 'Abu Dhabi', 'country': 'UAE'}}, 'date': '2018-11-25', 'time': '13:10:00Z', 'Results': [{'number': '44', 'position': '1', 'positionText': '1', 'points': '25', 'Driver': {'driverId': 'hamilton', 'permanentNumber': '44', 'code': 'HAM', 'url': 'http://en.wikipedia.org/wiki/Lewis_Hamilton', 'givenName': 'Lewis', 'familyName': 'Hamilton', 'dateOfBirth': '1985-01-07', 'nationality': 'British'}, 'Constructor': {'constructorId': 'mercedes', 'url': 'http://en.wikipedia.org/wiki/Mercedes-Benz_in_Formula_One', 'name': 'Mercedes', 'nationality': 'German'}, 'grid': '1', 'laps': '55', 'status': 'Finished', 'Time': {'millis': '5980382', 'time': '1:39:40.382'}, 'FastestLap': {'rank': '5', 'lap': '53', 'Time': {'time': '1:41.357'}, 'AverageSpeed': {'units': 'kph', 'speed': '197.267'}}}]}]}\n"
          ]
        }
      ]
    },
    {
      "cell_type": "code",
      "source": [
        "for id, info in race.items():\n",
        "    print(\"\\nrace key:\", id)\n",
        "    for key in info:\n",
        "  \n",
        "        print(key + ':', info[key])"
      ],
      "metadata": {
        "colab": {
          "base_uri": "https://localhost:8080/"
        },
        "id": "R3cZH2QHyIlX",
        "outputId": "bc61d44d-8d40-4af1-c225-2c66bcadbd9c"
      },
      "execution_count": null,
      "outputs": [
        {
          "output_type": "stream",
          "name": "stdout",
          "text": [
            "\n",
            "race key: MRData\n",
            "xmlns: http://ergast.com/mrd/1.5\n",
            "series: f1\n",
            "url: http://ergast.com/api/f1/2018/drivers/hamilton/results.json\n",
            "limit: 30\n",
            "offset: 0\n",
            "total: 21\n",
            "RaceTable: {'season': '2018', 'driverId': 'hamilton', 'Races': [{'season': '2018', 'round': '1', 'url': 'http://en.wikipedia.org/wiki/2018_Australian_Grand_Prix', 'raceName': 'Australian Grand Prix', 'Circuit': {'circuitId': 'albert_park', 'url': 'http://en.wikipedia.org/wiki/Melbourne_Grand_Prix_Circuit', 'circuitName': 'Albert Park Grand Prix Circuit', 'Location': {'lat': '-37.8497', 'long': '144.968', 'locality': 'Melbourne', 'country': 'Australia'}}, 'date': '2018-03-25', 'time': '05:10:00Z', 'Results': [{'number': '44', 'position': '2', 'positionText': '2', 'points': '18', 'Driver': {'driverId': 'hamilton', 'permanentNumber': '44', 'code': 'HAM', 'url': 'http://en.wikipedia.org/wiki/Lewis_Hamilton', 'givenName': 'Lewis', 'familyName': 'Hamilton', 'dateOfBirth': '1985-01-07', 'nationality': 'British'}, 'Constructor': {'constructorId': 'mercedes', 'url': 'http://en.wikipedia.org/wiki/Mercedes-Benz_in_Formula_One', 'name': 'Mercedes', 'nationality': 'German'}, 'grid': '1', 'laps': '58', 'status': 'Finished', 'Time': {'millis': '5378319', 'time': '+5.036'}, 'FastestLap': {'rank': '3', 'lap': '50', 'Time': {'time': '1:26.444'}, 'AverageSpeed': {'units': 'kph', 'speed': '220.845'}}}]}, {'season': '2018', 'round': '2', 'url': 'http://en.wikipedia.org/wiki/2018_Bahrain_Grand_Prix', 'raceName': 'Bahrain Grand Prix', 'Circuit': {'circuitId': 'bahrain', 'url': 'http://en.wikipedia.org/wiki/Bahrain_International_Circuit', 'circuitName': 'Bahrain International Circuit', 'Location': {'lat': '26.0325', 'long': '50.5106', 'locality': 'Sakhir', 'country': 'Bahrain'}}, 'date': '2018-04-08', 'time': '15:10:00Z', 'Results': [{'number': '44', 'position': '3', 'positionText': '3', 'points': '15', 'Driver': {'driverId': 'hamilton', 'permanentNumber': '44', 'code': 'HAM', 'url': 'http://en.wikipedia.org/wiki/Lewis_Hamilton', 'givenName': 'Lewis', 'familyName': 'Hamilton', 'dateOfBirth': '1985-01-07', 'nationality': 'British'}, 'Constructor': {'constructorId': 'mercedes', 'url': 'http://en.wikipedia.org/wiki/Mercedes-Benz_in_Formula_One', 'name': 'Mercedes', 'nationality': 'German'}, 'grid': '9', 'laps': '57', 'status': 'Finished', 'Time': {'millis': '5528452', 'time': '+6.512'}, 'FastestLap': {'rank': '2', 'lap': '51', 'Time': {'time': '1:33.953'}, 'AverageSpeed': {'units': 'kph', 'speed': '207.371'}}}]}, {'season': '2018', 'round': '3', 'url': 'http://en.wikipedia.org/wiki/2018_Chinese_Grand_Prix', 'raceName': 'Chinese Grand Prix', 'Circuit': {'circuitId': 'shanghai', 'url': 'http://en.wikipedia.org/wiki/Shanghai_International_Circuit', 'circuitName': 'Shanghai International Circuit', 'Location': {'lat': '31.3389', 'long': '121.22', 'locality': 'Shanghai', 'country': 'China'}}, 'date': '2018-04-15', 'time': '06:10:00Z', 'Results': [{'number': '44', 'position': '4', 'positionText': '4', 'points': '12', 'Driver': {'driverId': 'hamilton', 'permanentNumber': '44', 'code': 'HAM', 'url': 'http://en.wikipedia.org/wiki/Lewis_Hamilton', 'givenName': 'Lewis', 'familyName': 'Hamilton', 'dateOfBirth': '1985-01-07', 'nationality': 'British'}, 'Constructor': {'constructorId': 'mercedes', 'url': 'http://en.wikipedia.org/wiki/Mercedes-Benz_in_Formula_One', 'name': 'Mercedes', 'nationality': 'German'}, 'grid': '4', 'laps': '56', 'status': 'Finished', 'Time': {'millis': '5753365', 'time': '+16.985'}, 'FastestLap': {'rank': '4', 'lap': '20', 'Time': {'time': '1:36.878'}, 'AverageSpeed': {'units': 'kph', 'speed': '202.559'}}}]}, {'season': '2018', 'round': '4', 'url': 'http://en.wikipedia.org/wiki/2018_Azerbaijan_Grand_Prix', 'raceName': 'Azerbaijan Grand Prix', 'Circuit': {'circuitId': 'baku', 'url': 'http://en.wikipedia.org/wiki/Baku_City_Circuit', 'circuitName': 'Baku City Circuit', 'Location': {'lat': '40.3725', 'long': '49.8533', 'locality': 'Baku', 'country': 'Azerbaijan'}}, 'date': '2018-04-29', 'time': '12:10:00Z', 'Results': [{'number': '44', 'position': '1', 'positionText': '1', 'points': '25', 'Driver': {'driverId': 'hamilton', 'permanentNumber': '44', 'code': 'HAM', 'url': 'http://en.wikipedia.org/wiki/Lewis_Hamilton', 'givenName': 'Lewis', 'familyName': 'Hamilton', 'dateOfBirth': '1985-01-07', 'nationality': 'British'}, 'Constructor': {'constructorId': 'mercedes', 'url': 'http://en.wikipedia.org/wiki/Mercedes-Benz_in_Formula_One', 'name': 'Mercedes', 'nationality': 'German'}, 'grid': '2', 'laps': '51', 'status': 'Finished', 'Time': {'millis': '6224291', 'time': '1:43:44.291'}, 'FastestLap': {'rank': '2', 'lap': '35', 'Time': {'time': '1:45.412'}, 'AverageSpeed': {'units': 'kph', 'speed': '205.012'}}}]}, {'season': '2018', 'round': '5', 'url': 'http://en.wikipedia.org/wiki/2018_Spanish_Grand_Prix', 'raceName': 'Spanish Grand Prix', 'Circuit': {'circuitId': 'catalunya', 'url': 'http://en.wikipedia.org/wiki/Circuit_de_Barcelona-Catalunya', 'circuitName': 'Circuit de Barcelona-Catalunya', 'Location': {'lat': '41.57', 'long': '2.26111', 'locality': 'Montmeló', 'country': 'Spain'}}, 'date': '2018-05-13', 'time': '13:10:00Z', 'Results': [{'number': '44', 'position': '1', 'positionText': '1', 'points': '25', 'Driver': {'driverId': 'hamilton', 'permanentNumber': '44', 'code': 'HAM', 'url': 'http://en.wikipedia.org/wiki/Lewis_Hamilton', 'givenName': 'Lewis', 'familyName': 'Hamilton', 'dateOfBirth': '1985-01-07', 'nationality': 'British'}, 'Constructor': {'constructorId': 'mercedes', 'url': 'http://en.wikipedia.org/wiki/Mercedes-Benz_in_Formula_One', 'name': 'Mercedes', 'nationality': 'German'}, 'grid': '1', 'laps': '66', 'status': 'Finished', 'Time': {'millis': '5729972', 'time': '1:35:29.972'}, 'FastestLap': {'rank': '3', 'lap': '64', 'Time': {'time': '1:19.133'}, 'AverageSpeed': {'units': 'kph', 'speed': '211.770'}}}]}, {'season': '2018', 'round': '6', 'url': 'http://en.wikipedia.org/wiki/2018_Monaco_Grand_Prix', 'raceName': 'Monaco Grand Prix', 'Circuit': {'circuitId': 'monaco', 'url': 'http://en.wikipedia.org/wiki/Circuit_de_Monaco', 'circuitName': 'Circuit de Monaco', 'Location': {'lat': '43.7347', 'long': '7.42056', 'locality': 'Monte-Carlo', 'country': 'Monaco'}}, 'date': '2018-05-27', 'time': '13:10:00Z', 'Results': [{'number': '44', 'position': '3', 'positionText': '3', 'points': '15', 'Driver': {'driverId': 'hamilton', 'permanentNumber': '44', 'code': 'HAM', 'url': 'http://en.wikipedia.org/wiki/Lewis_Hamilton', 'givenName': 'Lewis', 'familyName': 'Hamilton', 'dateOfBirth': '1985-01-07', 'nationality': 'British'}, 'Constructor': {'constructorId': 'mercedes', 'url': 'http://en.wikipedia.org/wiki/Mercedes-Benz_in_Formula_One', 'name': 'Mercedes', 'nationality': 'German'}, 'grid': '3', 'laps': '78', 'status': 'Finished', 'Time': {'millis': '6191820', 'time': '+17.013'}, 'FastestLap': {'rank': '8', 'lap': '15', 'Time': {'time': '1:16.270'}, 'AverageSpeed': {'units': 'kph', 'speed': '157.508'}}}]}, {'season': '2018', 'round': '7', 'url': 'http://en.wikipedia.org/wiki/2018_Canadian_Grand_Prix', 'raceName': 'Canadian Grand Prix', 'Circuit': {'circuitId': 'villeneuve', 'url': 'http://en.wikipedia.org/wiki/Circuit_Gilles_Villeneuve', 'circuitName': 'Circuit Gilles Villeneuve', 'Location': {'lat': '45.5', 'long': '-73.5228', 'locality': 'Montreal', 'country': 'Canada'}}, 'date': '2018-06-10', 'time': '18:10:00Z', 'Results': [{'number': '44', 'position': '5', 'positionText': '5', 'points': '10', 'Driver': {'driverId': 'hamilton', 'permanentNumber': '44', 'code': 'HAM', 'url': 'http://en.wikipedia.org/wiki/Lewis_Hamilton', 'givenName': 'Lewis', 'familyName': 'Hamilton', 'dateOfBirth': '1985-01-07', 'nationality': 'British'}, 'Constructor': {'constructorId': 'mercedes', 'url': 'http://en.wikipedia.org/wiki/Mercedes-Benz_in_Formula_One', 'name': 'Mercedes', 'nationality': 'German'}, 'grid': '4', 'laps': '68', 'status': 'Finished', 'Time': {'millis': '5332936', 'time': '+21.559'}, 'FastestLap': {'rank': '6', 'lap': '66', 'Time': {'time': '1:14.183'}, 'AverageSpeed': {'units': 'kph', 'speed': '211.633'}}}]}, {'season': '2018', 'round': '8', 'url': 'http://en.wikipedia.org/wiki/2018_French_Grand_Prix', 'raceName': 'French Grand Prix', 'Circuit': {'circuitId': 'ricard', 'url': 'http://en.wikipedia.org/wiki/Paul_Ricard_Circuit', 'circuitName': 'Circuit Paul Ricard', 'Location': {'lat': '43.2506', 'long': '5.79167', 'locality': 'Le Castellet', 'country': 'France'}}, 'date': '2018-06-24', 'time': '14:10:00Z', 'Results': [{'number': '44', 'position': '1', 'positionText': '1', 'points': '25', 'Driver': {'driverId': 'hamilton', 'permanentNumber': '44', 'code': 'HAM', 'url': 'http://en.wikipedia.org/wiki/Lewis_Hamilton', 'givenName': 'Lewis', 'familyName': 'Hamilton', 'dateOfBirth': '1985-01-07', 'nationality': 'British'}, 'Constructor': {'constructorId': 'mercedes', 'url': 'http://en.wikipedia.org/wiki/Mercedes-Benz_in_Formula_One', 'name': 'Mercedes', 'nationality': 'German'}, 'grid': '1', 'laps': '53', 'status': 'Finished', 'Time': {'millis': '5411385', 'time': '1:30:11.385'}, 'FastestLap': {'rank': '5', 'lap': '49', 'Time': {'time': '1:34.509'}, 'AverageSpeed': {'units': 'kph', 'speed': '222.531'}}}]}, {'season': '2018', 'round': '9', 'url': 'http://en.wikipedia.org/wiki/2018_Austrian_Grand_Prix', 'raceName': 'Austrian Grand Prix', 'Circuit': {'circuitId': 'red_bull_ring', 'url': 'http://en.wikipedia.org/wiki/Red_Bull_Ring', 'circuitName': 'Red Bull Ring', 'Location': {'lat': '47.2197', 'long': '14.7647', 'locality': 'Spielberg', 'country': 'Austria'}}, 'date': '2018-07-01', 'time': '13:10:00Z', 'Results': [{'number': '44', 'position': '16', 'positionText': 'R', 'points': '0', 'Driver': {'driverId': 'hamilton', 'permanentNumber': '44', 'code': 'HAM', 'url': 'http://en.wikipedia.org/wiki/Lewis_Hamilton', 'givenName': 'Lewis', 'familyName': 'Hamilton', 'dateOfBirth': '1985-01-07', 'nationality': 'British'}, 'Constructor': {'constructorId': 'mercedes', 'url': 'http://en.wikipedia.org/wiki/Mercedes-Benz_in_Formula_One', 'name': 'Mercedes', 'nationality': 'German'}, 'grid': '2', 'laps': '62', 'status': 'Fuel pressure', 'FastestLap': {'rank': '3', 'lap': '58', 'Time': {'time': '1:07.241'}, 'AverageSpeed': {'units': 'kph', 'speed': '231.180'}}}]}, {'season': '2018', 'round': '10', 'url': 'http://en.wikipedia.org/wiki/2018_British_Grand_Prix', 'raceName': 'British Grand Prix', 'Circuit': {'circuitId': 'silverstone', 'url': 'http://en.wikipedia.org/wiki/Silverstone_Circuit', 'circuitName': 'Silverstone Circuit', 'Location': {'lat': '52.0786', 'long': '-1.01694', 'locality': 'Silverstone', 'country': 'UK'}}, 'date': '2018-07-08', 'time': '13:10:00Z', 'Results': [{'number': '44', 'position': '2', 'positionText': '2', 'points': '18', 'Driver': {'driverId': 'hamilton', 'permanentNumber': '44', 'code': 'HAM', 'url': 'http://en.wikipedia.org/wiki/Lewis_Hamilton', 'givenName': 'Lewis', 'familyName': 'Hamilton', 'dateOfBirth': '1985-01-07', 'nationality': 'British'}, 'Constructor': {'constructorId': 'mercedes', 'url': 'http://en.wikipedia.org/wiki/Mercedes-Benz_in_Formula_One', 'name': 'Mercedes', 'nationality': 'German'}, 'grid': '1', 'laps': '52', 'status': 'Finished', 'Time': {'millis': '5252048', 'time': '+2.264'}, 'FastestLap': {'rank': '3', 'lap': '52', 'Time': {'time': '1:31.245'}, 'AverageSpeed': {'units': 'kph', 'speed': '232.424'}}}]}, {'season': '2018', 'round': '11', 'url': 'http://en.wikipedia.org/wiki/2018_German_Grand_Prix', 'raceName': 'German Grand Prix', 'Circuit': {'circuitId': 'hockenheimring', 'url': 'http://en.wikipedia.org/wiki/Hockenheimring', 'circuitName': 'Hockenheimring', 'Location': {'lat': '49.3278', 'long': '8.56583', 'locality': 'Hockenheim', 'country': 'Germany'}}, 'date': '2018-07-22', 'time': '13:10:00Z', 'Results': [{'number': '44', 'position': '1', 'positionText': '1', 'points': '25', 'Driver': {'driverId': 'hamilton', 'permanentNumber': '44', 'code': 'HAM', 'url': 'http://en.wikipedia.org/wiki/Lewis_Hamilton', 'givenName': 'Lewis', 'familyName': 'Hamilton', 'dateOfBirth': '1985-01-07', 'nationality': 'British'}, 'Constructor': {'constructorId': 'mercedes', 'url': 'http://en.wikipedia.org/wiki/Mercedes-Benz_in_Formula_One', 'name': 'Mercedes', 'nationality': 'German'}, 'grid': '14', 'laps': '67', 'status': 'Finished', 'Time': {'millis': '5549845', 'time': '1:32:29.845'}, 'FastestLap': {'rank': '1', 'lap': '66', 'Time': {'time': '1:15.545'}, 'AverageSpeed': {'units': 'kph', 'speed': '217.968'}}}]}, {'season': '2018', 'round': '12', 'url': 'http://en.wikipedia.org/wiki/2018_Hungarian_Grand_Prix', 'raceName': 'Hungarian Grand Prix', 'Circuit': {'circuitId': 'hungaroring', 'url': 'http://en.wikipedia.org/wiki/Hungaroring', 'circuitName': 'Hungaroring', 'Location': {'lat': '47.5789', 'long': '19.2486', 'locality': 'Budapest', 'country': 'Hungary'}}, 'date': '2018-07-29', 'time': '13:10:00Z', 'Results': [{'number': '44', 'position': '1', 'positionText': '1', 'points': '25', 'Driver': {'driverId': 'hamilton', 'permanentNumber': '44', 'code': 'HAM', 'url': 'http://en.wikipedia.org/wiki/Lewis_Hamilton', 'givenName': 'Lewis', 'familyName': 'Hamilton', 'dateOfBirth': '1985-01-07', 'nationality': 'British'}, 'Constructor': {'constructorId': 'mercedes', 'url': 'http://en.wikipedia.org/wiki/Mercedes-Benz_in_Formula_One', 'name': 'Mercedes', 'nationality': 'German'}, 'grid': '1', 'laps': '70', 'status': 'Finished', 'Time': {'millis': '5836427', 'time': '1:37:16.427'}, 'FastestLap': {'rank': '4', 'lap': '63', 'Time': {'time': '1:21.107'}, 'AverageSpeed': {'units': 'kph', 'speed': '194.454'}}}]}, {'season': '2018', 'round': '13', 'url': 'http://en.wikipedia.org/wiki/2018_Belgian_Grand_Prix', 'raceName': 'Belgian Grand Prix', 'Circuit': {'circuitId': 'spa', 'url': 'http://en.wikipedia.org/wiki/Circuit_de_Spa-Francorchamps', 'circuitName': 'Circuit de Spa-Francorchamps', 'Location': {'lat': '50.4372', 'long': '5.97139', 'locality': 'Spa', 'country': 'Belgium'}}, 'date': '2018-08-26', 'time': '13:10:00Z', 'Results': [{'number': '44', 'position': '2', 'positionText': '2', 'points': '18', 'Driver': {'driverId': 'hamilton', 'permanentNumber': '44', 'code': 'HAM', 'url': 'http://en.wikipedia.org/wiki/Lewis_Hamilton', 'givenName': 'Lewis', 'familyName': 'Hamilton', 'dateOfBirth': '1985-01-07', 'nationality': 'British'}, 'Constructor': {'constructorId': 'mercedes', 'url': 'http://en.wikipedia.org/wiki/Mercedes-Benz_in_Formula_One', 'name': 'Mercedes', 'nationality': 'German'}, 'grid': '1', 'laps': '44', 'status': 'Finished', 'Time': {'millis': '5025537', 'time': '+11.061'}, 'FastestLap': {'rank': '3', 'lap': '23', 'Time': {'time': '1:46.721'}, 'AverageSpeed': {'units': 'kph', 'speed': '236.264'}}}]}, {'season': '2018', 'round': '14', 'url': 'http://en.wikipedia.org/wiki/2018_Italian_Grand_Prix', 'raceName': 'Italian Grand Prix', 'Circuit': {'circuitId': 'monza', 'url': 'http://en.wikipedia.org/wiki/Autodromo_Nazionale_Monza', 'circuitName': 'Autodromo Nazionale di Monza', 'Location': {'lat': '45.6156', 'long': '9.28111', 'locality': 'Monza', 'country': 'Italy'}}, 'date': '2018-09-02', 'time': '13:10:00Z', 'Results': [{'number': '44', 'position': '1', 'positionText': '1', 'points': '25', 'Driver': {'driverId': 'hamilton', 'permanentNumber': '44', 'code': 'HAM', 'url': 'http://en.wikipedia.org/wiki/Lewis_Hamilton', 'givenName': 'Lewis', 'familyName': 'Hamilton', 'dateOfBirth': '1985-01-07', 'nationality': 'British'}, 'Constructor': {'constructorId': 'mercedes', 'url': 'http://en.wikipedia.org/wiki/Mercedes-Benz_in_Formula_One', 'name': 'Mercedes', 'nationality': 'German'}, 'grid': '3', 'laps': '53', 'status': 'Finished', 'Time': {'millis': '4614484', 'time': '1:16:54.484'}, 'FastestLap': {'rank': '1', 'lap': '30', 'Time': {'time': '1:22.497'}, 'AverageSpeed': {'units': 'kph', 'speed': '252.794'}}}]}, {'season': '2018', 'round': '15', 'url': 'http://en.wikipedia.org/wiki/2018_Singapore_Grand_Prix', 'raceName': 'Singapore Grand Prix', 'Circuit': {'circuitId': 'marina_bay', 'url': 'http://en.wikipedia.org/wiki/Marina_Bay_Street_Circuit', 'circuitName': 'Marina Bay Street Circuit', 'Location': {'lat': '1.2914', 'long': '103.864', 'locality': 'Marina Bay', 'country': 'Singapore'}}, 'date': '2018-09-16', 'time': '12:10:00Z', 'Results': [{'number': '44', 'position': '1', 'positionText': '1', 'points': '25', 'Driver': {'driverId': 'hamilton', 'permanentNumber': '44', 'code': 'HAM', 'url': 'http://en.wikipedia.org/wiki/Lewis_Hamilton', 'givenName': 'Lewis', 'familyName': 'Hamilton', 'dateOfBirth': '1985-01-07', 'nationality': 'British'}, 'Constructor': {'constructorId': 'mercedes', 'url': 'http://en.wikipedia.org/wiki/Mercedes-Benz_in_Formula_One', 'name': 'Mercedes', 'nationality': 'German'}, 'grid': '1', 'laps': '61', 'status': 'Finished', 'Time': {'millis': '6671611', 'time': '1:51:11.611'}, 'FastestLap': {'rank': '2', 'lap': '56', 'Time': {'time': '1:42.913'}, 'AverageSpeed': {'units': 'kph', 'speed': '177.108'}}}]}, {'season': '2018', 'round': '16', 'url': 'http://en.wikipedia.org/wiki/2018_Russian_Grand_Prix', 'raceName': 'Russian Grand Prix', 'Circuit': {'circuitId': 'sochi', 'url': 'http://en.wikipedia.org/wiki/Sochi_Autodrom', 'circuitName': 'Sochi Autodrom', 'Location': {'lat': '43.4057', 'long': '39.9578', 'locality': 'Sochi', 'country': 'Russia'}}, 'date': '2018-09-30', 'time': '11:10:00Z', 'Results': [{'number': '44', 'position': '1', 'positionText': '1', 'points': '25', 'Driver': {'driverId': 'hamilton', 'permanentNumber': '44', 'code': 'HAM', 'url': 'http://en.wikipedia.org/wiki/Lewis_Hamilton', 'givenName': 'Lewis', 'familyName': 'Hamilton', 'dateOfBirth': '1985-01-07', 'nationality': 'British'}, 'Constructor': {'constructorId': 'mercedes', 'url': 'http://en.wikipedia.org/wiki/Mercedes-Benz_in_Formula_One', 'name': 'Mercedes', 'nationality': 'German'}, 'grid': '2', 'laps': '53', 'status': 'Finished', 'Time': {'millis': '5245181', 'time': '1:27:25.181'}, 'FastestLap': {'rank': '2', 'lap': '50', 'Time': {'time': '1:35.916'}, 'AverageSpeed': {'units': 'kph', 'speed': '219.492'}}}]}, {'season': '2018', 'round': '17', 'url': 'http://en.wikipedia.org/wiki/2018_Japanese_Grand_Prix', 'raceName': 'Japanese Grand Prix', 'Circuit': {'circuitId': 'suzuka', 'url': 'http://en.wikipedia.org/wiki/Suzuka_Circuit', 'circuitName': 'Suzuka Circuit', 'Location': {'lat': '34.8431', 'long': '136.541', 'locality': 'Suzuka', 'country': 'Japan'}}, 'date': '2018-10-07', 'time': '05:10:00Z', 'Results': [{'number': '44', 'position': '1', 'positionText': '1', 'points': '25', 'Driver': {'driverId': 'hamilton', 'permanentNumber': '44', 'code': 'HAM', 'url': 'http://en.wikipedia.org/wiki/Lewis_Hamilton', 'givenName': 'Lewis', 'familyName': 'Hamilton', 'dateOfBirth': '1985-01-07', 'nationality': 'British'}, 'Constructor': {'constructorId': 'mercedes', 'url': 'http://en.wikipedia.org/wiki/Mercedes-Benz_in_Formula_One', 'name': 'Mercedes', 'nationality': 'German'}, 'grid': '1', 'laps': '53', 'status': 'Finished', 'Time': {'millis': '5237062', 'time': '1:27:17.062'}, 'FastestLap': {'rank': '2', 'lap': '51', 'Time': {'time': '1:32.785'}, 'AverageSpeed': {'units': 'kph', 'speed': '225.307'}}}]}, {'season': '2018', 'round': '18', 'url': 'http://en.wikipedia.org/wiki/2018_United_States_Grand_Prix', 'raceName': 'United States Grand Prix', 'Circuit': {'circuitId': 'americas', 'url': 'http://en.wikipedia.org/wiki/Circuit_of_the_Americas', 'circuitName': 'Circuit of the Americas', 'Location': {'lat': '30.1328', 'long': '-97.6411', 'locality': 'Austin', 'country': 'USA'}}, 'date': '2018-10-21', 'time': '18:10:00Z', 'Results': [{'number': '44', 'position': '3', 'positionText': '3', 'points': '15', 'Driver': {'driverId': 'hamilton', 'permanentNumber': '44', 'code': 'HAM', 'url': 'http://en.wikipedia.org/wiki/Lewis_Hamilton', 'givenName': 'Lewis', 'familyName': 'Hamilton', 'dateOfBirth': '1985-01-07', 'nationality': 'British'}, 'Constructor': {'constructorId': 'mercedes', 'url': 'http://en.wikipedia.org/wiki/Mercedes-Benz_in_Formula_One', 'name': 'Mercedes', 'nationality': 'German'}, 'grid': '1', 'laps': '56', 'status': 'Finished', 'Time': {'millis': '5660985', 'time': '+2.342'}, 'FastestLap': {'rank': '1', 'lap': '40', 'Time': {'time': '1:37.392'}, 'AverageSpeed': {'units': 'kph', 'speed': '203.782'}}}]}, {'season': '2018', 'round': '19', 'url': 'http://en.wikipedia.org/wiki/2018_Mexican_Grand_Prix', 'raceName': 'Mexican Grand Prix', 'Circuit': {'circuitId': 'rodriguez', 'url': 'http://en.wikipedia.org/wiki/Aut%C3%B3dromo_Hermanos_Rodr%C3%ADguez', 'circuitName': 'Autódromo Hermanos Rodríguez', 'Location': {'lat': '19.4042', 'long': '-99.0907', 'locality': 'Mexico City', 'country': 'Mexico'}}, 'date': '2018-10-28', 'time': '19:10:00Z', 'Results': [{'number': '44', 'position': '4', 'positionText': '4', 'points': '12', 'Driver': {'driverId': 'hamilton', 'permanentNumber': '44', 'code': 'HAM', 'url': 'http://en.wikipedia.org/wiki/Lewis_Hamilton', 'givenName': 'Lewis', 'familyName': 'Hamilton', 'dateOfBirth': '1985-01-07', 'nationality': 'British'}, 'Constructor': {'constructorId': 'mercedes', 'url': 'http://en.wikipedia.org/wiki/Mercedes-Benz_in_Formula_One', 'name': 'Mercedes', 'nationality': 'German'}, 'grid': '3', 'laps': '71', 'status': 'Finished', 'Time': {'millis': '5987589', 'time': '+1:18.738'}, 'FastestLap': {'rank': '8', 'lap': '49', 'Time': {'time': '1:20.728'}, 'AverageSpeed': {'units': 'kph', 'speed': '191.933'}}}]}, {'season': '2018', 'round': '20', 'url': 'http://en.wikipedia.org/wiki/2018_Brazilian_Grand_Prix', 'raceName': 'Brazilian Grand Prix', 'Circuit': {'circuitId': 'interlagos', 'url': 'http://en.wikipedia.org/wiki/Aut%C3%B3dromo_Jos%C3%A9_Carlos_Pace', 'circuitName': 'Autódromo José Carlos Pace', 'Location': {'lat': '-23.7036', 'long': '-46.6997', 'locality': 'São Paulo', 'country': 'Brazil'}}, 'date': '2018-11-11', 'time': '17:10:00Z', 'Results': [{'number': '44', 'position': '1', 'positionText': '1', 'points': '25', 'Driver': {'driverId': 'hamilton', 'permanentNumber': '44', 'code': 'HAM', 'url': 'http://en.wikipedia.org/wiki/Lewis_Hamilton', 'givenName': 'Lewis', 'familyName': 'Hamilton', 'dateOfBirth': '1985-01-07', 'nationality': 'British'}, 'Constructor': {'constructorId': 'mercedes', 'url': 'http://en.wikipedia.org/wiki/Mercedes-Benz_in_Formula_One', 'name': 'Mercedes', 'nationality': 'German'}, 'grid': '1', 'laps': '71', 'status': 'Finished', 'Time': {'millis': '5229066', 'time': '1:27:09.066'}, 'FastestLap': {'rank': '7', 'lap': '70', 'Time': {'time': '1:11.795'}, 'AverageSpeed': {'units': 'kph', 'speed': '216.065'}}}]}, {'season': '2018', 'round': '21', 'url': 'http://en.wikipedia.org/wiki/2018_Abu_Dhabi_Grand_Prix', 'raceName': 'Abu Dhabi Grand Prix', 'Circuit': {'circuitId': 'yas_marina', 'url': 'http://en.wikipedia.org/wiki/Yas_Marina_Circuit', 'circuitName': 'Yas Marina Circuit', 'Location': {'lat': '24.4672', 'long': '54.6031', 'locality': 'Abu Dhabi', 'country': 'UAE'}}, 'date': '2018-11-25', 'time': '13:10:00Z', 'Results': [{'number': '44', 'position': '1', 'positionText': '1', 'points': '25', 'Driver': {'driverId': 'hamilton', 'permanentNumber': '44', 'code': 'HAM', 'url': 'http://en.wikipedia.org/wiki/Lewis_Hamilton', 'givenName': 'Lewis', 'familyName': 'Hamilton', 'dateOfBirth': '1985-01-07', 'nationality': 'British'}, 'Constructor': {'constructorId': 'mercedes', 'url': 'http://en.wikipedia.org/wiki/Mercedes-Benz_in_Formula_One', 'name': 'Mercedes', 'nationality': 'German'}, 'grid': '1', 'laps': '55', 'status': 'Finished', 'Time': {'millis': '5980382', 'time': '1:39:40.382'}, 'FastestLap': {'rank': '5', 'lap': '53', 'Time': {'time': '1:41.357'}, 'AverageSpeed': {'units': 'kph', 'speed': '197.267'}}}]}]}\n"
          ]
        }
      ]
    },
    {
      "cell_type": "code",
      "source": [
        "print(race[\"MRData\"]['RaceTable'])"
      ],
      "metadata": {
        "colab": {
          "base_uri": "https://localhost:8080/"
        },
        "id": "rHwDFw6guBdG",
        "outputId": "7c471eb8-b1b7-4d7d-fffb-3356db14cff0"
      },
      "execution_count": null,
      "outputs": [
        {
          "output_type": "stream",
          "name": "stdout",
          "text": [
            "{'season': '2018', 'driverId': 'hamilton', 'Races': [{'season': '2018', 'round': '1', 'url': 'http://en.wikipedia.org/wiki/2018_Australian_Grand_Prix', 'raceName': 'Australian Grand Prix', 'Circuit': {'circuitId': 'albert_park', 'url': 'http://en.wikipedia.org/wiki/Melbourne_Grand_Prix_Circuit', 'circuitName': 'Albert Park Grand Prix Circuit', 'Location': {'lat': '-37.8497', 'long': '144.968', 'locality': 'Melbourne', 'country': 'Australia'}}, 'date': '2018-03-25', 'time': '05:10:00Z', 'Results': [{'number': '44', 'position': '2', 'positionText': '2', 'points': '18', 'Driver': {'driverId': 'hamilton', 'permanentNumber': '44', 'code': 'HAM', 'url': 'http://en.wikipedia.org/wiki/Lewis_Hamilton', 'givenName': 'Lewis', 'familyName': 'Hamilton', 'dateOfBirth': '1985-01-07', 'nationality': 'British'}, 'Constructor': {'constructorId': 'mercedes', 'url': 'http://en.wikipedia.org/wiki/Mercedes-Benz_in_Formula_One', 'name': 'Mercedes', 'nationality': 'German'}, 'grid': '1', 'laps': '58', 'status': 'Finished', 'Time': {'millis': '5378319', 'time': '+5.036'}, 'FastestLap': {'rank': '3', 'lap': '50', 'Time': {'time': '1:26.444'}, 'AverageSpeed': {'units': 'kph', 'speed': '220.845'}}}]}, {'season': '2018', 'round': '2', 'url': 'http://en.wikipedia.org/wiki/2018_Bahrain_Grand_Prix', 'raceName': 'Bahrain Grand Prix', 'Circuit': {'circuitId': 'bahrain', 'url': 'http://en.wikipedia.org/wiki/Bahrain_International_Circuit', 'circuitName': 'Bahrain International Circuit', 'Location': {'lat': '26.0325', 'long': '50.5106', 'locality': 'Sakhir', 'country': 'Bahrain'}}, 'date': '2018-04-08', 'time': '15:10:00Z', 'Results': [{'number': '44', 'position': '3', 'positionText': '3', 'points': '15', 'Driver': {'driverId': 'hamilton', 'permanentNumber': '44', 'code': 'HAM', 'url': 'http://en.wikipedia.org/wiki/Lewis_Hamilton', 'givenName': 'Lewis', 'familyName': 'Hamilton', 'dateOfBirth': '1985-01-07', 'nationality': 'British'}, 'Constructor': {'constructorId': 'mercedes', 'url': 'http://en.wikipedia.org/wiki/Mercedes-Benz_in_Formula_One', 'name': 'Mercedes', 'nationality': 'German'}, 'grid': '9', 'laps': '57', 'status': 'Finished', 'Time': {'millis': '5528452', 'time': '+6.512'}, 'FastestLap': {'rank': '2', 'lap': '51', 'Time': {'time': '1:33.953'}, 'AverageSpeed': {'units': 'kph', 'speed': '207.371'}}}]}, {'season': '2018', 'round': '3', 'url': 'http://en.wikipedia.org/wiki/2018_Chinese_Grand_Prix', 'raceName': 'Chinese Grand Prix', 'Circuit': {'circuitId': 'shanghai', 'url': 'http://en.wikipedia.org/wiki/Shanghai_International_Circuit', 'circuitName': 'Shanghai International Circuit', 'Location': {'lat': '31.3389', 'long': '121.22', 'locality': 'Shanghai', 'country': 'China'}}, 'date': '2018-04-15', 'time': '06:10:00Z', 'Results': [{'number': '44', 'position': '4', 'positionText': '4', 'points': '12', 'Driver': {'driverId': 'hamilton', 'permanentNumber': '44', 'code': 'HAM', 'url': 'http://en.wikipedia.org/wiki/Lewis_Hamilton', 'givenName': 'Lewis', 'familyName': 'Hamilton', 'dateOfBirth': '1985-01-07', 'nationality': 'British'}, 'Constructor': {'constructorId': 'mercedes', 'url': 'http://en.wikipedia.org/wiki/Mercedes-Benz_in_Formula_One', 'name': 'Mercedes', 'nationality': 'German'}, 'grid': '4', 'laps': '56', 'status': 'Finished', 'Time': {'millis': '5753365', 'time': '+16.985'}, 'FastestLap': {'rank': '4', 'lap': '20', 'Time': {'time': '1:36.878'}, 'AverageSpeed': {'units': 'kph', 'speed': '202.559'}}}]}, {'season': '2018', 'round': '4', 'url': 'http://en.wikipedia.org/wiki/2018_Azerbaijan_Grand_Prix', 'raceName': 'Azerbaijan Grand Prix', 'Circuit': {'circuitId': 'baku', 'url': 'http://en.wikipedia.org/wiki/Baku_City_Circuit', 'circuitName': 'Baku City Circuit', 'Location': {'lat': '40.3725', 'long': '49.8533', 'locality': 'Baku', 'country': 'Azerbaijan'}}, 'date': '2018-04-29', 'time': '12:10:00Z', 'Results': [{'number': '44', 'position': '1', 'positionText': '1', 'points': '25', 'Driver': {'driverId': 'hamilton', 'permanentNumber': '44', 'code': 'HAM', 'url': 'http://en.wikipedia.org/wiki/Lewis_Hamilton', 'givenName': 'Lewis', 'familyName': 'Hamilton', 'dateOfBirth': '1985-01-07', 'nationality': 'British'}, 'Constructor': {'constructorId': 'mercedes', 'url': 'http://en.wikipedia.org/wiki/Mercedes-Benz_in_Formula_One', 'name': 'Mercedes', 'nationality': 'German'}, 'grid': '2', 'laps': '51', 'status': 'Finished', 'Time': {'millis': '6224291', 'time': '1:43:44.291'}, 'FastestLap': {'rank': '2', 'lap': '35', 'Time': {'time': '1:45.412'}, 'AverageSpeed': {'units': 'kph', 'speed': '205.012'}}}]}, {'season': '2018', 'round': '5', 'url': 'http://en.wikipedia.org/wiki/2018_Spanish_Grand_Prix', 'raceName': 'Spanish Grand Prix', 'Circuit': {'circuitId': 'catalunya', 'url': 'http://en.wikipedia.org/wiki/Circuit_de_Barcelona-Catalunya', 'circuitName': 'Circuit de Barcelona-Catalunya', 'Location': {'lat': '41.57', 'long': '2.26111', 'locality': 'Montmeló', 'country': 'Spain'}}, 'date': '2018-05-13', 'time': '13:10:00Z', 'Results': [{'number': '44', 'position': '1', 'positionText': '1', 'points': '25', 'Driver': {'driverId': 'hamilton', 'permanentNumber': '44', 'code': 'HAM', 'url': 'http://en.wikipedia.org/wiki/Lewis_Hamilton', 'givenName': 'Lewis', 'familyName': 'Hamilton', 'dateOfBirth': '1985-01-07', 'nationality': 'British'}, 'Constructor': {'constructorId': 'mercedes', 'url': 'http://en.wikipedia.org/wiki/Mercedes-Benz_in_Formula_One', 'name': 'Mercedes', 'nationality': 'German'}, 'grid': '1', 'laps': '66', 'status': 'Finished', 'Time': {'millis': '5729972', 'time': '1:35:29.972'}, 'FastestLap': {'rank': '3', 'lap': '64', 'Time': {'time': '1:19.133'}, 'AverageSpeed': {'units': 'kph', 'speed': '211.770'}}}]}, {'season': '2018', 'round': '6', 'url': 'http://en.wikipedia.org/wiki/2018_Monaco_Grand_Prix', 'raceName': 'Monaco Grand Prix', 'Circuit': {'circuitId': 'monaco', 'url': 'http://en.wikipedia.org/wiki/Circuit_de_Monaco', 'circuitName': 'Circuit de Monaco', 'Location': {'lat': '43.7347', 'long': '7.42056', 'locality': 'Monte-Carlo', 'country': 'Monaco'}}, 'date': '2018-05-27', 'time': '13:10:00Z', 'Results': [{'number': '44', 'position': '3', 'positionText': '3', 'points': '15', 'Driver': {'driverId': 'hamilton', 'permanentNumber': '44', 'code': 'HAM', 'url': 'http://en.wikipedia.org/wiki/Lewis_Hamilton', 'givenName': 'Lewis', 'familyName': 'Hamilton', 'dateOfBirth': '1985-01-07', 'nationality': 'British'}, 'Constructor': {'constructorId': 'mercedes', 'url': 'http://en.wikipedia.org/wiki/Mercedes-Benz_in_Formula_One', 'name': 'Mercedes', 'nationality': 'German'}, 'grid': '3', 'laps': '78', 'status': 'Finished', 'Time': {'millis': '6191820', 'time': '+17.013'}, 'FastestLap': {'rank': '8', 'lap': '15', 'Time': {'time': '1:16.270'}, 'AverageSpeed': {'units': 'kph', 'speed': '157.508'}}}]}, {'season': '2018', 'round': '7', 'url': 'http://en.wikipedia.org/wiki/2018_Canadian_Grand_Prix', 'raceName': 'Canadian Grand Prix', 'Circuit': {'circuitId': 'villeneuve', 'url': 'http://en.wikipedia.org/wiki/Circuit_Gilles_Villeneuve', 'circuitName': 'Circuit Gilles Villeneuve', 'Location': {'lat': '45.5', 'long': '-73.5228', 'locality': 'Montreal', 'country': 'Canada'}}, 'date': '2018-06-10', 'time': '18:10:00Z', 'Results': [{'number': '44', 'position': '5', 'positionText': '5', 'points': '10', 'Driver': {'driverId': 'hamilton', 'permanentNumber': '44', 'code': 'HAM', 'url': 'http://en.wikipedia.org/wiki/Lewis_Hamilton', 'givenName': 'Lewis', 'familyName': 'Hamilton', 'dateOfBirth': '1985-01-07', 'nationality': 'British'}, 'Constructor': {'constructorId': 'mercedes', 'url': 'http://en.wikipedia.org/wiki/Mercedes-Benz_in_Formula_One', 'name': 'Mercedes', 'nationality': 'German'}, 'grid': '4', 'laps': '68', 'status': 'Finished', 'Time': {'millis': '5332936', 'time': '+21.559'}, 'FastestLap': {'rank': '6', 'lap': '66', 'Time': {'time': '1:14.183'}, 'AverageSpeed': {'units': 'kph', 'speed': '211.633'}}}]}, {'season': '2018', 'round': '8', 'url': 'http://en.wikipedia.org/wiki/2018_French_Grand_Prix', 'raceName': 'French Grand Prix', 'Circuit': {'circuitId': 'ricard', 'url': 'http://en.wikipedia.org/wiki/Paul_Ricard_Circuit', 'circuitName': 'Circuit Paul Ricard', 'Location': {'lat': '43.2506', 'long': '5.79167', 'locality': 'Le Castellet', 'country': 'France'}}, 'date': '2018-06-24', 'time': '14:10:00Z', 'Results': [{'number': '44', 'position': '1', 'positionText': '1', 'points': '25', 'Driver': {'driverId': 'hamilton', 'permanentNumber': '44', 'code': 'HAM', 'url': 'http://en.wikipedia.org/wiki/Lewis_Hamilton', 'givenName': 'Lewis', 'familyName': 'Hamilton', 'dateOfBirth': '1985-01-07', 'nationality': 'British'}, 'Constructor': {'constructorId': 'mercedes', 'url': 'http://en.wikipedia.org/wiki/Mercedes-Benz_in_Formula_One', 'name': 'Mercedes', 'nationality': 'German'}, 'grid': '1', 'laps': '53', 'status': 'Finished', 'Time': {'millis': '5411385', 'time': '1:30:11.385'}, 'FastestLap': {'rank': '5', 'lap': '49', 'Time': {'time': '1:34.509'}, 'AverageSpeed': {'units': 'kph', 'speed': '222.531'}}}]}, {'season': '2018', 'round': '9', 'url': 'http://en.wikipedia.org/wiki/2018_Austrian_Grand_Prix', 'raceName': 'Austrian Grand Prix', 'Circuit': {'circuitId': 'red_bull_ring', 'url': 'http://en.wikipedia.org/wiki/Red_Bull_Ring', 'circuitName': 'Red Bull Ring', 'Location': {'lat': '47.2197', 'long': '14.7647', 'locality': 'Spielberg', 'country': 'Austria'}}, 'date': '2018-07-01', 'time': '13:10:00Z', 'Results': [{'number': '44', 'position': '16', 'positionText': 'R', 'points': '0', 'Driver': {'driverId': 'hamilton', 'permanentNumber': '44', 'code': 'HAM', 'url': 'http://en.wikipedia.org/wiki/Lewis_Hamilton', 'givenName': 'Lewis', 'familyName': 'Hamilton', 'dateOfBirth': '1985-01-07', 'nationality': 'British'}, 'Constructor': {'constructorId': 'mercedes', 'url': 'http://en.wikipedia.org/wiki/Mercedes-Benz_in_Formula_One', 'name': 'Mercedes', 'nationality': 'German'}, 'grid': '2', 'laps': '62', 'status': 'Fuel pressure', 'FastestLap': {'rank': '3', 'lap': '58', 'Time': {'time': '1:07.241'}, 'AverageSpeed': {'units': 'kph', 'speed': '231.180'}}}]}, {'season': '2018', 'round': '10', 'url': 'http://en.wikipedia.org/wiki/2018_British_Grand_Prix', 'raceName': 'British Grand Prix', 'Circuit': {'circuitId': 'silverstone', 'url': 'http://en.wikipedia.org/wiki/Silverstone_Circuit', 'circuitName': 'Silverstone Circuit', 'Location': {'lat': '52.0786', 'long': '-1.01694', 'locality': 'Silverstone', 'country': 'UK'}}, 'date': '2018-07-08', 'time': '13:10:00Z', 'Results': [{'number': '44', 'position': '2', 'positionText': '2', 'points': '18', 'Driver': {'driverId': 'hamilton', 'permanentNumber': '44', 'code': 'HAM', 'url': 'http://en.wikipedia.org/wiki/Lewis_Hamilton', 'givenName': 'Lewis', 'familyName': 'Hamilton', 'dateOfBirth': '1985-01-07', 'nationality': 'British'}, 'Constructor': {'constructorId': 'mercedes', 'url': 'http://en.wikipedia.org/wiki/Mercedes-Benz_in_Formula_One', 'name': 'Mercedes', 'nationality': 'German'}, 'grid': '1', 'laps': '52', 'status': 'Finished', 'Time': {'millis': '5252048', 'time': '+2.264'}, 'FastestLap': {'rank': '3', 'lap': '52', 'Time': {'time': '1:31.245'}, 'AverageSpeed': {'units': 'kph', 'speed': '232.424'}}}]}, {'season': '2018', 'round': '11', 'url': 'http://en.wikipedia.org/wiki/2018_German_Grand_Prix', 'raceName': 'German Grand Prix', 'Circuit': {'circuitId': 'hockenheimring', 'url': 'http://en.wikipedia.org/wiki/Hockenheimring', 'circuitName': 'Hockenheimring', 'Location': {'lat': '49.3278', 'long': '8.56583', 'locality': 'Hockenheim', 'country': 'Germany'}}, 'date': '2018-07-22', 'time': '13:10:00Z', 'Results': [{'number': '44', 'position': '1', 'positionText': '1', 'points': '25', 'Driver': {'driverId': 'hamilton', 'permanentNumber': '44', 'code': 'HAM', 'url': 'http://en.wikipedia.org/wiki/Lewis_Hamilton', 'givenName': 'Lewis', 'familyName': 'Hamilton', 'dateOfBirth': '1985-01-07', 'nationality': 'British'}, 'Constructor': {'constructorId': 'mercedes', 'url': 'http://en.wikipedia.org/wiki/Mercedes-Benz_in_Formula_One', 'name': 'Mercedes', 'nationality': 'German'}, 'grid': '14', 'laps': '67', 'status': 'Finished', 'Time': {'millis': '5549845', 'time': '1:32:29.845'}, 'FastestLap': {'rank': '1', 'lap': '66', 'Time': {'time': '1:15.545'}, 'AverageSpeed': {'units': 'kph', 'speed': '217.968'}}}]}, {'season': '2018', 'round': '12', 'url': 'http://en.wikipedia.org/wiki/2018_Hungarian_Grand_Prix', 'raceName': 'Hungarian Grand Prix', 'Circuit': {'circuitId': 'hungaroring', 'url': 'http://en.wikipedia.org/wiki/Hungaroring', 'circuitName': 'Hungaroring', 'Location': {'lat': '47.5789', 'long': '19.2486', 'locality': 'Budapest', 'country': 'Hungary'}}, 'date': '2018-07-29', 'time': '13:10:00Z', 'Results': [{'number': '44', 'position': '1', 'positionText': '1', 'points': '25', 'Driver': {'driverId': 'hamilton', 'permanentNumber': '44', 'code': 'HAM', 'url': 'http://en.wikipedia.org/wiki/Lewis_Hamilton', 'givenName': 'Lewis', 'familyName': 'Hamilton', 'dateOfBirth': '1985-01-07', 'nationality': 'British'}, 'Constructor': {'constructorId': 'mercedes', 'url': 'http://en.wikipedia.org/wiki/Mercedes-Benz_in_Formula_One', 'name': 'Mercedes', 'nationality': 'German'}, 'grid': '1', 'laps': '70', 'status': 'Finished', 'Time': {'millis': '5836427', 'time': '1:37:16.427'}, 'FastestLap': {'rank': '4', 'lap': '63', 'Time': {'time': '1:21.107'}, 'AverageSpeed': {'units': 'kph', 'speed': '194.454'}}}]}, {'season': '2018', 'round': '13', 'url': 'http://en.wikipedia.org/wiki/2018_Belgian_Grand_Prix', 'raceName': 'Belgian Grand Prix', 'Circuit': {'circuitId': 'spa', 'url': 'http://en.wikipedia.org/wiki/Circuit_de_Spa-Francorchamps', 'circuitName': 'Circuit de Spa-Francorchamps', 'Location': {'lat': '50.4372', 'long': '5.97139', 'locality': 'Spa', 'country': 'Belgium'}}, 'date': '2018-08-26', 'time': '13:10:00Z', 'Results': [{'number': '44', 'position': '2', 'positionText': '2', 'points': '18', 'Driver': {'driverId': 'hamilton', 'permanentNumber': '44', 'code': 'HAM', 'url': 'http://en.wikipedia.org/wiki/Lewis_Hamilton', 'givenName': 'Lewis', 'familyName': 'Hamilton', 'dateOfBirth': '1985-01-07', 'nationality': 'British'}, 'Constructor': {'constructorId': 'mercedes', 'url': 'http://en.wikipedia.org/wiki/Mercedes-Benz_in_Formula_One', 'name': 'Mercedes', 'nationality': 'German'}, 'grid': '1', 'laps': '44', 'status': 'Finished', 'Time': {'millis': '5025537', 'time': '+11.061'}, 'FastestLap': {'rank': '3', 'lap': '23', 'Time': {'time': '1:46.721'}, 'AverageSpeed': {'units': 'kph', 'speed': '236.264'}}}]}, {'season': '2018', 'round': '14', 'url': 'http://en.wikipedia.org/wiki/2018_Italian_Grand_Prix', 'raceName': 'Italian Grand Prix', 'Circuit': {'circuitId': 'monza', 'url': 'http://en.wikipedia.org/wiki/Autodromo_Nazionale_Monza', 'circuitName': 'Autodromo Nazionale di Monza', 'Location': {'lat': '45.6156', 'long': '9.28111', 'locality': 'Monza', 'country': 'Italy'}}, 'date': '2018-09-02', 'time': '13:10:00Z', 'Results': [{'number': '44', 'position': '1', 'positionText': '1', 'points': '25', 'Driver': {'driverId': 'hamilton', 'permanentNumber': '44', 'code': 'HAM', 'url': 'http://en.wikipedia.org/wiki/Lewis_Hamilton', 'givenName': 'Lewis', 'familyName': 'Hamilton', 'dateOfBirth': '1985-01-07', 'nationality': 'British'}, 'Constructor': {'constructorId': 'mercedes', 'url': 'http://en.wikipedia.org/wiki/Mercedes-Benz_in_Formula_One', 'name': 'Mercedes', 'nationality': 'German'}, 'grid': '3', 'laps': '53', 'status': 'Finished', 'Time': {'millis': '4614484', 'time': '1:16:54.484'}, 'FastestLap': {'rank': '1', 'lap': '30', 'Time': {'time': '1:22.497'}, 'AverageSpeed': {'units': 'kph', 'speed': '252.794'}}}]}, {'season': '2018', 'round': '15', 'url': 'http://en.wikipedia.org/wiki/2018_Singapore_Grand_Prix', 'raceName': 'Singapore Grand Prix', 'Circuit': {'circuitId': 'marina_bay', 'url': 'http://en.wikipedia.org/wiki/Marina_Bay_Street_Circuit', 'circuitName': 'Marina Bay Street Circuit', 'Location': {'lat': '1.2914', 'long': '103.864', 'locality': 'Marina Bay', 'country': 'Singapore'}}, 'date': '2018-09-16', 'time': '12:10:00Z', 'Results': [{'number': '44', 'position': '1', 'positionText': '1', 'points': '25', 'Driver': {'driverId': 'hamilton', 'permanentNumber': '44', 'code': 'HAM', 'url': 'http://en.wikipedia.org/wiki/Lewis_Hamilton', 'givenName': 'Lewis', 'familyName': 'Hamilton', 'dateOfBirth': '1985-01-07', 'nationality': 'British'}, 'Constructor': {'constructorId': 'mercedes', 'url': 'http://en.wikipedia.org/wiki/Mercedes-Benz_in_Formula_One', 'name': 'Mercedes', 'nationality': 'German'}, 'grid': '1', 'laps': '61', 'status': 'Finished', 'Time': {'millis': '6671611', 'time': '1:51:11.611'}, 'FastestLap': {'rank': '2', 'lap': '56', 'Time': {'time': '1:42.913'}, 'AverageSpeed': {'units': 'kph', 'speed': '177.108'}}}]}, {'season': '2018', 'round': '16', 'url': 'http://en.wikipedia.org/wiki/2018_Russian_Grand_Prix', 'raceName': 'Russian Grand Prix', 'Circuit': {'circuitId': 'sochi', 'url': 'http://en.wikipedia.org/wiki/Sochi_Autodrom', 'circuitName': 'Sochi Autodrom', 'Location': {'lat': '43.4057', 'long': '39.9578', 'locality': 'Sochi', 'country': 'Russia'}}, 'date': '2018-09-30', 'time': '11:10:00Z', 'Results': [{'number': '44', 'position': '1', 'positionText': '1', 'points': '25', 'Driver': {'driverId': 'hamilton', 'permanentNumber': '44', 'code': 'HAM', 'url': 'http://en.wikipedia.org/wiki/Lewis_Hamilton', 'givenName': 'Lewis', 'familyName': 'Hamilton', 'dateOfBirth': '1985-01-07', 'nationality': 'British'}, 'Constructor': {'constructorId': 'mercedes', 'url': 'http://en.wikipedia.org/wiki/Mercedes-Benz_in_Formula_One', 'name': 'Mercedes', 'nationality': 'German'}, 'grid': '2', 'laps': '53', 'status': 'Finished', 'Time': {'millis': '5245181', 'time': '1:27:25.181'}, 'FastestLap': {'rank': '2', 'lap': '50', 'Time': {'time': '1:35.916'}, 'AverageSpeed': {'units': 'kph', 'speed': '219.492'}}}]}, {'season': '2018', 'round': '17', 'url': 'http://en.wikipedia.org/wiki/2018_Japanese_Grand_Prix', 'raceName': 'Japanese Grand Prix', 'Circuit': {'circuitId': 'suzuka', 'url': 'http://en.wikipedia.org/wiki/Suzuka_Circuit', 'circuitName': 'Suzuka Circuit', 'Location': {'lat': '34.8431', 'long': '136.541', 'locality': 'Suzuka', 'country': 'Japan'}}, 'date': '2018-10-07', 'time': '05:10:00Z', 'Results': [{'number': '44', 'position': '1', 'positionText': '1', 'points': '25', 'Driver': {'driverId': 'hamilton', 'permanentNumber': '44', 'code': 'HAM', 'url': 'http://en.wikipedia.org/wiki/Lewis_Hamilton', 'givenName': 'Lewis', 'familyName': 'Hamilton', 'dateOfBirth': '1985-01-07', 'nationality': 'British'}, 'Constructor': {'constructorId': 'mercedes', 'url': 'http://en.wikipedia.org/wiki/Mercedes-Benz_in_Formula_One', 'name': 'Mercedes', 'nationality': 'German'}, 'grid': '1', 'laps': '53', 'status': 'Finished', 'Time': {'millis': '5237062', 'time': '1:27:17.062'}, 'FastestLap': {'rank': '2', 'lap': '51', 'Time': {'time': '1:32.785'}, 'AverageSpeed': {'units': 'kph', 'speed': '225.307'}}}]}, {'season': '2018', 'round': '18', 'url': 'http://en.wikipedia.org/wiki/2018_United_States_Grand_Prix', 'raceName': 'United States Grand Prix', 'Circuit': {'circuitId': 'americas', 'url': 'http://en.wikipedia.org/wiki/Circuit_of_the_Americas', 'circuitName': 'Circuit of the Americas', 'Location': {'lat': '30.1328', 'long': '-97.6411', 'locality': 'Austin', 'country': 'USA'}}, 'date': '2018-10-21', 'time': '18:10:00Z', 'Results': [{'number': '44', 'position': '3', 'positionText': '3', 'points': '15', 'Driver': {'driverId': 'hamilton', 'permanentNumber': '44', 'code': 'HAM', 'url': 'http://en.wikipedia.org/wiki/Lewis_Hamilton', 'givenName': 'Lewis', 'familyName': 'Hamilton', 'dateOfBirth': '1985-01-07', 'nationality': 'British'}, 'Constructor': {'constructorId': 'mercedes', 'url': 'http://en.wikipedia.org/wiki/Mercedes-Benz_in_Formula_One', 'name': 'Mercedes', 'nationality': 'German'}, 'grid': '1', 'laps': '56', 'status': 'Finished', 'Time': {'millis': '5660985', 'time': '+2.342'}, 'FastestLap': {'rank': '1', 'lap': '40', 'Time': {'time': '1:37.392'}, 'AverageSpeed': {'units': 'kph', 'speed': '203.782'}}}]}, {'season': '2018', 'round': '19', 'url': 'http://en.wikipedia.org/wiki/2018_Mexican_Grand_Prix', 'raceName': 'Mexican Grand Prix', 'Circuit': {'circuitId': 'rodriguez', 'url': 'http://en.wikipedia.org/wiki/Aut%C3%B3dromo_Hermanos_Rodr%C3%ADguez', 'circuitName': 'Autódromo Hermanos Rodríguez', 'Location': {'lat': '19.4042', 'long': '-99.0907', 'locality': 'Mexico City', 'country': 'Mexico'}}, 'date': '2018-10-28', 'time': '19:10:00Z', 'Results': [{'number': '44', 'position': '4', 'positionText': '4', 'points': '12', 'Driver': {'driverId': 'hamilton', 'permanentNumber': '44', 'code': 'HAM', 'url': 'http://en.wikipedia.org/wiki/Lewis_Hamilton', 'givenName': 'Lewis', 'familyName': 'Hamilton', 'dateOfBirth': '1985-01-07', 'nationality': 'British'}, 'Constructor': {'constructorId': 'mercedes', 'url': 'http://en.wikipedia.org/wiki/Mercedes-Benz_in_Formula_One', 'name': 'Mercedes', 'nationality': 'German'}, 'grid': '3', 'laps': '71', 'status': 'Finished', 'Time': {'millis': '5987589', 'time': '+1:18.738'}, 'FastestLap': {'rank': '8', 'lap': '49', 'Time': {'time': '1:20.728'}, 'AverageSpeed': {'units': 'kph', 'speed': '191.933'}}}]}, {'season': '2018', 'round': '20', 'url': 'http://en.wikipedia.org/wiki/2018_Brazilian_Grand_Prix', 'raceName': 'Brazilian Grand Prix', 'Circuit': {'circuitId': 'interlagos', 'url': 'http://en.wikipedia.org/wiki/Aut%C3%B3dromo_Jos%C3%A9_Carlos_Pace', 'circuitName': 'Autódromo José Carlos Pace', 'Location': {'lat': '-23.7036', 'long': '-46.6997', 'locality': 'São Paulo', 'country': 'Brazil'}}, 'date': '2018-11-11', 'time': '17:10:00Z', 'Results': [{'number': '44', 'position': '1', 'positionText': '1', 'points': '25', 'Driver': {'driverId': 'hamilton', 'permanentNumber': '44', 'code': 'HAM', 'url': 'http://en.wikipedia.org/wiki/Lewis_Hamilton', 'givenName': 'Lewis', 'familyName': 'Hamilton', 'dateOfBirth': '1985-01-07', 'nationality': 'British'}, 'Constructor': {'constructorId': 'mercedes', 'url': 'http://en.wikipedia.org/wiki/Mercedes-Benz_in_Formula_One', 'name': 'Mercedes', 'nationality': 'German'}, 'grid': '1', 'laps': '71', 'status': 'Finished', 'Time': {'millis': '5229066', 'time': '1:27:09.066'}, 'FastestLap': {'rank': '7', 'lap': '70', 'Time': {'time': '1:11.795'}, 'AverageSpeed': {'units': 'kph', 'speed': '216.065'}}}]}, {'season': '2018', 'round': '21', 'url': 'http://en.wikipedia.org/wiki/2018_Abu_Dhabi_Grand_Prix', 'raceName': 'Abu Dhabi Grand Prix', 'Circuit': {'circuitId': 'yas_marina', 'url': 'http://en.wikipedia.org/wiki/Yas_Marina_Circuit', 'circuitName': 'Yas Marina Circuit', 'Location': {'lat': '24.4672', 'long': '54.6031', 'locality': 'Abu Dhabi', 'country': 'UAE'}}, 'date': '2018-11-25', 'time': '13:10:00Z', 'Results': [{'number': '44', 'position': '1', 'positionText': '1', 'points': '25', 'Driver': {'driverId': 'hamilton', 'permanentNumber': '44', 'code': 'HAM', 'url': 'http://en.wikipedia.org/wiki/Lewis_Hamilton', 'givenName': 'Lewis', 'familyName': 'Hamilton', 'dateOfBirth': '1985-01-07', 'nationality': 'British'}, 'Constructor': {'constructorId': 'mercedes', 'url': 'http://en.wikipedia.org/wiki/Mercedes-Benz_in_Formula_One', 'name': 'Mercedes', 'nationality': 'German'}, 'grid': '1', 'laps': '55', 'status': 'Finished', 'Time': {'millis': '5980382', 'time': '1:39:40.382'}, 'FastestLap': {'rank': '5', 'lap': '53', 'Time': {'time': '1:41.357'}, 'AverageSpeed': {'units': 'kph', 'speed': '197.267'}}}]}]}\n"
          ]
        }
      ]
    },
    {
      "cell_type": "code",
      "source": [
        "type(race[\"MRData\"]['RaceTable'])"
      ],
      "metadata": {
        "colab": {
          "base_uri": "https://localhost:8080/"
        },
        "id": "8JLVkruy-65B",
        "outputId": "59af5442-f5ce-4b47-b36f-6b3f2cb61f42"
      },
      "execution_count": null,
      "outputs": [
        {
          "output_type": "execute_result",
          "data": {
            "text/plain": [
              "dict"
            ]
          },
          "metadata": {},
          "execution_count": 6
        }
      ]
    },
    {
      "cell_type": "code",
      "source": [
        "type(race[\"MRData\"]['offset'])"
      ],
      "metadata": {
        "colab": {
          "base_uri": "https://localhost:8080/"
        },
        "id": "Zy23013XvqMT",
        "outputId": "ec8c704b-0650-4688-d364-e56c81d7e2f2"
      },
      "execution_count": null,
      "outputs": [
        {
          "output_type": "execute_result",
          "data": {
            "text/plain": [
              "str"
            ]
          },
          "metadata": {},
          "execution_count": 7
        }
      ]
    },
    {
      "cell_type": "code",
      "source": [
        "racetable = race[\"MRData\"]['RaceTable']"
      ],
      "metadata": {
        "id": "-MXaSS0vvUBb"
      },
      "execution_count": null,
      "outputs": []
    },
    {
      "cell_type": "code",
      "source": [
        "type(racetable)"
      ],
      "metadata": {
        "colab": {
          "base_uri": "https://localhost:8080/"
        },
        "id": "_iYVaDgB-T4a",
        "outputId": "54e29617-424c-423b-f4b8-a3cf9085457c"
      },
      "execution_count": null,
      "outputs": [
        {
          "output_type": "execute_result",
          "data": {
            "text/plain": [
              "dict"
            ]
          },
          "metadata": {},
          "execution_count": 87
        }
      ]
    },
    {
      "cell_type": "code",
      "source": [
        "type(race[\"MRData\"]['total'])"
      ],
      "metadata": {
        "colab": {
          "base_uri": "https://localhost:8080/"
        },
        "id": "4QXdLGRg-bYM",
        "outputId": "8285e226-1721-48b2-91f8-1871d35d20ec"
      },
      "execution_count": null,
      "outputs": [
        {
          "output_type": "execute_result",
          "data": {
            "text/plain": [
              "str"
            ]
          },
          "metadata": {},
          "execution_count": 88
        }
      ]
    },
    {
      "cell_type": "code",
      "source": [
        "for key, val in racetable.items():\n",
        "    for i in val:\n",
        "        print(\"{} : {}\".format(key, i))\n",
        "        print(\"--------------------\")\n",
        "        \n",
        "\n",
        "\n",
        "    "
      ],
      "metadata": {
        "colab": {
          "base_uri": "https://localhost:8080/"
        },
        "id": "gqNc0NZLwAqW",
        "outputId": "12fba060-ea94-43a4-cf69-c2fca29e3c7f"
      },
      "execution_count": null,
      "outputs": [
        {
          "output_type": "stream",
          "name": "stdout",
          "text": [
            "season : 2\n",
            "--------------------\n",
            "season : 0\n",
            "--------------------\n",
            "season : 1\n",
            "--------------------\n",
            "season : 8\n",
            "--------------------\n",
            "driverId : h\n",
            "--------------------\n",
            "driverId : a\n",
            "--------------------\n",
            "driverId : m\n",
            "--------------------\n",
            "driverId : i\n",
            "--------------------\n",
            "driverId : l\n",
            "--------------------\n",
            "driverId : t\n",
            "--------------------\n",
            "driverId : o\n",
            "--------------------\n",
            "driverId : n\n",
            "--------------------\n",
            "Races : {'season': '2018', 'round': '1', 'url': 'http://en.wikipedia.org/wiki/2018_Australian_Grand_Prix', 'raceName': 'Australian Grand Prix', 'Circuit': {'circuitId': 'albert_park', 'url': 'http://en.wikipedia.org/wiki/Melbourne_Grand_Prix_Circuit', 'circuitName': 'Albert Park Grand Prix Circuit', 'Location': {'lat': '-37.8497', 'long': '144.968', 'locality': 'Melbourne', 'country': 'Australia'}}, 'date': '2018-03-25', 'time': '05:10:00Z', 'Results': [{'number': '44', 'position': '2', 'positionText': '2', 'points': '18', 'Driver': {'driverId': 'hamilton', 'permanentNumber': '44', 'code': 'HAM', 'url': 'http://en.wikipedia.org/wiki/Lewis_Hamilton', 'givenName': 'Lewis', 'familyName': 'Hamilton', 'dateOfBirth': '1985-01-07', 'nationality': 'British'}, 'Constructor': {'constructorId': 'mercedes', 'url': 'http://en.wikipedia.org/wiki/Mercedes-Benz_in_Formula_One', 'name': 'Mercedes', 'nationality': 'German'}, 'grid': '1', 'laps': '58', 'status': 'Finished', 'Time': {'millis': '5378319', 'time': '+5.036'}, 'FastestLap': {'rank': '3', 'lap': '50', 'Time': {'time': '1:26.444'}, 'AverageSpeed': {'units': 'kph', 'speed': '220.845'}}}]}\n",
            "--------------------\n",
            "Races : {'season': '2018', 'round': '2', 'url': 'http://en.wikipedia.org/wiki/2018_Bahrain_Grand_Prix', 'raceName': 'Bahrain Grand Prix', 'Circuit': {'circuitId': 'bahrain', 'url': 'http://en.wikipedia.org/wiki/Bahrain_International_Circuit', 'circuitName': 'Bahrain International Circuit', 'Location': {'lat': '26.0325', 'long': '50.5106', 'locality': 'Sakhir', 'country': 'Bahrain'}}, 'date': '2018-04-08', 'time': '15:10:00Z', 'Results': [{'number': '44', 'position': '3', 'positionText': '3', 'points': '15', 'Driver': {'driverId': 'hamilton', 'permanentNumber': '44', 'code': 'HAM', 'url': 'http://en.wikipedia.org/wiki/Lewis_Hamilton', 'givenName': 'Lewis', 'familyName': 'Hamilton', 'dateOfBirth': '1985-01-07', 'nationality': 'British'}, 'Constructor': {'constructorId': 'mercedes', 'url': 'http://en.wikipedia.org/wiki/Mercedes-Benz_in_Formula_One', 'name': 'Mercedes', 'nationality': 'German'}, 'grid': '9', 'laps': '57', 'status': 'Finished', 'Time': {'millis': '5528452', 'time': '+6.512'}, 'FastestLap': {'rank': '2', 'lap': '51', 'Time': {'time': '1:33.953'}, 'AverageSpeed': {'units': 'kph', 'speed': '207.371'}}}]}\n",
            "--------------------\n",
            "Races : {'season': '2018', 'round': '3', 'url': 'http://en.wikipedia.org/wiki/2018_Chinese_Grand_Prix', 'raceName': 'Chinese Grand Prix', 'Circuit': {'circuitId': 'shanghai', 'url': 'http://en.wikipedia.org/wiki/Shanghai_International_Circuit', 'circuitName': 'Shanghai International Circuit', 'Location': {'lat': '31.3389', 'long': '121.22', 'locality': 'Shanghai', 'country': 'China'}}, 'date': '2018-04-15', 'time': '06:10:00Z', 'Results': [{'number': '44', 'position': '4', 'positionText': '4', 'points': '12', 'Driver': {'driverId': 'hamilton', 'permanentNumber': '44', 'code': 'HAM', 'url': 'http://en.wikipedia.org/wiki/Lewis_Hamilton', 'givenName': 'Lewis', 'familyName': 'Hamilton', 'dateOfBirth': '1985-01-07', 'nationality': 'British'}, 'Constructor': {'constructorId': 'mercedes', 'url': 'http://en.wikipedia.org/wiki/Mercedes-Benz_in_Formula_One', 'name': 'Mercedes', 'nationality': 'German'}, 'grid': '4', 'laps': '56', 'status': 'Finished', 'Time': {'millis': '5753365', 'time': '+16.985'}, 'FastestLap': {'rank': '4', 'lap': '20', 'Time': {'time': '1:36.878'}, 'AverageSpeed': {'units': 'kph', 'speed': '202.559'}}}]}\n",
            "--------------------\n",
            "Races : {'season': '2018', 'round': '4', 'url': 'http://en.wikipedia.org/wiki/2018_Azerbaijan_Grand_Prix', 'raceName': 'Azerbaijan Grand Prix', 'Circuit': {'circuitId': 'baku', 'url': 'http://en.wikipedia.org/wiki/Baku_City_Circuit', 'circuitName': 'Baku City Circuit', 'Location': {'lat': '40.3725', 'long': '49.8533', 'locality': 'Baku', 'country': 'Azerbaijan'}}, 'date': '2018-04-29', 'time': '12:10:00Z', 'Results': [{'number': '44', 'position': '1', 'positionText': '1', 'points': '25', 'Driver': {'driverId': 'hamilton', 'permanentNumber': '44', 'code': 'HAM', 'url': 'http://en.wikipedia.org/wiki/Lewis_Hamilton', 'givenName': 'Lewis', 'familyName': 'Hamilton', 'dateOfBirth': '1985-01-07', 'nationality': 'British'}, 'Constructor': {'constructorId': 'mercedes', 'url': 'http://en.wikipedia.org/wiki/Mercedes-Benz_in_Formula_One', 'name': 'Mercedes', 'nationality': 'German'}, 'grid': '2', 'laps': '51', 'status': 'Finished', 'Time': {'millis': '6224291', 'time': '1:43:44.291'}, 'FastestLap': {'rank': '2', 'lap': '35', 'Time': {'time': '1:45.412'}, 'AverageSpeed': {'units': 'kph', 'speed': '205.012'}}}]}\n",
            "--------------------\n",
            "Races : {'season': '2018', 'round': '5', 'url': 'http://en.wikipedia.org/wiki/2018_Spanish_Grand_Prix', 'raceName': 'Spanish Grand Prix', 'Circuit': {'circuitId': 'catalunya', 'url': 'http://en.wikipedia.org/wiki/Circuit_de_Barcelona-Catalunya', 'circuitName': 'Circuit de Barcelona-Catalunya', 'Location': {'lat': '41.57', 'long': '2.26111', 'locality': 'Montmeló', 'country': 'Spain'}}, 'date': '2018-05-13', 'time': '13:10:00Z', 'Results': [{'number': '44', 'position': '1', 'positionText': '1', 'points': '25', 'Driver': {'driverId': 'hamilton', 'permanentNumber': '44', 'code': 'HAM', 'url': 'http://en.wikipedia.org/wiki/Lewis_Hamilton', 'givenName': 'Lewis', 'familyName': 'Hamilton', 'dateOfBirth': '1985-01-07', 'nationality': 'British'}, 'Constructor': {'constructorId': 'mercedes', 'url': 'http://en.wikipedia.org/wiki/Mercedes-Benz_in_Formula_One', 'name': 'Mercedes', 'nationality': 'German'}, 'grid': '1', 'laps': '66', 'status': 'Finished', 'Time': {'millis': '5729972', 'time': '1:35:29.972'}, 'FastestLap': {'rank': '3', 'lap': '64', 'Time': {'time': '1:19.133'}, 'AverageSpeed': {'units': 'kph', 'speed': '211.770'}}}]}\n",
            "--------------------\n",
            "Races : {'season': '2018', 'round': '6', 'url': 'http://en.wikipedia.org/wiki/2018_Monaco_Grand_Prix', 'raceName': 'Monaco Grand Prix', 'Circuit': {'circuitId': 'monaco', 'url': 'http://en.wikipedia.org/wiki/Circuit_de_Monaco', 'circuitName': 'Circuit de Monaco', 'Location': {'lat': '43.7347', 'long': '7.42056', 'locality': 'Monte-Carlo', 'country': 'Monaco'}}, 'date': '2018-05-27', 'time': '13:10:00Z', 'Results': [{'number': '44', 'position': '3', 'positionText': '3', 'points': '15', 'Driver': {'driverId': 'hamilton', 'permanentNumber': '44', 'code': 'HAM', 'url': 'http://en.wikipedia.org/wiki/Lewis_Hamilton', 'givenName': 'Lewis', 'familyName': 'Hamilton', 'dateOfBirth': '1985-01-07', 'nationality': 'British'}, 'Constructor': {'constructorId': 'mercedes', 'url': 'http://en.wikipedia.org/wiki/Mercedes-Benz_in_Formula_One', 'name': 'Mercedes', 'nationality': 'German'}, 'grid': '3', 'laps': '78', 'status': 'Finished', 'Time': {'millis': '6191820', 'time': '+17.013'}, 'FastestLap': {'rank': '8', 'lap': '15', 'Time': {'time': '1:16.270'}, 'AverageSpeed': {'units': 'kph', 'speed': '157.508'}}}]}\n",
            "--------------------\n",
            "Races : {'season': '2018', 'round': '7', 'url': 'http://en.wikipedia.org/wiki/2018_Canadian_Grand_Prix', 'raceName': 'Canadian Grand Prix', 'Circuit': {'circuitId': 'villeneuve', 'url': 'http://en.wikipedia.org/wiki/Circuit_Gilles_Villeneuve', 'circuitName': 'Circuit Gilles Villeneuve', 'Location': {'lat': '45.5', 'long': '-73.5228', 'locality': 'Montreal', 'country': 'Canada'}}, 'date': '2018-06-10', 'time': '18:10:00Z', 'Results': [{'number': '44', 'position': '5', 'positionText': '5', 'points': '10', 'Driver': {'driverId': 'hamilton', 'permanentNumber': '44', 'code': 'HAM', 'url': 'http://en.wikipedia.org/wiki/Lewis_Hamilton', 'givenName': 'Lewis', 'familyName': 'Hamilton', 'dateOfBirth': '1985-01-07', 'nationality': 'British'}, 'Constructor': {'constructorId': 'mercedes', 'url': 'http://en.wikipedia.org/wiki/Mercedes-Benz_in_Formula_One', 'name': 'Mercedes', 'nationality': 'German'}, 'grid': '4', 'laps': '68', 'status': 'Finished', 'Time': {'millis': '5332936', 'time': '+21.559'}, 'FastestLap': {'rank': '6', 'lap': '66', 'Time': {'time': '1:14.183'}, 'AverageSpeed': {'units': 'kph', 'speed': '211.633'}}}]}\n",
            "--------------------\n",
            "Races : {'season': '2018', 'round': '8', 'url': 'http://en.wikipedia.org/wiki/2018_French_Grand_Prix', 'raceName': 'French Grand Prix', 'Circuit': {'circuitId': 'ricard', 'url': 'http://en.wikipedia.org/wiki/Paul_Ricard_Circuit', 'circuitName': 'Circuit Paul Ricard', 'Location': {'lat': '43.2506', 'long': '5.79167', 'locality': 'Le Castellet', 'country': 'France'}}, 'date': '2018-06-24', 'time': '14:10:00Z', 'Results': [{'number': '44', 'position': '1', 'positionText': '1', 'points': '25', 'Driver': {'driverId': 'hamilton', 'permanentNumber': '44', 'code': 'HAM', 'url': 'http://en.wikipedia.org/wiki/Lewis_Hamilton', 'givenName': 'Lewis', 'familyName': 'Hamilton', 'dateOfBirth': '1985-01-07', 'nationality': 'British'}, 'Constructor': {'constructorId': 'mercedes', 'url': 'http://en.wikipedia.org/wiki/Mercedes-Benz_in_Formula_One', 'name': 'Mercedes', 'nationality': 'German'}, 'grid': '1', 'laps': '53', 'status': 'Finished', 'Time': {'millis': '5411385', 'time': '1:30:11.385'}, 'FastestLap': {'rank': '5', 'lap': '49', 'Time': {'time': '1:34.509'}, 'AverageSpeed': {'units': 'kph', 'speed': '222.531'}}}]}\n",
            "--------------------\n",
            "Races : {'season': '2018', 'round': '9', 'url': 'http://en.wikipedia.org/wiki/2018_Austrian_Grand_Prix', 'raceName': 'Austrian Grand Prix', 'Circuit': {'circuitId': 'red_bull_ring', 'url': 'http://en.wikipedia.org/wiki/Red_Bull_Ring', 'circuitName': 'Red Bull Ring', 'Location': {'lat': '47.2197', 'long': '14.7647', 'locality': 'Spielberg', 'country': 'Austria'}}, 'date': '2018-07-01', 'time': '13:10:00Z', 'Results': [{'number': '44', 'position': '16', 'positionText': 'R', 'points': '0', 'Driver': {'driverId': 'hamilton', 'permanentNumber': '44', 'code': 'HAM', 'url': 'http://en.wikipedia.org/wiki/Lewis_Hamilton', 'givenName': 'Lewis', 'familyName': 'Hamilton', 'dateOfBirth': '1985-01-07', 'nationality': 'British'}, 'Constructor': {'constructorId': 'mercedes', 'url': 'http://en.wikipedia.org/wiki/Mercedes-Benz_in_Formula_One', 'name': 'Mercedes', 'nationality': 'German'}, 'grid': '2', 'laps': '62', 'status': 'Fuel pressure', 'FastestLap': {'rank': '3', 'lap': '58', 'Time': {'time': '1:07.241'}, 'AverageSpeed': {'units': 'kph', 'speed': '231.180'}}}]}\n",
            "--------------------\n",
            "Races : {'season': '2018', 'round': '10', 'url': 'http://en.wikipedia.org/wiki/2018_British_Grand_Prix', 'raceName': 'British Grand Prix', 'Circuit': {'circuitId': 'silverstone', 'url': 'http://en.wikipedia.org/wiki/Silverstone_Circuit', 'circuitName': 'Silverstone Circuit', 'Location': {'lat': '52.0786', 'long': '-1.01694', 'locality': 'Silverstone', 'country': 'UK'}}, 'date': '2018-07-08', 'time': '13:10:00Z', 'Results': [{'number': '44', 'position': '2', 'positionText': '2', 'points': '18', 'Driver': {'driverId': 'hamilton', 'permanentNumber': '44', 'code': 'HAM', 'url': 'http://en.wikipedia.org/wiki/Lewis_Hamilton', 'givenName': 'Lewis', 'familyName': 'Hamilton', 'dateOfBirth': '1985-01-07', 'nationality': 'British'}, 'Constructor': {'constructorId': 'mercedes', 'url': 'http://en.wikipedia.org/wiki/Mercedes-Benz_in_Formula_One', 'name': 'Mercedes', 'nationality': 'German'}, 'grid': '1', 'laps': '52', 'status': 'Finished', 'Time': {'millis': '5252048', 'time': '+2.264'}, 'FastestLap': {'rank': '3', 'lap': '52', 'Time': {'time': '1:31.245'}, 'AverageSpeed': {'units': 'kph', 'speed': '232.424'}}}]}\n",
            "--------------------\n",
            "Races : {'season': '2018', 'round': '11', 'url': 'http://en.wikipedia.org/wiki/2018_German_Grand_Prix', 'raceName': 'German Grand Prix', 'Circuit': {'circuitId': 'hockenheimring', 'url': 'http://en.wikipedia.org/wiki/Hockenheimring', 'circuitName': 'Hockenheimring', 'Location': {'lat': '49.3278', 'long': '8.56583', 'locality': 'Hockenheim', 'country': 'Germany'}}, 'date': '2018-07-22', 'time': '13:10:00Z', 'Results': [{'number': '44', 'position': '1', 'positionText': '1', 'points': '25', 'Driver': {'driverId': 'hamilton', 'permanentNumber': '44', 'code': 'HAM', 'url': 'http://en.wikipedia.org/wiki/Lewis_Hamilton', 'givenName': 'Lewis', 'familyName': 'Hamilton', 'dateOfBirth': '1985-01-07', 'nationality': 'British'}, 'Constructor': {'constructorId': 'mercedes', 'url': 'http://en.wikipedia.org/wiki/Mercedes-Benz_in_Formula_One', 'name': 'Mercedes', 'nationality': 'German'}, 'grid': '14', 'laps': '67', 'status': 'Finished', 'Time': {'millis': '5549845', 'time': '1:32:29.845'}, 'FastestLap': {'rank': '1', 'lap': '66', 'Time': {'time': '1:15.545'}, 'AverageSpeed': {'units': 'kph', 'speed': '217.968'}}}]}\n",
            "--------------------\n",
            "Races : {'season': '2018', 'round': '12', 'url': 'http://en.wikipedia.org/wiki/2018_Hungarian_Grand_Prix', 'raceName': 'Hungarian Grand Prix', 'Circuit': {'circuitId': 'hungaroring', 'url': 'http://en.wikipedia.org/wiki/Hungaroring', 'circuitName': 'Hungaroring', 'Location': {'lat': '47.5789', 'long': '19.2486', 'locality': 'Budapest', 'country': 'Hungary'}}, 'date': '2018-07-29', 'time': '13:10:00Z', 'Results': [{'number': '44', 'position': '1', 'positionText': '1', 'points': '25', 'Driver': {'driverId': 'hamilton', 'permanentNumber': '44', 'code': 'HAM', 'url': 'http://en.wikipedia.org/wiki/Lewis_Hamilton', 'givenName': 'Lewis', 'familyName': 'Hamilton', 'dateOfBirth': '1985-01-07', 'nationality': 'British'}, 'Constructor': {'constructorId': 'mercedes', 'url': 'http://en.wikipedia.org/wiki/Mercedes-Benz_in_Formula_One', 'name': 'Mercedes', 'nationality': 'German'}, 'grid': '1', 'laps': '70', 'status': 'Finished', 'Time': {'millis': '5836427', 'time': '1:37:16.427'}, 'FastestLap': {'rank': '4', 'lap': '63', 'Time': {'time': '1:21.107'}, 'AverageSpeed': {'units': 'kph', 'speed': '194.454'}}}]}\n",
            "--------------------\n",
            "Races : {'season': '2018', 'round': '13', 'url': 'http://en.wikipedia.org/wiki/2018_Belgian_Grand_Prix', 'raceName': 'Belgian Grand Prix', 'Circuit': {'circuitId': 'spa', 'url': 'http://en.wikipedia.org/wiki/Circuit_de_Spa-Francorchamps', 'circuitName': 'Circuit de Spa-Francorchamps', 'Location': {'lat': '50.4372', 'long': '5.97139', 'locality': 'Spa', 'country': 'Belgium'}}, 'date': '2018-08-26', 'time': '13:10:00Z', 'Results': [{'number': '44', 'position': '2', 'positionText': '2', 'points': '18', 'Driver': {'driverId': 'hamilton', 'permanentNumber': '44', 'code': 'HAM', 'url': 'http://en.wikipedia.org/wiki/Lewis_Hamilton', 'givenName': 'Lewis', 'familyName': 'Hamilton', 'dateOfBirth': '1985-01-07', 'nationality': 'British'}, 'Constructor': {'constructorId': 'mercedes', 'url': 'http://en.wikipedia.org/wiki/Mercedes-Benz_in_Formula_One', 'name': 'Mercedes', 'nationality': 'German'}, 'grid': '1', 'laps': '44', 'status': 'Finished', 'Time': {'millis': '5025537', 'time': '+11.061'}, 'FastestLap': {'rank': '3', 'lap': '23', 'Time': {'time': '1:46.721'}, 'AverageSpeed': {'units': 'kph', 'speed': '236.264'}}}]}\n",
            "--------------------\n",
            "Races : {'season': '2018', 'round': '14', 'url': 'http://en.wikipedia.org/wiki/2018_Italian_Grand_Prix', 'raceName': 'Italian Grand Prix', 'Circuit': {'circuitId': 'monza', 'url': 'http://en.wikipedia.org/wiki/Autodromo_Nazionale_Monza', 'circuitName': 'Autodromo Nazionale di Monza', 'Location': {'lat': '45.6156', 'long': '9.28111', 'locality': 'Monza', 'country': 'Italy'}}, 'date': '2018-09-02', 'time': '13:10:00Z', 'Results': [{'number': '44', 'position': '1', 'positionText': '1', 'points': '25', 'Driver': {'driverId': 'hamilton', 'permanentNumber': '44', 'code': 'HAM', 'url': 'http://en.wikipedia.org/wiki/Lewis_Hamilton', 'givenName': 'Lewis', 'familyName': 'Hamilton', 'dateOfBirth': '1985-01-07', 'nationality': 'British'}, 'Constructor': {'constructorId': 'mercedes', 'url': 'http://en.wikipedia.org/wiki/Mercedes-Benz_in_Formula_One', 'name': 'Mercedes', 'nationality': 'German'}, 'grid': '3', 'laps': '53', 'status': 'Finished', 'Time': {'millis': '4614484', 'time': '1:16:54.484'}, 'FastestLap': {'rank': '1', 'lap': '30', 'Time': {'time': '1:22.497'}, 'AverageSpeed': {'units': 'kph', 'speed': '252.794'}}}]}\n",
            "--------------------\n",
            "Races : {'season': '2018', 'round': '15', 'url': 'http://en.wikipedia.org/wiki/2018_Singapore_Grand_Prix', 'raceName': 'Singapore Grand Prix', 'Circuit': {'circuitId': 'marina_bay', 'url': 'http://en.wikipedia.org/wiki/Marina_Bay_Street_Circuit', 'circuitName': 'Marina Bay Street Circuit', 'Location': {'lat': '1.2914', 'long': '103.864', 'locality': 'Marina Bay', 'country': 'Singapore'}}, 'date': '2018-09-16', 'time': '12:10:00Z', 'Results': [{'number': '44', 'position': '1', 'positionText': '1', 'points': '25', 'Driver': {'driverId': 'hamilton', 'permanentNumber': '44', 'code': 'HAM', 'url': 'http://en.wikipedia.org/wiki/Lewis_Hamilton', 'givenName': 'Lewis', 'familyName': 'Hamilton', 'dateOfBirth': '1985-01-07', 'nationality': 'British'}, 'Constructor': {'constructorId': 'mercedes', 'url': 'http://en.wikipedia.org/wiki/Mercedes-Benz_in_Formula_One', 'name': 'Mercedes', 'nationality': 'German'}, 'grid': '1', 'laps': '61', 'status': 'Finished', 'Time': {'millis': '6671611', 'time': '1:51:11.611'}, 'FastestLap': {'rank': '2', 'lap': '56', 'Time': {'time': '1:42.913'}, 'AverageSpeed': {'units': 'kph', 'speed': '177.108'}}}]}\n",
            "--------------------\n",
            "Races : {'season': '2018', 'round': '16', 'url': 'http://en.wikipedia.org/wiki/2018_Russian_Grand_Prix', 'raceName': 'Russian Grand Prix', 'Circuit': {'circuitId': 'sochi', 'url': 'http://en.wikipedia.org/wiki/Sochi_Autodrom', 'circuitName': 'Sochi Autodrom', 'Location': {'lat': '43.4057', 'long': '39.9578', 'locality': 'Sochi', 'country': 'Russia'}}, 'date': '2018-09-30', 'time': '11:10:00Z', 'Results': [{'number': '44', 'position': '1', 'positionText': '1', 'points': '25', 'Driver': {'driverId': 'hamilton', 'permanentNumber': '44', 'code': 'HAM', 'url': 'http://en.wikipedia.org/wiki/Lewis_Hamilton', 'givenName': 'Lewis', 'familyName': 'Hamilton', 'dateOfBirth': '1985-01-07', 'nationality': 'British'}, 'Constructor': {'constructorId': 'mercedes', 'url': 'http://en.wikipedia.org/wiki/Mercedes-Benz_in_Formula_One', 'name': 'Mercedes', 'nationality': 'German'}, 'grid': '2', 'laps': '53', 'status': 'Finished', 'Time': {'millis': '5245181', 'time': '1:27:25.181'}, 'FastestLap': {'rank': '2', 'lap': '50', 'Time': {'time': '1:35.916'}, 'AverageSpeed': {'units': 'kph', 'speed': '219.492'}}}]}\n",
            "--------------------\n",
            "Races : {'season': '2018', 'round': '17', 'url': 'http://en.wikipedia.org/wiki/2018_Japanese_Grand_Prix', 'raceName': 'Japanese Grand Prix', 'Circuit': {'circuitId': 'suzuka', 'url': 'http://en.wikipedia.org/wiki/Suzuka_Circuit', 'circuitName': 'Suzuka Circuit', 'Location': {'lat': '34.8431', 'long': '136.541', 'locality': 'Suzuka', 'country': 'Japan'}}, 'date': '2018-10-07', 'time': '05:10:00Z', 'Results': [{'number': '44', 'position': '1', 'positionText': '1', 'points': '25', 'Driver': {'driverId': 'hamilton', 'permanentNumber': '44', 'code': 'HAM', 'url': 'http://en.wikipedia.org/wiki/Lewis_Hamilton', 'givenName': 'Lewis', 'familyName': 'Hamilton', 'dateOfBirth': '1985-01-07', 'nationality': 'British'}, 'Constructor': {'constructorId': 'mercedes', 'url': 'http://en.wikipedia.org/wiki/Mercedes-Benz_in_Formula_One', 'name': 'Mercedes', 'nationality': 'German'}, 'grid': '1', 'laps': '53', 'status': 'Finished', 'Time': {'millis': '5237062', 'time': '1:27:17.062'}, 'FastestLap': {'rank': '2', 'lap': '51', 'Time': {'time': '1:32.785'}, 'AverageSpeed': {'units': 'kph', 'speed': '225.307'}}}]}\n",
            "--------------------\n",
            "Races : {'season': '2018', 'round': '18', 'url': 'http://en.wikipedia.org/wiki/2018_United_States_Grand_Prix', 'raceName': 'United States Grand Prix', 'Circuit': {'circuitId': 'americas', 'url': 'http://en.wikipedia.org/wiki/Circuit_of_the_Americas', 'circuitName': 'Circuit of the Americas', 'Location': {'lat': '30.1328', 'long': '-97.6411', 'locality': 'Austin', 'country': 'USA'}}, 'date': '2018-10-21', 'time': '18:10:00Z', 'Results': [{'number': '44', 'position': '3', 'positionText': '3', 'points': '15', 'Driver': {'driverId': 'hamilton', 'permanentNumber': '44', 'code': 'HAM', 'url': 'http://en.wikipedia.org/wiki/Lewis_Hamilton', 'givenName': 'Lewis', 'familyName': 'Hamilton', 'dateOfBirth': '1985-01-07', 'nationality': 'British'}, 'Constructor': {'constructorId': 'mercedes', 'url': 'http://en.wikipedia.org/wiki/Mercedes-Benz_in_Formula_One', 'name': 'Mercedes', 'nationality': 'German'}, 'grid': '1', 'laps': '56', 'status': 'Finished', 'Time': {'millis': '5660985', 'time': '+2.342'}, 'FastestLap': {'rank': '1', 'lap': '40', 'Time': {'time': '1:37.392'}, 'AverageSpeed': {'units': 'kph', 'speed': '203.782'}}}]}\n",
            "--------------------\n",
            "Races : {'season': '2018', 'round': '19', 'url': 'http://en.wikipedia.org/wiki/2018_Mexican_Grand_Prix', 'raceName': 'Mexican Grand Prix', 'Circuit': {'circuitId': 'rodriguez', 'url': 'http://en.wikipedia.org/wiki/Aut%C3%B3dromo_Hermanos_Rodr%C3%ADguez', 'circuitName': 'Autódromo Hermanos Rodríguez', 'Location': {'lat': '19.4042', 'long': '-99.0907', 'locality': 'Mexico City', 'country': 'Mexico'}}, 'date': '2018-10-28', 'time': '19:10:00Z', 'Results': [{'number': '44', 'position': '4', 'positionText': '4', 'points': '12', 'Driver': {'driverId': 'hamilton', 'permanentNumber': '44', 'code': 'HAM', 'url': 'http://en.wikipedia.org/wiki/Lewis_Hamilton', 'givenName': 'Lewis', 'familyName': 'Hamilton', 'dateOfBirth': '1985-01-07', 'nationality': 'British'}, 'Constructor': {'constructorId': 'mercedes', 'url': 'http://en.wikipedia.org/wiki/Mercedes-Benz_in_Formula_One', 'name': 'Mercedes', 'nationality': 'German'}, 'grid': '3', 'laps': '71', 'status': 'Finished', 'Time': {'millis': '5987589', 'time': '+1:18.738'}, 'FastestLap': {'rank': '8', 'lap': '49', 'Time': {'time': '1:20.728'}, 'AverageSpeed': {'units': 'kph', 'speed': '191.933'}}}]}\n",
            "--------------------\n",
            "Races : {'season': '2018', 'round': '20', 'url': 'http://en.wikipedia.org/wiki/2018_Brazilian_Grand_Prix', 'raceName': 'Brazilian Grand Prix', 'Circuit': {'circuitId': 'interlagos', 'url': 'http://en.wikipedia.org/wiki/Aut%C3%B3dromo_Jos%C3%A9_Carlos_Pace', 'circuitName': 'Autódromo José Carlos Pace', 'Location': {'lat': '-23.7036', 'long': '-46.6997', 'locality': 'São Paulo', 'country': 'Brazil'}}, 'date': '2018-11-11', 'time': '17:10:00Z', 'Results': [{'number': '44', 'position': '1', 'positionText': '1', 'points': '25', 'Driver': {'driverId': 'hamilton', 'permanentNumber': '44', 'code': 'HAM', 'url': 'http://en.wikipedia.org/wiki/Lewis_Hamilton', 'givenName': 'Lewis', 'familyName': 'Hamilton', 'dateOfBirth': '1985-01-07', 'nationality': 'British'}, 'Constructor': {'constructorId': 'mercedes', 'url': 'http://en.wikipedia.org/wiki/Mercedes-Benz_in_Formula_One', 'name': 'Mercedes', 'nationality': 'German'}, 'grid': '1', 'laps': '71', 'status': 'Finished', 'Time': {'millis': '5229066', 'time': '1:27:09.066'}, 'FastestLap': {'rank': '7', 'lap': '70', 'Time': {'time': '1:11.795'}, 'AverageSpeed': {'units': 'kph', 'speed': '216.065'}}}]}\n",
            "--------------------\n",
            "Races : {'season': '2018', 'round': '21', 'url': 'http://en.wikipedia.org/wiki/2018_Abu_Dhabi_Grand_Prix', 'raceName': 'Abu Dhabi Grand Prix', 'Circuit': {'circuitId': 'yas_marina', 'url': 'http://en.wikipedia.org/wiki/Yas_Marina_Circuit', 'circuitName': 'Yas Marina Circuit', 'Location': {'lat': '24.4672', 'long': '54.6031', 'locality': 'Abu Dhabi', 'country': 'UAE'}}, 'date': '2018-11-25', 'time': '13:10:00Z', 'Results': [{'number': '44', 'position': '1', 'positionText': '1', 'points': '25', 'Driver': {'driverId': 'hamilton', 'permanentNumber': '44', 'code': 'HAM', 'url': 'http://en.wikipedia.org/wiki/Lewis_Hamilton', 'givenName': 'Lewis', 'familyName': 'Hamilton', 'dateOfBirth': '1985-01-07', 'nationality': 'British'}, 'Constructor': {'constructorId': 'mercedes', 'url': 'http://en.wikipedia.org/wiki/Mercedes-Benz_in_Formula_One', 'name': 'Mercedes', 'nationality': 'German'}, 'grid': '1', 'laps': '55', 'status': 'Finished', 'Time': {'millis': '5980382', 'time': '1:39:40.382'}, 'FastestLap': {'rank': '5', 'lap': '53', 'Time': {'time': '1:41.357'}, 'AverageSpeed': {'units': 'kph', 'speed': '197.267'}}}]}\n",
            "--------------------\n"
          ]
        }
      ]
    },
    {
      "cell_type": "code",
      "source": [
        "raceItems = race[\"MRData\"]['RaceTable']['Races'][:10]\n"
      ],
      "metadata": {
        "id": "xGZIVrQIlVzv"
      },
      "execution_count": null,
      "outputs": []
    },
    {
      "cell_type": "code",
      "source": [
        "raceItems"
      ],
      "metadata": {
        "colab": {
          "base_uri": "https://localhost:8080/"
        },
        "id": "rZ-pzYj9MWe8",
        "outputId": "5f7cc863-0b2e-4abe-b39d-6d4f9dc0f91c"
      },
      "execution_count": null,
      "outputs": [
        {
          "output_type": "execute_result",
          "data": {
            "text/plain": [
              "[{'season': '2018',\n",
              "  'round': '1',\n",
              "  'url': 'http://en.wikipedia.org/wiki/2018_Australian_Grand_Prix',\n",
              "  'raceName': 'Australian Grand Prix',\n",
              "  'Circuit': {'circuitId': 'albert_park',\n",
              "   'url': 'http://en.wikipedia.org/wiki/Melbourne_Grand_Prix_Circuit',\n",
              "   'circuitName': 'Albert Park Grand Prix Circuit',\n",
              "   'Location': {'lat': '-37.8497',\n",
              "    'long': '144.968',\n",
              "    'locality': 'Melbourne',\n",
              "    'country': 'Australia'}},\n",
              "  'date': '2018-03-25',\n",
              "  'time': '05:10:00Z',\n",
              "  'Results': [{'number': '44',\n",
              "    'position': '2',\n",
              "    'positionText': '2',\n",
              "    'points': '18',\n",
              "    'Driver': {'driverId': 'hamilton',\n",
              "     'permanentNumber': '44',\n",
              "     'code': 'HAM',\n",
              "     'url': 'http://en.wikipedia.org/wiki/Lewis_Hamilton',\n",
              "     'givenName': 'Lewis',\n",
              "     'familyName': 'Hamilton',\n",
              "     'dateOfBirth': '1985-01-07',\n",
              "     'nationality': 'British'},\n",
              "    'Constructor': {'constructorId': 'mercedes',\n",
              "     'url': 'http://en.wikipedia.org/wiki/Mercedes-Benz_in_Formula_One',\n",
              "     'name': 'Mercedes',\n",
              "     'nationality': 'German'},\n",
              "    'grid': '1',\n",
              "    'laps': '58',\n",
              "    'status': 'Finished',\n",
              "    'Time': {'millis': '5378319', 'time': '+5.036'},\n",
              "    'FastestLap': {'rank': '3',\n",
              "     'lap': '50',\n",
              "     'Time': {'time': '1:26.444'},\n",
              "     'AverageSpeed': {'units': 'kph', 'speed': '220.845'}}}]},\n",
              " {'season': '2018',\n",
              "  'round': '2',\n",
              "  'url': 'http://en.wikipedia.org/wiki/2018_Bahrain_Grand_Prix',\n",
              "  'raceName': 'Bahrain Grand Prix',\n",
              "  'Circuit': {'circuitId': 'bahrain',\n",
              "   'url': 'http://en.wikipedia.org/wiki/Bahrain_International_Circuit',\n",
              "   'circuitName': 'Bahrain International Circuit',\n",
              "   'Location': {'lat': '26.0325',\n",
              "    'long': '50.5106',\n",
              "    'locality': 'Sakhir',\n",
              "    'country': 'Bahrain'}},\n",
              "  'date': '2018-04-08',\n",
              "  'time': '15:10:00Z',\n",
              "  'Results': [{'number': '44',\n",
              "    'position': '3',\n",
              "    'positionText': '3',\n",
              "    'points': '15',\n",
              "    'Driver': {'driverId': 'hamilton',\n",
              "     'permanentNumber': '44',\n",
              "     'code': 'HAM',\n",
              "     'url': 'http://en.wikipedia.org/wiki/Lewis_Hamilton',\n",
              "     'givenName': 'Lewis',\n",
              "     'familyName': 'Hamilton',\n",
              "     'dateOfBirth': '1985-01-07',\n",
              "     'nationality': 'British'},\n",
              "    'Constructor': {'constructorId': 'mercedes',\n",
              "     'url': 'http://en.wikipedia.org/wiki/Mercedes-Benz_in_Formula_One',\n",
              "     'name': 'Mercedes',\n",
              "     'nationality': 'German'},\n",
              "    'grid': '9',\n",
              "    'laps': '57',\n",
              "    'status': 'Finished',\n",
              "    'Time': {'millis': '5528452', 'time': '+6.512'},\n",
              "    'FastestLap': {'rank': '2',\n",
              "     'lap': '51',\n",
              "     'Time': {'time': '1:33.953'},\n",
              "     'AverageSpeed': {'units': 'kph', 'speed': '207.371'}}}]},\n",
              " {'season': '2018',\n",
              "  'round': '3',\n",
              "  'url': 'http://en.wikipedia.org/wiki/2018_Chinese_Grand_Prix',\n",
              "  'raceName': 'Chinese Grand Prix',\n",
              "  'Circuit': {'circuitId': 'shanghai',\n",
              "   'url': 'http://en.wikipedia.org/wiki/Shanghai_International_Circuit',\n",
              "   'circuitName': 'Shanghai International Circuit',\n",
              "   'Location': {'lat': '31.3389',\n",
              "    'long': '121.22',\n",
              "    'locality': 'Shanghai',\n",
              "    'country': 'China'}},\n",
              "  'date': '2018-04-15',\n",
              "  'time': '06:10:00Z',\n",
              "  'Results': [{'number': '44',\n",
              "    'position': '4',\n",
              "    'positionText': '4',\n",
              "    'points': '12',\n",
              "    'Driver': {'driverId': 'hamilton',\n",
              "     'permanentNumber': '44',\n",
              "     'code': 'HAM',\n",
              "     'url': 'http://en.wikipedia.org/wiki/Lewis_Hamilton',\n",
              "     'givenName': 'Lewis',\n",
              "     'familyName': 'Hamilton',\n",
              "     'dateOfBirth': '1985-01-07',\n",
              "     'nationality': 'British'},\n",
              "    'Constructor': {'constructorId': 'mercedes',\n",
              "     'url': 'http://en.wikipedia.org/wiki/Mercedes-Benz_in_Formula_One',\n",
              "     'name': 'Mercedes',\n",
              "     'nationality': 'German'},\n",
              "    'grid': '4',\n",
              "    'laps': '56',\n",
              "    'status': 'Finished',\n",
              "    'Time': {'millis': '5753365', 'time': '+16.985'},\n",
              "    'FastestLap': {'rank': '4',\n",
              "     'lap': '20',\n",
              "     'Time': {'time': '1:36.878'},\n",
              "     'AverageSpeed': {'units': 'kph', 'speed': '202.559'}}}]},\n",
              " {'season': '2018',\n",
              "  'round': '4',\n",
              "  'url': 'http://en.wikipedia.org/wiki/2018_Azerbaijan_Grand_Prix',\n",
              "  'raceName': 'Azerbaijan Grand Prix',\n",
              "  'Circuit': {'circuitId': 'baku',\n",
              "   'url': 'http://en.wikipedia.org/wiki/Baku_City_Circuit',\n",
              "   'circuitName': 'Baku City Circuit',\n",
              "   'Location': {'lat': '40.3725',\n",
              "    'long': '49.8533',\n",
              "    'locality': 'Baku',\n",
              "    'country': 'Azerbaijan'}},\n",
              "  'date': '2018-04-29',\n",
              "  'time': '12:10:00Z',\n",
              "  'Results': [{'number': '44',\n",
              "    'position': '1',\n",
              "    'positionText': '1',\n",
              "    'points': '25',\n",
              "    'Driver': {'driverId': 'hamilton',\n",
              "     'permanentNumber': '44',\n",
              "     'code': 'HAM',\n",
              "     'url': 'http://en.wikipedia.org/wiki/Lewis_Hamilton',\n",
              "     'givenName': 'Lewis',\n",
              "     'familyName': 'Hamilton',\n",
              "     'dateOfBirth': '1985-01-07',\n",
              "     'nationality': 'British'},\n",
              "    'Constructor': {'constructorId': 'mercedes',\n",
              "     'url': 'http://en.wikipedia.org/wiki/Mercedes-Benz_in_Formula_One',\n",
              "     'name': 'Mercedes',\n",
              "     'nationality': 'German'},\n",
              "    'grid': '2',\n",
              "    'laps': '51',\n",
              "    'status': 'Finished',\n",
              "    'Time': {'millis': '6224291', 'time': '1:43:44.291'},\n",
              "    'FastestLap': {'rank': '2',\n",
              "     'lap': '35',\n",
              "     'Time': {'time': '1:45.412'},\n",
              "     'AverageSpeed': {'units': 'kph', 'speed': '205.012'}}}]},\n",
              " {'season': '2018',\n",
              "  'round': '5',\n",
              "  'url': 'http://en.wikipedia.org/wiki/2018_Spanish_Grand_Prix',\n",
              "  'raceName': 'Spanish Grand Prix',\n",
              "  'Circuit': {'circuitId': 'catalunya',\n",
              "   'url': 'http://en.wikipedia.org/wiki/Circuit_de_Barcelona-Catalunya',\n",
              "   'circuitName': 'Circuit de Barcelona-Catalunya',\n",
              "   'Location': {'lat': '41.57',\n",
              "    'long': '2.26111',\n",
              "    'locality': 'Montmeló',\n",
              "    'country': 'Spain'}},\n",
              "  'date': '2018-05-13',\n",
              "  'time': '13:10:00Z',\n",
              "  'Results': [{'number': '44',\n",
              "    'position': '1',\n",
              "    'positionText': '1',\n",
              "    'points': '25',\n",
              "    'Driver': {'driverId': 'hamilton',\n",
              "     'permanentNumber': '44',\n",
              "     'code': 'HAM',\n",
              "     'url': 'http://en.wikipedia.org/wiki/Lewis_Hamilton',\n",
              "     'givenName': 'Lewis',\n",
              "     'familyName': 'Hamilton',\n",
              "     'dateOfBirth': '1985-01-07',\n",
              "     'nationality': 'British'},\n",
              "    'Constructor': {'constructorId': 'mercedes',\n",
              "     'url': 'http://en.wikipedia.org/wiki/Mercedes-Benz_in_Formula_One',\n",
              "     'name': 'Mercedes',\n",
              "     'nationality': 'German'},\n",
              "    'grid': '1',\n",
              "    'laps': '66',\n",
              "    'status': 'Finished',\n",
              "    'Time': {'millis': '5729972', 'time': '1:35:29.972'},\n",
              "    'FastestLap': {'rank': '3',\n",
              "     'lap': '64',\n",
              "     'Time': {'time': '1:19.133'},\n",
              "     'AverageSpeed': {'units': 'kph', 'speed': '211.770'}}}]},\n",
              " {'season': '2018',\n",
              "  'round': '6',\n",
              "  'url': 'http://en.wikipedia.org/wiki/2018_Monaco_Grand_Prix',\n",
              "  'raceName': 'Monaco Grand Prix',\n",
              "  'Circuit': {'circuitId': 'monaco',\n",
              "   'url': 'http://en.wikipedia.org/wiki/Circuit_de_Monaco',\n",
              "   'circuitName': 'Circuit de Monaco',\n",
              "   'Location': {'lat': '43.7347',\n",
              "    'long': '7.42056',\n",
              "    'locality': 'Monte-Carlo',\n",
              "    'country': 'Monaco'}},\n",
              "  'date': '2018-05-27',\n",
              "  'time': '13:10:00Z',\n",
              "  'Results': [{'number': '44',\n",
              "    'position': '3',\n",
              "    'positionText': '3',\n",
              "    'points': '15',\n",
              "    'Driver': {'driverId': 'hamilton',\n",
              "     'permanentNumber': '44',\n",
              "     'code': 'HAM',\n",
              "     'url': 'http://en.wikipedia.org/wiki/Lewis_Hamilton',\n",
              "     'givenName': 'Lewis',\n",
              "     'familyName': 'Hamilton',\n",
              "     'dateOfBirth': '1985-01-07',\n",
              "     'nationality': 'British'},\n",
              "    'Constructor': {'constructorId': 'mercedes',\n",
              "     'url': 'http://en.wikipedia.org/wiki/Mercedes-Benz_in_Formula_One',\n",
              "     'name': 'Mercedes',\n",
              "     'nationality': 'German'},\n",
              "    'grid': '3',\n",
              "    'laps': '78',\n",
              "    'status': 'Finished',\n",
              "    'Time': {'millis': '6191820', 'time': '+17.013'},\n",
              "    'FastestLap': {'rank': '8',\n",
              "     'lap': '15',\n",
              "     'Time': {'time': '1:16.270'},\n",
              "     'AverageSpeed': {'units': 'kph', 'speed': '157.508'}}}]},\n",
              " {'season': '2018',\n",
              "  'round': '7',\n",
              "  'url': 'http://en.wikipedia.org/wiki/2018_Canadian_Grand_Prix',\n",
              "  'raceName': 'Canadian Grand Prix',\n",
              "  'Circuit': {'circuitId': 'villeneuve',\n",
              "   'url': 'http://en.wikipedia.org/wiki/Circuit_Gilles_Villeneuve',\n",
              "   'circuitName': 'Circuit Gilles Villeneuve',\n",
              "   'Location': {'lat': '45.5',\n",
              "    'long': '-73.5228',\n",
              "    'locality': 'Montreal',\n",
              "    'country': 'Canada'}},\n",
              "  'date': '2018-06-10',\n",
              "  'time': '18:10:00Z',\n",
              "  'Results': [{'number': '44',\n",
              "    'position': '5',\n",
              "    'positionText': '5',\n",
              "    'points': '10',\n",
              "    'Driver': {'driverId': 'hamilton',\n",
              "     'permanentNumber': '44',\n",
              "     'code': 'HAM',\n",
              "     'url': 'http://en.wikipedia.org/wiki/Lewis_Hamilton',\n",
              "     'givenName': 'Lewis',\n",
              "     'familyName': 'Hamilton',\n",
              "     'dateOfBirth': '1985-01-07',\n",
              "     'nationality': 'British'},\n",
              "    'Constructor': {'constructorId': 'mercedes',\n",
              "     'url': 'http://en.wikipedia.org/wiki/Mercedes-Benz_in_Formula_One',\n",
              "     'name': 'Mercedes',\n",
              "     'nationality': 'German'},\n",
              "    'grid': '4',\n",
              "    'laps': '68',\n",
              "    'status': 'Finished',\n",
              "    'Time': {'millis': '5332936', 'time': '+21.559'},\n",
              "    'FastestLap': {'rank': '6',\n",
              "     'lap': '66',\n",
              "     'Time': {'time': '1:14.183'},\n",
              "     'AverageSpeed': {'units': 'kph', 'speed': '211.633'}}}]},\n",
              " {'season': '2018',\n",
              "  'round': '8',\n",
              "  'url': 'http://en.wikipedia.org/wiki/2018_French_Grand_Prix',\n",
              "  'raceName': 'French Grand Prix',\n",
              "  'Circuit': {'circuitId': 'ricard',\n",
              "   'url': 'http://en.wikipedia.org/wiki/Paul_Ricard_Circuit',\n",
              "   'circuitName': 'Circuit Paul Ricard',\n",
              "   'Location': {'lat': '43.2506',\n",
              "    'long': '5.79167',\n",
              "    'locality': 'Le Castellet',\n",
              "    'country': 'France'}},\n",
              "  'date': '2018-06-24',\n",
              "  'time': '14:10:00Z',\n",
              "  'Results': [{'number': '44',\n",
              "    'position': '1',\n",
              "    'positionText': '1',\n",
              "    'points': '25',\n",
              "    'Driver': {'driverId': 'hamilton',\n",
              "     'permanentNumber': '44',\n",
              "     'code': 'HAM',\n",
              "     'url': 'http://en.wikipedia.org/wiki/Lewis_Hamilton',\n",
              "     'givenName': 'Lewis',\n",
              "     'familyName': 'Hamilton',\n",
              "     'dateOfBirth': '1985-01-07',\n",
              "     'nationality': 'British'},\n",
              "    'Constructor': {'constructorId': 'mercedes',\n",
              "     'url': 'http://en.wikipedia.org/wiki/Mercedes-Benz_in_Formula_One',\n",
              "     'name': 'Mercedes',\n",
              "     'nationality': 'German'},\n",
              "    'grid': '1',\n",
              "    'laps': '53',\n",
              "    'status': 'Finished',\n",
              "    'Time': {'millis': '5411385', 'time': '1:30:11.385'},\n",
              "    'FastestLap': {'rank': '5',\n",
              "     'lap': '49',\n",
              "     'Time': {'time': '1:34.509'},\n",
              "     'AverageSpeed': {'units': 'kph', 'speed': '222.531'}}}]},\n",
              " {'season': '2018',\n",
              "  'round': '9',\n",
              "  'url': 'http://en.wikipedia.org/wiki/2018_Austrian_Grand_Prix',\n",
              "  'raceName': 'Austrian Grand Prix',\n",
              "  'Circuit': {'circuitId': 'red_bull_ring',\n",
              "   'url': 'http://en.wikipedia.org/wiki/Red_Bull_Ring',\n",
              "   'circuitName': 'Red Bull Ring',\n",
              "   'Location': {'lat': '47.2197',\n",
              "    'long': '14.7647',\n",
              "    'locality': 'Spielberg',\n",
              "    'country': 'Austria'}},\n",
              "  'date': '2018-07-01',\n",
              "  'time': '13:10:00Z',\n",
              "  'Results': [{'number': '44',\n",
              "    'position': '16',\n",
              "    'positionText': 'R',\n",
              "    'points': '0',\n",
              "    'Driver': {'driverId': 'hamilton',\n",
              "     'permanentNumber': '44',\n",
              "     'code': 'HAM',\n",
              "     'url': 'http://en.wikipedia.org/wiki/Lewis_Hamilton',\n",
              "     'givenName': 'Lewis',\n",
              "     'familyName': 'Hamilton',\n",
              "     'dateOfBirth': '1985-01-07',\n",
              "     'nationality': 'British'},\n",
              "    'Constructor': {'constructorId': 'mercedes',\n",
              "     'url': 'http://en.wikipedia.org/wiki/Mercedes-Benz_in_Formula_One',\n",
              "     'name': 'Mercedes',\n",
              "     'nationality': 'German'},\n",
              "    'grid': '2',\n",
              "    'laps': '62',\n",
              "    'status': 'Fuel pressure',\n",
              "    'FastestLap': {'rank': '3',\n",
              "     'lap': '58',\n",
              "     'Time': {'time': '1:07.241'},\n",
              "     'AverageSpeed': {'units': 'kph', 'speed': '231.180'}}}]},\n",
              " {'season': '2018',\n",
              "  'round': '10',\n",
              "  'url': 'http://en.wikipedia.org/wiki/2018_British_Grand_Prix',\n",
              "  'raceName': 'British Grand Prix',\n",
              "  'Circuit': {'circuitId': 'silverstone',\n",
              "   'url': 'http://en.wikipedia.org/wiki/Silverstone_Circuit',\n",
              "   'circuitName': 'Silverstone Circuit',\n",
              "   'Location': {'lat': '52.0786',\n",
              "    'long': '-1.01694',\n",
              "    'locality': 'Silverstone',\n",
              "    'country': 'UK'}},\n",
              "  'date': '2018-07-08',\n",
              "  'time': '13:10:00Z',\n",
              "  'Results': [{'number': '44',\n",
              "    'position': '2',\n",
              "    'positionText': '2',\n",
              "    'points': '18',\n",
              "    'Driver': {'driverId': 'hamilton',\n",
              "     'permanentNumber': '44',\n",
              "     'code': 'HAM',\n",
              "     'url': 'http://en.wikipedia.org/wiki/Lewis_Hamilton',\n",
              "     'givenName': 'Lewis',\n",
              "     'familyName': 'Hamilton',\n",
              "     'dateOfBirth': '1985-01-07',\n",
              "     'nationality': 'British'},\n",
              "    'Constructor': {'constructorId': 'mercedes',\n",
              "     'url': 'http://en.wikipedia.org/wiki/Mercedes-Benz_in_Formula_One',\n",
              "     'name': 'Mercedes',\n",
              "     'nationality': 'German'},\n",
              "    'grid': '1',\n",
              "    'laps': '52',\n",
              "    'status': 'Finished',\n",
              "    'Time': {'millis': '5252048', 'time': '+2.264'},\n",
              "    'FastestLap': {'rank': '3',\n",
              "     'lap': '52',\n",
              "     'Time': {'time': '1:31.245'},\n",
              "     'AverageSpeed': {'units': 'kph', 'speed': '232.424'}}}]}]"
            ]
          },
          "metadata": {},
          "execution_count": 12
        }
      ]
    },
    {
      "cell_type": "code",
      "source": [
        "type(raceItems)"
      ],
      "metadata": {
        "colab": {
          "base_uri": "https://localhost:8080/"
        },
        "id": "d_5_NQbzl0vL",
        "outputId": "fc952628-3433-4cdc-b4a8-db40d7448a0d"
      },
      "execution_count": null,
      "outputs": [
        {
          "output_type": "execute_result",
          "data": {
            "text/plain": [
              "list"
            ]
          },
          "metadata": {},
          "execution_count": 13
        }
      ]
    },
    {
      "cell_type": "code",
      "source": [
        "\n",
        "import csv\n",
        "# opening the csv file in 'w+' mode\n",
        "file = open('raceItems.csv', 'a+', newline ='')\n",
        " \n",
        "# writing the data into the file\n",
        "with file:   \n",
        "    write = csv.writer(file)\n",
        "    write.writerows(raceItems)"
      ],
      "metadata": {
        "id": "fktzhF40mJp-"
      },
      "execution_count": null,
      "outputs": []
    },
    {
      "cell_type": "code",
      "source": [
        "dataframe = pd.DataFrame(raceItems) \n",
        "dataframe.to_csv('raceItems1.csv')"
      ],
      "metadata": {
        "id": "HXooBWKtjLLL"
      },
      "execution_count": null,
      "outputs": []
    },
    {
      "cell_type": "code",
      "source": [
        "def write_to_csv(raceItems):\n",
        "     with open('raceItems2.csv', 'w', newline='') as csvfile:\n",
        "         writer = csv.writer(csvfile)\n",
        "         writer.writerows(raceItems)\n",
        "write_to_csv(raceItems)"
      ],
      "metadata": {
        "id": "Tahsma6IEOOr"
      },
      "execution_count": null,
      "outputs": []
    },
    {
      "cell_type": "code",
      "source": [],
      "metadata": {
        "id": "_k2jQobPjQW8"
      },
      "execution_count": null,
      "outputs": []
    }
  ]
}