{
  "nbformat": 4,
  "nbformat_minor": 0,
  "metadata": {
    "colab": {
      "provenance": [],
      "authorship_tag": "ABX9TyMY0VW4Wz6wMBkQjgQpHS0n",
      "include_colab_link": true
    },
    "kernelspec": {
      "name": "python3",
      "display_name": "Python 3"
    },
    "language_info": {
      "name": "python"
    },
    "accelerator": "GPU"
  },
  "cells": [
    {
      "cell_type": "markdown",
      "metadata": {
        "id": "view-in-github",
        "colab_type": "text"
      },
      "source": [
        "<a href=\"https://colab.research.google.com/github/kareraolivier/Huza-lab-nlp-fellowship/blob/main/test.ipynb\" target=\"_parent\"><img src=\"https://colab.research.google.com/assets/colab-badge.svg\" alt=\"Open In Colab\"/></a>"
      ]
    },
    {
      "cell_type": "code",
      "execution_count": null,
      "metadata": {
        "colab": {
          "base_uri": "https://localhost:8080/"
        },
        "id": "XPEFUoPcV2bw",
        "outputId": "40ee6d54-fc7c-44f3-8e1d-d08e5f32e3b5"
      },
      "outputs": [
        {
          "output_type": "stream",
          "name": "stdout",
          "text": [
            "karera\n"
          ]
        }
      ],
      "source": [
        "import regex\n",
        "print(\"karera\")"
      ]
    },
    {
      "cell_type": "code",
      "source": [
        "import time\n",
        " print(time.time())"
      ],
      "metadata": {
        "id": "0aKsRhQPhIHv"
      },
      "execution_count": null,
      "outputs": []
    }
  ]
}