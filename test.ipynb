{
  "nbformat": 4,
  "nbformat_minor": 0,
  "metadata": {
    "colab": {
      "provenance": [],
      "mount_file_id": "1hEcXwhFlPw5pVD2b8528cCDlqU_Dkl7A",
      "authorship_tag": "ABX9TyNBQ+DpXqAmTAPP2GFuLIhU",
      "include_colab_link": true
    },
    "kernelspec": {
      "name": "python3",
      "display_name": "Python 3"
    },
    "language_info": {
      "name": "python"
    },
    "accelerator": "GPU"
  },
  "cells": [
    {
      "cell_type": "markdown",
      "metadata": {
        "id": "view-in-github",
        "colab_type": "text"
      },
      "source": [
        "<a href=\"https://colab.research.google.com/github/kareraolivier/Huza-lab-nlp-fellowship/blob/test/test.ipynb\" target=\"_parent\"><img src=\"https://colab.research.google.com/assets/colab-badge.svg\" alt=\"Open In Colab\"/></a>"
      ]
    },
    {
      "cell_type": "code",
      "execution_count": null,
      "metadata": {
        "colab": {
          "base_uri": "https://localhost:8080/"
        },
        "id": "XPEFUoPcV2bw",
        "outputId": "40ee6d54-fc7c-44f3-8e1d-d08e5f32e3b5"
      },
      "outputs": [
        {
          "output_type": "stream",
          "name": "stdout",
          "text": [
            "karera\n"
          ]
        }
      ],
      "source": [
        "import regex\n",
        "print(\"karera\")"
      ]
    },
    {
      "cell_type": "code",
      "source": [
        "import time\n",
        "\n",
        "print(time.time())"
      ],
      "metadata": {
        "id": "0aKsRhQPhIHv",
        "colab": {
          "base_uri": "https://localhost:8080/"
        },
        "outputId": "2a43af14-6e44-4556-9d3e-c3239b09db67"
      },
      "execution_count": null,
      "outputs": [
        {
          "output_type": "stream",
          "name": "stdout",
          "text": [
            "1666003848.6073093\n"
          ]
        }
      ]
    },
    {
      "cell_type": "code",
      "source": [
        "from google.colab import drive\n",
        "drive.mount('/content/drive')"
      ],
      "metadata": {
        "colab": {
          "base_uri": "https://localhost:8080/"
        },
        "id": "TQ1BlIzJl-GI",
        "outputId": "590f219e-d6ea-4015-a202-ba50ae5feef8"
      },
      "execution_count": 6,
      "outputs": [
        {
          "output_type": "stream",
          "name": "stdout",
          "text": [
            "Drive already mounted at /content/drive; to attempt to forcibly remount, call drive.mount(\"/content/drive\", force_remount=True).\n"
          ]
        }
      ]
    },
    {
      "cell_type": "code",
      "source": [],
      "metadata": {
        "id": "j4SDPcllmxVU"
      },
      "execution_count": null,
      "outputs": []
    }
  ]
}