{
  "cells": [
    {
      "cell_type": "markdown",
      "metadata": {
        "id": "view-in-github",
        "colab_type": "text"
      },
      "source": [
        "<a href=\"https://colab.research.google.com/github/kareraolivier/Huza-lab-nlp-fellowship/blob/day2classassgnmet/Copy_of_HTML.ipynb\" target=\"_parent\"><img src=\"https://colab.research.google.com/assets/colab-badge.svg\" alt=\"Open In Colab\"/></a>"
      ]
    },
    {
      "cell_type": "markdown",
      "metadata": {
        "id": "5KlsBLBOnm4P"
      },
      "source": [
        "# Working with HTML\n",
        "There is a lot of data that can be found in the internet. To get the data, there are two techniques:\n",
        "\n",
        "\n",
        "*   Web scrapping - Extracting underlying data found in HTML code and store in a new file format\n",
        "*   web crawling - Use of bots to process different url links, get the data from all the pages and store the data in websites. e.g Google, Bing\n",
        "\n"
      ]
    },
    {
      "cell_type": "markdown",
      "metadata": {
        "id": "ywhU8i1wxfUL"
      },
      "source": [
        "## Web Scrapping\n",
        "In this session, we will be looking at web scrapping. We will be examining news websites and look at how to extract the articles. \n",
        "\n",
        "We will use a python package called BEAUTIFULSOUP.\n",
        "\n",
        "`pip install beautifulsoup4`\n",
        "\n",
        "To import the package:\n",
        "\n",
        "`from bs4 import BeautifulSoup`"
      ]
    },
    {
      "cell_type": "code",
      "execution_count": null,
      "metadata": {
        "id": "iWo1bwZy5YTJ"
      },
      "outputs": [],
      "source": [
        "from bs4 import BeautifulSoup"
      ]
    },
    {
      "cell_type": "code",
      "execution_count": null,
      "metadata": {
        "id": "MKImE-dG5ZuA"
      },
      "outputs": [],
      "source": [
        "html_doc = \"\"\"<html><head><title>The Dormouse's story</title></head>\n",
        "<body>\n",
        "<p class=\"title\"><b>The Dormouse's story</b></p>\n",
        "\n",
        "<p class=\"story\">Once upon a time there were three little sisters; and their names were\n",
        "<a href=\"http://example.com/elsie\" class=\"sister\" id=\"link1\">Elsie</a>,\n",
        "<a href=\"http://example.com/lacie\" class=\"sister\" id=\"link2\">Lacie</a> and\n",
        "<a href=\"http://example.com/tillie\" class=\"sister\" id=\"link3\">Tillie</a>;\n",
        "and they lived at the bottom of a well.</p>\n",
        "\n",
        "<p class=\"story\">...</p>\n",
        "\"\"\""
      ]
    },
    {
      "cell_type": "code",
      "execution_count": null,
      "metadata": {
        "colab": {
          "base_uri": "https://localhost:8080/"
        },
        "id": "vzmMOyZh7NWK",
        "outputId": "9a67be1d-da75-41fb-f63e-e3c99aceedb7"
      },
      "outputs": [
        {
          "name": "stdout",
          "output_type": "stream",
          "text": [
            "<html>\n",
            " <head>\n",
            "  <title>\n",
            "   The Dormouse's story\n",
            "  </title>\n",
            " </head>\n",
            " <body>\n",
            "  <p class=\"title\">\n",
            "   <b>\n",
            "    The Dormouse's story\n",
            "   </b>\n",
            "  </p>\n",
            "  <p class=\"story\">\n",
            "   Once upon a time there were three little sisters; and their names were\n",
            "   <a class=\"sister\" href=\"http://example.com/elsie\" id=\"link1\">\n",
            "    Elsie\n",
            "   </a>\n",
            "   ,\n",
            "   <a class=\"sister\" href=\"http://example.com/lacie\" id=\"link2\">\n",
            "    Lacie\n",
            "   </a>\n",
            "   and\n",
            "   <a class=\"sister\" href=\"http://example.com/tillie\" id=\"link3\">\n",
            "    Tillie\n",
            "   </a>\n",
            "   ;\n",
            "and they lived at the bottom of a well.\n",
            "  </p>\n",
            "  <p class=\"story\">\n",
            "   ...\n",
            "  </p>\n",
            " </body>\n",
            "</html>\n"
          ]
        }
      ],
      "source": [
        "# Read the html doc\n",
        "soup = BeautifulSoup(html_doc, 'html.parser')\n",
        "print(soup.prettify())"
      ]
    },
    {
      "cell_type": "code",
      "execution_count": null,
      "metadata": {
        "colab": {
          "base_uri": "https://localhost:8080/"
        },
        "id": "pSdm1syw8UdA",
        "outputId": "b393bb47-8505-499a-f9df-f45ebc55f8b5"
      },
      "outputs": [
        {
          "data": {
            "text/plain": [
              "<title>The Dormouse's story</title>"
            ]
          },
          "execution_count": 6,
          "metadata": {},
          "output_type": "execute_result"
        }
      ],
      "source": [
        "soup.title"
      ]
    },
    {
      "cell_type": "code",
      "execution_count": null,
      "metadata": {
        "colab": {
          "base_uri": "https://localhost:8080/"
        },
        "id": "kthGPmUHAFD-",
        "outputId": "1551e9af-a22b-4812-c085-4de8c3d674fa"
      },
      "outputs": [
        {
          "data": {
            "text/plain": [
              "<body>\n",
              "<p class=\"title\"><b>The Dormouse's story</b></p>\n",
              "<p class=\"story\">Once upon a time there were three little sisters; and their names were\n",
              "<a class=\"sister\" href=\"http://example.com/elsie\" id=\"link1\">Elsie</a>,\n",
              "<a class=\"sister\" href=\"http://example.com/lacie\" id=\"link2\">Lacie</a> and\n",
              "<a class=\"sister\" href=\"http://example.com/tillie\" id=\"link3\">Tillie</a>;\n",
              "and they lived at the bottom of a well.</p>\n",
              "<p class=\"story\">...</p>\n",
              "</body>"
            ]
          },
          "execution_count": 7,
          "metadata": {},
          "output_type": "execute_result"
        }
      ],
      "source": [
        "soup.body"
      ]
    },
    {
      "cell_type": "code",
      "execution_count": null,
      "metadata": {
        "id": "T1UFQca0AIkE"
      },
      "outputs": [],
      "source": [
        "mainbody = soup.body"
      ]
    },
    {
      "cell_type": "code",
      "execution_count": null,
      "metadata": {
        "colab": {
          "base_uri": "https://localhost:8080/"
        },
        "id": "srWb7E3qAwel",
        "outputId": "b76b2ccf-683b-4a01-8e4a-e6128b3f9f92"
      },
      "outputs": [
        {
          "data": {
            "text/plain": [
              "<p class=\"title\"><b>The Dormouse's story</b></p>"
            ]
          },
          "execution_count": 9,
          "metadata": {},
          "output_type": "execute_result"
        }
      ],
      "source": [
        "# find a particular tag\n",
        "soup.find('p')"
      ]
    },
    {
      "cell_type": "code",
      "execution_count": null,
      "metadata": {
        "colab": {
          "base_uri": "https://localhost:8080/"
        },
        "id": "8z-UllyaC6_n",
        "outputId": "9f97adff-c7a3-43e7-fdb0-cbeb535620a0"
      },
      "outputs": [
        {
          "data": {
            "text/plain": [
              "[<p class=\"title\"><b>The Dormouse's story</b></p>,\n",
              " <p class=\"story\">Once upon a time there were three little sisters; and their names were\n",
              " <a class=\"sister\" href=\"http://example.com/elsie\" id=\"link1\">Elsie</a>,\n",
              " <a class=\"sister\" href=\"http://example.com/lacie\" id=\"link2\">Lacie</a> and\n",
              " <a class=\"sister\" href=\"http://example.com/tillie\" id=\"link3\">Tillie</a>;\n",
              " and they lived at the bottom of a well.</p>,\n",
              " <p class=\"story\">...</p>]"
            ]
          },
          "execution_count": 10,
          "metadata": {},
          "output_type": "execute_result"
        }
      ],
      "source": [
        "# find all p\n",
        "soup.find_all('p')"
      ]
    },
    {
      "cell_type": "code",
      "execution_count": null,
      "metadata": {
        "colab": {
          "base_uri": "https://localhost:8080/",
          "height": 36
        },
        "id": "LOYEenAzDGjd",
        "outputId": "8e0ba9b8-2ea2-4a07-e705-bd0c1416b71d"
      },
      "outputs": [
        {
          "data": {
            "application/vnd.google.colaboratory.intrinsic+json": {
              "type": "string"
            },
            "text/plain": [
              "\"The Dormouse's story\""
            ]
          },
          "execution_count": 12,
          "metadata": {},
          "output_type": "execute_result"
        }
      ],
      "source": [
        "# get the text\n",
        "soup.find('p').get_text()"
      ]
    },
    {
      "cell_type": "code",
      "execution_count": null,
      "metadata": {
        "colab": {
          "base_uri": "https://localhost:8080/"
        },
        "id": "ash0Mdn6DX8l",
        "outputId": "7c692d4a-2e54-47e4-e6c3-a6b717415eec"
      },
      "outputs": [
        {
          "data": {
            "text/plain": [
              "['Elsie', 'Lacie', 'Tillie']"
            ]
          },
          "execution_count": 17,
          "metadata": {},
          "output_type": "execute_result"
        }
      ],
      "source": [
        "# loop through tag to get the text\n",
        "sisters = soup.find_all('a', class_='sister')\n",
        "\n",
        "[a.getText() for a in sisters]"
      ]
    },
    {
      "cell_type": "markdown",
      "metadata": {
        "id": "XhfN4trZGD9g"
      },
      "source": [
        "### Practicle example\n",
        "Website - English Premier League ResultDB\n",
        "\n",
        "**URL** - http://www.resultdb.com/english-premier-league-tables/\n",
        "\n",
        "**Goal**: *Get the aggregated details of each team for a particular season* \n"
      ]
    },
    {
      "cell_type": "code",
      "execution_count": null,
      "metadata": {
        "id": "MCY5RBjIFVAl",
        "colab": {
          "base_uri": "https://localhost:8080/"
        },
        "outputId": "f7348fd2-cee9-49a8-fa3c-147c10bb1d00"
      },
      "outputs": [
        {
          "output_type": "stream",
          "name": "stdout",
          "text": [
            "2000\n",
            "<!DOCTYPE html PUBLIC \"-//W3C//DTD XHTML 1.0 Strict//EN\"\n",
            "\"http://www.w3.org/TR/xhtml1/DTD/xhtml1-strict.dtd\">\n",
            "\n",
            "<html lang=\"en\" xml:lang=\"en\" xmlns=\"http://www.w3.org/1999/xhtml\">\n",
            "<head>\n",
            "<meta content=\"text/html; charset=utf-8\" http-equiv=\"Content-Type\"/>\n",
            "<meta content=\"width=device-width, initial-scale=1\" name=\"viewport\"/>\n",
            "<title>English Premier League 2000/2001 table - Result DB</title>\n",
            "<meta content=\"Premier League tables for the 2000/2001 season. Full table for the English Premier League 2000/2001 as well as home and away league tables. \" name=\"description\">\n",
            "<meta content=\"Premier League 2000/2001 table,Premier League table,2000/2001 table\" name=\"keywords\"/>\n",
            "<link href=\"/style.css\" rel=\"stylesheet\" type=\"text/css\"/>\n",
            "<link href=\"/images/favicon.ico\" rel=\"Shortcut Icon\"/>\n",
            "<script type=\"text/javascript\">\n",
            "\n",
            "  var _gaq = _gaq || [];\n",
            "  _gaq.push(['_setAccount', 'UA-23500708-1']);\n",
            "  _gaq.push(['_trackPageview']);\n",
            "\n",
            "  (function() {\n",
            "    var ga = document.createElement('script'); ga.type = 'text/javascript'; ga.async = true;\n",
            "    ga.src = ('https:' == document.location.protocol ? 'https://ssl' : 'http://www') + '.google-analytics.com/ga.js';\n",
            "    var s = document.getElementsByTagName('script')[0]; s.parentNode.insertBefore(ga, s);\n",
            "  })();\n",
            "\n",
            "</script>\n",
            "</meta></head>\n",
            "<body>\n",
            "<div id=\"container\">\n",
            "<div id=\"top\">\n",
            "<div id=\"logo\" onclick=\"window.location.href='/'\"><img alt=\"Result database logo\" height=\"45\" src=\"/images/logoimg.gif\" width=\"44\"/><h3>Result DB</h3><h4><a href=\"/\">Football results and statistics</a></h4></div>\n",
            "<div id=\"topbanner\">\n",
            "</div>\n",
            "<!--<div class=\"floatleft margintop\">\n",
            "    <g:plusone></g:plusone>\n",
            "    \n",
            "    <script type=\"text/javascript\">\n",
            "      (function() {\n",
            "        var po = document.createElement('script'); po.type = 'text/javascript'; po.async = true;\n",
            "        po.src = 'https://apis.google.com/js/plusone.js';\n",
            "        var s = document.getElementsByTagName('script')[0]; s.parentNode.insertBefore(po, s);\n",
            "      })();\n",
            "    </script>\n",
            "    </div>-->\n",
            "</div>\n",
            "<div id=\"topmenu\"></div>\n",
            "<div id=\"main\">\n",
            "<div class=\"box\" id=\"middle\">\n",
            "<h1>English Premier League 2000/2001 Table</h1>\n",
            "<script async=\"\" src=\"//pagead2.googlesyndication.com/pagead/js/adsbygoogle.js\"></script>\n",
            "<!-- RDB Middle Responsive -->\n",
            "<ins class=\"adsbygoogle\" data-ad-client=\"ca-pub-8130320560196838\" data-ad-format=\"auto\" data-ad-slot=\"8388870624\" style=\"display:block\"></ins>\n",
            "<script>\n",
            "(adsbygoogle = window.adsbygoogle || []).push({});\n",
            "</script><h2>Total 2000/2001 Premier League Table</h2><table class=\"table\"><tr class=\"tablehead\"><th>#</th><th class=\"left paddingleft\">Team Name</th><th>P</th><th>W</th><th>D</th><th>L</th><th>GS</th><th>GA</th><th>GD</th><th>Points</th><th class=\"center\">Form</th></tr><tr onclick=\"window.location.href='/england/manchester-united/2000/'\"><td>1</td><td class=\"left paddingleft\">Manchester United</td><td>38</td><td>24</td><td>8</td><td>6</td><td>79</td><td>31</td><td>+48</td><td>80 pts</td><td class=\"center\"><img alt=\"L\" height=\"14px\" src=\"/images/l.png\" width=\"14px\"/><img alt=\"L\" height=\"14px\" src=\"/images/l.png\" width=\"14px\"/><img alt=\"L\" height=\"14px\" src=\"/images/l.png\" width=\"14px\"/><img alt=\"W\" height=\"14px\" src=\"/images/w.png\" width=\"14px\"/><img alt=\"D\" height=\"14px\" src=\"/images/d.png\" width=\"14px\"/></td></tr><tr class=\"odd\" onclick=\"window.location.href='/england/arsenal/2000/'\"><td>2</td><td class=\"left paddingleft\">Arsenal</td><td>38</td><td>20</td><td>10</td><td>8</td><td>63</td><td>38</td><td>+25</td><td>70 pts</td><td class=\"center\"><img alt=\"L\" height=\"14px\" src=\"/images/l.png\" width=\"14px\"/><img alt=\"D\" height=\"14px\" src=\"/images/d.png\" width=\"14px\"/><img alt=\"W\" height=\"14px\" src=\"/images/w.png\" width=\"14px\"/><img alt=\"W\" height=\"14px\" src=\"/images/w.png\" width=\"14px\"/><img alt=\"W\" height=\"14px\" src=\"/images/w.png\" width=\"14px\"/></td></tr><tr onclick=\"window.location.href='/england/liverpool/2000/'\"><td>3</td><td class=\"left paddingleft\">Liverpool</td><td>38</td><td>20</td><td>9</td><td>9</td><td>71</td><td>39</td><td>+32</td><td>69 pts</td><td class=\"center\"><img alt=\"W\" height=\"14px\" src=\"/images/w.png\" width=\"14px\"/><img alt=\"D\" height=\"14px\" src=\"/images/d.png\" width=\"14px\"/><img alt=\"W\" height=\"14px\" src=\"/images/w.png\" width=\"14px\"/><img alt=\"W\" height=\"14px\" src=\"/images/w.png\" width=\"14px\"/><img alt=\"W\" height=\"14px\" src=\"/images/w.png\" width=\"14px\"/></td></tr><tr class=\"odd\" onclick=\"window.location.href='/england/leeds/2000/'\"><td>4</td><td class=\"left paddingleft\">Leeds</td><td>38</td><td>20</td><td>8</td><td>10</td><td>64</td><td>43</td><td>+21</td><td>68 pts</td><td class=\"center\"><img alt=\"W\" height=\"14px\" src=\"/images/w.png\" width=\"14px\"/><img alt=\"W\" height=\"14px\" src=\"/images/w.png\" width=\"14px\"/><img alt=\"L\" height=\"14px\" src=\"/images/l.png\" width=\"14px\"/><img alt=\"W\" height=\"14px\" src=\"/images/w.png\" width=\"14px\"/><img alt=\"W\" height=\"14px\" src=\"/images/w.png\" width=\"14px\"/></td></tr><tr onclick=\"window.location.href='/england/ipswich-town/2000/'\"><td>5</td><td class=\"left paddingleft\">Ipswich Town</td><td>38</td><td>20</td><td>6</td><td>12</td><td>57</td><td>42</td><td>+15</td><td>66 pts</td><td class=\"center\"><img alt=\"D\" height=\"14px\" src=\"/images/d.png\" width=\"14px\"/><img alt=\"W\" height=\"14px\" src=\"/images/w.png\" width=\"14px\"/><img alt=\"L\" height=\"14px\" src=\"/images/l.png\" width=\"14px\"/><img alt=\"W\" height=\"14px\" src=\"/images/w.png\" width=\"14px\"/><img alt=\"W\" height=\"14px\" src=\"/images/w.png\" width=\"14px\"/></td></tr><tr class=\"odd\" onclick=\"window.location.href='/england/chelsea/2000/'\"><td>6</td><td class=\"left paddingleft\">Chelsea</td><td>38</td><td>17</td><td>10</td><td>11</td><td>68</td><td>45</td><td>+23</td><td>61 pts</td><td class=\"center\"><img alt=\"W\" height=\"14px\" src=\"/images/w.png\" width=\"14px\"/><img alt=\"D\" height=\"14px\" src=\"/images/d.png\" width=\"14px\"/><img alt=\"W\" height=\"14px\" src=\"/images/w.png\" width=\"14px\"/><img alt=\"L\" height=\"14px\" src=\"/images/l.png\" width=\"14px\"/><img alt=\"L\" height=\"14px\" src=\"/images/l.png\" width=\"14px\"/></td></tr><tr onclick=\"window.location.href='/england/sunderland/2000/'\"><td>7</td><td class=\"left paddingleft\">Sunderland</td><td>38</td><td>15</td><td>12</td><td>11</td><td>46</td><td>41</td><td>+5</td><td>57 pts</td><td class=\"center\"><img alt=\"D\" height=\"14px\" src=\"/images/d.png\" width=\"14px\"/><img alt=\"W\" height=\"14px\" src=\"/images/w.png\" width=\"14px\"/><img alt=\"W\" height=\"14px\" src=\"/images/w.png\" width=\"14px\"/><img alt=\"D\" height=\"14px\" src=\"/images/d.png\" width=\"14px\"/><img alt=\"L\" height=\"14px\" src=\"/images/l.png\" width=\"14px\"/></td></tr><tr class=\"odd\" onclick=\"window.location.href='/england/aston-villa/2000/'\"><td>8</td><td class=\"left paddingleft\">Aston Villa</td><td>38</td><td>13</td><td>15</td><td>10</td><td>46</td><td>43</td><td>+3</td><td>54 pts</td><td class=\"center\"><img alt=\"L\" height=\"14px\" src=\"/images/l.png\" width=\"14px\"/><img alt=\"W\" height=\"14px\" src=\"/images/w.png\" width=\"14px\"/><img alt=\"D\" height=\"14px\" src=\"/images/d.png\" width=\"14px\"/><img alt=\"D\" height=\"14px\" src=\"/images/d.png\" width=\"14px\"/><img alt=\"D\" height=\"14px\" src=\"/images/d.png\" width=\"14px\"/></td></tr><tr onclick=\"window.location.href='/england/charlton-athletic/2000/'\"><td>9</td><td class=\"left paddingleft\">Charlton Athletic</td><td>38</td><td>14</td><td>10</td><td>14</td><td>50</td><td>57</td><td>-7</td><td>52 pts</td><td class=\"center\"><img alt=\"L\" height=\"14px\" src=\"/images/l.png\" width=\"14px\"/><img alt=\"L\" height=\"14px\" src=\"/images/l.png\" width=\"14px\"/><img alt=\"W\" height=\"14px\" src=\"/images/w.png\" width=\"14px\"/><img alt=\"W\" height=\"14px\" src=\"/images/w.png\" width=\"14px\"/><img alt=\"D\" height=\"14px\" src=\"/images/d.png\" width=\"14px\"/></td></tr><tr class=\"odd\" onclick=\"window.location.href='/england/southampton/2000/'\"><td>10</td><td class=\"left paddingleft\">Southampton</td><td>38</td><td>14</td><td>10</td><td>14</td><td>40</td><td>48</td><td>-8</td><td>52 pts</td><td class=\"center\"><img alt=\"W\" height=\"14px\" src=\"/images/w.png\" width=\"14px\"/><img alt=\"W\" height=\"14px\" src=\"/images/w.png\" width=\"14px\"/><img alt=\"L\" height=\"14px\" src=\"/images/l.png\" width=\"14px\"/><img alt=\"D\" height=\"14px\" src=\"/images/d.png\" width=\"14px\"/><img alt=\"L\" height=\"14px\" src=\"/images/l.png\" width=\"14px\"/></td></tr><tr onclick=\"window.location.href='/england/newcastle/2000/'\"><td>11</td><td class=\"left paddingleft\">Newcastle</td><td>38</td><td>14</td><td>9</td><td>15</td><td>44</td><td>50</td><td>-6</td><td>51 pts</td><td class=\"center\"><img alt=\"W\" height=\"14px\" src=\"/images/w.png\" width=\"14px\"/><img alt=\"D\" height=\"14px\" src=\"/images/d.png\" width=\"14px\"/><img alt=\"L\" height=\"14px\" src=\"/images/l.png\" width=\"14px\"/><img alt=\"D\" height=\"14px\" src=\"/images/d.png\" width=\"14px\"/><img alt=\"W\" height=\"14px\" src=\"/images/w.png\" width=\"14px\"/></td></tr><tr class=\"odd\" onclick=\"window.location.href='/england/tottenham/2000/'\"><td>12</td><td class=\"left paddingleft\">Tottenham</td><td>38</td><td>13</td><td>10</td><td>15</td><td>47</td><td>54</td><td>-7</td><td>49 pts</td><td class=\"center\"><img alt=\"W\" height=\"14px\" src=\"/images/w.png\" width=\"14px\"/><img alt=\"L\" height=\"14px\" src=\"/images/l.png\" width=\"14px\"/><img alt=\"D\" height=\"14px\" src=\"/images/d.png\" width=\"14px\"/><img alt=\"L\" height=\"14px\" src=\"/images/l.png\" width=\"14px\"/><img alt=\"L\" height=\"14px\" src=\"/images/l.png\" width=\"14px\"/></td></tr><tr onclick=\"window.location.href='/england/leicester-city/2000/'\"><td>13</td><td class=\"left paddingleft\">Leicester City</td><td>38</td><td>14</td><td>6</td><td>18</td><td>39</td><td>51</td><td>-12</td><td>48 pts</td><td class=\"center\"><img alt=\"L\" height=\"14px\" src=\"/images/l.png\" width=\"14px\"/><img alt=\"W\" height=\"14px\" src=\"/images/w.png\" width=\"14px\"/><img alt=\"L\" height=\"14px\" src=\"/images/l.png\" width=\"14px\"/><img alt=\"L\" height=\"14px\" src=\"/images/l.png\" width=\"14px\"/><img alt=\"L\" height=\"14px\" src=\"/images/l.png\" width=\"14px\"/></td></tr><tr class=\"odd\" onclick=\"window.location.href='/england/middlesbrough/2000/'\"><td>14</td><td class=\"left paddingleft\">Middlesbrough</td><td>38</td><td>9</td><td>15</td><td>14</td><td>44</td><td>44</td><td>+0</td><td>42 pts</td><td class=\"center\"><img alt=\"W\" height=\"14px\" src=\"/images/w.png\" width=\"14px\"/><img alt=\"D\" height=\"14px\" src=\"/images/d.png\" width=\"14px\"/><img alt=\"L\" height=\"14px\" src=\"/images/l.png\" width=\"14px\"/><img alt=\"W\" height=\"14px\" src=\"/images/w.png\" width=\"14px\"/><img alt=\"L\" height=\"14px\" src=\"/images/l.png\" width=\"14px\"/></td></tr><tr onclick=\"window.location.href='/england/west-ham/2000/'\"><td>15</td><td class=\"left paddingleft\">West Ham</td><td>38</td><td>10</td><td>12</td><td>16</td><td>45</td><td>50</td><td>-5</td><td>42 pts</td><td class=\"center\"><img alt=\"L\" height=\"14px\" src=\"/images/l.png\" width=\"14px\"/><img alt=\"W\" height=\"14px\" src=\"/images/w.png\" width=\"14px\"/><img alt=\"L\" height=\"14px\" src=\"/images/l.png\" width=\"14px\"/><img alt=\"L\" height=\"14px\" src=\"/images/l.png\" width=\"14px\"/><img alt=\"L\" height=\"14px\" src=\"/images/l.png\" width=\"14px\"/></td></tr><tr class=\"odd\" onclick=\"window.location.href='/england/everton/2000/'\"><td>16</td><td class=\"left paddingleft\">Everton</td><td>38</td><td>11</td><td>9</td><td>18</td><td>45</td><td>59</td><td>-14</td><td>42 pts</td><td class=\"center\"><img alt=\"D\" height=\"14px\" src=\"/images/d.png\" width=\"14px\"/><img alt=\"L\" height=\"14px\" src=\"/images/l.png\" width=\"14px\"/><img alt=\"W\" height=\"14px\" src=\"/images/w.png\" width=\"14px\"/><img alt=\"L\" height=\"14px\" src=\"/images/l.png\" width=\"14px\"/><img alt=\"L\" height=\"14px\" src=\"/images/l.png\" width=\"14px\"/></td></tr><tr onclick=\"window.location.href='/england/derby-county/2000/'\"><td>17</td><td class=\"left paddingleft\">Derby County</td><td>38</td><td>10</td><td>12</td><td>16</td><td>37</td><td>59</td><td>-22</td><td>42 pts</td><td class=\"center\"><img alt=\"D\" height=\"14px\" src=\"/images/d.png\" width=\"14px\"/><img alt=\"W\" height=\"14px\" src=\"/images/w.png\" width=\"14px\"/><img alt=\"L\" height=\"14px\" src=\"/images/l.png\" width=\"14px\"/><img alt=\"L\" height=\"14px\" src=\"/images/l.png\" width=\"14px\"/><img alt=\"W\" height=\"14px\" src=\"/images/w.png\" width=\"14px\"/></td></tr><tr class=\"odd\" onclick=\"window.location.href='/england/manchester-city/2000/'\"><td>18</td><td class=\"left paddingleft\">Manchester City</td><td>38</td><td>8</td><td>10</td><td>20</td><td>41</td><td>65</td><td>-24</td><td>34 pts</td><td class=\"center\"><img alt=\"L\" height=\"14px\" src=\"/images/l.png\" width=\"14px\"/><img alt=\"L\" height=\"14px\" src=\"/images/l.png\" width=\"14px\"/><img alt=\"W\" height=\"14px\" src=\"/images/w.png\" width=\"14px\"/><img alt=\"D\" height=\"14px\" src=\"/images/d.png\" width=\"14px\"/><img alt=\"W\" height=\"14px\" src=\"/images/w.png\" width=\"14px\"/></td></tr><tr onclick=\"window.location.href='/england/coventry-city/2000/'\"><td>19</td><td class=\"left paddingleft\">Coventry City</td><td>38</td><td>8</td><td>10</td><td>20</td><td>36</td><td>63</td><td>-27</td><td>34 pts</td><td class=\"center\"><img alt=\"D\" height=\"14px\" src=\"/images/d.png\" width=\"14px\"/><img alt=\"L\" height=\"14px\" src=\"/images/l.png\" width=\"14px\"/><img alt=\"L\" height=\"14px\" src=\"/images/l.png\" width=\"14px\"/><img alt=\"L\" height=\"14px\" src=\"/images/l.png\" width=\"14px\"/><img alt=\"W\" height=\"14px\" src=\"/images/w.png\" width=\"14px\"/></td></tr><tr class=\"odd\" onclick=\"window.location.href='/england/bradford-city/2000/'\"><td>20</td><td class=\"left paddingleft\">Bradford City</td><td>38</td><td>5</td><td>11</td><td>22</td><td>30</td><td>70</td><td>-40</td><td>26 pts</td><td class=\"center\"><img alt=\"D\" height=\"14px\" src=\"/images/d.png\" width=\"14px\"/><img alt=\"L\" height=\"14px\" src=\"/images/l.png\" width=\"14px\"/><img alt=\"D\" height=\"14px\" src=\"/images/d.png\" width=\"14px\"/><img alt=\"L\" height=\"14px\" src=\"/images/l.png\" width=\"14px\"/><img alt=\"L\" height=\"14px\" src=\"/images/l.png\" width=\"14px\"/></td></tr></table><h2>Home Table</h2><table class=\"table\"><tr class=\"tablehead\"><th>#</th><th class=\"left paddingleft\">Team Name</th><th>P</th><th>W</th><th>D</th><th>L</th><th>GS</th><th>GA</th><th>GD</th><th>Points</th><th class=\"center\">Form</th></tr><tr onclick=\"window.location.href='/england/arsenal/2000/'\"><td>1</td><td class=\"left paddingleft\">Arsenal</td><td>19</td><td>15</td><td>3</td><td>1</td><td>45</td><td>13</td><td>+32</td><td>48 pts</td><td class=\"center\"><img alt=\"W\" height=\"14px\" src=\"/images/w.png\" width=\"14px\"/><img alt=\"W\" height=\"14px\" src=\"/images/w.png\" width=\"14px\"/><img alt=\"L\" height=\"14px\" src=\"/images/l.png\" width=\"14px\"/><img alt=\"W\" height=\"14px\" src=\"/images/w.png\" width=\"14px\"/><img alt=\"W\" height=\"14px\" src=\"/images/w.png\" width=\"14px\"/></td></tr><tr class=\"odd\" onclick=\"window.location.href='/england/manchester-united/2000/'\"><td>2</td><td class=\"left paddingleft\">Manchester United</td><td>19</td><td>15</td><td>2</td><td>2</td><td>49</td><td>12</td><td>+37</td><td>47 pts</td><td class=\"center\"><img alt=\"L\" height=\"14px\" src=\"/images/l.png\" width=\"14px\"/><img alt=\"D\" height=\"14px\" src=\"/images/d.png\" width=\"14px\"/><img alt=\"W\" height=\"14px\" src=\"/images/w.png\" width=\"14px\"/><img alt=\"W\" height=\"14px\" src=\"/images/w.png\" width=\"14px\"/><img alt=\"W\" height=\"14px\" src=\"/images/w.png\" width=\"14px\"/></td></tr><tr onclick=\"window.location.href='/england/liverpool/2000/'\"><td>3</td><td class=\"left paddingleft\">Liverpool</td><td>19</td><td>13</td><td>4</td><td>2</td><td>40</td><td>14</td><td>+26</td><td>43 pts</td><td class=\"center\"><img alt=\"D\" height=\"14px\" src=\"/images/d.png\" width=\"14px\"/><img alt=\"W\" height=\"14px\" src=\"/images/w.png\" width=\"14px\"/><img alt=\"W\" height=\"14px\" src=\"/images/w.png\" width=\"14px\"/><img alt=\"L\" height=\"14px\" src=\"/images/l.png\" width=\"14px\"/><img alt=\"W\" height=\"14px\" src=\"/images/w.png\" width=\"14px\"/></td></tr><tr class=\"odd\" onclick=\"window.location.href='/england/chelsea/2000/'\"><td>4</td><td class=\"left paddingleft\">Chelsea</td><td>19</td><td>13</td><td>3</td><td>3</td><td>44</td><td>20</td><td>+24</td><td>42 pts</td><td class=\"center\"><img alt=\"W\" height=\"14px\" src=\"/images/w.png\" width=\"14px\"/><img alt=\"L\" height=\"14px\" src=\"/images/l.png\" width=\"14px\"/><img alt=\"W\" height=\"14px\" src=\"/images/w.png\" width=\"14px\"/><img alt=\"W\" height=\"14px\" src=\"/images/w.png\" width=\"14px\"/><img alt=\"L\" height=\"14px\" src=\"/images/l.png\" width=\"14px\"/></td></tr><tr onclick=\"window.location.href='/england/tottenham/2000/'\"><td>5</td><td class=\"left paddingleft\">Tottenham</td><td>19</td><td>11</td><td>6</td><td>2</td><td>31</td><td>16</td><td>+15</td><td>39 pts</td><td class=\"center\"><img alt=\"W\" height=\"14px\" src=\"/images/w.png\" width=\"14px\"/><img alt=\"D\" height=\"14px\" src=\"/images/d.png\" width=\"14px\"/><img alt=\"L\" height=\"14px\" src=\"/images/l.png\" width=\"14px\"/><img alt=\"W\" height=\"14px\" src=\"/images/w.png\" width=\"14px\"/><img alt=\"W\" height=\"14px\" src=\"/images/w.png\" width=\"14px\"/></td></tr><tr class=\"odd\" onclick=\"window.location.href='/england/ipswich-town/2000/'\"><td>6</td><td class=\"left paddingleft\">Ipswich Town</td><td>19</td><td>11</td><td>5</td><td>3</td><td>31</td><td>15</td><td>+16</td><td>38 pts</td><td class=\"center\"><img alt=\"W\" height=\"14px\" src=\"/images/w.png\" width=\"14px\"/><img alt=\"W\" height=\"14px\" src=\"/images/w.png\" width=\"14px\"/><img alt=\"W\" height=\"14px\" src=\"/images/w.png\" width=\"14px\"/><img alt=\"D\" height=\"14px\" src=\"/images/d.png\" width=\"14px\"/><img alt=\"W\" height=\"14px\" src=\"/images/w.png\" width=\"14px\"/></td></tr><tr onclick=\"window.location.href='/england/charlton-athletic/2000/'\"><td>7</td><td class=\"left paddingleft\">Charlton Athletic</td><td>19</td><td>11</td><td>5</td><td>3</td><td>31</td><td>19</td><td>+12</td><td>38 pts</td><td class=\"center\"><img alt=\"L\" height=\"14px\" src=\"/images/l.png\" width=\"14px\"/><img alt=\"W\" height=\"14px\" src=\"/images/w.png\" width=\"14px\"/><img alt=\"D\" height=\"14px\" src=\"/images/d.png\" width=\"14px\"/><img alt=\"W\" height=\"14px\" src=\"/images/w.png\" width=\"14px\"/><img alt=\"L\" height=\"14px\" src=\"/images/l.png\" width=\"14px\"/></td></tr><tr class=\"odd\" onclick=\"window.location.href='/england/leeds/2000/'\"><td>8</td><td class=\"left paddingleft\">Leeds</td><td>19</td><td>11</td><td>3</td><td>5</td><td>36</td><td>21</td><td>+15</td><td>36 pts</td><td class=\"center\"><img alt=\"W\" height=\"14px\" src=\"/images/w.png\" width=\"14px\"/><img alt=\"W\" height=\"14px\" src=\"/images/w.png\" width=\"14px\"/><img alt=\"W\" height=\"14px\" src=\"/images/w.png\" width=\"14px\"/><img alt=\"W\" height=\"14px\" src=\"/images/w.png\" width=\"14px\"/><img alt=\"D\" height=\"14px\" src=\"/images/d.png\" width=\"14px\"/></td></tr><tr onclick=\"window.location.href='/england/southampton/2000/'\"><td>9</td><td class=\"left paddingleft\">Southampton</td><td>19</td><td>11</td><td>2</td><td>6</td><td>27</td><td>22</td><td>+5</td><td>35 pts</td><td class=\"center\"><img alt=\"W\" height=\"14px\" src=\"/images/w.png\" width=\"14px\"/><img alt=\"W\" height=\"14px\" src=\"/images/w.png\" width=\"14px\"/><img alt=\"L\" height=\"14px\" src=\"/images/l.png\" width=\"14px\"/><img alt=\"L\" height=\"14px\" src=\"/images/l.png\" width=\"14px\"/><img alt=\"W\" height=\"14px\" src=\"/images/w.png\" width=\"14px\"/></td></tr><tr class=\"odd\" onclick=\"window.location.href='/england/newcastle/2000/'\"><td>10</td><td class=\"left paddingleft\">Newcastle</td><td>19</td><td>10</td><td>4</td><td>5</td><td>26</td><td>17</td><td>+9</td><td>34 pts</td><td class=\"center\"><img alt=\"W\" height=\"14px\" src=\"/images/w.png\" width=\"14px\"/><img alt=\"D\" height=\"14px\" src=\"/images/d.png\" width=\"14px\"/><img alt=\"D\" height=\"14px\" src=\"/images/d.png\" width=\"14px\"/><img alt=\"W\" height=\"14px\" src=\"/images/w.png\" width=\"14px\"/><img alt=\"W\" height=\"14px\" src=\"/images/w.png\" width=\"14px\"/></td></tr><tr onclick=\"window.location.href='/england/sunderland/2000/'\"><td>11</td><td class=\"left paddingleft\">Sunderland</td><td>19</td><td>9</td><td>7</td><td>3</td><td>24</td><td>16</td><td>+8</td><td>34 pts</td><td class=\"center\"><img alt=\"W\" height=\"14px\" src=\"/images/w.png\" width=\"14px\"/><img alt=\"D\" height=\"14px\" src=\"/images/d.png\" width=\"14px\"/><img alt=\"L\" height=\"14px\" src=\"/images/l.png\" width=\"14px\"/><img alt=\"L\" height=\"14px\" src=\"/images/l.png\" width=\"14px\"/><img alt=\"D\" height=\"14px\" src=\"/images/d.png\" width=\"14px\"/></td></tr><tr class=\"odd\" onclick=\"window.location.href='/england/leicester-city/2000/'\"><td>12</td><td class=\"left paddingleft\">Leicester City</td><td>19</td><td>10</td><td>4</td><td>5</td><td>28</td><td>23</td><td>+5</td><td>34 pts</td><td class=\"center\"><img alt=\"W\" height=\"14px\" src=\"/images/w.png\" width=\"14px\"/><img alt=\"L\" height=\"14px\" src=\"/images/l.png\" width=\"14px\"/><img alt=\"L\" height=\"14px\" src=\"/images/l.png\" width=\"14px\"/><img alt=\"L\" height=\"14px\" src=\"/images/l.png\" width=\"14px\"/><img alt=\"W\" height=\"14px\" src=\"/images/w.png\" width=\"14px\"/></td></tr><tr onclick=\"window.location.href='/england/aston-villa/2000/'\"><td>13</td><td class=\"left paddingleft\">Aston Villa</td><td>19</td><td>8</td><td>8</td><td>3</td><td>27</td><td>20</td><td>+7</td><td>32 pts</td><td class=\"center\"><img alt=\"W\" height=\"14px\" src=\"/images/w.png\" width=\"14px\"/><img alt=\"D\" height=\"14px\" src=\"/images/d.png\" width=\"14px\"/><img alt=\"W\" height=\"14px\" src=\"/images/w.png\" width=\"14px\"/><img alt=\"D\" height=\"14px\" src=\"/images/d.png\" width=\"14px\"/><img alt=\"W\" height=\"14px\" src=\"/images/w.png\" width=\"14px\"/></td></tr><tr class=\"odd\" onclick=\"window.location.href='/england/derby-county/2000/'\"><td>14</td><td class=\"left paddingleft\">Derby County</td><td>19</td><td>8</td><td>7</td><td>4</td><td>23</td><td>24</td><td>-1</td><td>31 pts</td><td class=\"center\"><img alt=\"D\" height=\"14px\" src=\"/images/d.png\" width=\"14px\"/><img alt=\"L\" height=\"14px\" src=\"/images/l.png\" width=\"14px\"/><img alt=\"W\" height=\"14px\" src=\"/images/w.png\" width=\"14px\"/><img alt=\"L\" height=\"14px\" src=\"/images/l.png\" width=\"14px\"/><img alt=\"W\" height=\"14px\" src=\"/images/w.png\" width=\"14px\"/></td></tr><tr onclick=\"window.location.href='/england/everton/2000/'\"><td>15</td><td class=\"left paddingleft\">Everton</td><td>19</td><td>6</td><td>8</td><td>5</td><td>29</td><td>27</td><td>+2</td><td>26 pts</td><td class=\"center\"><img alt=\"D\" height=\"14px\" src=\"/images/d.png\" width=\"14px\"/><img alt=\"W\" height=\"14px\" src=\"/images/w.png\" width=\"14px\"/><img alt=\"L\" height=\"14px\" src=\"/images/l.png\" width=\"14px\"/><img alt=\"W\" height=\"14px\" src=\"/images/w.png\" width=\"14px\"/><img alt=\"D\" height=\"14px\" src=\"/images/d.png\" width=\"14px\"/></td></tr><tr class=\"odd\" onclick=\"window.location.href='/england/west-ham/2000/'\"><td>16</td><td class=\"left paddingleft\">West Ham</td><td>19</td><td>6</td><td>6</td><td>7</td><td>24</td><td>20</td><td>+4</td><td>24 pts</td><td class=\"center\"><img alt=\"W\" height=\"14px\" src=\"/images/w.png\" width=\"14px\"/><img alt=\"L\" height=\"14px\" src=\"/images/l.png\" width=\"14px\"/><img alt=\"W\" height=\"14px\" src=\"/images/w.png\" width=\"14px\"/><img alt=\"L\" height=\"14px\" src=\"/images/l.png\" width=\"14px\"/><img alt=\"L\" height=\"14px\" src=\"/images/l.png\" width=\"14px\"/></td></tr><tr onclick=\"window.location.href='/england/middlesbrough/2000/'\"><td>17</td><td class=\"left paddingleft\">Middlesbrough</td><td>19</td><td>4</td><td>7</td><td>8</td><td>18</td><td>23</td><td>-5</td><td>19 pts</td><td class=\"center\"><img alt=\"W\" height=\"14px\" src=\"/images/w.png\" width=\"14px\"/><img alt=\"L\" height=\"14px\" src=\"/images/l.png\" width=\"14px\"/><img alt=\"L\" height=\"14px\" src=\"/images/l.png\" width=\"14px\"/><img alt=\"D\" height=\"14px\" src=\"/images/d.png\" width=\"14px\"/><img alt=\"D\" height=\"14px\" src=\"/images/d.png\" width=\"14px\"/></td></tr><tr class=\"odd\" onclick=\"window.location.href='/england/bradford-city/2000/'\"><td>18</td><td class=\"left paddingleft\">Bradford City</td><td>19</td><td>4</td><td>7</td><td>8</td><td>20</td><td>29</td><td>-9</td><td>19 pts</td><td class=\"center\"><img alt=\"D\" height=\"14px\" src=\"/images/d.png\" width=\"14px\"/><img alt=\"L\" height=\"14px\" src=\"/images/l.png\" width=\"14px\"/><img alt=\"W\" height=\"14px\" src=\"/images/w.png\" width=\"14px\"/><img alt=\"W\" height=\"14px\" src=\"/images/w.png\" width=\"14px\"/><img alt=\"D\" height=\"14px\" src=\"/images/d.png\" width=\"14px\"/></td></tr><tr onclick=\"window.location.href='/england/coventry-city/2000/'\"><td>19</td><td class=\"left paddingleft\">Coventry City</td><td>19</td><td>4</td><td>7</td><td>8</td><td>14</td><td>23</td><td>-9</td><td>19 pts</td><td class=\"center\"><img alt=\"D\" height=\"14px\" src=\"/images/d.png\" width=\"14px\"/><img alt=\"L\" height=\"14px\" src=\"/images/l.png\" width=\"14px\"/><img alt=\"W\" height=\"14px\" src=\"/images/w.png\" width=\"14px\"/><img alt=\"W\" height=\"14px\" src=\"/images/w.png\" width=\"14px\"/><img alt=\"D\" height=\"14px\" src=\"/images/d.png\" width=\"14px\"/></td></tr><tr class=\"odd\" onclick=\"window.location.href='/england/manchester-city/2000/'\"><td>20</td><td class=\"left paddingleft\">Manchester City</td><td>19</td><td>4</td><td>3</td><td>12</td><td>20</td><td>31</td><td>-11</td><td>15 pts</td><td class=\"center\"><img alt=\"L\" height=\"14px\" src=\"/images/l.png\" width=\"14px\"/><img alt=\"W\" height=\"14px\" src=\"/images/w.png\" width=\"14px\"/><img alt=\"L\" height=\"14px\" src=\"/images/l.png\" width=\"14px\"/><img alt=\"L\" height=\"14px\" src=\"/images/l.png\" width=\"14px\"/><img alt=\"L\" height=\"14px\" src=\"/images/l.png\" width=\"14px\"/></td></tr></table><h2>Away Table</h2><table class=\"table\"><tr class=\"tablehead\"><th>#</th><th class=\"left paddingleft\">Team Name</th><th>P</th><th>W</th><th>D</th><th>L</th><th>GS</th><th>GA</th><th>GD</th><th>Points</th><th class=\"center\">Form</th></tr><tr onclick=\"window.location.href='/england/manchester-united/2000/'\"><td>1</td><td class=\"left paddingleft\">Manchester United</td><td>19</td><td>9</td><td>6</td><td>4</td><td>30</td><td>19</td><td>+11</td><td>33 pts</td><td class=\"center\"><img alt=\"L\" height=\"14px\" src=\"/images/l.png\" width=\"14px\"/><img alt=\"L\" height=\"14px\" src=\"/images/l.png\" width=\"14px\"/><img alt=\"W\" height=\"14px\" src=\"/images/w.png\" width=\"14px\"/><img alt=\"L\" height=\"14px\" src=\"/images/l.png\" width=\"14px\"/><img alt=\"D\" height=\"14px\" src=\"/images/d.png\" width=\"14px\"/></td></tr><tr class=\"odd\" onclick=\"window.location.href='/england/leeds/2000/'\"><td>2</td><td class=\"left paddingleft\">Leeds</td><td>19</td><td>9</td><td>5</td><td>5</td><td>28</td><td>22</td><td>+6</td><td>32 pts</td><td class=\"center\"><img alt=\"L\" height=\"14px\" src=\"/images/l.png\" width=\"14px\"/><img alt=\"W\" height=\"14px\" src=\"/images/w.png\" width=\"14px\"/><img alt=\"W\" height=\"14px\" src=\"/images/w.png\" width=\"14px\"/><img alt=\"W\" height=\"14px\" src=\"/images/w.png\" width=\"14px\"/><img alt=\"W\" height=\"14px\" src=\"/images/w.png\" width=\"14px\"/></td></tr><tr onclick=\"window.location.href='/england/ipswich-town/2000/'\"><td>3</td><td class=\"left paddingleft\">Ipswich Town</td><td>19</td><td>9</td><td>1</td><td>9</td><td>26</td><td>27</td><td>-1</td><td>28 pts</td><td class=\"center\"><img alt=\"D\" height=\"14px\" src=\"/images/d.png\" width=\"14px\"/><img alt=\"L\" height=\"14px\" src=\"/images/l.png\" width=\"14px\"/><img alt=\"W\" height=\"14px\" src=\"/images/w.png\" width=\"14px\"/><img alt=\"W\" height=\"14px\" src=\"/images/w.png\" width=\"14px\"/><img alt=\"W\" height=\"14px\" src=\"/images/w.png\" width=\"14px\"/></td></tr><tr class=\"odd\" onclick=\"window.location.href='/england/liverpool/2000/'\"><td>4</td><td class=\"left paddingleft\">Liverpool</td><td>19</td><td>7</td><td>5</td><td>7</td><td>31</td><td>25</td><td>+6</td><td>26 pts</td><td class=\"center\"><img alt=\"W\" height=\"14px\" src=\"/images/w.png\" width=\"14px\"/><img alt=\"W\" height=\"14px\" src=\"/images/w.png\" width=\"14px\"/><img alt=\"W\" height=\"14px\" src=\"/images/w.png\" width=\"14px\"/><img alt=\"W\" height=\"14px\" src=\"/images/w.png\" width=\"14px\"/><img alt=\"D\" height=\"14px\" src=\"/images/d.png\" width=\"14px\"/></td></tr><tr onclick=\"window.location.href='/england/middlesbrough/2000/'\"><td>5</td><td class=\"left paddingleft\">Middlesbrough</td><td>19</td><td>5</td><td>8</td><td>6</td><td>26</td><td>21</td><td>+5</td><td>23 pts</td><td class=\"center\"><img alt=\"D\" height=\"14px\" src=\"/images/d.png\" width=\"14px\"/><img alt=\"W\" height=\"14px\" src=\"/images/w.png\" width=\"14px\"/><img alt=\"W\" height=\"14px\" src=\"/images/w.png\" width=\"14px\"/><img alt=\"L\" height=\"14px\" src=\"/images/l.png\" width=\"14px\"/><img alt=\"W\" height=\"14px\" src=\"/images/w.png\" width=\"14px\"/></td></tr><tr class=\"odd\" onclick=\"window.location.href='/england/sunderland/2000/'\"><td>6</td><td class=\"left paddingleft\">Sunderland</td><td>19</td><td>6</td><td>5</td><td>8</td><td>22</td><td>25</td><td>-3</td><td>23 pts</td><td class=\"center\"><img alt=\"D\" height=\"14px\" src=\"/images/d.png\" width=\"14px\"/><img alt=\"W\" height=\"14px\" src=\"/images/w.png\" width=\"14px\"/><img alt=\"L\" height=\"14px\" src=\"/images/l.png\" width=\"14px\"/><img alt=\"D\" height=\"14px\" src=\"/images/d.png\" width=\"14px\"/><img alt=\"W\" height=\"14px\" src=\"/images/w.png\" width=\"14px\"/></td></tr><tr onclick=\"window.location.href='/england/aston-villa/2000/'\"><td>7</td><td class=\"left paddingleft\">Aston Villa</td><td>19</td><td>5</td><td>7</td><td>7</td><td>19</td><td>23</td><td>-4</td><td>22 pts</td><td class=\"center\"><img alt=\"L\" height=\"14px\" src=\"/images/l.png\" width=\"14px\"/><img alt=\"D\" height=\"14px\" src=\"/images/d.png\" width=\"14px\"/><img alt=\"D\" height=\"14px\" src=\"/images/d.png\" width=\"14px\"/><img alt=\"W\" height=\"14px\" src=\"/images/w.png\" width=\"14px\"/><img alt=\"D\" height=\"14px\" src=\"/images/d.png\" width=\"14px\"/></td></tr><tr class=\"odd\" onclick=\"window.location.href='/england/arsenal/2000/'\"><td>8</td><td class=\"left paddingleft\">Arsenal</td><td>19</td><td>5</td><td>7</td><td>7</td><td>18</td><td>25</td><td>-7</td><td>22 pts</td><td class=\"center\"><img alt=\"L\" height=\"14px\" src=\"/images/l.png\" width=\"14px\"/><img alt=\"D\" height=\"14px\" src=\"/images/d.png\" width=\"14px\"/><img alt=\"W\" height=\"14px\" src=\"/images/w.png\" width=\"14px\"/><img alt=\"W\" height=\"14px\" src=\"/images/w.png\" width=\"14px\"/><img alt=\"D\" height=\"14px\" src=\"/images/d.png\" width=\"14px\"/></td></tr><tr onclick=\"window.location.href='/england/chelsea/2000/'\"><td>9</td><td class=\"left paddingleft\">Chelsea</td><td>19</td><td>4</td><td>7</td><td>8</td><td>24</td><td>25</td><td>-1</td><td>19 pts</td><td class=\"center\"><img alt=\"W\" height=\"14px\" src=\"/images/w.png\" width=\"14px\"/><img alt=\"D\" height=\"14px\" src=\"/images/d.png\" width=\"14px\"/><img alt=\"L\" height=\"14px\" src=\"/images/l.png\" width=\"14px\"/><img alt=\"W\" height=\"14px\" src=\"/images/w.png\" width=\"14px\"/><img alt=\"W\" height=\"14px\" src=\"/images/w.png\" width=\"14px\"/></td></tr><tr class=\"odd\" onclick=\"window.location.href='/england/manchester-city/2000/'\"><td>10</td><td class=\"left paddingleft\">Manchester City</td><td>19</td><td>4</td><td>7</td><td>8</td><td>21</td><td>34</td><td>-13</td><td>19 pts</td><td class=\"center\"><img alt=\"L\" height=\"14px\" src=\"/images/l.png\" width=\"14px\"/><img alt=\"D\" height=\"14px\" src=\"/images/d.png\" width=\"14px\"/><img alt=\"W\" height=\"14px\" src=\"/images/w.png\" width=\"14px\"/><img alt=\"L\" height=\"14px\" src=\"/images/l.png\" width=\"14px\"/><img alt=\"D\" height=\"14px\" src=\"/images/d.png\" width=\"14px\"/></td></tr><tr onclick=\"window.location.href='/england/west-ham/2000/'\"><td>11</td><td class=\"left paddingleft\">West Ham</td><td>19</td><td>4</td><td>6</td><td>9</td><td>21</td><td>30</td><td>-9</td><td>18 pts</td><td class=\"center\"><img alt=\"L\" height=\"14px\" src=\"/images/l.png\" width=\"14px\"/><img alt=\"L\" height=\"14px\" src=\"/images/l.png\" width=\"14px\"/><img alt=\"L\" height=\"14px\" src=\"/images/l.png\" width=\"14px\"/><img alt=\"D\" height=\"14px\" src=\"/images/d.png\" width=\"14px\"/><img alt=\"L\" height=\"14px\" src=\"/images/l.png\" width=\"14px\"/></td></tr><tr class=\"odd\" onclick=\"window.location.href='/england/southampton/2000/'\"><td>12</td><td class=\"left paddingleft\">Southampton</td><td>19</td><td>3</td><td>8</td><td>8</td><td>13</td><td>26</td><td>-13</td><td>17 pts</td><td class=\"center\"><img alt=\"L\" height=\"14px\" src=\"/images/l.png\" width=\"14px\"/><img alt=\"D\" height=\"14px\" src=\"/images/d.png\" width=\"14px\"/><img alt=\"D\" height=\"14px\" src=\"/images/d.png\" width=\"14px\"/><img alt=\"L\" height=\"14px\" src=\"/images/l.png\" width=\"14px\"/><img alt=\"L\" height=\"14px\" src=\"/images/l.png\" width=\"14px\"/></td></tr><tr onclick=\"window.location.href='/england/newcastle/2000/'\"><td>13</td><td class=\"left paddingleft\">Newcastle</td><td>19</td><td>4</td><td>5</td><td>10</td><td>18</td><td>33</td><td>-15</td><td>17 pts</td><td class=\"center\"><img alt=\"L\" height=\"14px\" src=\"/images/l.png\" width=\"14px\"/><img alt=\"D\" height=\"14px\" src=\"/images/d.png\" width=\"14px\"/><img alt=\"L\" height=\"14px\" src=\"/images/l.png\" width=\"14px\"/><img alt=\"D\" height=\"14px\" src=\"/images/d.png\" width=\"14px\"/><img alt=\"D\" height=\"14px\" src=\"/images/d.png\" width=\"14px\"/></td></tr><tr class=\"odd\" onclick=\"window.location.href='/england/everton/2000/'\"><td>14</td><td class=\"left paddingleft\">Everton</td><td>19</td><td>5</td><td>1</td><td>13</td><td>16</td><td>32</td><td>-16</td><td>16 pts</td><td class=\"center\"><img alt=\"L\" height=\"14px\" src=\"/images/l.png\" width=\"14px\"/><img alt=\"L\" height=\"14px\" src=\"/images/l.png\" width=\"14px\"/><img alt=\"L\" height=\"14px\" src=\"/images/l.png\" width=\"14px\"/><img alt=\"W\" height=\"14px\" src=\"/images/w.png\" width=\"14px\"/><img alt=\"L\" height=\"14px\" src=\"/images/l.png\" width=\"14px\"/></td></tr><tr onclick=\"window.location.href='/england/coventry-city/2000/'\"><td>15</td><td class=\"left paddingleft\">Coventry City</td><td>19</td><td>4</td><td>3</td><td>12</td><td>22</td><td>40</td><td>-18</td><td>15 pts</td><td class=\"center\"><img alt=\"L\" height=\"14px\" src=\"/images/l.png\" width=\"14px\"/><img alt=\"L\" height=\"14px\" src=\"/images/l.png\" width=\"14px\"/><img alt=\"L\" height=\"14px\" src=\"/images/l.png\" width=\"14px\"/><img alt=\"W\" height=\"14px\" src=\"/images/w.png\" width=\"14px\"/><img alt=\"L\" height=\"14px\" src=\"/images/l.png\" width=\"14px\"/></td></tr><tr class=\"odd\" onclick=\"window.location.href='/england/leicester-city/2000/'\"><td>16</td><td class=\"left paddingleft\">Leicester City</td><td>19</td><td>4</td><td>2</td><td>13</td><td>11</td><td>28</td><td>-17</td><td>14 pts</td><td class=\"center\"><img alt=\"L\" height=\"14px\" src=\"/images/l.png\" width=\"14px\"/><img alt=\"L\" height=\"14px\" src=\"/images/l.png\" width=\"14px\"/><img alt=\"L\" height=\"14px\" src=\"/images/l.png\" width=\"14px\"/><img alt=\"L\" height=\"14px\" src=\"/images/l.png\" width=\"14px\"/><img alt=\"L\" height=\"14px\" src=\"/images/l.png\" width=\"14px\"/></td></tr><tr onclick=\"window.location.href='/england/charlton-athletic/2000/'\"><td>17</td><td class=\"left paddingleft\">Charlton Athletic</td><td>19</td><td>3</td><td>5</td><td>11</td><td>19</td><td>38</td><td>-19</td><td>14 pts</td><td class=\"center\"><img alt=\"L\" height=\"14px\" src=\"/images/l.png\" width=\"14px\"/><img alt=\"W\" height=\"14px\" src=\"/images/w.png\" width=\"14px\"/><img alt=\"L\" height=\"14px\" src=\"/images/l.png\" width=\"14px\"/><img alt=\"L\" height=\"14px\" src=\"/images/l.png\" width=\"14px\"/><img alt=\"D\" height=\"14px\" src=\"/images/d.png\" width=\"14px\"/></td></tr><tr class=\"odd\" onclick=\"window.location.href='/england/derby-county/2000/'\"><td>18</td><td class=\"left paddingleft\">Derby County</td><td>19</td><td>2</td><td>5</td><td>12</td><td>14</td><td>35</td><td>-21</td><td>11 pts</td><td class=\"center\"><img alt=\"W\" height=\"14px\" src=\"/images/w.png\" width=\"14px\"/><img alt=\"L\" height=\"14px\" src=\"/images/l.png\" width=\"14px\"/><img alt=\"L\" height=\"14px\" src=\"/images/l.png\" width=\"14px\"/><img alt=\"L\" height=\"14px\" src=\"/images/l.png\" width=\"14px\"/><img alt=\"D\" height=\"14px\" src=\"/images/d.png\" width=\"14px\"/></td></tr><tr onclick=\"window.location.href='/england/tottenham/2000/'\"><td>19</td><td class=\"left paddingleft\">Tottenham</td><td>19</td><td>2</td><td>4</td><td>13</td><td>16</td><td>38</td><td>-22</td><td>10 pts</td><td class=\"center\"><img alt=\"L\" height=\"14px\" src=\"/images/l.png\" width=\"14px\"/><img alt=\"L\" height=\"14px\" src=\"/images/l.png\" width=\"14px\"/><img alt=\"W\" height=\"14px\" src=\"/images/w.png\" width=\"14px\"/><img alt=\"L\" height=\"14px\" src=\"/images/l.png\" width=\"14px\"/><img alt=\"L\" height=\"14px\" src=\"/images/l.png\" width=\"14px\"/></td></tr><tr class=\"odd\" onclick=\"window.location.href='/england/bradford-city/2000/'\"><td>20</td><td class=\"left paddingleft\">Bradford City</td><td>19</td><td>1</td><td>4</td><td>14</td><td>10</td><td>41</td><td>-31</td><td>7 pts</td><td class=\"center\"><img alt=\"D\" height=\"14px\" src=\"/images/d.png\" width=\"14px\"/><img alt=\"L\" height=\"14px\" src=\"/images/l.png\" width=\"14px\"/><img alt=\"L\" height=\"14px\" src=\"/images/l.png\" width=\"14px\"/><img alt=\"L\" height=\"14px\" src=\"/images/l.png\" width=\"14px\"/><img alt=\"L\" height=\"14px\" src=\"/images/l.png\" width=\"14px\"/></td></tr></table><div class=\"invisiblebox\"><p class=\"previous\">« <a href=\"/english-premier-league-tables/2015/\">2015/2016 Premier League tables</a></p><p class=\"next\"><a href=\"/english-premier-league-tables/2001/\">2001/2002 Premier League tables</a> »</p></div></div><div id=\"right\"><div class=\"boxnopadding\"><h2>Premier League 2000/2001</h2><table class=\"results\"><tr class=\"tablehead strong\"><td colspan=\"2\">2001-05-19</td></tr><tr class=\"tablehead strong\"><td colspan=\"2\">Premier League England</td></tr><tr><td>Tottenham - Manchester Unit</td><td style=\"width:20px;\">3-1</td></tr><tr><td>Southampton - Arsenal</td><td style=\"width:20px;\">3-2</td></tr><tr><td>Newcastle - Aston Villa</td><td style=\"width:20px;\">3-0</td></tr><tr><td>Middlesbrough - West Ham</td><td style=\"width:20px;\">2-1</td></tr><tr><td>Manchester City - Chelsea</td><td style=\"width:20px;\">1-2</td></tr><tr><td>Leeds - Leicester City</td><td style=\"width:20px;\">3-1</td></tr><tr><td>Everton - Sunderland</td><td style=\"width:20px;\">2-2</td></tr><tr><td>Derby County - Ipswich Town</td><td style=\"width:20px;\">1-1</td></tr><tr><td>Coventry City - Bradford City</td><td style=\"width:20px;\">0-0</td></tr><tr><td>Charlton Athlet - Liverpool</td><td style=\"width:20px;\">0-4</td></tr><tr class=\"tablehead strong\"><td colspan=\"2\">2001-05-15</td></tr><tr><td>Newcastle - Arsenal</td><td style=\"width:20px;\">0-0</td></tr><tr class=\"tablehead strong\"><td colspan=\"2\">2001-05-13</td></tr><tr><td>Southampton - Manchester Unit</td><td style=\"width:20px;\">2-1</td></tr><tr><td>Leeds - Bradford City</td><td style=\"width:20px;\">6-1</td></tr><tr class=\"tablehead strong\"><td colspan=\"2\">2001-05-08</td></tr><tr><td>Liverpool - Chelsea</td><td style=\"width:20px;\">2-2</td></tr><tr class=\"tablehead strong\"><td colspan=\"2\">2001-05-07</td></tr><tr><td>Ipswich Town - Manchester City</td><td style=\"width:20px;\">2-1</td></tr><tr class=\"tablehead strong\"><td colspan=\"2\">2001-05-05</td></tr><tr><td>West Ham - Southampton</td><td style=\"width:20px;\">3-0</td></tr><tr><td>Sunderland - Charlton Athlet</td><td style=\"width:20px;\">3-2</td></tr><tr><td>Manchester Unit - Derby County</td><td style=\"width:20px;\">0-1</td></tr><tr><td>Liverpool - Newcastle</td><td style=\"width:20px;\">3-0</td></tr><tr><td>Leicester City - Tottenham</td><td style=\"width:20px;\">4-2</td></tr></table>\n",
            "</div></div></div>\n",
            "<div id=\"left\">\n",
            "<div class=\"box\"><h3>Football Results</h3><ul><li><a href=\"/english-premier-league/\">Premier League results</a></li><ul><li><a href=\"/english-premier-league/2000/\">2000 Premier League results</a></li><li><strong>2000 Premier League tables</strong></li></ul></ul></div></div></div></body></html>\n",
            "<div class=\"invisiblebox center paddingleft\">\n",
            "<script type=\"text/javascript\"><!--\n",
            "google_ad_client = \"ca-pub-8130320560196838\";\n",
            "\n",
            "google_ad_slot = \"6053604059\";\n",
            "google_ad_width = 160;\n",
            "google_ad_height = 600;\n",
            "//-->\n",
            "</script>\n",
            "<script src=\"http://pagead2.googlesyndication.com/pagead/show_ads.js\" type=\"text/javascript\">\n",
            "</script>\n",
            "</div>\n",
            "\n",
            "\n",
            "<div id=\"footer\">\n",
            "<p>Copyright © 2011-2022 ResultDB.com<br/><a href=\"/privacy.php\">Privacy Policy</a></p>\n",
            "</div>\n",
            "<!-- Begin Cookie Consent plugin by Silktide - http://silktide.com/cookieconsent -->\n",
            "<script type=\"text/javascript\">\n",
            "    window.cookieconsent_options = {\"message\":\"This website uses cookies to ensure you get the best experience on our website\",\"dismiss\":\"Got it!\",\"learnMore\":\"More info\",\"link\":\"http://www.resultdb.com/privacy.php\",\"theme\":\"light-bottom\"};\n",
            "</script>\n",
            "<script src=\"//s3.amazonaws.com/cc.silktide.com/cookieconsent.latest.min.js\" type=\"text/javascript\"></script>\n",
            "<!-- End Cookie Consent plugin -->\n",
            "\n",
            "\n",
            "\n",
            "2001\n",
            "<!DOCTYPE html PUBLIC \"-//W3C//DTD XHTML 1.0 Strict//EN\"\n",
            "\"http://www.w3.org/TR/xhtml1/DTD/xhtml1-strict.dtd\">\n",
            "\n",
            "<html lang=\"en\" xml:lang=\"en\" xmlns=\"http://www.w3.org/1999/xhtml\">\n",
            "<head>\n",
            "<meta content=\"text/html; charset=utf-8\" http-equiv=\"Content-Type\"/>\n",
            "<meta content=\"width=device-width, initial-scale=1\" name=\"viewport\"/>\n",
            "<title>English Premier League 2001/2002 table - Result DB</title>\n",
            "<meta content=\"Premier League tables for the 2001/2002 season. Full table for the English Premier League 2001/2002 as well as home and away league tables. \" name=\"description\">\n",
            "<meta content=\"Premier League 2001/2002 table,Premier League table,2001/2002 table\" name=\"keywords\"/>\n",
            "<link href=\"/style.css\" rel=\"stylesheet\" type=\"text/css\"/>\n",
            "<link href=\"/images/favicon.ico\" rel=\"Shortcut Icon\"/>\n",
            "<script type=\"text/javascript\">\n",
            "\n",
            "  var _gaq = _gaq || [];\n",
            "  _gaq.push(['_setAccount', 'UA-23500708-1']);\n",
            "  _gaq.push(['_trackPageview']);\n",
            "\n",
            "  (function() {\n",
            "    var ga = document.createElement('script'); ga.type = 'text/javascript'; ga.async = true;\n",
            "    ga.src = ('https:' == document.location.protocol ? 'https://ssl' : 'http://www') + '.google-analytics.com/ga.js';\n",
            "    var s = document.getElementsByTagName('script')[0]; s.parentNode.insertBefore(ga, s);\n",
            "  })();\n",
            "\n",
            "</script>\n",
            "</meta></head>\n",
            "<body>\n",
            "<div id=\"container\">\n",
            "<div id=\"top\">\n",
            "<div id=\"logo\" onclick=\"window.location.href='/'\"><img alt=\"Result database logo\" height=\"45\" src=\"/images/logoimg.gif\" width=\"44\"/><h3>Result DB</h3><h4><a href=\"/\">Football results and statistics</a></h4></div>\n",
            "<div id=\"topbanner\">\n",
            "</div>\n",
            "<!--<div class=\"floatleft margintop\">\n",
            "    <g:plusone></g:plusone>\n",
            "    \n",
            "    <script type=\"text/javascript\">\n",
            "      (function() {\n",
            "        var po = document.createElement('script'); po.type = 'text/javascript'; po.async = true;\n",
            "        po.src = 'https://apis.google.com/js/plusone.js';\n",
            "        var s = document.getElementsByTagName('script')[0]; s.parentNode.insertBefore(po, s);\n",
            "      })();\n",
            "    </script>\n",
            "    </div>-->\n",
            "</div>\n",
            "<div id=\"topmenu\"></div>\n",
            "<div id=\"main\">\n",
            "<div class=\"box\" id=\"middle\">\n",
            "<h1>English Premier League 2001/2002 Table</h1>\n",
            "<script async=\"\" src=\"//pagead2.googlesyndication.com/pagead/js/adsbygoogle.js\"></script>\n",
            "<!-- RDB Middle Responsive -->\n",
            "<ins class=\"adsbygoogle\" data-ad-client=\"ca-pub-8130320560196838\" data-ad-format=\"auto\" data-ad-slot=\"8388870624\" style=\"display:block\"></ins>\n",
            "<script>\n",
            "(adsbygoogle = window.adsbygoogle || []).push({});\n",
            "</script><h2>Total 2001/2002 Premier League Table</h2><table class=\"table\"><tr class=\"tablehead\"><th>#</th><th class=\"left paddingleft\">Team Name</th><th>P</th><th>W</th><th>D</th><th>L</th><th>GS</th><th>GA</th><th>GD</th><th>Points</th><th class=\"center\">Form</th></tr><tr onclick=\"window.location.href='/england/arsenal/2001/'\"><td>1</td><td class=\"left paddingleft\">Arsenal</td><td>38</td><td>26</td><td>9</td><td>3</td><td>79</td><td>36</td><td>+43</td><td>87 pts</td><td class=\"center\"><img alt=\"W\" height=\"14px\" src=\"/images/w.png\" width=\"14px\"/><img alt=\"W\" height=\"14px\" src=\"/images/w.png\" width=\"14px\"/><img alt=\"W\" height=\"14px\" src=\"/images/w.png\" width=\"14px\"/><img alt=\"W\" height=\"14px\" src=\"/images/w.png\" width=\"14px\"/><img alt=\"W\" height=\"14px\" src=\"/images/w.png\" width=\"14px\"/></td></tr><tr class=\"odd\" onclick=\"window.location.href='/england/liverpool/2001/'\"><td>2</td><td class=\"left paddingleft\">Liverpool</td><td>38</td><td>24</td><td>8</td><td>6</td><td>67</td><td>30</td><td>+37</td><td>80 pts</td><td class=\"center\"><img alt=\"W\" height=\"14px\" src=\"/images/w.png\" width=\"14px\"/><img alt=\"W\" height=\"14px\" src=\"/images/w.png\" width=\"14px\"/><img alt=\"L\" height=\"14px\" src=\"/images/l.png\" width=\"14px\"/><img alt=\"W\" height=\"14px\" src=\"/images/w.png\" width=\"14px\"/><img alt=\"W\" height=\"14px\" src=\"/images/w.png\" width=\"14px\"/></td></tr><tr onclick=\"window.location.href='/england/manchester-united/2001/'\"><td>3</td><td class=\"left paddingleft\">Manchester United</td><td>38</td><td>24</td><td>5</td><td>9</td><td>87</td><td>45</td><td>+42</td><td>77 pts</td><td class=\"center\"><img alt=\"D\" height=\"14px\" src=\"/images/d.png\" width=\"14px\"/><img alt=\"L\" height=\"14px\" src=\"/images/l.png\" width=\"14px\"/><img alt=\"W\" height=\"14px\" src=\"/images/w.png\" width=\"14px\"/><img alt=\"W\" height=\"14px\" src=\"/images/w.png\" width=\"14px\"/><img alt=\"W\" height=\"14px\" src=\"/images/w.png\" width=\"14px\"/></td></tr><tr class=\"odd\" onclick=\"window.location.href='/england/newcastle/2001/'\"><td>4</td><td class=\"left paddingleft\">Newcastle</td><td>38</td><td>21</td><td>8</td><td>9</td><td>74</td><td>52</td><td>+22</td><td>71 pts</td><td class=\"center\"><img alt=\"L\" height=\"14px\" src=\"/images/l.png\" width=\"14px\"/><img alt=\"W\" height=\"14px\" src=\"/images/w.png\" width=\"14px\"/><img alt=\"D\" height=\"14px\" src=\"/images/d.png\" width=\"14px\"/><img alt=\"W\" height=\"14px\" src=\"/images/w.png\" width=\"14px\"/><img alt=\"W\" height=\"14px\" src=\"/images/w.png\" width=\"14px\"/></td></tr><tr onclick=\"window.location.href='/england/leeds/2001/'\"><td>5</td><td class=\"left paddingleft\">Leeds</td><td>38</td><td>18</td><td>12</td><td>8</td><td>53</td><td>37</td><td>+16</td><td>66 pts</td><td class=\"center\"><img alt=\"W\" height=\"14px\" src=\"/images/w.png\" width=\"14px\"/><img alt=\"W\" height=\"14px\" src=\"/images/w.png\" width=\"14px\"/><img alt=\"L\" height=\"14px\" src=\"/images/l.png\" width=\"14px\"/><img alt=\"W\" height=\"14px\" src=\"/images/w.png\" width=\"14px\"/><img alt=\"W\" height=\"14px\" src=\"/images/w.png\" width=\"14px\"/></td></tr><tr class=\"odd\" onclick=\"window.location.href='/england/chelsea/2001/'\"><td>6</td><td class=\"left paddingleft\">Chelsea</td><td>38</td><td>17</td><td>13</td><td>8</td><td>66</td><td>38</td><td>+28</td><td>64 pts</td><td class=\"center\"><img alt=\"L\" height=\"14px\" src=\"/images/l.png\" width=\"14px\"/><img alt=\"W\" height=\"14px\" src=\"/images/w.png\" width=\"14px\"/><img alt=\"L\" height=\"14px\" src=\"/images/l.png\" width=\"14px\"/><img alt=\"D\" height=\"14px\" src=\"/images/d.png\" width=\"14px\"/><img alt=\"W\" height=\"14px\" src=\"/images/w.png\" width=\"14px\"/></td></tr><tr onclick=\"window.location.href='/england/west-ham/2001/'\"><td>7</td><td class=\"left paddingleft\">West Ham</td><td>38</td><td>15</td><td>8</td><td>15</td><td>48</td><td>57</td><td>-9</td><td>53 pts</td><td class=\"center\"><img alt=\"W\" height=\"14px\" src=\"/images/w.png\" width=\"14px\"/><img alt=\"L\" height=\"14px\" src=\"/images/l.png\" width=\"14px\"/><img alt=\"L\" height=\"14px\" src=\"/images/l.png\" width=\"14px\"/><img alt=\"W\" height=\"14px\" src=\"/images/w.png\" width=\"14px\"/><img alt=\"D\" height=\"14px\" src=\"/images/d.png\" width=\"14px\"/></td></tr><tr class=\"odd\" onclick=\"window.location.href='/england/aston-villa/2001/'\"><td>8</td><td class=\"left paddingleft\">Aston Villa</td><td>38</td><td>12</td><td>14</td><td>12</td><td>46</td><td>47</td><td>-1</td><td>50 pts</td><td class=\"center\"><img alt=\"W\" height=\"14px\" src=\"/images/w.png\" width=\"14px\"/><img alt=\"W\" height=\"14px\" src=\"/images/w.png\" width=\"14px\"/><img alt=\"D\" height=\"14px\" src=\"/images/d.png\" width=\"14px\"/><img alt=\"L\" height=\"14px\" src=\"/images/l.png\" width=\"14px\"/><img alt=\"L\" height=\"14px\" src=\"/images/l.png\" width=\"14px\"/></td></tr><tr onclick=\"window.location.href='/england/tottenham/2001/'\"><td>9</td><td class=\"left paddingleft\">Tottenham</td><td>38</td><td>14</td><td>8</td><td>16</td><td>49</td><td>53</td><td>-4</td><td>50 pts</td><td class=\"center\"><img alt=\"L\" height=\"14px\" src=\"/images/l.png\" width=\"14px\"/><img alt=\"W\" height=\"14px\" src=\"/images/w.png\" width=\"14px\"/><img alt=\"D\" height=\"14px\" src=\"/images/d.png\" width=\"14px\"/><img alt=\"D\" height=\"14px\" src=\"/images/d.png\" width=\"14px\"/><img alt=\"L\" height=\"14px\" src=\"/images/l.png\" width=\"14px\"/></td></tr><tr class=\"odd\" onclick=\"window.location.href='/england/blackburn/2001/'\"><td>10</td><td class=\"left paddingleft\">Blackburn</td><td>38</td><td>12</td><td>10</td><td>16</td><td>55</td><td>51</td><td>+4</td><td>46 pts</td><td class=\"center\"><img alt=\"W\" height=\"14px\" src=\"/images/w.png\" width=\"14px\"/><img alt=\"L\" height=\"14px\" src=\"/images/l.png\" width=\"14px\"/><img alt=\"W\" height=\"14px\" src=\"/images/w.png\" width=\"14px\"/><img alt=\"D\" height=\"14px\" src=\"/images/d.png\" width=\"14px\"/><img alt=\"W\" height=\"14px\" src=\"/images/w.png\" width=\"14px\"/></td></tr><tr onclick=\"window.location.href='/england/southampton/2001/'\"><td>11</td><td class=\"left paddingleft\">Southampton</td><td>38</td><td>12</td><td>9</td><td>17</td><td>46</td><td>54</td><td>-8</td><td>45 pts</td><td class=\"center\"><img alt=\"W\" height=\"14px\" src=\"/images/w.png\" width=\"14px\"/><img alt=\"L\" height=\"14px\" src=\"/images/l.png\" width=\"14px\"/><img alt=\"L\" height=\"14px\" src=\"/images/l.png\" width=\"14px\"/><img alt=\"D\" height=\"14px\" src=\"/images/d.png\" width=\"14px\"/><img alt=\"W\" height=\"14px\" src=\"/images/w.png\" width=\"14px\"/></td></tr><tr class=\"odd\" onclick=\"window.location.href='/england/middlesbrough/2001/'\"><td>12</td><td class=\"left paddingleft\">Middlesbrough</td><td>38</td><td>12</td><td>9</td><td>17</td><td>35</td><td>47</td><td>-12</td><td>45 pts</td><td class=\"center\"><img alt=\"L\" height=\"14px\" src=\"/images/l.png\" width=\"14px\"/><img alt=\"L\" height=\"14px\" src=\"/images/l.png\" width=\"14px\"/><img alt=\"L\" height=\"14px\" src=\"/images/l.png\" width=\"14px\"/><img alt=\"L\" height=\"14px\" src=\"/images/l.png\" width=\"14px\"/><img alt=\"W\" height=\"14px\" src=\"/images/w.png\" width=\"14px\"/></td></tr><tr onclick=\"window.location.href='/england/fulham/2001/'\"><td>13</td><td class=\"left paddingleft\">Fulham</td><td>38</td><td>10</td><td>14</td><td>14</td><td>36</td><td>44</td><td>-8</td><td>44 pts</td><td class=\"center\"><img alt=\"L\" height=\"14px\" src=\"/images/l.png\" width=\"14px\"/><img alt=\"D\" height=\"14px\" src=\"/images/d.png\" width=\"14px\"/><img alt=\"W\" height=\"14px\" src=\"/images/w.png\" width=\"14px\"/><img alt=\"W\" height=\"14px\" src=\"/images/w.png\" width=\"14px\"/><img alt=\"D\" height=\"14px\" src=\"/images/d.png\" width=\"14px\"/></td></tr><tr class=\"odd\" onclick=\"window.location.href='/england/charlton-athletic/2001/'\"><td>14</td><td class=\"left paddingleft\">Charlton Athletic</td><td>38</td><td>10</td><td>14</td><td>14</td><td>38</td><td>49</td><td>-11</td><td>44 pts</td><td class=\"center\"><img alt=\"D\" height=\"14px\" src=\"/images/d.png\" width=\"14px\"/><img alt=\"D\" height=\"14px\" src=\"/images/d.png\" width=\"14px\"/><img alt=\"L\" height=\"14px\" src=\"/images/l.png\" width=\"14px\"/><img alt=\"D\" height=\"14px\" src=\"/images/d.png\" width=\"14px\"/><img alt=\"L\" height=\"14px\" src=\"/images/l.png\" width=\"14px\"/></td></tr><tr onclick=\"window.location.href='/england/everton/2001/'\"><td>15</td><td class=\"left paddingleft\">Everton</td><td>38</td><td>11</td><td>10</td><td>17</td><td>45</td><td>57</td><td>-12</td><td>43 pts</td><td class=\"center\"><img alt=\"L\" height=\"14px\" src=\"/images/l.png\" width=\"14px\"/><img alt=\"L\" height=\"14px\" src=\"/images/l.png\" width=\"14px\"/><img alt=\"W\" height=\"14px\" src=\"/images/w.png\" width=\"14px\"/><img alt=\"D\" height=\"14px\" src=\"/images/d.png\" width=\"14px\"/><img alt=\"L\" height=\"14px\" src=\"/images/l.png\" width=\"14px\"/></td></tr><tr class=\"odd\" onclick=\"window.location.href='/england/bolton/2001/'\"><td>16</td><td class=\"left paddingleft\">Bolton</td><td>38</td><td>9</td><td>13</td><td>16</td><td>44</td><td>62</td><td>-18</td><td>40 pts</td><td class=\"center\"><img alt=\"L\" height=\"14px\" src=\"/images/l.png\" width=\"14px\"/><img alt=\"L\" height=\"14px\" src=\"/images/l.png\" width=\"14px\"/><img alt=\"L\" height=\"14px\" src=\"/images/l.png\" width=\"14px\"/><img alt=\"D\" height=\"14px\" src=\"/images/d.png\" width=\"14px\"/><img alt=\"W\" height=\"14px\" src=\"/images/w.png\" width=\"14px\"/></td></tr><tr onclick=\"window.location.href='/england/sunderland/2001/'\"><td>17</td><td class=\"left paddingleft\">Sunderland</td><td>38</td><td>10</td><td>10</td><td>18</td><td>29</td><td>51</td><td>-22</td><td>40 pts</td><td class=\"center\"><img alt=\"D\" height=\"14px\" src=\"/images/d.png\" width=\"14px\"/><img alt=\"D\" height=\"14px\" src=\"/images/d.png\" width=\"14px\"/><img alt=\"L\" height=\"14px\" src=\"/images/l.png\" width=\"14px\"/><img alt=\"L\" height=\"14px\" src=\"/images/l.png\" width=\"14px\"/><img alt=\"L\" height=\"14px\" src=\"/images/l.png\" width=\"14px\"/></td></tr><tr class=\"odd\" onclick=\"window.location.href='/england/ipswich-town/2001/'\"><td>18</td><td class=\"left paddingleft\">Ipswich Town</td><td>38</td><td>9</td><td>9</td><td>20</td><td>41</td><td>64</td><td>-23</td><td>36 pts</td><td class=\"center\"><img alt=\"L\" height=\"14px\" src=\"/images/l.png\" width=\"14px\"/><img alt=\"L\" height=\"14px\" src=\"/images/l.png\" width=\"14px\"/><img alt=\"W\" height=\"14px\" src=\"/images/w.png\" width=\"14px\"/><img alt=\"L\" height=\"14px\" src=\"/images/l.png\" width=\"14px\"/><img alt=\"L\" height=\"14px\" src=\"/images/l.png\" width=\"14px\"/></td></tr><tr onclick=\"window.location.href='/england/derby-county/2001/'\"><td>19</td><td class=\"left paddingleft\">Derby County</td><td>38</td><td>8</td><td>6</td><td>24</td><td>33</td><td>63</td><td>-30</td><td>30 pts</td><td class=\"center\"><img alt=\"D\" height=\"14px\" src=\"/images/d.png\" width=\"14px\"/><img alt=\"L\" height=\"14px\" src=\"/images/l.png\" width=\"14px\"/><img alt=\"L\" height=\"14px\" src=\"/images/l.png\" width=\"14px\"/><img alt=\"L\" height=\"14px\" src=\"/images/l.png\" width=\"14px\"/><img alt=\"L\" height=\"14px\" src=\"/images/l.png\" width=\"14px\"/></td></tr><tr class=\"odd\" onclick=\"window.location.href='/england/leicester-city/2001/'\"><td>20</td><td class=\"left paddingleft\">Leicester City</td><td>38</td><td>5</td><td>13</td><td>20</td><td>30</td><td>64</td><td>-34</td><td>28 pts</td><td class=\"center\"><img alt=\"W\" height=\"14px\" src=\"/images/w.png\" width=\"14px\"/><img alt=\"D\" height=\"14px\" src=\"/images/d.png\" width=\"14px\"/><img alt=\"D\" height=\"14px\" src=\"/images/d.png\" width=\"14px\"/><img alt=\"D\" height=\"14px\" src=\"/images/d.png\" width=\"14px\"/><img alt=\"L\" height=\"14px\" src=\"/images/l.png\" width=\"14px\"/></td></tr></table><h2>Home Table</h2><table class=\"table\"><tr class=\"tablehead\"><th>#</th><th class=\"left paddingleft\">Team Name</th><th>P</th><th>W</th><th>D</th><th>L</th><th>GS</th><th>GA</th><th>GD</th><th>Points</th><th class=\"center\">Form</th></tr><tr onclick=\"window.location.href='/england/liverpool/2001/'\"><td>1</td><td class=\"left paddingleft\">Liverpool</td><td>19</td><td>12</td><td>5</td><td>2</td><td>33</td><td>14</td><td>+19</td><td>41 pts</td><td class=\"center\"><img alt=\"W\" height=\"14px\" src=\"/images/w.png\" width=\"14px\"/><img alt=\"W\" height=\"14px\" src=\"/images/w.png\" width=\"14px\"/><img alt=\"W\" height=\"14px\" src=\"/images/w.png\" width=\"14px\"/><img alt=\"W\" height=\"14px\" src=\"/images/w.png\" width=\"14px\"/><img alt=\"W\" height=\"14px\" src=\"/images/w.png\" width=\"14px\"/></td></tr><tr class=\"odd\" onclick=\"window.location.href='/england/west-ham/2001/'\"><td>2</td><td class=\"left paddingleft\">West Ham</td><td>19</td><td>12</td><td>4</td><td>3</td><td>32</td><td>14</td><td>+18</td><td>40 pts</td><td class=\"center\"><img alt=\"W\" height=\"14px\" src=\"/images/w.png\" width=\"14px\"/><img alt=\"W\" height=\"14px\" src=\"/images/w.png\" width=\"14px\"/><img alt=\"W\" height=\"14px\" src=\"/images/w.png\" width=\"14px\"/><img alt=\"W\" height=\"14px\" src=\"/images/w.png\" width=\"14px\"/><img alt=\"L\" height=\"14px\" src=\"/images/l.png\" width=\"14px\"/></td></tr><tr onclick=\"window.location.href='/england/arsenal/2001/'\"><td>3</td><td class=\"left paddingleft\">Arsenal</td><td>19</td><td>12</td><td>4</td><td>3</td><td>42</td><td>25</td><td>+17</td><td>40 pts</td><td class=\"center\"><img alt=\"W\" height=\"14px\" src=\"/images/w.png\" width=\"14px\"/><img alt=\"W\" height=\"14px\" src=\"/images/w.png\" width=\"14px\"/><img alt=\"W\" height=\"14px\" src=\"/images/w.png\" width=\"14px\"/><img alt=\"W\" height=\"14px\" src=\"/images/w.png\" width=\"14px\"/><img alt=\"W\" height=\"14px\" src=\"/images/w.png\" width=\"14px\"/></td></tr><tr class=\"odd\" onclick=\"window.location.href='/england/newcastle/2001/'\"><td>4</td><td class=\"left paddingleft\">Newcastle</td><td>19</td><td>12</td><td>3</td><td>4</td><td>40</td><td>23</td><td>+17</td><td>39 pts</td><td class=\"center\"><img alt=\"W\" height=\"14px\" src=\"/images/w.png\" width=\"14px\"/><img alt=\"W\" height=\"14px\" src=\"/images/w.png\" width=\"14px\"/><img alt=\"D\" height=\"14px\" src=\"/images/d.png\" width=\"14px\"/><img alt=\"W\" height=\"14px\" src=\"/images/w.png\" width=\"14px\"/><img alt=\"D\" height=\"14px\" src=\"/images/d.png\" width=\"14px\"/></td></tr><tr onclick=\"window.location.href='/england/chelsea/2001/'\"><td>5</td><td class=\"left paddingleft\">Chelsea</td><td>19</td><td>11</td><td>4</td><td>4</td><td>43</td><td>21</td><td>+22</td><td>37 pts</td><td class=\"center\"><img alt=\"L\" height=\"14px\" src=\"/images/l.png\" width=\"14px\"/><img alt=\"L\" height=\"14px\" src=\"/images/l.png\" width=\"14px\"/><img alt=\"W\" height=\"14px\" src=\"/images/w.png\" width=\"14px\"/><img alt=\"W\" height=\"14px\" src=\"/images/w.png\" width=\"14px\"/><img alt=\"W\" height=\"14px\" src=\"/images/w.png\" width=\"14px\"/></td></tr><tr class=\"odd\" onclick=\"window.location.href='/england/manchester-united/2001/'\"><td>6</td><td class=\"left paddingleft\">Manchester United</td><td>19</td><td>11</td><td>2</td><td>6</td><td>40</td><td>17</td><td>+23</td><td>35 pts</td><td class=\"center\"><img alt=\"D\" height=\"14px\" src=\"/images/d.png\" width=\"14px\"/><img alt=\"L\" height=\"14px\" src=\"/images/l.png\" width=\"14px\"/><img alt=\"L\" height=\"14px\" src=\"/images/l.png\" width=\"14px\"/><img alt=\"W\" height=\"14px\" src=\"/images/w.png\" width=\"14px\"/><img alt=\"W\" height=\"14px\" src=\"/images/w.png\" width=\"14px\"/></td></tr><tr onclick=\"window.location.href='/england/tottenham/2001/'\"><td>7</td><td class=\"left paddingleft\">Tottenham</td><td>19</td><td>10</td><td>4</td><td>5</td><td>32</td><td>24</td><td>+8</td><td>34 pts</td><td class=\"center\"><img alt=\"W\" height=\"14px\" src=\"/images/w.png\" width=\"14px\"/><img alt=\"D\" height=\"14px\" src=\"/images/d.png\" width=\"14px\"/><img alt=\"W\" height=\"14px\" src=\"/images/w.png\" width=\"14px\"/><img alt=\"L\" height=\"14px\" src=\"/images/l.png\" width=\"14px\"/><img alt=\"W\" height=\"14px\" src=\"/images/w.png\" width=\"14px\"/></td></tr><tr class=\"odd\" onclick=\"window.location.href='/england/leeds/2001/'\"><td>8</td><td class=\"left paddingleft\">Leeds</td><td>19</td><td>9</td><td>6</td><td>4</td><td>31</td><td>21</td><td>+10</td><td>33 pts</td><td class=\"center\"><img alt=\"W\" height=\"14px\" src=\"/images/w.png\" width=\"14px\"/><img alt=\"L\" height=\"14px\" src=\"/images/l.png\" width=\"14px\"/><img alt=\"W\" height=\"14px\" src=\"/images/w.png\" width=\"14px\"/><img alt=\"L\" height=\"14px\" src=\"/images/l.png\" width=\"14px\"/><img alt=\"W\" height=\"14px\" src=\"/images/w.png\" width=\"14px\"/></td></tr><tr onclick=\"window.location.href='/england/aston-villa/2001/'\"><td>9</td><td class=\"left paddingleft\">Aston Villa</td><td>19</td><td>8</td><td>7</td><td>4</td><td>22</td><td>17</td><td>+5</td><td>31 pts</td><td class=\"center\"><img alt=\"W\" height=\"14px\" src=\"/images/w.png\" width=\"14px\"/><img alt=\"L\" height=\"14px\" src=\"/images/l.png\" width=\"14px\"/><img alt=\"D\" height=\"14px\" src=\"/images/d.png\" width=\"14px\"/><img alt=\"L\" height=\"14px\" src=\"/images/l.png\" width=\"14px\"/><img alt=\"W\" height=\"14px\" src=\"/images/w.png\" width=\"14px\"/></td></tr><tr class=\"odd\" onclick=\"window.location.href='/england/blackburn/2001/'\"><td>10</td><td class=\"left paddingleft\">Blackburn</td><td>19</td><td>8</td><td>6</td><td>5</td><td>33</td><td>20</td><td>+13</td><td>30 pts</td><td class=\"center\"><img alt=\"W\" height=\"14px\" src=\"/images/w.png\" width=\"14px\"/><img alt=\"D\" height=\"14px\" src=\"/images/d.png\" width=\"14px\"/><img alt=\"D\" height=\"14px\" src=\"/images/d.png\" width=\"14px\"/><img alt=\"W\" height=\"14px\" src=\"/images/w.png\" width=\"14px\"/><img alt=\"W\" height=\"14px\" src=\"/images/w.png\" width=\"14px\"/></td></tr><tr onclick=\"window.location.href='/england/fulham/2001/'\"><td>11</td><td class=\"left paddingleft\">Fulham</td><td>19</td><td>7</td><td>7</td><td>5</td><td>21</td><td>16</td><td>+5</td><td>28 pts</td><td class=\"center\"><img alt=\"D\" height=\"14px\" src=\"/images/d.png\" width=\"14px\"/><img alt=\"W\" height=\"14px\" src=\"/images/w.png\" width=\"14px\"/><img alt=\"L\" height=\"14px\" src=\"/images/l.png\" width=\"14px\"/><img alt=\"L\" height=\"14px\" src=\"/images/l.png\" width=\"14px\"/><img alt=\"L\" height=\"14px\" src=\"/images/l.png\" width=\"14px\"/></td></tr><tr class=\"odd\" onclick=\"window.location.href='/england/everton/2001/'\"><td>12</td><td class=\"left paddingleft\">Everton</td><td>19</td><td>8</td><td>4</td><td>7</td><td>26</td><td>23</td><td>+3</td><td>28 pts</td><td class=\"center\"><img alt=\"L\" height=\"14px\" src=\"/images/l.png\" width=\"14px\"/><img alt=\"D\" height=\"14px\" src=\"/images/d.png\" width=\"14px\"/><img alt=\"W\" height=\"14px\" src=\"/images/w.png\" width=\"14px\"/><img alt=\"W\" height=\"14px\" src=\"/images/w.png\" width=\"14px\"/><img alt=\"D\" height=\"14px\" src=\"/images/d.png\" width=\"14px\"/></td></tr><tr onclick=\"window.location.href='/england/sunderland/2001/'\"><td>13</td><td class=\"left paddingleft\">Sunderland</td><td>19</td><td>7</td><td>7</td><td>5</td><td>18</td><td>16</td><td>+2</td><td>28 pts</td><td class=\"center\"><img alt=\"D\" height=\"14px\" src=\"/images/d.png\" width=\"14px\"/><img alt=\"L\" height=\"14px\" src=\"/images/l.png\" width=\"14px\"/><img alt=\"W\" height=\"14px\" src=\"/images/w.png\" width=\"14px\"/><img alt=\"D\" height=\"14px\" src=\"/images/d.png\" width=\"14px\"/><img alt=\"W\" height=\"14px\" src=\"/images/w.png\" width=\"14px\"/></td></tr><tr class=\"odd\" onclick=\"window.location.href='/england/southampton/2001/'\"><td>14</td><td class=\"left paddingleft\">Southampton</td><td>19</td><td>7</td><td>5</td><td>7</td><td>23</td><td>22</td><td>+1</td><td>26 pts</td><td class=\"center\"><img alt=\"W\" height=\"14px\" src=\"/images/w.png\" width=\"14px\"/><img alt=\"L\" height=\"14px\" src=\"/images/l.png\" width=\"14px\"/><img alt=\"W\" height=\"14px\" src=\"/images/w.png\" width=\"14px\"/><img alt=\"D\" height=\"14px\" src=\"/images/d.png\" width=\"14px\"/><img alt=\"D\" height=\"14px\" src=\"/images/d.png\" width=\"14px\"/></td></tr><tr onclick=\"window.location.href='/england/middlesbrough/2001/'\"><td>15</td><td class=\"left paddingleft\">Middlesbrough</td><td>19</td><td>7</td><td>5</td><td>7</td><td>23</td><td>26</td><td>-3</td><td>26 pts</td><td class=\"center\"><img alt=\"L\" height=\"14px\" src=\"/images/l.png\" width=\"14px\"/><img alt=\"L\" height=\"14px\" src=\"/images/l.png\" width=\"14px\"/><img alt=\"W\" height=\"14px\" src=\"/images/w.png\" width=\"14px\"/><img alt=\"D\" height=\"14px\" src=\"/images/d.png\" width=\"14px\"/><img alt=\"L\" height=\"14px\" src=\"/images/l.png\" width=\"14px\"/></td></tr><tr class=\"odd\" onclick=\"window.location.href='/england/ipswich-town/2001/'\"><td>16</td><td class=\"left paddingleft\">Ipswich Town</td><td>19</td><td>6</td><td>4</td><td>9</td><td>20</td><td>24</td><td>-4</td><td>22 pts</td><td class=\"center\"><img alt=\"L\" height=\"14px\" src=\"/images/l.png\" width=\"14px\"/><img alt=\"W\" height=\"14px\" src=\"/images/w.png\" width=\"14px\"/><img alt=\"D\" height=\"14px\" src=\"/images/d.png\" width=\"14px\"/><img alt=\"D\" height=\"14px\" src=\"/images/d.png\" width=\"14px\"/><img alt=\"L\" height=\"14px\" src=\"/images/l.png\" width=\"14px\"/></td></tr><tr onclick=\"window.location.href='/england/bolton/2001/'\"><td>17</td><td class=\"left paddingleft\">Bolton</td><td>19</td><td>5</td><td>7</td><td>7</td><td>20</td><td>31</td><td>-11</td><td>22 pts</td><td class=\"center\"><img alt=\"L\" height=\"14px\" src=\"/images/l.png\" width=\"14px\"/><img alt=\"D\" height=\"14px\" src=\"/images/d.png\" width=\"14px\"/><img alt=\"W\" height=\"14px\" src=\"/images/w.png\" width=\"14px\"/><img alt=\"W\" height=\"14px\" src=\"/images/w.png\" width=\"14px\"/><img alt=\"L\" height=\"14px\" src=\"/images/l.png\" width=\"14px\"/></td></tr><tr class=\"odd\" onclick=\"window.location.href='/england/charlton-athletic/2001/'\"><td>18</td><td class=\"left paddingleft\">Charlton Athletic</td><td>19</td><td>5</td><td>6</td><td>8</td><td>23</td><td>30</td><td>-7</td><td>21 pts</td><td class=\"center\"><img alt=\"D\" height=\"14px\" src=\"/images/d.png\" width=\"14px\"/><img alt=\"D\" height=\"14px\" src=\"/images/d.png\" width=\"14px\"/><img alt=\"L\" height=\"14px\" src=\"/images/l.png\" width=\"14px\"/><img alt=\"L\" height=\"14px\" src=\"/images/l.png\" width=\"14px\"/><img alt=\"W\" height=\"14px\" src=\"/images/w.png\" width=\"14px\"/></td></tr><tr onclick=\"window.location.href='/england/derby-county/2001/'\"><td>19</td><td class=\"left paddingleft\">Derby County</td><td>19</td><td>5</td><td>4</td><td>10</td><td>20</td><td>26</td><td>-6</td><td>19 pts</td><td class=\"center\"><img alt=\"L\" height=\"14px\" src=\"/images/l.png\" width=\"14px\"/><img alt=\"L\" height=\"14px\" src=\"/images/l.png\" width=\"14px\"/><img alt=\"L\" height=\"14px\" src=\"/images/l.png\" width=\"14px\"/><img alt=\"L\" height=\"14px\" src=\"/images/l.png\" width=\"14px\"/><img alt=\"D\" height=\"14px\" src=\"/images/d.png\" width=\"14px\"/></td></tr><tr class=\"odd\" onclick=\"window.location.href='/england/leicester-city/2001/'\"><td>20</td><td class=\"left paddingleft\">Leicester City</td><td>19</td><td>3</td><td>7</td><td>9</td><td>15</td><td>34</td><td>-19</td><td>16 pts</td><td class=\"center\"><img alt=\"W\" height=\"14px\" src=\"/images/w.png\" width=\"14px\"/><img alt=\"D\" height=\"14px\" src=\"/images/d.png\" width=\"14px\"/><img alt=\"L\" height=\"14px\" src=\"/images/l.png\" width=\"14px\"/><img alt=\"W\" height=\"14px\" src=\"/images/w.png\" width=\"14px\"/><img alt=\"L\" height=\"14px\" src=\"/images/l.png\" width=\"14px\"/></td></tr></table><h2>Away Table</h2><table class=\"table\"><tr class=\"tablehead\"><th>#</th><th class=\"left paddingleft\">Team Name</th><th>P</th><th>W</th><th>D</th><th>L</th><th>GS</th><th>GA</th><th>GD</th><th>Points</th><th class=\"center\">Form</th></tr><tr onclick=\"window.location.href='/england/arsenal/2001/'\"><td>1</td><td class=\"left paddingleft\">Arsenal</td><td>19</td><td>14</td><td>5</td><td>0</td><td>37</td><td>11</td><td>+26</td><td>47 pts</td><td class=\"center\"><img alt=\"W\" height=\"14px\" src=\"/images/w.png\" width=\"14px\"/><img alt=\"W\" height=\"14px\" src=\"/images/w.png\" width=\"14px\"/><img alt=\"W\" height=\"14px\" src=\"/images/w.png\" width=\"14px\"/><img alt=\"W\" height=\"14px\" src=\"/images/w.png\" width=\"14px\"/><img alt=\"W\" height=\"14px\" src=\"/images/w.png\" width=\"14px\"/></td></tr><tr class=\"odd\" onclick=\"window.location.href='/england/manchester-united/2001/'\"><td>2</td><td class=\"left paddingleft\">Manchester United</td><td>19</td><td>13</td><td>3</td><td>3</td><td>47</td><td>28</td><td>+19</td><td>42 pts</td><td class=\"center\"><img alt=\"W\" height=\"14px\" src=\"/images/w.png\" width=\"14px\"/><img alt=\"W\" height=\"14px\" src=\"/images/w.png\" width=\"14px\"/><img alt=\"W\" height=\"14px\" src=\"/images/w.png\" width=\"14px\"/><img alt=\"W\" height=\"14px\" src=\"/images/w.png\" width=\"14px\"/><img alt=\"W\" height=\"14px\" src=\"/images/w.png\" width=\"14px\"/></td></tr><tr onclick=\"window.location.href='/england/liverpool/2001/'\"><td>3</td><td class=\"left paddingleft\">Liverpool</td><td>19</td><td>12</td><td>3</td><td>4</td><td>34</td><td>16</td><td>+18</td><td>39 pts</td><td class=\"center\"><img alt=\"L\" height=\"14px\" src=\"/images/l.png\" width=\"14px\"/><img alt=\"W\" height=\"14px\" src=\"/images/w.png\" width=\"14px\"/><img alt=\"W\" height=\"14px\" src=\"/images/w.png\" width=\"14px\"/><img alt=\"W\" height=\"14px\" src=\"/images/w.png\" width=\"14px\"/><img alt=\"W\" height=\"14px\" src=\"/images/w.png\" width=\"14px\"/></td></tr><tr class=\"odd\" onclick=\"window.location.href='/england/leeds/2001/'\"><td>4</td><td class=\"left paddingleft\">Leeds</td><td>19</td><td>9</td><td>6</td><td>4</td><td>22</td><td>16</td><td>+6</td><td>33 pts</td><td class=\"center\"><img alt=\"W\" height=\"14px\" src=\"/images/w.png\" width=\"14px\"/><img alt=\"W\" height=\"14px\" src=\"/images/w.png\" width=\"14px\"/><img alt=\"L\" height=\"14px\" src=\"/images/l.png\" width=\"14px\"/><img alt=\"W\" height=\"14px\" src=\"/images/w.png\" width=\"14px\"/><img alt=\"D\" height=\"14px\" src=\"/images/d.png\" width=\"14px\"/></td></tr><tr onclick=\"window.location.href='/england/newcastle/2001/'\"><td>5</td><td class=\"left paddingleft\">Newcastle</td><td>19</td><td>9</td><td>5</td><td>5</td><td>34</td><td>29</td><td>+5</td><td>32 pts</td><td class=\"center\"><img alt=\"L\" height=\"14px\" src=\"/images/l.png\" width=\"14px\"/><img alt=\"D\" height=\"14px\" src=\"/images/d.png\" width=\"14px\"/><img alt=\"W\" height=\"14px\" src=\"/images/w.png\" width=\"14px\"/><img alt=\"D\" height=\"14px\" src=\"/images/d.png\" width=\"14px\"/><img alt=\"L\" height=\"14px\" src=\"/images/l.png\" width=\"14px\"/></td></tr><tr class=\"odd\" onclick=\"window.location.href='/england/chelsea/2001/'\"><td>6</td><td class=\"left paddingleft\">Chelsea</td><td>19</td><td>6</td><td>9</td><td>4</td><td>23</td><td>17</td><td>+6</td><td>27 pts</td><td class=\"center\"><img alt=\"W\" height=\"14px\" src=\"/images/w.png\" width=\"14px\"/><img alt=\"D\" height=\"14px\" src=\"/images/d.png\" width=\"14px\"/><img alt=\"D\" height=\"14px\" src=\"/images/d.png\" width=\"14px\"/><img alt=\"L\" height=\"14px\" src=\"/images/l.png\" width=\"14px\"/><img alt=\"L\" height=\"14px\" src=\"/images/l.png\" width=\"14px\"/></td></tr><tr onclick=\"window.location.href='/england/charlton-athletic/2001/'\"><td>7</td><td class=\"left paddingleft\">Charlton Athletic</td><td>19</td><td>5</td><td>8</td><td>6</td><td>15</td><td>19</td><td>-4</td><td>23 pts</td><td class=\"center\"><img alt=\"D\" height=\"14px\" src=\"/images/d.png\" width=\"14px\"/><img alt=\"L\" height=\"14px\" src=\"/images/l.png\" width=\"14px\"/><img alt=\"L\" height=\"14px\" src=\"/images/l.png\" width=\"14px\"/><img alt=\"L\" height=\"14px\" src=\"/images/l.png\" width=\"14px\"/><img alt=\"W\" height=\"14px\" src=\"/images/w.png\" width=\"14px\"/></td></tr><tr class=\"odd\" onclick=\"window.location.href='/england/aston-villa/2001/'\"><td>8</td><td class=\"left paddingleft\">Aston Villa</td><td>19</td><td>4</td><td>7</td><td>8</td><td>24</td><td>30</td><td>-6</td><td>19 pts</td><td class=\"center\"><img alt=\"W\" height=\"14px\" src=\"/images/w.png\" width=\"14px\"/><img alt=\"D\" height=\"14px\" src=\"/images/d.png\" width=\"14px\"/><img alt=\"L\" height=\"14px\" src=\"/images/l.png\" width=\"14px\"/><img alt=\"L\" height=\"14px\" src=\"/images/l.png\" width=\"14px\"/><img alt=\"D\" height=\"14px\" src=\"/images/d.png\" width=\"14px\"/></td></tr><tr onclick=\"window.location.href='/england/southampton/2001/'\"><td>9</td><td class=\"left paddingleft\">Southampton</td><td>19</td><td>5</td><td>4</td><td>10</td><td>23</td><td>32</td><td>-9</td><td>19 pts</td><td class=\"center\"><img alt=\"L\" height=\"14px\" src=\"/images/l.png\" width=\"14px\"/><img alt=\"D\" height=\"14px\" src=\"/images/d.png\" width=\"14px\"/><img alt=\"L\" height=\"14px\" src=\"/images/l.png\" width=\"14px\"/><img alt=\"D\" height=\"14px\" src=\"/images/d.png\" width=\"14px\"/><img alt=\"W\" height=\"14px\" src=\"/images/w.png\" width=\"14px\"/></td></tr><tr class=\"odd\" onclick=\"window.location.href='/england/middlesbrough/2001/'\"><td>10</td><td class=\"left paddingleft\">Middlesbrough</td><td>19</td><td>5</td><td>4</td><td>10</td><td>12</td><td>21</td><td>-9</td><td>19 pts</td><td class=\"center\"><img alt=\"L\" height=\"14px\" src=\"/images/l.png\" width=\"14px\"/><img alt=\"L\" height=\"14px\" src=\"/images/l.png\" width=\"14px\"/><img alt=\"W\" height=\"14px\" src=\"/images/w.png\" width=\"14px\"/><img alt=\"W\" height=\"14px\" src=\"/images/w.png\" width=\"14px\"/><img alt=\"D\" height=\"14px\" src=\"/images/d.png\" width=\"14px\"/></td></tr><tr onclick=\"window.location.href='/england/bolton/2001/'\"><td>11</td><td class=\"left paddingleft\">Bolton</td><td>19</td><td>4</td><td>6</td><td>9</td><td>24</td><td>31</td><td>-7</td><td>18 pts</td><td class=\"center\"><img alt=\"L\" height=\"14px\" src=\"/images/l.png\" width=\"14px\"/><img alt=\"L\" height=\"14px\" src=\"/images/l.png\" width=\"14px\"/><img alt=\"L\" height=\"14px\" src=\"/images/l.png\" width=\"14px\"/><img alt=\"W\" height=\"14px\" src=\"/images/w.png\" width=\"14px\"/><img alt=\"L\" height=\"14px\" src=\"/images/l.png\" width=\"14px\"/></td></tr><tr class=\"odd\" onclick=\"window.location.href='/england/blackburn/2001/'\"><td>12</td><td class=\"left paddingleft\">Blackburn</td><td>19</td><td>4</td><td>4</td><td>11</td><td>22</td><td>31</td><td>-9</td><td>16 pts</td><td class=\"center\"><img alt=\"L\" height=\"14px\" src=\"/images/l.png\" width=\"14px\"/><img alt=\"W\" height=\"14px\" src=\"/images/w.png\" width=\"14px\"/><img alt=\"W\" height=\"14px\" src=\"/images/w.png\" width=\"14px\"/><img alt=\"L\" height=\"14px\" src=\"/images/l.png\" width=\"14px\"/><img alt=\"L\" height=\"14px\" src=\"/images/l.png\" width=\"14px\"/></td></tr><tr onclick=\"window.location.href='/england/tottenham/2001/'\"><td>13</td><td class=\"left paddingleft\">Tottenham</td><td>19</td><td>4</td><td>4</td><td>11</td><td>17</td><td>29</td><td>-12</td><td>16 pts</td><td class=\"center\"><img alt=\"L\" height=\"14px\" src=\"/images/l.png\" width=\"14px\"/><img alt=\"D\" height=\"14px\" src=\"/images/d.png\" width=\"14px\"/><img alt=\"L\" height=\"14px\" src=\"/images/l.png\" width=\"14px\"/><img alt=\"D\" height=\"14px\" src=\"/images/d.png\" width=\"14px\"/><img alt=\"W\" height=\"14px\" src=\"/images/w.png\" width=\"14px\"/></td></tr><tr class=\"odd\" onclick=\"window.location.href='/england/fulham/2001/'\"><td>14</td><td class=\"left paddingleft\">Fulham</td><td>19</td><td>3</td><td>7</td><td>9</td><td>15</td><td>28</td><td>-13</td><td>16 pts</td><td class=\"center\"><img alt=\"L\" height=\"14px\" src=\"/images/l.png\" width=\"14px\"/><img alt=\"W\" height=\"14px\" src=\"/images/w.png\" width=\"14px\"/><img alt=\"D\" height=\"14px\" src=\"/images/d.png\" width=\"14px\"/><img alt=\"D\" height=\"14px\" src=\"/images/d.png\" width=\"14px\"/><img alt=\"L\" height=\"14px\" src=\"/images/l.png\" width=\"14px\"/></td></tr><tr onclick=\"window.location.href='/england/everton/2001/'\"><td>15</td><td class=\"left paddingleft\">Everton</td><td>19</td><td>3</td><td>6</td><td>10</td><td>19</td><td>34</td><td>-15</td><td>15 pts</td><td class=\"center\"><img alt=\"L\" height=\"14px\" src=\"/images/l.png\" width=\"14px\"/><img alt=\"W\" height=\"14px\" src=\"/images/w.png\" width=\"14px\"/><img alt=\"L\" height=\"14px\" src=\"/images/l.png\" width=\"14px\"/><img alt=\"L\" height=\"14px\" src=\"/images/l.png\" width=\"14px\"/><img alt=\"W\" height=\"14px\" src=\"/images/w.png\" width=\"14px\"/></td></tr><tr class=\"odd\" onclick=\"window.location.href='/england/ipswich-town/2001/'\"><td>16</td><td class=\"left paddingleft\">Ipswich Town</td><td>19</td><td>3</td><td>5</td><td>11</td><td>21</td><td>40</td><td>-19</td><td>14 pts</td><td class=\"center\"><img alt=\"L\" height=\"14px\" src=\"/images/l.png\" width=\"14px\"/><img alt=\"L\" height=\"14px\" src=\"/images/l.png\" width=\"14px\"/><img alt=\"L\" height=\"14px\" src=\"/images/l.png\" width=\"14px\"/><img alt=\"L\" height=\"14px\" src=\"/images/l.png\" width=\"14px\"/><img alt=\"D\" height=\"14px\" src=\"/images/d.png\" width=\"14px\"/></td></tr><tr onclick=\"window.location.href='/england/west-ham/2001/'\"><td>17</td><td class=\"left paddingleft\">West Ham</td><td>19</td><td>3</td><td>4</td><td>12</td><td>16</td><td>43</td><td>-27</td><td>13 pts</td><td class=\"center\"><img alt=\"L\" height=\"14px\" src=\"/images/l.png\" width=\"14px\"/><img alt=\"L\" height=\"14px\" src=\"/images/l.png\" width=\"14px\"/><img alt=\"D\" height=\"14px\" src=\"/images/d.png\" width=\"14px\"/><img alt=\"W\" height=\"14px\" src=\"/images/w.png\" width=\"14px\"/><img alt=\"L\" height=\"14px\" src=\"/images/l.png\" width=\"14px\"/></td></tr><tr class=\"odd\" onclick=\"window.location.href='/england/leicester-city/2001/'\"><td>18</td><td class=\"left paddingleft\">Leicester City</td><td>19</td><td>2</td><td>6</td><td>11</td><td>15</td><td>30</td><td>-15</td><td>12 pts</td><td class=\"center\"><img alt=\"D\" height=\"14px\" src=\"/images/d.png\" width=\"14px\"/><img alt=\"D\" height=\"14px\" src=\"/images/d.png\" width=\"14px\"/><img alt=\"L\" height=\"14px\" src=\"/images/l.png\" width=\"14px\"/><img alt=\"D\" height=\"14px\" src=\"/images/d.png\" width=\"14px\"/><img alt=\"L\" height=\"14px\" src=\"/images/l.png\" width=\"14px\"/></td></tr><tr onclick=\"window.location.href='/england/sunderland/2001/'\"><td>19</td><td class=\"left paddingleft\">Sunderland</td><td>19</td><td>3</td><td>3</td><td>13</td><td>11</td><td>35</td><td>-24</td><td>12 pts</td><td class=\"center\"><img alt=\"D\" height=\"14px\" src=\"/images/d.png\" width=\"14px\"/><img alt=\"L\" height=\"14px\" src=\"/images/l.png\" width=\"14px\"/><img alt=\"L\" height=\"14px\" src=\"/images/l.png\" width=\"14px\"/><img alt=\"L\" height=\"14px\" src=\"/images/l.png\" width=\"14px\"/><img alt=\"L\" height=\"14px\" src=\"/images/l.png\" width=\"14px\"/></td></tr><tr class=\"odd\" onclick=\"window.location.href='/england/derby-county/2001/'\"><td>20</td><td class=\"left paddingleft\">Derby County</td><td>19</td><td>3</td><td>2</td><td>14</td><td>13</td><td>37</td><td>-24</td><td>11 pts</td><td class=\"center\"><img alt=\"D\" height=\"14px\" src=\"/images/d.png\" width=\"14px\"/><img alt=\"L\" height=\"14px\" src=\"/images/l.png\" width=\"14px\"/><img alt=\"L\" height=\"14px\" src=\"/images/l.png\" width=\"14px\"/><img alt=\"L\" height=\"14px\" src=\"/images/l.png\" width=\"14px\"/><img alt=\"W\" height=\"14px\" src=\"/images/w.png\" width=\"14px\"/></td></tr></table><div class=\"invisiblebox\"><p class=\"previous\">« <a href=\"/english-premier-league-tables/2000/\">2000/2001 Premier League tables</a></p><p class=\"next\"><a href=\"/english-premier-league-tables/2002/\">2002/2003 Premier League tables</a> »</p></div></div><div id=\"right\"><div class=\"boxnopadding\"><h2>Premier League 2001/2002</h2><table class=\"results\"><tr class=\"tablehead strong\"><td colspan=\"2\">2002-05-11</td></tr><tr class=\"tablehead strong\"><td colspan=\"2\">Premier League England</td></tr><tr><td>West Ham - Bolton</td><td style=\"width:20px;\">2-1</td></tr><tr><td>Sunderland - Derby County</td><td style=\"width:20px;\">1-1</td></tr><tr><td>Southampton - Newcastle</td><td style=\"width:20px;\">3-1</td></tr><tr><td>Manchester Unit - Charlton Athlet</td><td style=\"width:20px;\">0-0</td></tr><tr><td>Liverpool - Ipswich Town</td><td style=\"width:20px;\">5-0</td></tr><tr><td>Leicester City - Tottenham</td><td style=\"width:20px;\">2-1</td></tr><tr><td>Leeds - Middlesbrough</td><td style=\"width:20px;\">1-0</td></tr><tr><td>Chelsea - Aston Villa</td><td style=\"width:20px;\">1-3</td></tr><tr><td>Blackburn - Fulham</td><td style=\"width:20px;\">3-0</td></tr><tr><td>Arsenal - Everton</td><td style=\"width:20px;\">4-3</td></tr><tr class=\"tablehead strong\"><td colspan=\"2\">2002-05-08</td></tr><tr><td>Manchester Unit - Arsenal</td><td style=\"width:20px;\">0-1</td></tr><tr><td>Liverpool - Blackburn</td><td style=\"width:20px;\">4-3</td></tr><tr class=\"tablehead strong\"><td colspan=\"2\">2002-04-29</td></tr><tr><td>Bolton - Arsenal</td><td style=\"width:20px;\">0-2</td></tr><tr class=\"tablehead strong\"><td colspan=\"2\">2002-04-28</td></tr><tr><td>Everton - Blackburn</td><td style=\"width:20px;\">1-2</td></tr><tr class=\"tablehead strong\"><td colspan=\"2\">2002-04-27</td></tr><tr><td>Tottenham - Liverpool</td><td style=\"width:20px;\">1-0</td></tr><tr><td>Newcastle - West Ham</td><td style=\"width:20px;\">3-1</td></tr><tr><td>Middlesbrough - Chelsea</td><td style=\"width:20px;\">0-2</td></tr><tr><td>Ipswich Town - Manchester Unit</td><td style=\"width:20px;\">0-1</td></tr><tr><td>Fulham - Leicester City</td><td style=\"width:20px;\">0-0</td></tr><tr><td>Derby County - Leeds</td><td style=\"width:20px;\">0-1</td></tr></table>\n",
            "</div></div></div>\n",
            "<div id=\"left\">\n",
            "<div class=\"box\"><h3>Football Results</h3><ul><li><a href=\"/english-premier-league/\">Premier League results</a></li><ul><li><a href=\"/english-premier-league/2001/\">2001 Premier League results</a></li><li><strong>2001 Premier League tables</strong></li></ul></ul></div></div></div></body></html>\n",
            "<div class=\"invisiblebox center paddingleft\">\n",
            "<script type=\"text/javascript\"><!--\n",
            "google_ad_client = \"ca-pub-8130320560196838\";\n",
            "\n",
            "google_ad_slot = \"6053604059\";\n",
            "google_ad_width = 160;\n",
            "google_ad_height = 600;\n",
            "//-->\n",
            "</script>\n",
            "<script src=\"http://pagead2.googlesyndication.com/pagead/show_ads.js\" type=\"text/javascript\">\n",
            "</script>\n",
            "</div>\n",
            "\n",
            "\n",
            "<div id=\"footer\">\n",
            "<p>Copyright © 2011-2022 ResultDB.com<br/><a href=\"/privacy.php\">Privacy Policy</a></p>\n",
            "</div>\n",
            "<!-- Begin Cookie Consent plugin by Silktide - http://silktide.com/cookieconsent -->\n",
            "<script type=\"text/javascript\">\n",
            "    window.cookieconsent_options = {\"message\":\"This website uses cookies to ensure you get the best experience on our website\",\"dismiss\":\"Got it!\",\"learnMore\":\"More info\",\"link\":\"http://www.resultdb.com/privacy.php\",\"theme\":\"light-bottom\"};\n",
            "</script>\n",
            "<script src=\"//s3.amazonaws.com/cc.silktide.com/cookieconsent.latest.min.js\" type=\"text/javascript\"></script>\n",
            "<!-- End Cookie Consent plugin -->\n",
            "\n",
            "\n",
            "\n",
            "2002\n",
            "<!DOCTYPE html PUBLIC \"-//W3C//DTD XHTML 1.0 Strict//EN\"\n",
            "\"http://www.w3.org/TR/xhtml1/DTD/xhtml1-strict.dtd\">\n",
            "\n",
            "<html lang=\"en\" xml:lang=\"en\" xmlns=\"http://www.w3.org/1999/xhtml\">\n",
            "<head>\n",
            "<meta content=\"text/html; charset=utf-8\" http-equiv=\"Content-Type\"/>\n",
            "<meta content=\"width=device-width, initial-scale=1\" name=\"viewport\"/>\n",
            "<title>English Premier League 2002/2003 table - Result DB</title>\n",
            "<meta content=\"Premier League tables for the 2002/2003 season. Full table for the English Premier League 2002/2003 as well as home and away league tables. \" name=\"description\">\n",
            "<meta content=\"Premier League 2002/2003 table,Premier League table,2002/2003 table\" name=\"keywords\"/>\n",
            "<link href=\"/style.css\" rel=\"stylesheet\" type=\"text/css\"/>\n",
            "<link href=\"/images/favicon.ico\" rel=\"Shortcut Icon\"/>\n",
            "<script type=\"text/javascript\">\n",
            "\n",
            "  var _gaq = _gaq || [];\n",
            "  _gaq.push(['_setAccount', 'UA-23500708-1']);\n",
            "  _gaq.push(['_trackPageview']);\n",
            "\n",
            "  (function() {\n",
            "    var ga = document.createElement('script'); ga.type = 'text/javascript'; ga.async = true;\n",
            "    ga.src = ('https:' == document.location.protocol ? 'https://ssl' : 'http://www') + '.google-analytics.com/ga.js';\n",
            "    var s = document.getElementsByTagName('script')[0]; s.parentNode.insertBefore(ga, s);\n",
            "  })();\n",
            "\n",
            "</script>\n",
            "</meta></head>\n",
            "<body>\n",
            "<div id=\"container\">\n",
            "<div id=\"top\">\n",
            "<div id=\"logo\" onclick=\"window.location.href='/'\"><img alt=\"Result database logo\" height=\"45\" src=\"/images/logoimg.gif\" width=\"44\"/><h3>Result DB</h3><h4><a href=\"/\">Football results and statistics</a></h4></div>\n",
            "<div id=\"topbanner\">\n",
            "</div>\n",
            "<!--<div class=\"floatleft margintop\">\n",
            "    <g:plusone></g:plusone>\n",
            "    \n",
            "    <script type=\"text/javascript\">\n",
            "      (function() {\n",
            "        var po = document.createElement('script'); po.type = 'text/javascript'; po.async = true;\n",
            "        po.src = 'https://apis.google.com/js/plusone.js';\n",
            "        var s = document.getElementsByTagName('script')[0]; s.parentNode.insertBefore(po, s);\n",
            "      })();\n",
            "    </script>\n",
            "    </div>-->\n",
            "</div>\n",
            "<div id=\"topmenu\"></div>\n",
            "<div id=\"main\">\n",
            "<div class=\"box\" id=\"middle\">\n",
            "<h1>English Premier League 2002/2003 Table</h1>\n",
            "<script async=\"\" src=\"//pagead2.googlesyndication.com/pagead/js/adsbygoogle.js\"></script>\n",
            "<!-- RDB Middle Responsive -->\n",
            "<ins class=\"adsbygoogle\" data-ad-client=\"ca-pub-8130320560196838\" data-ad-format=\"auto\" data-ad-slot=\"8388870624\" style=\"display:block\"></ins>\n",
            "<script>\n",
            "(adsbygoogle = window.adsbygoogle || []).push({});\n",
            "</script><h2>Total 2002/2003 Premier League Table</h2><table class=\"table\"><tr class=\"tablehead\"><th>#</th><th class=\"left paddingleft\">Team Name</th><th>P</th><th>W</th><th>D</th><th>L</th><th>GS</th><th>GA</th><th>GD</th><th>Points</th><th class=\"center\">Form</th></tr><tr onclick=\"window.location.href='/england/manchester-united/2002/'\"><td>1</td><td class=\"left paddingleft\">Manchester United</td><td>38</td><td>25</td><td>8</td><td>5</td><td>74</td><td>34</td><td>+40</td><td>83 pts</td><td class=\"center\"><img alt=\"W\" height=\"14px\" src=\"/images/w.png\" width=\"14px\"/><img alt=\"W\" height=\"14px\" src=\"/images/w.png\" width=\"14px\"/><img alt=\"W\" height=\"14px\" src=\"/images/w.png\" width=\"14px\"/><img alt=\"W\" height=\"14px\" src=\"/images/w.png\" width=\"14px\"/><img alt=\"D\" height=\"14px\" src=\"/images/d.png\" width=\"14px\"/></td></tr><tr class=\"odd\" onclick=\"window.location.href='/england/arsenal/2002/'\"><td>2</td><td class=\"left paddingleft\">Arsenal</td><td>38</td><td>23</td><td>9</td><td>6</td><td>85</td><td>42</td><td>+43</td><td>78 pts</td><td class=\"center\"><img alt=\"W\" height=\"14px\" src=\"/images/w.png\" width=\"14px\"/><img alt=\"W\" height=\"14px\" src=\"/images/w.png\" width=\"14px\"/><img alt=\"L\" height=\"14px\" src=\"/images/l.png\" width=\"14px\"/><img alt=\"D\" height=\"14px\" src=\"/images/d.png\" width=\"14px\"/><img alt=\"W\" height=\"14px\" src=\"/images/w.png\" width=\"14px\"/></td></tr><tr onclick=\"window.location.href='/england/newcastle/2002/'\"><td>3</td><td class=\"left paddingleft\">Newcastle</td><td>38</td><td>21</td><td>6</td><td>11</td><td>63</td><td>48</td><td>+15</td><td>69 pts</td><td class=\"center\"><img alt=\"D\" height=\"14px\" src=\"/images/d.png\" width=\"14px\"/><img alt=\"W\" height=\"14px\" src=\"/images/w.png\" width=\"14px\"/><img alt=\"W\" height=\"14px\" src=\"/images/w.png\" width=\"14px\"/><img alt=\"D\" height=\"14px\" src=\"/images/d.png\" width=\"14px\"/><img alt=\"L\" height=\"14px\" src=\"/images/l.png\" width=\"14px\"/></td></tr><tr class=\"odd\" onclick=\"window.location.href='/england/chelsea/2002/'\"><td>4</td><td class=\"left paddingleft\">Chelsea</td><td>38</td><td>19</td><td>10</td><td>9</td><td>68</td><td>38</td><td>+30</td><td>67 pts</td><td class=\"center\"><img alt=\"W\" height=\"14px\" src=\"/images/w.png\" width=\"14px\"/><img alt=\"L\" height=\"14px\" src=\"/images/l.png\" width=\"14px\"/><img alt=\"D\" height=\"14px\" src=\"/images/d.png\" width=\"14px\"/><img alt=\"W\" height=\"14px\" src=\"/images/w.png\" width=\"14px\"/><img alt=\"L\" height=\"14px\" src=\"/images/l.png\" width=\"14px\"/></td></tr><tr onclick=\"window.location.href='/england/liverpool/2002/'\"><td>5</td><td class=\"left paddingleft\">Liverpool</td><td>38</td><td>18</td><td>10</td><td>10</td><td>61</td><td>41</td><td>+20</td><td>64 pts</td><td class=\"center\"><img alt=\"L\" height=\"14px\" src=\"/images/l.png\" width=\"14px\"/><img alt=\"L\" height=\"14px\" src=\"/images/l.png\" width=\"14px\"/><img alt=\"W\" height=\"14px\" src=\"/images/w.png\" width=\"14px\"/><img alt=\"W\" height=\"14px\" src=\"/images/w.png\" width=\"14px\"/><img alt=\"W\" height=\"14px\" src=\"/images/w.png\" width=\"14px\"/></td></tr><tr class=\"odd\" onclick=\"window.location.href='/england/blackburn/2002/'\"><td>6</td><td class=\"left paddingleft\">Blackburn</td><td>38</td><td>16</td><td>12</td><td>10</td><td>52</td><td>43</td><td>+9</td><td>60 pts</td><td class=\"center\"><img alt=\"W\" height=\"14px\" src=\"/images/w.png\" width=\"14px\"/><img alt=\"D\" height=\"14px\" src=\"/images/d.png\" width=\"14px\"/><img alt=\"W\" height=\"14px\" src=\"/images/w.png\" width=\"14px\"/><img alt=\"D\" height=\"14px\" src=\"/images/d.png\" width=\"14px\"/><img alt=\"L\" height=\"14px\" src=\"/images/l.png\" width=\"14px\"/></td></tr><tr onclick=\"window.location.href='/england/everton/2002/'\"><td>7</td><td class=\"left paddingleft\">Everton</td><td>38</td><td>17</td><td>8</td><td>13</td><td>48</td><td>49</td><td>-1</td><td>59 pts</td><td class=\"center\"><img alt=\"L\" height=\"14px\" src=\"/images/l.png\" width=\"14px\"/><img alt=\"L\" height=\"14px\" src=\"/images/l.png\" width=\"14px\"/><img alt=\"W\" height=\"14px\" src=\"/images/w.png\" width=\"14px\"/><img alt=\"L\" height=\"14px\" src=\"/images/l.png\" width=\"14px\"/><img alt=\"L\" height=\"14px\" src=\"/images/l.png\" width=\"14px\"/></td></tr><tr class=\"odd\" onclick=\"window.location.href='/england/southampton/2002/'\"><td>8</td><td class=\"left paddingleft\">Southampton</td><td>38</td><td>13</td><td>13</td><td>12</td><td>43</td><td>46</td><td>-3</td><td>52 pts</td><td class=\"center\"><img alt=\"W\" height=\"14px\" src=\"/images/w.png\" width=\"14px\"/><img alt=\"L\" height=\"14px\" src=\"/images/l.png\" width=\"14px\"/><img alt=\"D\" height=\"14px\" src=\"/images/d.png\" width=\"14px\"/><img alt=\"L\" height=\"14px\" src=\"/images/l.png\" width=\"14px\"/><img alt=\"L\" height=\"14px\" src=\"/images/l.png\" width=\"14px\"/></td></tr><tr onclick=\"window.location.href='/england/manchester-city/2002/'\"><td>9</td><td class=\"left paddingleft\">Manchester City</td><td>38</td><td>15</td><td>6</td><td>17</td><td>47</td><td>54</td><td>-7</td><td>51 pts</td><td class=\"center\"><img alt=\"L\" height=\"14px\" src=\"/images/l.png\" width=\"14px\"/><img alt=\"W\" height=\"14px\" src=\"/images/w.png\" width=\"14px\"/><img alt=\"L\" height=\"14px\" src=\"/images/l.png\" width=\"14px\"/><img alt=\"W\" height=\"14px\" src=\"/images/w.png\" width=\"14px\"/><img alt=\"W\" height=\"14px\" src=\"/images/w.png\" width=\"14px\"/></td></tr><tr class=\"odd\" onclick=\"window.location.href='/england/tottenham/2002/'\"><td>10</td><td class=\"left paddingleft\">Tottenham</td><td>38</td><td>14</td><td>8</td><td>16</td><td>51</td><td>62</td><td>-11</td><td>50 pts</td><td class=\"center\"><img alt=\"L\" height=\"14px\" src=\"/images/l.png\" width=\"14px\"/><img alt=\"L\" height=\"14px\" src=\"/images/l.png\" width=\"14px\"/><img alt=\"L\" height=\"14px\" src=\"/images/l.png\" width=\"14px\"/><img alt=\"W\" height=\"14px\" src=\"/images/w.png\" width=\"14px\"/><img alt=\"L\" height=\"14px\" src=\"/images/l.png\" width=\"14px\"/></td></tr><tr onclick=\"window.location.href='/england/middlesbrough/2002/'\"><td>11</td><td class=\"left paddingleft\">Middlesbrough</td><td>38</td><td>13</td><td>10</td><td>15</td><td>48</td><td>44</td><td>+4</td><td>49 pts</td><td class=\"center\"><img alt=\"L\" height=\"14px\" src=\"/images/l.png\" width=\"14px\"/><img alt=\"W\" height=\"14px\" src=\"/images/w.png\" width=\"14px\"/><img alt=\"L\" height=\"14px\" src=\"/images/l.png\" width=\"14px\"/><img alt=\"L\" height=\"14px\" src=\"/images/l.png\" width=\"14px\"/><img alt=\"L\" height=\"14px\" src=\"/images/l.png\" width=\"14px\"/></td></tr><tr class=\"odd\" onclick=\"window.location.href='/england/charlton-athletic/2002/'\"><td>12</td><td class=\"left paddingleft\">Charlton Athletic</td><td>38</td><td>14</td><td>7</td><td>17</td><td>45</td><td>56</td><td>-11</td><td>49 pts</td><td class=\"center\"><img alt=\"L\" height=\"14px\" src=\"/images/l.png\" width=\"14px\"/><img alt=\"L\" height=\"14px\" src=\"/images/l.png\" width=\"14px\"/><img alt=\"W\" height=\"14px\" src=\"/images/w.png\" width=\"14px\"/><img alt=\"L\" height=\"14px\" src=\"/images/l.png\" width=\"14px\"/><img alt=\"L\" height=\"14px\" src=\"/images/l.png\" width=\"14px\"/></td></tr><tr onclick=\"window.location.href='/england/birmingham/2002/'\"><td>13</td><td class=\"left paddingleft\">Birmingham</td><td>38</td><td>13</td><td>9</td><td>16</td><td>41</td><td>49</td><td>-8</td><td>48 pts</td><td class=\"center\"><img alt=\"D\" height=\"14px\" src=\"/images/d.png\" width=\"14px\"/><img alt=\"L\" height=\"14px\" src=\"/images/l.png\" width=\"14px\"/><img alt=\"W\" height=\"14px\" src=\"/images/w.png\" width=\"14px\"/><img alt=\"W\" height=\"14px\" src=\"/images/w.png\" width=\"14px\"/><img alt=\"W\" height=\"14px\" src=\"/images/w.png\" width=\"14px\"/></td></tr><tr class=\"odd\" onclick=\"window.location.href='/england/fulham/2002/'\"><td>14</td><td class=\"left paddingleft\">Fulham</td><td>38</td><td>13</td><td>9</td><td>16</td><td>41</td><td>50</td><td>-9</td><td>48 pts</td><td class=\"center\"><img alt=\"W\" height=\"14px\" src=\"/images/w.png\" width=\"14px\"/><img alt=\"W\" height=\"14px\" src=\"/images/w.png\" width=\"14px\"/><img alt=\"D\" height=\"14px\" src=\"/images/d.png\" width=\"14px\"/><img alt=\"L\" height=\"14px\" src=\"/images/l.png\" width=\"14px\"/><img alt=\"W\" height=\"14px\" src=\"/images/w.png\" width=\"14px\"/></td></tr><tr onclick=\"window.location.href='/england/leeds/2002/'\"><td>15</td><td class=\"left paddingleft\">Leeds</td><td>38</td><td>14</td><td>5</td><td>19</td><td>58</td><td>57</td><td>+1</td><td>47 pts</td><td class=\"center\"><img alt=\"W\" height=\"14px\" src=\"/images/w.png\" width=\"14px\"/><img alt=\"W\" height=\"14px\" src=\"/images/w.png\" width=\"14px\"/><img alt=\"L\" height=\"14px\" src=\"/images/l.png\" width=\"14px\"/><img alt=\"W\" height=\"14px\" src=\"/images/w.png\" width=\"14px\"/><img alt=\"L\" height=\"14px\" src=\"/images/l.png\" width=\"14px\"/></td></tr><tr class=\"odd\" onclick=\"window.location.href='/england/aston-villa/2002/'\"><td>16</td><td class=\"left paddingleft\">Aston Villa</td><td>38</td><td>12</td><td>9</td><td>17</td><td>42</td><td>47</td><td>-5</td><td>45 pts</td><td class=\"center\"><img alt=\"L\" height=\"14px\" src=\"/images/l.png\" width=\"14px\"/><img alt=\"W\" height=\"14px\" src=\"/images/w.png\" width=\"14px\"/><img alt=\"L\" height=\"14px\" src=\"/images/l.png\" width=\"14px\"/><img alt=\"D\" height=\"14px\" src=\"/images/d.png\" width=\"14px\"/><img alt=\"W\" height=\"14px\" src=\"/images/w.png\" width=\"14px\"/></td></tr><tr onclick=\"window.location.href='/england/bolton/2002/'\"><td>17</td><td class=\"left paddingleft\">Bolton</td><td>38</td><td>10</td><td>14</td><td>14</td><td>41</td><td>51</td><td>-10</td><td>44 pts</td><td class=\"center\"><img alt=\"W\" height=\"14px\" src=\"/images/w.png\" width=\"14px\"/><img alt=\"D\" height=\"14px\" src=\"/images/d.png\" width=\"14px\"/><img alt=\"D\" height=\"14px\" src=\"/images/d.png\" width=\"14px\"/><img alt=\"D\" height=\"14px\" src=\"/images/d.png\" width=\"14px\"/><img alt=\"W\" height=\"14px\" src=\"/images/w.png\" width=\"14px\"/></td></tr><tr class=\"odd\" onclick=\"window.location.href='/england/west-ham/2002/'\"><td>18</td><td class=\"left paddingleft\">West Ham</td><td>38</td><td>10</td><td>12</td><td>16</td><td>42</td><td>59</td><td>-17</td><td>42 pts</td><td class=\"center\"><img alt=\"D\" height=\"14px\" src=\"/images/d.png\" width=\"14px\"/><img alt=\"W\" height=\"14px\" src=\"/images/w.png\" width=\"14px\"/><img alt=\"W\" height=\"14px\" src=\"/images/w.png\" width=\"14px\"/><img alt=\"W\" height=\"14px\" src=\"/images/w.png\" width=\"14px\"/><img alt=\"L\" height=\"14px\" src=\"/images/l.png\" width=\"14px\"/></td></tr><tr onclick=\"window.location.href='/england/west-brom/2002/'\"><td>19</td><td class=\"left paddingleft\">West Brom</td><td>38</td><td>6</td><td>8</td><td>24</td><td>29</td><td>65</td><td>-36</td><td>26 pts</td><td class=\"center\"><img alt=\"D\" height=\"14px\" src=\"/images/d.png\" width=\"14px\"/><img alt=\"D\" height=\"14px\" src=\"/images/d.png\" width=\"14px\"/><img alt=\"L\" height=\"14px\" src=\"/images/l.png\" width=\"14px\"/><img alt=\"L\" height=\"14px\" src=\"/images/l.png\" width=\"14px\"/><img alt=\"W\" height=\"14px\" src=\"/images/w.png\" width=\"14px\"/></td></tr><tr class=\"odd\" onclick=\"window.location.href='/england/sunderland/2002/'\"><td>20</td><td class=\"left paddingleft\">Sunderland</td><td>38</td><td>4</td><td>7</td><td>27</td><td>21</td><td>65</td><td>-44</td><td>19 pts</td><td class=\"center\"><img alt=\"L\" height=\"14px\" src=\"/images/l.png\" width=\"14px\"/><img alt=\"L\" height=\"14px\" src=\"/images/l.png\" width=\"14px\"/><img alt=\"L\" height=\"14px\" src=\"/images/l.png\" width=\"14px\"/><img alt=\"L\" height=\"14px\" src=\"/images/l.png\" width=\"14px\"/><img alt=\"L\" height=\"14px\" src=\"/images/l.png\" width=\"14px\"/></td></tr></table><h2>Home Table</h2><table class=\"table\"><tr class=\"tablehead\"><th>#</th><th class=\"left paddingleft\">Team Name</th><th>P</th><th>W</th><th>D</th><th>L</th><th>GS</th><th>GA</th><th>GD</th><th>Points</th><th class=\"center\">Form</th></tr><tr onclick=\"window.location.href='/england/manchester-united/2002/'\"><td>1</td><td class=\"left paddingleft\">Manchester United</td><td>19</td><td>16</td><td>2</td><td>1</td><td>42</td><td>12</td><td>+30</td><td>50 pts</td><td class=\"center\"><img alt=\"W\" height=\"14px\" src=\"/images/w.png\" width=\"14px\"/><img alt=\"W\" height=\"14px\" src=\"/images/w.png\" width=\"14px\"/><img alt=\"W\" height=\"14px\" src=\"/images/w.png\" width=\"14px\"/><img alt=\"W\" height=\"14px\" src=\"/images/w.png\" width=\"14px\"/><img alt=\"W\" height=\"14px\" src=\"/images/w.png\" width=\"14px\"/></td></tr><tr class=\"odd\" onclick=\"window.location.href='/england/arsenal/2002/'\"><td>2</td><td class=\"left paddingleft\">Arsenal</td><td>19</td><td>15</td><td>2</td><td>2</td><td>47</td><td>20</td><td>+27</td><td>47 pts</td><td class=\"center\"><img alt=\"W\" height=\"14px\" src=\"/images/w.png\" width=\"14px\"/><img alt=\"L\" height=\"14px\" src=\"/images/l.png\" width=\"14px\"/><img alt=\"D\" height=\"14px\" src=\"/images/d.png\" width=\"14px\"/><img alt=\"W\" height=\"14px\" src=\"/images/w.png\" width=\"14px\"/><img alt=\"W\" height=\"14px\" src=\"/images/w.png\" width=\"14px\"/></td></tr><tr onclick=\"window.location.href='/england/newcastle/2002/'\"><td>3</td><td class=\"left paddingleft\">Newcastle</td><td>19</td><td>15</td><td>2</td><td>2</td><td>36</td><td>17</td><td>+19</td><td>47 pts</td><td class=\"center\"><img alt=\"W\" height=\"14px\" src=\"/images/w.png\" width=\"14px\"/><img alt=\"D\" height=\"14px\" src=\"/images/d.png\" width=\"14px\"/><img alt=\"L\" height=\"14px\" src=\"/images/l.png\" width=\"14px\"/><img alt=\"W\" height=\"14px\" src=\"/images/w.png\" width=\"14px\"/><img alt=\"W\" height=\"14px\" src=\"/images/w.png\" width=\"14px\"/></td></tr><tr class=\"odd\" onclick=\"window.location.href='/england/chelsea/2002/'\"><td>4</td><td class=\"left paddingleft\">Chelsea</td><td>19</td><td>12</td><td>5</td><td>2</td><td>41</td><td>15</td><td>+26</td><td>41 pts</td><td class=\"center\"><img alt=\"W\" height=\"14px\" src=\"/images/w.png\" width=\"14px\"/><img alt=\"D\" height=\"14px\" src=\"/images/d.png\" width=\"14px\"/><img alt=\"W\" height=\"14px\" src=\"/images/w.png\" width=\"14px\"/><img alt=\"W\" height=\"14px\" src=\"/images/w.png\" width=\"14px\"/><img alt=\"W\" height=\"14px\" src=\"/images/w.png\" width=\"14px\"/></td></tr><tr onclick=\"window.location.href='/england/everton/2002/'\"><td>5</td><td class=\"left paddingleft\">Everton</td><td>19</td><td>11</td><td>5</td><td>3</td><td>28</td><td>19</td><td>+9</td><td>38 pts</td><td class=\"center\"><img alt=\"L\" height=\"14px\" src=\"/images/l.png\" width=\"14px\"/><img alt=\"W\" height=\"14px\" src=\"/images/w.png\" width=\"14px\"/><img alt=\"L\" height=\"14px\" src=\"/images/l.png\" width=\"14px\"/><img alt=\"W\" height=\"14px\" src=\"/images/w.png\" width=\"14px\"/><img alt=\"D\" height=\"14px\" src=\"/images/d.png\" width=\"14px\"/></td></tr><tr class=\"odd\" onclick=\"window.location.href='/england/middlesbrough/2002/'\"><td>6</td><td class=\"left paddingleft\">Middlesbrough</td><td>19</td><td>10</td><td>7</td><td>2</td><td>36</td><td>21</td><td>+15</td><td>37 pts</td><td class=\"center\"><img alt=\"W\" height=\"14px\" src=\"/images/w.png\" width=\"14px\"/><img alt=\"L\" height=\"14px\" src=\"/images/l.png\" width=\"14px\"/><img alt=\"W\" height=\"14px\" src=\"/images/w.png\" width=\"14px\"/><img alt=\"D\" height=\"14px\" src=\"/images/d.png\" width=\"14px\"/><img alt=\"W\" height=\"14px\" src=\"/images/w.png\" width=\"14px\"/></td></tr><tr onclick=\"window.location.href='/england/fulham/2002/'\"><td>7</td><td class=\"left paddingleft\">Fulham</td><td>19</td><td>11</td><td>3</td><td>5</td><td>26</td><td>18</td><td>+8</td><td>36 pts</td><td class=\"center\"><img alt=\"W\" height=\"14px\" src=\"/images/w.png\" width=\"14px\"/><img alt=\"W\" height=\"14px\" src=\"/images/w.png\" width=\"14px\"/><img alt=\"L\" height=\"14px\" src=\"/images/l.png\" width=\"14px\"/><img alt=\"D\" height=\"14px\" src=\"/images/d.png\" width=\"14px\"/><img alt=\"W\" height=\"14px\" src=\"/images/w.png\" width=\"14px\"/></td></tr><tr class=\"odd\" onclick=\"window.location.href='/england/liverpool/2002/'\"><td>8</td><td class=\"left paddingleft\">Liverpool</td><td>19</td><td>9</td><td>8</td><td>2</td><td>30</td><td>16</td><td>+14</td><td>35 pts</td><td class=\"center\"><img alt=\"L\" height=\"14px\" src=\"/images/l.png\" width=\"14px\"/><img alt=\"W\" height=\"14px\" src=\"/images/w.png\" width=\"14px\"/><img alt=\"W\" height=\"14px\" src=\"/images/w.png\" width=\"14px\"/><img alt=\"W\" height=\"14px\" src=\"/images/w.png\" width=\"14px\"/><img alt=\"W\" height=\"14px\" src=\"/images/w.png\" width=\"14px\"/></td></tr><tr onclick=\"window.location.href='/england/aston-villa/2002/'\"><td>9</td><td class=\"left paddingleft\">Aston Villa</td><td>19</td><td>11</td><td>2</td><td>6</td><td>25</td><td>14</td><td>+11</td><td>35 pts</td><td class=\"center\"><img alt=\"W\" height=\"14px\" src=\"/images/w.png\" width=\"14px\"/><img alt=\"W\" height=\"14px\" src=\"/images/w.png\" width=\"14px\"/><img alt=\"D\" height=\"14px\" src=\"/images/d.png\" width=\"14px\"/><img alt=\"L\" height=\"14px\" src=\"/images/l.png\" width=\"14px\"/><img alt=\"L\" height=\"14px\" src=\"/images/l.png\" width=\"14px\"/></td></tr><tr class=\"odd\" onclick=\"window.location.href='/england/southampton/2002/'\"><td>10</td><td class=\"left paddingleft\">Southampton</td><td>19</td><td>9</td><td>8</td><td>2</td><td>25</td><td>16</td><td>+9</td><td>35 pts</td><td class=\"center\"><img alt=\"D\" height=\"14px\" src=\"/images/d.png\" width=\"14px\"/><img alt=\"W\" height=\"14px\" src=\"/images/w.png\" width=\"14px\"/><img alt=\"D\" height=\"14px\" src=\"/images/d.png\" width=\"14px\"/><img alt=\"D\" height=\"14px\" src=\"/images/d.png\" width=\"14px\"/><img alt=\"W\" height=\"14px\" src=\"/images/w.png\" width=\"14px\"/></td></tr><tr onclick=\"window.location.href='/england/blackburn/2002/'\"><td>11</td><td class=\"left paddingleft\">Blackburn</td><td>19</td><td>9</td><td>7</td><td>3</td><td>24</td><td>15</td><td>+9</td><td>34 pts</td><td class=\"center\"><img alt=\"D\" height=\"14px\" src=\"/images/d.png\" width=\"14px\"/><img alt=\"D\" height=\"14px\" src=\"/images/d.png\" width=\"14px\"/><img alt=\"W\" height=\"14px\" src=\"/images/w.png\" width=\"14px\"/><img alt=\"W\" height=\"14px\" src=\"/images/w.png\" width=\"14px\"/><img alt=\"W\" height=\"14px\" src=\"/images/w.png\" width=\"14px\"/></td></tr><tr class=\"odd\" onclick=\"window.location.href='/england/tottenham/2002/'\"><td>12</td><td class=\"left paddingleft\">Tottenham</td><td>19</td><td>9</td><td>4</td><td>6</td><td>30</td><td>29</td><td>+1</td><td>31 pts</td><td class=\"center\"><img alt=\"L\" height=\"14px\" src=\"/images/l.png\" width=\"14px\"/><img alt=\"L\" height=\"14px\" src=\"/images/l.png\" width=\"14px\"/><img alt=\"L\" height=\"14px\" src=\"/images/l.png\" width=\"14px\"/><img alt=\"W\" height=\"14px\" src=\"/images/w.png\" width=\"14px\"/><img alt=\"L\" height=\"14px\" src=\"/images/l.png\" width=\"14px\"/></td></tr><tr onclick=\"window.location.href='/england/bolton/2002/'\"><td>13</td><td class=\"left paddingleft\">Bolton</td><td>19</td><td>7</td><td>8</td><td>4</td><td>27</td><td>24</td><td>+3</td><td>29 pts</td><td class=\"center\"><img alt=\"W\" height=\"14px\" src=\"/images/w.png\" width=\"14px\"/><img alt=\"D\" height=\"14px\" src=\"/images/d.png\" width=\"14px\"/><img alt=\"W\" height=\"14px\" src=\"/images/w.png\" width=\"14px\"/><img alt=\"W\" height=\"14px\" src=\"/images/w.png\" width=\"14px\"/><img alt=\"W\" height=\"14px\" src=\"/images/w.png\" width=\"14px\"/></td></tr><tr class=\"odd\" onclick=\"window.location.href='/england/manchester-city/2002/'\"><td>14</td><td class=\"left paddingleft\">Manchester City</td><td>19</td><td>9</td><td>2</td><td>8</td><td>28</td><td>26</td><td>+2</td><td>29 pts</td><td class=\"center\"><img alt=\"L\" height=\"14px\" src=\"/images/l.png\" width=\"14px\"/><img alt=\"L\" height=\"14px\" src=\"/images/l.png\" width=\"14px\"/><img alt=\"W\" height=\"14px\" src=\"/images/w.png\" width=\"14px\"/><img alt=\"D\" height=\"14px\" src=\"/images/d.png\" width=\"14px\"/><img alt=\"W\" height=\"14px\" src=\"/images/w.png\" width=\"14px\"/></td></tr><tr onclick=\"window.location.href='/england/birmingham/2002/'\"><td>15</td><td class=\"left paddingleft\">Birmingham</td><td>19</td><td>8</td><td>5</td><td>6</td><td>25</td><td>23</td><td>+2</td><td>29 pts</td><td class=\"center\"><img alt=\"D\" height=\"14px\" src=\"/images/d.png\" width=\"14px\"/><img alt=\"W\" height=\"14px\" src=\"/images/w.png\" width=\"14px\"/><img alt=\"W\" height=\"14px\" src=\"/images/w.png\" width=\"14px\"/><img alt=\"W\" height=\"14px\" src=\"/images/w.png\" width=\"14px\"/><img alt=\"W\" height=\"14px\" src=\"/images/w.png\" width=\"14px\"/></td></tr><tr class=\"odd\" onclick=\"window.location.href='/england/charlton-athletic/2002/'\"><td>16</td><td class=\"left paddingleft\">Charlton Athletic</td><td>19</td><td>8</td><td>3</td><td>8</td><td>26</td><td>30</td><td>-4</td><td>27 pts</td><td class=\"center\"><img alt=\"L\" height=\"14px\" src=\"/images/l.png\" width=\"14px\"/><img alt=\"W\" height=\"14px\" src=\"/images/w.png\" width=\"14px\"/><img alt=\"L\" height=\"14px\" src=\"/images/l.png\" width=\"14px\"/><img alt=\"L\" height=\"14px\" src=\"/images/l.png\" width=\"14px\"/><img alt=\"L\" height=\"14px\" src=\"/images/l.png\" width=\"14px\"/></td></tr><tr onclick=\"window.location.href='/england/leeds/2002/'\"><td>17</td><td class=\"left paddingleft\">Leeds</td><td>19</td><td>7</td><td>3</td><td>9</td><td>25</td><td>26</td><td>-1</td><td>24 pts</td><td class=\"center\"><img alt=\"W\" height=\"14px\" src=\"/images/w.png\" width=\"14px\"/><img alt=\"L\" height=\"14px\" src=\"/images/l.png\" width=\"14px\"/><img alt=\"W\" height=\"14px\" src=\"/images/w.png\" width=\"14px\"/><img alt=\"D\" height=\"14px\" src=\"/images/d.png\" width=\"14px\"/><img alt=\"L\" height=\"14px\" src=\"/images/l.png\" width=\"14px\"/></td></tr><tr class=\"odd\" onclick=\"window.location.href='/england/west-ham/2002/'\"><td>18</td><td class=\"left paddingleft\">West Ham</td><td>19</td><td>5</td><td>7</td><td>7</td><td>21</td><td>24</td><td>-3</td><td>22 pts</td><td class=\"center\"><img alt=\"W\" height=\"14px\" src=\"/images/w.png\" width=\"14px\"/><img alt=\"W\" height=\"14px\" src=\"/images/w.png\" width=\"14px\"/><img alt=\"D\" height=\"14px\" src=\"/images/d.png\" width=\"14px\"/><img alt=\"W\" height=\"14px\" src=\"/images/w.png\" width=\"14px\"/><img alt=\"W\" height=\"14px\" src=\"/images/w.png\" width=\"14px\"/></td></tr><tr onclick=\"window.location.href='/england/west-brom/2002/'\"><td>19</td><td class=\"left paddingleft\">West Brom</td><td>19</td><td>3</td><td>5</td><td>11</td><td>17</td><td>34</td><td>-17</td><td>14 pts</td><td class=\"center\"><img alt=\"D\" height=\"14px\" src=\"/images/d.png\" width=\"14px\"/><img alt=\"L\" height=\"14px\" src=\"/images/l.png\" width=\"14px\"/><img alt=\"L\" height=\"14px\" src=\"/images/l.png\" width=\"14px\"/><img alt=\"L\" height=\"14px\" src=\"/images/l.png\" width=\"14px\"/><img alt=\"L\" height=\"14px\" src=\"/images/l.png\" width=\"14px\"/></td></tr><tr class=\"odd\" onclick=\"window.location.href='/england/sunderland/2002/'\"><td>20</td><td class=\"left paddingleft\">Sunderland</td><td>19</td><td>3</td><td>2</td><td>14</td><td>11</td><td>31</td><td>-20</td><td>11 pts</td><td class=\"center\"><img alt=\"L\" height=\"14px\" src=\"/images/l.png\" width=\"14px\"/><img alt=\"L\" height=\"14px\" src=\"/images/l.png\" width=\"14px\"/><img alt=\"L\" height=\"14px\" src=\"/images/l.png\" width=\"14px\"/><img alt=\"L\" height=\"14px\" src=\"/images/l.png\" width=\"14px\"/><img alt=\"L\" height=\"14px\" src=\"/images/l.png\" width=\"14px\"/></td></tr></table><h2>Away Table</h2><table class=\"table\"><tr class=\"tablehead\"><th>#</th><th class=\"left paddingleft\">Team Name</th><th>P</th><th>W</th><th>D</th><th>L</th><th>GS</th><th>GA</th><th>GD</th><th>Points</th><th class=\"center\">Form</th></tr><tr onclick=\"window.location.href='/england/manchester-united/2002/'\"><td>1</td><td class=\"left paddingleft\">Manchester United</td><td>19</td><td>9</td><td>6</td><td>4</td><td>32</td><td>22</td><td>+10</td><td>33 pts</td><td class=\"center\"><img alt=\"W\" height=\"14px\" src=\"/images/w.png\" width=\"14px\"/><img alt=\"W\" height=\"14px\" src=\"/images/w.png\" width=\"14px\"/><img alt=\"D\" height=\"14px\" src=\"/images/d.png\" width=\"14px\"/><img alt=\"W\" height=\"14px\" src=\"/images/w.png\" width=\"14px\"/><img alt=\"W\" height=\"14px\" src=\"/images/w.png\" width=\"14px\"/></td></tr><tr class=\"odd\" onclick=\"window.location.href='/england/arsenal/2002/'\"><td>2</td><td class=\"left paddingleft\">Arsenal</td><td>19</td><td>8</td><td>7</td><td>4</td><td>38</td><td>22</td><td>+16</td><td>31 pts</td><td class=\"center\"><img alt=\"W\" height=\"14px\" src=\"/images/w.png\" width=\"14px\"/><img alt=\"D\" height=\"14px\" src=\"/images/d.png\" width=\"14px\"/><img alt=\"W\" height=\"14px\" src=\"/images/w.png\" width=\"14px\"/><img alt=\"D\" height=\"14px\" src=\"/images/d.png\" width=\"14px\"/><img alt=\"L\" height=\"14px\" src=\"/images/l.png\" width=\"14px\"/></td></tr><tr onclick=\"window.location.href='/england/liverpool/2002/'\"><td>3</td><td class=\"left paddingleft\">Liverpool</td><td>19</td><td>9</td><td>2</td><td>8</td><td>31</td><td>25</td><td>+6</td><td>29 pts</td><td class=\"center\"><img alt=\"L\" height=\"14px\" src=\"/images/l.png\" width=\"14px\"/><img alt=\"W\" height=\"14px\" src=\"/images/w.png\" width=\"14px\"/><img alt=\"W\" height=\"14px\" src=\"/images/w.png\" width=\"14px\"/><img alt=\"L\" height=\"14px\" src=\"/images/l.png\" width=\"14px\"/><img alt=\"W\" height=\"14px\" src=\"/images/w.png\" width=\"14px\"/></td></tr><tr class=\"odd\" onclick=\"window.location.href='/england/chelsea/2002/'\"><td>4</td><td class=\"left paddingleft\">Chelsea</td><td>19</td><td>7</td><td>5</td><td>7</td><td>27</td><td>23</td><td>+4</td><td>26 pts</td><td class=\"center\"><img alt=\"L\" height=\"14px\" src=\"/images/l.png\" width=\"14px\"/><img alt=\"L\" height=\"14px\" src=\"/images/l.png\" width=\"14px\"/><img alt=\"W\" height=\"14px\" src=\"/images/w.png\" width=\"14px\"/><img alt=\"W\" height=\"14px\" src=\"/images/w.png\" width=\"14px\"/><img alt=\"L\" height=\"14px\" src=\"/images/l.png\" width=\"14px\"/></td></tr><tr onclick=\"window.location.href='/england/blackburn/2002/'\"><td>5</td><td class=\"left paddingleft\">Blackburn</td><td>19</td><td>7</td><td>5</td><td>7</td><td>28</td><td>28</td><td>+0</td><td>26 pts</td><td class=\"center\"><img alt=\"W\" height=\"14px\" src=\"/images/w.png\" width=\"14px\"/><img alt=\"W\" height=\"14px\" src=\"/images/w.png\" width=\"14px\"/><img alt=\"L\" height=\"14px\" src=\"/images/l.png\" width=\"14px\"/><img alt=\"W\" height=\"14px\" src=\"/images/w.png\" width=\"14px\"/><img alt=\"L\" height=\"14px\" src=\"/images/l.png\" width=\"14px\"/></td></tr><tr class=\"odd\" onclick=\"window.location.href='/england/leeds/2002/'\"><td>6</td><td class=\"left paddingleft\">Leeds</td><td>19</td><td>7</td><td>2</td><td>10</td><td>33</td><td>31</td><td>+2</td><td>23 pts</td><td class=\"center\"><img alt=\"W\" height=\"14px\" src=\"/images/w.png\" width=\"14px\"/><img alt=\"L\" height=\"14px\" src=\"/images/l.png\" width=\"14px\"/><img alt=\"W\" height=\"14px\" src=\"/images/w.png\" width=\"14px\"/><img alt=\"L\" height=\"14px\" src=\"/images/l.png\" width=\"14px\"/><img alt=\"L\" height=\"14px\" src=\"/images/l.png\" width=\"14px\"/></td></tr><tr onclick=\"window.location.href='/england/newcastle/2002/'\"><td>7</td><td class=\"left paddingleft\">Newcastle</td><td>19</td><td>6</td><td>4</td><td>9</td><td>27</td><td>31</td><td>-4</td><td>22 pts</td><td class=\"center\"><img alt=\"D\" height=\"14px\" src=\"/images/d.png\" width=\"14px\"/><img alt=\"W\" height=\"14px\" src=\"/images/w.png\" width=\"14px\"/><img alt=\"L\" height=\"14px\" src=\"/images/l.png\" width=\"14px\"/><img alt=\"L\" height=\"14px\" src=\"/images/l.png\" width=\"14px\"/><img alt=\"W\" height=\"14px\" src=\"/images/w.png\" width=\"14px\"/></td></tr><tr class=\"odd\" onclick=\"window.location.href='/england/charlton-athletic/2002/'\"><td>8</td><td class=\"left paddingleft\">Charlton Athletic</td><td>19</td><td>6</td><td>4</td><td>9</td><td>19</td><td>26</td><td>-7</td><td>22 pts</td><td class=\"center\"><img alt=\"L\" height=\"14px\" src=\"/images/l.png\" width=\"14px\"/><img alt=\"L\" height=\"14px\" src=\"/images/l.png\" width=\"14px\"/><img alt=\"L\" height=\"14px\" src=\"/images/l.png\" width=\"14px\"/><img alt=\"D\" height=\"14px\" src=\"/images/d.png\" width=\"14px\"/><img alt=\"L\" height=\"14px\" src=\"/images/l.png\" width=\"14px\"/></td></tr><tr onclick=\"window.location.href='/england/manchester-city/2002/'\"><td>9</td><td class=\"left paddingleft\">Manchester City</td><td>19</td><td>6</td><td>4</td><td>9</td><td>19</td><td>28</td><td>-9</td><td>22 pts</td><td class=\"center\"><img alt=\"W\" height=\"14px\" src=\"/images/w.png\" width=\"14px\"/><img alt=\"W\" height=\"14px\" src=\"/images/w.png\" width=\"14px\"/><img alt=\"L\" height=\"14px\" src=\"/images/l.png\" width=\"14px\"/><img alt=\"L\" height=\"14px\" src=\"/images/l.png\" width=\"14px\"/><img alt=\"L\" height=\"14px\" src=\"/images/l.png\" width=\"14px\"/></td></tr><tr class=\"odd\" onclick=\"window.location.href='/england/everton/2002/'\"><td>10</td><td class=\"left paddingleft\">Everton</td><td>19</td><td>6</td><td>3</td><td>10</td><td>20</td><td>30</td><td>-10</td><td>21 pts</td><td class=\"center\"><img alt=\"L\" height=\"14px\" src=\"/images/l.png\" width=\"14px\"/><img alt=\"L\" height=\"14px\" src=\"/images/l.png\" width=\"14px\"/><img alt=\"W\" height=\"14px\" src=\"/images/w.png\" width=\"14px\"/><img alt=\"L\" height=\"14px\" src=\"/images/l.png\" width=\"14px\"/><img alt=\"D\" height=\"14px\" src=\"/images/d.png\" width=\"14px\"/></td></tr><tr onclick=\"window.location.href='/england/west-ham/2002/'\"><td>11</td><td class=\"left paddingleft\">West Ham</td><td>19</td><td>5</td><td>5</td><td>9</td><td>21</td><td>35</td><td>-14</td><td>20 pts</td><td class=\"center\"><img alt=\"D\" height=\"14px\" src=\"/images/d.png\" width=\"14px\"/><img alt=\"W\" height=\"14px\" src=\"/images/w.png\" width=\"14px\"/><img alt=\"L\" height=\"14px\" src=\"/images/l.png\" width=\"14px\"/><img alt=\"D\" height=\"14px\" src=\"/images/d.png\" width=\"14px\"/><img alt=\"D\" height=\"14px\" src=\"/images/d.png\" width=\"14px\"/></td></tr><tr class=\"odd\" onclick=\"window.location.href='/england/birmingham/2002/'\"><td>12</td><td class=\"left paddingleft\">Birmingham</td><td>19</td><td>5</td><td>4</td><td>10</td><td>16</td><td>26</td><td>-10</td><td>19 pts</td><td class=\"center\"><img alt=\"L\" height=\"14px\" src=\"/images/l.png\" width=\"14px\"/><img alt=\"W\" height=\"14px\" src=\"/images/w.png\" width=\"14px\"/><img alt=\"L\" height=\"14px\" src=\"/images/l.png\" width=\"14px\"/><img alt=\"L\" height=\"14px\" src=\"/images/l.png\" width=\"14px\"/><img alt=\"W\" height=\"14px\" src=\"/images/w.png\" width=\"14px\"/></td></tr><tr onclick=\"window.location.href='/england/tottenham/2002/'\"><td>13</td><td class=\"left paddingleft\">Tottenham</td><td>19</td><td>5</td><td>4</td><td>10</td><td>21</td><td>33</td><td>-12</td><td>19 pts</td><td class=\"center\"><img alt=\"L\" height=\"14px\" src=\"/images/l.png\" width=\"14px\"/><img alt=\"W\" height=\"14px\" src=\"/images/w.png\" width=\"14px\"/><img alt=\"D\" height=\"14px\" src=\"/images/d.png\" width=\"14px\"/><img alt=\"L\" height=\"14px\" src=\"/images/l.png\" width=\"14px\"/><img alt=\"L\" height=\"14px\" src=\"/images/l.png\" width=\"14px\"/></td></tr><tr class=\"odd\" onclick=\"window.location.href='/england/southampton/2002/'\"><td>14</td><td class=\"left paddingleft\">Southampton</td><td>19</td><td>4</td><td>5</td><td>10</td><td>18</td><td>30</td><td>-12</td><td>17 pts</td><td class=\"center\"><img alt=\"W\" height=\"14px\" src=\"/images/w.png\" width=\"14px\"/><img alt=\"L\" height=\"14px\" src=\"/images/l.png\" width=\"14px\"/><img alt=\"L\" height=\"14px\" src=\"/images/l.png\" width=\"14px\"/><img alt=\"L\" height=\"14px\" src=\"/images/l.png\" width=\"14px\"/><img alt=\"D\" height=\"14px\" src=\"/images/d.png\" width=\"14px\"/></td></tr><tr onclick=\"window.location.href='/england/bolton/2002/'\"><td>15</td><td class=\"left paddingleft\">Bolton</td><td>19</td><td>3</td><td>6</td><td>10</td><td>14</td><td>27</td><td>-13</td><td>15 pts</td><td class=\"center\"><img alt=\"D\" height=\"14px\" src=\"/images/d.png\" width=\"14px\"/><img alt=\"D\" height=\"14px\" src=\"/images/d.png\" width=\"14px\"/><img alt=\"L\" height=\"14px\" src=\"/images/l.png\" width=\"14px\"/><img alt=\"W\" height=\"14px\" src=\"/images/w.png\" width=\"14px\"/><img alt=\"L\" height=\"14px\" src=\"/images/l.png\" width=\"14px\"/></td></tr><tr class=\"odd\" onclick=\"window.location.href='/england/middlesbrough/2002/'\"><td>16</td><td class=\"left paddingleft\">Middlesbrough</td><td>19</td><td>3</td><td>3</td><td>13</td><td>12</td><td>23</td><td>-11</td><td>12 pts</td><td class=\"center\"><img alt=\"L\" height=\"14px\" src=\"/images/l.png\" width=\"14px\"/><img alt=\"L\" height=\"14px\" src=\"/images/l.png\" width=\"14px\"/><img alt=\"L\" height=\"14px\" src=\"/images/l.png\" width=\"14px\"/><img alt=\"D\" height=\"14px\" src=\"/images/d.png\" width=\"14px\"/><img alt=\"W\" height=\"14px\" src=\"/images/w.png\" width=\"14px\"/></td></tr><tr onclick=\"window.location.href='/england/fulham/2002/'\"><td>17</td><td class=\"left paddingleft\">Fulham</td><td>19</td><td>2</td><td>6</td><td>11</td><td>15</td><td>32</td><td>-17</td><td>12 pts</td><td class=\"center\"><img alt=\"W\" height=\"14px\" src=\"/images/w.png\" width=\"14px\"/><img alt=\"D\" height=\"14px\" src=\"/images/d.png\" width=\"14px\"/><img alt=\"L\" height=\"14px\" src=\"/images/l.png\" width=\"14px\"/><img alt=\"L\" height=\"14px\" src=\"/images/l.png\" width=\"14px\"/><img alt=\"L\" height=\"14px\" src=\"/images/l.png\" width=\"14px\"/></td></tr><tr class=\"odd\" onclick=\"window.location.href='/england/west-brom/2002/'\"><td>18</td><td class=\"left paddingleft\">West Brom</td><td>19</td><td>3</td><td>3</td><td>13</td><td>12</td><td>31</td><td>-19</td><td>12 pts</td><td class=\"center\"><img alt=\"D\" height=\"14px\" src=\"/images/d.png\" width=\"14px\"/><img alt=\"W\" height=\"14px\" src=\"/images/w.png\" width=\"14px\"/><img alt=\"L\" height=\"14px\" src=\"/images/l.png\" width=\"14px\"/><img alt=\"L\" height=\"14px\" src=\"/images/l.png\" width=\"14px\"/><img alt=\"L\" height=\"14px\" src=\"/images/l.png\" width=\"14px\"/></td></tr><tr onclick=\"window.location.href='/england/aston-villa/2002/'\"><td>19</td><td class=\"left paddingleft\">Aston Villa</td><td>19</td><td>1</td><td>7</td><td>11</td><td>17</td><td>33</td><td>-16</td><td>10 pts</td><td class=\"center\"><img alt=\"L\" height=\"14px\" src=\"/images/l.png\" width=\"14px\"/><img alt=\"L\" height=\"14px\" src=\"/images/l.png\" width=\"14px\"/><img alt=\"D\" height=\"14px\" src=\"/images/d.png\" width=\"14px\"/><img alt=\"D\" height=\"14px\" src=\"/images/d.png\" width=\"14px\"/><img alt=\"D\" height=\"14px\" src=\"/images/d.png\" width=\"14px\"/></td></tr><tr class=\"odd\" onclick=\"window.location.href='/england/sunderland/2002/'\"><td>20</td><td class=\"left paddingleft\">Sunderland</td><td>19</td><td>1</td><td>5</td><td>13</td><td>10</td><td>34</td><td>-24</td><td>8 pts</td><td class=\"center\"><img alt=\"L\" height=\"14px\" src=\"/images/l.png\" width=\"14px\"/><img alt=\"L\" height=\"14px\" src=\"/images/l.png\" width=\"14px\"/><img alt=\"L\" height=\"14px\" src=\"/images/l.png\" width=\"14px\"/><img alt=\"L\" height=\"14px\" src=\"/images/l.png\" width=\"14px\"/><img alt=\"L\" height=\"14px\" src=\"/images/l.png\" width=\"14px\"/></td></tr></table><div class=\"invisiblebox\"><p class=\"previous\">« <a href=\"/english-premier-league-tables/2001/\">2001/2002 Premier League tables</a></p><p class=\"next\"><a href=\"/english-premier-league-tables/2003/\">2003/2004 Premier League tables</a> »</p></div></div><div id=\"right\"><div class=\"boxnopadding\"><h2>Premier League 2002/2003</h2><table class=\"results\"><tr class=\"tablehead strong\"><td colspan=\"2\">2003-05-11</td></tr><tr class=\"tablehead strong\"><td colspan=\"2\">Premier League England</td></tr><tr><td>West Brom - Newcastle</td><td style=\"width:20px;\">2-2</td></tr><tr><td>Tottenham - Blackburn</td><td style=\"width:20px;\">0-4</td></tr><tr><td>Sunderland - Arsenal</td><td style=\"width:20px;\">0-4</td></tr><tr><td>Manchester City - Southampton</td><td style=\"width:20px;\">0-1</td></tr><tr><td>Leeds - Aston Villa</td><td style=\"width:20px;\">3-1</td></tr><tr><td>Everton - Manchester Unit</td><td style=\"width:20px;\">1-2</td></tr><tr><td>Chelsea - Liverpool</td><td style=\"width:20px;\">2-1</td></tr><tr><td>Charlton Athlet - Fulham</td><td style=\"width:20px;\">0-1</td></tr><tr><td>Bolton - Middlesbrough</td><td style=\"width:20px;\">2-1</td></tr><tr><td>Birmingham - West Ham</td><td style=\"width:20px;\">2-2</td></tr><tr class=\"tablehead strong\"><td colspan=\"2\">2003-05-07</td></tr><tr><td>Arsenal - Southampton</td><td style=\"width:20px;\">6-1</td></tr><tr class=\"tablehead strong\"><td colspan=\"2\">2003-05-04</td></tr><tr><td>Arsenal - Leeds</td><td style=\"width:20px;\">2-3</td></tr><tr class=\"tablehead strong\"><td colspan=\"2\">2003-05-03</td></tr><tr><td>West Ham - Chelsea</td><td style=\"width:20px;\">1-0</td></tr><tr><td>Southampton - Bolton</td><td style=\"width:20px;\">0-0</td></tr><tr><td>Newcastle - Birmingham</td><td style=\"width:20px;\">1-0</td></tr><tr><td>Middlesbrough - Tottenham</td><td style=\"width:20px;\">5-1</td></tr><tr><td>Manchester Unit - Charlton Athlet</td><td style=\"width:20px;\">4-1</td></tr><tr><td>Liverpool - Manchester City</td><td style=\"width:20px;\">1-2</td></tr><tr><td>Fulham - Everton</td><td style=\"width:20px;\">2-0</td></tr><tr><td>Blackburn - West Brom</td><td style=\"width:20px;\">1-1</td></tr></table>\n",
            "</div></div></div>\n",
            "<div id=\"left\">\n",
            "<div class=\"box\"><h3>Football Results</h3><ul><li><a href=\"/english-premier-league/\">Premier League results</a></li><ul><li><a href=\"/english-premier-league/2002/\">2002 Premier League results</a></li><li><strong>2002 Premier League tables</strong></li></ul></ul></div></div></div></body></html>\n",
            "<div class=\"invisiblebox center paddingleft\">\n",
            "<script type=\"text/javascript\"><!--\n",
            "google_ad_client = \"ca-pub-8130320560196838\";\n",
            "\n",
            "google_ad_slot = \"6053604059\";\n",
            "google_ad_width = 160;\n",
            "google_ad_height = 600;\n",
            "//-->\n",
            "</script>\n",
            "<script src=\"http://pagead2.googlesyndication.com/pagead/show_ads.js\" type=\"text/javascript\">\n",
            "</script>\n",
            "</div>\n",
            "\n",
            "\n",
            "<div id=\"footer\">\n",
            "<p>Copyright © 2011-2022 ResultDB.com<br/><a href=\"/privacy.php\">Privacy Policy</a></p>\n",
            "</div>\n",
            "<!-- Begin Cookie Consent plugin by Silktide - http://silktide.com/cookieconsent -->\n",
            "<script type=\"text/javascript\">\n",
            "    window.cookieconsent_options = {\"message\":\"This website uses cookies to ensure you get the best experience on our website\",\"dismiss\":\"Got it!\",\"learnMore\":\"More info\",\"link\":\"http://www.resultdb.com/privacy.php\",\"theme\":\"light-bottom\"};\n",
            "</script>\n",
            "<script src=\"//s3.amazonaws.com/cc.silktide.com/cookieconsent.latest.min.js\" type=\"text/javascript\"></script>\n",
            "<!-- End Cookie Consent plugin -->\n",
            "\n",
            "\n",
            "\n",
            "2003\n",
            "<!DOCTYPE html PUBLIC \"-//W3C//DTD XHTML 1.0 Strict//EN\"\n",
            "\"http://www.w3.org/TR/xhtml1/DTD/xhtml1-strict.dtd\">\n",
            "\n",
            "<html lang=\"en\" xml:lang=\"en\" xmlns=\"http://www.w3.org/1999/xhtml\">\n",
            "<head>\n",
            "<meta content=\"text/html; charset=utf-8\" http-equiv=\"Content-Type\"/>\n",
            "<meta content=\"width=device-width, initial-scale=1\" name=\"viewport\"/>\n",
            "<title>English Premier League 2003/2004 table - Result DB</title>\n",
            "<meta content=\"Premier League tables for the 2003/2004 season. Full table for the English Premier League 2003/2004 as well as home and away league tables. \" name=\"description\">\n",
            "<meta content=\"Premier League 2003/2004 table,Premier League table,2003/2004 table\" name=\"keywords\"/>\n",
            "<link href=\"/style.css\" rel=\"stylesheet\" type=\"text/css\"/>\n",
            "<link href=\"/images/favicon.ico\" rel=\"Shortcut Icon\"/>\n",
            "<script type=\"text/javascript\">\n",
            "\n",
            "  var _gaq = _gaq || [];\n",
            "  _gaq.push(['_setAccount', 'UA-23500708-1']);\n",
            "  _gaq.push(['_trackPageview']);\n",
            "\n",
            "  (function() {\n",
            "    var ga = document.createElement('script'); ga.type = 'text/javascript'; ga.async = true;\n",
            "    ga.src = ('https:' == document.location.protocol ? 'https://ssl' : 'http://www') + '.google-analytics.com/ga.js';\n",
            "    var s = document.getElementsByTagName('script')[0]; s.parentNode.insertBefore(ga, s);\n",
            "  })();\n",
            "\n",
            "</script>\n",
            "</meta></head>\n",
            "<body>\n",
            "<div id=\"container\">\n",
            "<div id=\"top\">\n",
            "<div id=\"logo\" onclick=\"window.location.href='/'\"><img alt=\"Result database logo\" height=\"45\" src=\"/images/logoimg.gif\" width=\"44\"/><h3>Result DB</h3><h4><a href=\"/\">Football results and statistics</a></h4></div>\n",
            "<div id=\"topbanner\">\n",
            "</div>\n",
            "<!--<div class=\"floatleft margintop\">\n",
            "    <g:plusone></g:plusone>\n",
            "    \n",
            "    <script type=\"text/javascript\">\n",
            "      (function() {\n",
            "        var po = document.createElement('script'); po.type = 'text/javascript'; po.async = true;\n",
            "        po.src = 'https://apis.google.com/js/plusone.js';\n",
            "        var s = document.getElementsByTagName('script')[0]; s.parentNode.insertBefore(po, s);\n",
            "      })();\n",
            "    </script>\n",
            "    </div>-->\n",
            "</div>\n",
            "<div id=\"topmenu\"></div>\n",
            "<div id=\"main\">\n",
            "<div class=\"box\" id=\"middle\">\n",
            "<h1>English Premier League 2003/2004 Table</h1>\n",
            "<script async=\"\" src=\"//pagead2.googlesyndication.com/pagead/js/adsbygoogle.js\"></script>\n",
            "<!-- RDB Middle Responsive -->\n",
            "<ins class=\"adsbygoogle\" data-ad-client=\"ca-pub-8130320560196838\" data-ad-format=\"auto\" data-ad-slot=\"8388870624\" style=\"display:block\"></ins>\n",
            "<script>\n",
            "(adsbygoogle = window.adsbygoogle || []).push({});\n",
            "</script><h2>Total 2003/2004 Premier League Table</h2><table class=\"table\"><tr class=\"tablehead\"><th>#</th><th class=\"left paddingleft\">Team Name</th><th>P</th><th>W</th><th>D</th><th>L</th><th>GS</th><th>GA</th><th>GD</th><th>Points</th><th class=\"center\">Form</th></tr><tr onclick=\"window.location.href='/england/arsenal/2003/'\"><td>1</td><td class=\"left paddingleft\">Arsenal</td><td>38</td><td>26</td><td>12</td><td>0</td><td>73</td><td>26</td><td>+47</td><td>90 pts</td><td class=\"center\"><img alt=\"W\" height=\"14px\" src=\"/images/w.png\" width=\"14px\"/><img alt=\"W\" height=\"14px\" src=\"/images/w.png\" width=\"14px\"/><img alt=\"D\" height=\"14px\" src=\"/images/d.png\" width=\"14px\"/><img alt=\"D\" height=\"14px\" src=\"/images/d.png\" width=\"14px\"/><img alt=\"D\" height=\"14px\" src=\"/images/d.png\" width=\"14px\"/></td></tr><tr class=\"odd\" onclick=\"window.location.href='/england/chelsea/2003/'\"><td>2</td><td class=\"left paddingleft\">Chelsea</td><td>38</td><td>24</td><td>7</td><td>7</td><td>67</td><td>30</td><td>+37</td><td>79 pts</td><td class=\"center\"><img alt=\"W\" height=\"14px\" src=\"/images/w.png\" width=\"14px\"/><img alt=\"D\" height=\"14px\" src=\"/images/d.png\" width=\"14px\"/><img alt=\"W\" height=\"14px\" src=\"/images/w.png\" width=\"14px\"/><img alt=\"L\" height=\"14px\" src=\"/images/l.png\" width=\"14px\"/><img alt=\"D\" height=\"14px\" src=\"/images/d.png\" width=\"14px\"/></td></tr><tr onclick=\"window.location.href='/england/manchester-united/2003/'\"><td>3</td><td class=\"left paddingleft\">Manchester United</td><td>38</td><td>23</td><td>6</td><td>9</td><td>64</td><td>35</td><td>+29</td><td>75 pts</td><td class=\"center\"><img alt=\"W\" height=\"14px\" src=\"/images/w.png\" width=\"14px\"/><img alt=\"D\" height=\"14px\" src=\"/images/d.png\" width=\"14px\"/><img alt=\"L\" height=\"14px\" src=\"/images/l.png\" width=\"14px\"/><img alt=\"L\" height=\"14px\" src=\"/images/l.png\" width=\"14px\"/><img alt=\"W\" height=\"14px\" src=\"/images/w.png\" width=\"14px\"/></td></tr><tr class=\"odd\" onclick=\"window.location.href='/england/liverpool/2003/'\"><td>4</td><td class=\"left paddingleft\">Liverpool</td><td>38</td><td>16</td><td>12</td><td>10</td><td>55</td><td>37</td><td>+18</td><td>60 pts</td><td class=\"center\"><img alt=\"D\" height=\"14px\" src=\"/images/d.png\" width=\"14px\"/><img alt=\"W\" height=\"14px\" src=\"/images/w.png\" width=\"14px\"/><img alt=\"W\" height=\"14px\" src=\"/images/w.png\" width=\"14px\"/><img alt=\"W\" height=\"14px\" src=\"/images/w.png\" width=\"14px\"/><img alt=\"D\" height=\"14px\" src=\"/images/d.png\" width=\"14px\"/></td></tr><tr onclick=\"window.location.href='/england/newcastle/2003/'\"><td>5</td><td class=\"left paddingleft\">Newcastle</td><td>38</td><td>13</td><td>17</td><td>8</td><td>52</td><td>40</td><td>+12</td><td>56 pts</td><td class=\"center\"><img alt=\"D\" height=\"14px\" src=\"/images/d.png\" width=\"14px\"/><img alt=\"D\" height=\"14px\" src=\"/images/d.png\" width=\"14px\"/><img alt=\"D\" height=\"14px\" src=\"/images/d.png\" width=\"14px\"/><img alt=\"L\" height=\"14px\" src=\"/images/l.png\" width=\"14px\"/><img alt=\"W\" height=\"14px\" src=\"/images/w.png\" width=\"14px\"/></td></tr><tr class=\"odd\" onclick=\"window.location.href='/england/aston-villa/2003/'\"><td>6</td><td class=\"left paddingleft\">Aston Villa</td><td>38</td><td>15</td><td>11</td><td>12</td><td>48</td><td>44</td><td>+4</td><td>56 pts</td><td class=\"center\"><img alt=\"L\" height=\"14px\" src=\"/images/l.png\" width=\"14px\"/><img alt=\"D\" height=\"14px\" src=\"/images/d.png\" width=\"14px\"/><img alt=\"W\" height=\"14px\" src=\"/images/w.png\" width=\"14px\"/><img alt=\"W\" height=\"14px\" src=\"/images/w.png\" width=\"14px\"/><img alt=\"D\" height=\"14px\" src=\"/images/d.png\" width=\"14px\"/></td></tr><tr onclick=\"window.location.href='/england/charlton-athletic/2003/'\"><td>7</td><td class=\"left paddingleft\">Charlton Athletic</td><td>38</td><td>14</td><td>11</td><td>13</td><td>51</td><td>51</td><td>+0</td><td>53 pts</td><td class=\"center\"><img alt=\"W\" height=\"14px\" src=\"/images/w.png\" width=\"14px\"/><img alt=\"D\" height=\"14px\" src=\"/images/d.png\" width=\"14px\"/><img alt=\"D\" height=\"14px\" src=\"/images/d.png\" width=\"14px\"/><img alt=\"L\" height=\"14px\" src=\"/images/l.png\" width=\"14px\"/><img alt=\"L\" height=\"14px\" src=\"/images/l.png\" width=\"14px\"/></td></tr><tr class=\"odd\" onclick=\"window.location.href='/england/bolton/2003/'\"><td>8</td><td class=\"left paddingleft\">Bolton</td><td>38</td><td>14</td><td>11</td><td>13</td><td>48</td><td>56</td><td>-8</td><td>53 pts</td><td class=\"center\"><img alt=\"L\" height=\"14px\" src=\"/images/l.png\" width=\"14px\"/><img alt=\"W\" height=\"14px\" src=\"/images/w.png\" width=\"14px\"/><img alt=\"W\" height=\"14px\" src=\"/images/w.png\" width=\"14px\"/><img alt=\"W\" height=\"14px\" src=\"/images/w.png\" width=\"14px\"/><img alt=\"W\" height=\"14px\" src=\"/images/w.png\" width=\"14px\"/></td></tr><tr onclick=\"window.location.href='/england/fulham/2003/'\"><td>9</td><td class=\"left paddingleft\">Fulham</td><td>38</td><td>14</td><td>10</td><td>14</td><td>52</td><td>46</td><td>+6</td><td>52 pts</td><td class=\"center\"><img alt=\"W\" height=\"14px\" src=\"/images/w.png\" width=\"14px\"/><img alt=\"L\" height=\"14px\" src=\"/images/l.png\" width=\"14px\"/><img alt=\"D\" height=\"14px\" src=\"/images/d.png\" width=\"14px\"/><img alt=\"W\" height=\"14px\" src=\"/images/w.png\" width=\"14px\"/><img alt=\"D\" height=\"14px\" src=\"/images/d.png\" width=\"14px\"/></td></tr><tr class=\"odd\" onclick=\"window.location.href='/england/birmingham/2003/'\"><td>10</td><td class=\"left paddingleft\">Birmingham</td><td>38</td><td>12</td><td>14</td><td>12</td><td>43</td><td>48</td><td>-5</td><td>50 pts</td><td class=\"center\"><img alt=\"D\" height=\"14px\" src=\"/images/d.png\" width=\"14px\"/><img alt=\"L\" height=\"14px\" src=\"/images/l.png\" width=\"14px\"/><img alt=\"D\" height=\"14px\" src=\"/images/d.png\" width=\"14px\"/><img alt=\"D\" height=\"14px\" src=\"/images/d.png\" width=\"14px\"/><img alt=\"D\" height=\"14px\" src=\"/images/d.png\" width=\"14px\"/></td></tr><tr onclick=\"window.location.href='/england/middlesbrough/2003/'\"><td>11</td><td class=\"left paddingleft\">Middlesbrough</td><td>38</td><td>13</td><td>9</td><td>16</td><td>44</td><td>52</td><td>-8</td><td>48 pts</td><td class=\"center\"><img alt=\"L\" height=\"14px\" src=\"/images/l.png\" width=\"14px\"/><img alt=\"W\" height=\"14px\" src=\"/images/w.png\" width=\"14px\"/><img alt=\"L\" height=\"14px\" src=\"/images/l.png\" width=\"14px\"/><img alt=\"L\" height=\"14px\" src=\"/images/l.png\" width=\"14px\"/><img alt=\"L\" height=\"14px\" src=\"/images/l.png\" width=\"14px\"/></td></tr><tr class=\"odd\" onclick=\"window.location.href='/england/southampton/2003/'\"><td>12</td><td class=\"left paddingleft\">Southampton</td><td>38</td><td>12</td><td>11</td><td>15</td><td>44</td><td>45</td><td>-1</td><td>47 pts</td><td class=\"center\"><img alt=\"L\" height=\"14px\" src=\"/images/l.png\" width=\"14px\"/><img alt=\"D\" height=\"14px\" src=\"/images/d.png\" width=\"14px\"/><img alt=\"D\" height=\"14px\" src=\"/images/d.png\" width=\"14px\"/><img alt=\"L\" height=\"14px\" src=\"/images/l.png\" width=\"14px\"/><img alt=\"L\" height=\"14px\" src=\"/images/l.png\" width=\"14px\"/></td></tr><tr onclick=\"window.location.href='/england/portsmouth/2003/'\"><td>13</td><td class=\"left paddingleft\">Portsmouth</td><td>38</td><td>12</td><td>9</td><td>17</td><td>47</td><td>54</td><td>-7</td><td>45 pts</td><td class=\"center\"><img alt=\"W\" height=\"14px\" src=\"/images/w.png\" width=\"14px\"/><img alt=\"L\" height=\"14px\" src=\"/images/l.png\" width=\"14px\"/><img alt=\"D\" height=\"14px\" src=\"/images/d.png\" width=\"14px\"/><img alt=\"D\" height=\"14px\" src=\"/images/d.png\" width=\"14px\"/><img alt=\"W\" height=\"14px\" src=\"/images/w.png\" width=\"14px\"/></td></tr><tr class=\"odd\" onclick=\"window.location.href='/england/tottenham/2003/'\"><td>14</td><td class=\"left paddingleft\">Tottenham</td><td>38</td><td>13</td><td>6</td><td>19</td><td>47</td><td>57</td><td>-10</td><td>45 pts</td><td class=\"center\"><img alt=\"W\" height=\"14px\" src=\"/images/w.png\" width=\"14px\"/><img alt=\"W\" height=\"14px\" src=\"/images/w.png\" width=\"14px\"/><img alt=\"L\" height=\"14px\" src=\"/images/l.png\" width=\"14px\"/><img alt=\"D\" height=\"14px\" src=\"/images/d.png\" width=\"14px\"/><img alt=\"L\" height=\"14px\" src=\"/images/l.png\" width=\"14px\"/></td></tr><tr onclick=\"window.location.href='/england/blackburn/2003/'\"><td>15</td><td class=\"left paddingleft\">Blackburn</td><td>38</td><td>12</td><td>8</td><td>18</td><td>51</td><td>59</td><td>-8</td><td>44 pts</td><td class=\"center\"><img alt=\"D\" height=\"14px\" src=\"/images/d.png\" width=\"14px\"/><img alt=\"L\" height=\"14px\" src=\"/images/l.png\" width=\"14px\"/><img alt=\"W\" height=\"14px\" src=\"/images/w.png\" width=\"14px\"/><img alt=\"W\" height=\"14px\" src=\"/images/w.png\" width=\"14px\"/><img alt=\"W\" height=\"14px\" src=\"/images/w.png\" width=\"14px\"/></td></tr><tr class=\"odd\" onclick=\"window.location.href='/england/manchester-city/2003/'\"><td>16</td><td class=\"left paddingleft\">Manchester City</td><td>38</td><td>9</td><td>14</td><td>15</td><td>55</td><td>54</td><td>+1</td><td>41 pts</td><td class=\"center\"><img alt=\"W\" height=\"14px\" src=\"/images/w.png\" width=\"14px\"/><img alt=\"L\" height=\"14px\" src=\"/images/l.png\" width=\"14px\"/><img alt=\"W\" height=\"14px\" src=\"/images/w.png\" width=\"14px\"/><img alt=\"D\" height=\"14px\" src=\"/images/d.png\" width=\"14px\"/><img alt=\"L\" height=\"14px\" src=\"/images/l.png\" width=\"14px\"/></td></tr><tr onclick=\"window.location.href='/england/everton/2003/'\"><td>17</td><td class=\"left paddingleft\">Everton</td><td>38</td><td>9</td><td>12</td><td>17</td><td>45</td><td>57</td><td>-12</td><td>39 pts</td><td class=\"center\"><img alt=\"L\" height=\"14px\" src=\"/images/l.png\" width=\"14px\"/><img alt=\"L\" height=\"14px\" src=\"/images/l.png\" width=\"14px\"/><img alt=\"L\" height=\"14px\" src=\"/images/l.png\" width=\"14px\"/><img alt=\"L\" height=\"14px\" src=\"/images/l.png\" width=\"14px\"/><img alt=\"D\" height=\"14px\" src=\"/images/d.png\" width=\"14px\"/></td></tr><tr class=\"odd\" onclick=\"window.location.href='/england/leicester-city/2003/'\"><td>18</td><td class=\"left paddingleft\">Leicester City</td><td>38</td><td>6</td><td>15</td><td>17</td><td>48</td><td>65</td><td>-17</td><td>33 pts</td><td class=\"center\"><img alt=\"L\" height=\"14px\" src=\"/images/l.png\" width=\"14px\"/><img alt=\"W\" height=\"14px\" src=\"/images/w.png\" width=\"14px\"/><img alt=\"D\" height=\"14px\" src=\"/images/d.png\" width=\"14px\"/><img alt=\"D\" height=\"14px\" src=\"/images/d.png\" width=\"14px\"/><img alt=\"L\" height=\"14px\" src=\"/images/l.png\" width=\"14px\"/></td></tr><tr onclick=\"window.location.href='/england/leeds/2003/'\"><td>19</td><td class=\"left paddingleft\">Leeds</td><td>38</td><td>8</td><td>9</td><td>21</td><td>40</td><td>79</td><td>-39</td><td>33 pts</td><td class=\"center\"><img alt=\"L\" height=\"14px\" src=\"/images/l.png\" width=\"14px\"/><img alt=\"D\" height=\"14px\" src=\"/images/d.png\" width=\"14px\"/><img alt=\"L\" height=\"14px\" src=\"/images/l.png\" width=\"14px\"/><img alt=\"L\" height=\"14px\" src=\"/images/l.png\" width=\"14px\"/><img alt=\"L\" height=\"14px\" src=\"/images/l.png\" width=\"14px\"/></td></tr><tr class=\"odd\" onclick=\"window.location.href='/england/wolverhampton/2003/'\"><td>20</td><td class=\"left paddingleft\">Wolverhampton</td><td>38</td><td>7</td><td>12</td><td>19</td><td>38</td><td>77</td><td>-39</td><td>33 pts</td><td class=\"center\"><img alt=\"L\" height=\"14px\" src=\"/images/l.png\" width=\"14px\"/><img alt=\"D\" height=\"14px\" src=\"/images/d.png\" width=\"14px\"/><img alt=\"W\" height=\"14px\" src=\"/images/w.png\" width=\"14px\"/><img alt=\"D\" height=\"14px\" src=\"/images/d.png\" width=\"14px\"/><img alt=\"W\" height=\"14px\" src=\"/images/w.png\" width=\"14px\"/></td></tr></table><h2>Home Table</h2><table class=\"table\"><tr class=\"tablehead\"><th>#</th><th class=\"left paddingleft\">Team Name</th><th>P</th><th>W</th><th>D</th><th>L</th><th>GS</th><th>GA</th><th>GD</th><th>Points</th><th class=\"center\">Form</th></tr><tr onclick=\"window.location.href='/england/arsenal/2003/'\"><td>1</td><td class=\"left paddingleft\">Arsenal</td><td>19</td><td>15</td><td>4</td><td>0</td><td>40</td><td>14</td><td>+26</td><td>49 pts</td><td class=\"center\"><img alt=\"W\" height=\"14px\" src=\"/images/w.png\" width=\"14px\"/><img alt=\"D\" height=\"14px\" src=\"/images/d.png\" width=\"14px\"/><img alt=\"W\" height=\"14px\" src=\"/images/w.png\" width=\"14px\"/><img alt=\"W\" height=\"14px\" src=\"/images/w.png\" width=\"14px\"/><img alt=\"D\" height=\"14px\" src=\"/images/d.png\" width=\"14px\"/></td></tr><tr class=\"odd\" onclick=\"window.location.href='/england/manchester-united/2003/'\"><td>2</td><td class=\"left paddingleft\">Manchester United</td><td>19</td><td>12</td><td>4</td><td>3</td><td>37</td><td>15</td><td>+22</td><td>40 pts</td><td class=\"center\"><img alt=\"D\" height=\"14px\" src=\"/images/d.png\" width=\"14px\"/><img alt=\"L\" height=\"14px\" src=\"/images/l.png\" width=\"14px\"/><img alt=\"W\" height=\"14px\" src=\"/images/w.png\" width=\"14px\"/><img alt=\"W\" height=\"14px\" src=\"/images/w.png\" width=\"14px\"/><img alt=\"W\" height=\"14px\" src=\"/images/w.png\" width=\"14px\"/></td></tr><tr onclick=\"window.location.href='/england/chelsea/2003/'\"><td>3</td><td class=\"left paddingleft\">Chelsea</td><td>19</td><td>12</td><td>4</td><td>3</td><td>34</td><td>13</td><td>+21</td><td>40 pts</td><td class=\"center\"><img alt=\"W\" height=\"14px\" src=\"/images/w.png\" width=\"14px\"/><img alt=\"W\" height=\"14px\" src=\"/images/w.png\" width=\"14px\"/><img alt=\"D\" height=\"14px\" src=\"/images/d.png\" width=\"14px\"/><img alt=\"D\" height=\"14px\" src=\"/images/d.png\" width=\"14px\"/><img alt=\"W\" height=\"14px\" src=\"/images/w.png\" width=\"14px\"/></td></tr><tr class=\"odd\" onclick=\"window.location.href='/england/newcastle/2003/'\"><td>4</td><td class=\"left paddingleft\">Newcastle</td><td>19</td><td>11</td><td>5</td><td>3</td><td>33</td><td>14</td><td>+19</td><td>38 pts</td><td class=\"center\"><img alt=\"D\" height=\"14px\" src=\"/images/d.png\" width=\"14px\"/><img alt=\"W\" height=\"14px\" src=\"/images/w.png\" width=\"14px\"/><img alt=\"D\" height=\"14px\" src=\"/images/d.png\" width=\"14px\"/><img alt=\"W\" height=\"14px\" src=\"/images/w.png\" width=\"14px\"/><img alt=\"W\" height=\"14px\" src=\"/images/w.png\" width=\"14px\"/></td></tr><tr onclick=\"window.location.href='/england/portsmouth/2003/'\"><td>5</td><td class=\"left paddingleft\">Portsmouth</td><td>19</td><td>10</td><td>4</td><td>5</td><td>35</td><td>19</td><td>+16</td><td>34 pts</td><td class=\"center\"><img alt=\"W\" height=\"14px\" src=\"/images/w.png\" width=\"14px\"/><img alt=\"D\" height=\"14px\" src=\"/images/d.png\" width=\"14px\"/><img alt=\"D\" height=\"14px\" src=\"/images/d.png\" width=\"14px\"/><img alt=\"W\" height=\"14px\" src=\"/images/w.png\" width=\"14px\"/><img alt=\"W\" height=\"14px\" src=\"/images/w.png\" width=\"14px\"/></td></tr><tr class=\"odd\" onclick=\"window.location.href='/england/liverpool/2003/'\"><td>6</td><td class=\"left paddingleft\">Liverpool</td><td>19</td><td>10</td><td>4</td><td>5</td><td>29</td><td>15</td><td>+14</td><td>34 pts</td><td class=\"center\"><img alt=\"D\" height=\"14px\" src=\"/images/d.png\" width=\"14px\"/><img alt=\"W\" height=\"14px\" src=\"/images/w.png\" width=\"14px\"/><img alt=\"D\" height=\"14px\" src=\"/images/d.png\" width=\"14px\"/><img alt=\"L\" height=\"14px\" src=\"/images/l.png\" width=\"14px\"/><img alt=\"W\" height=\"14px\" src=\"/images/w.png\" width=\"14px\"/></td></tr><tr onclick=\"window.location.href='/england/aston-villa/2003/'\"><td>7</td><td class=\"left paddingleft\">Aston Villa</td><td>19</td><td>9</td><td>6</td><td>4</td><td>24</td><td>19</td><td>+5</td><td>33 pts</td><td class=\"center\"><img alt=\"L\" height=\"14px\" src=\"/images/l.png\" width=\"14px\"/><img alt=\"W\" height=\"14px\" src=\"/images/w.png\" width=\"14px\"/><img alt=\"D\" height=\"14px\" src=\"/images/d.png\" width=\"14px\"/><img alt=\"W\" height=\"14px\" src=\"/images/w.png\" width=\"14px\"/><img alt=\"D\" height=\"14px\" src=\"/images/d.png\" width=\"14px\"/></td></tr><tr class=\"odd\" onclick=\"window.location.href='/england/fulham/2003/'\"><td>8</td><td class=\"left paddingleft\">Fulham</td><td>19</td><td>9</td><td>4</td><td>6</td><td>29</td><td>21</td><td>+8</td><td>31 pts</td><td class=\"center\"><img alt=\"L\" height=\"14px\" src=\"/images/l.png\" width=\"14px\"/><img alt=\"W\" height=\"14px\" src=\"/images/w.png\" width=\"14px\"/><img alt=\"L\" height=\"14px\" src=\"/images/l.png\" width=\"14px\"/><img alt=\"D\" height=\"14px\" src=\"/images/d.png\" width=\"14px\"/><img alt=\"W\" height=\"14px\" src=\"/images/w.png\" width=\"14px\"/></td></tr><tr onclick=\"window.location.href='/england/tottenham/2003/'\"><td>9</td><td class=\"left paddingleft\">Tottenham</td><td>19</td><td>9</td><td>4</td><td>6</td><td>33</td><td>27</td><td>+6</td><td>31 pts</td><td class=\"center\"><img alt=\"W\" height=\"14px\" src=\"/images/w.png\" width=\"14px\"/><img alt=\"D\" height=\"14px\" src=\"/images/d.png\" width=\"14px\"/><img alt=\"D\" height=\"14px\" src=\"/images/d.png\" width=\"14px\"/><img alt=\"L\" height=\"14px\" src=\"/images/l.png\" width=\"14px\"/><img alt=\"W\" height=\"14px\" src=\"/images/w.png\" width=\"14px\"/></td></tr><tr class=\"odd\" onclick=\"window.location.href='/england/southampton/2003/'\"><td>10</td><td class=\"left paddingleft\">Southampton</td><td>19</td><td>8</td><td>6</td><td>5</td><td>24</td><td>17</td><td>+7</td><td>30 pts</td><td class=\"center\"><img alt=\"D\" height=\"14px\" src=\"/images/d.png\" width=\"14px\"/><img alt=\"D\" height=\"14px\" src=\"/images/d.png\" width=\"14px\"/><img alt=\"L\" height=\"14px\" src=\"/images/l.png\" width=\"14px\"/><img alt=\"W\" height=\"14px\" src=\"/images/w.png\" width=\"14px\"/><img alt=\"W\" height=\"14px\" src=\"/images/w.png\" width=\"14px\"/></td></tr><tr onclick=\"window.location.href='/england/everton/2003/'\"><td>11</td><td class=\"left paddingleft\">Everton</td><td>19</td><td>8</td><td>5</td><td>6</td><td>27</td><td>20</td><td>+7</td><td>29 pts</td><td class=\"center\"><img alt=\"L\" height=\"14px\" src=\"/images/l.png\" width=\"14px\"/><img alt=\"L\" height=\"14px\" src=\"/images/l.png\" width=\"14px\"/><img alt=\"W\" height=\"14px\" src=\"/images/w.png\" width=\"14px\"/><img alt=\"D\" height=\"14px\" src=\"/images/d.png\" width=\"14px\"/><img alt=\"W\" height=\"14px\" src=\"/images/w.png\" width=\"14px\"/></td></tr><tr class=\"odd\" onclick=\"window.location.href='/england/birmingham/2003/'\"><td>12</td><td class=\"left paddingleft\">Birmingham</td><td>19</td><td>8</td><td>5</td><td>6</td><td>26</td><td>24</td><td>+2</td><td>29 pts</td><td class=\"center\"><img alt=\"L\" height=\"14px\" src=\"/images/l.png\" width=\"14px\"/><img alt=\"D\" height=\"14px\" src=\"/images/d.png\" width=\"14px\"/><img alt=\"L\" height=\"14px\" src=\"/images/l.png\" width=\"14px\"/><img alt=\"W\" height=\"14px\" src=\"/images/w.png\" width=\"14px\"/><img alt=\"L\" height=\"14px\" src=\"/images/l.png\" width=\"14px\"/></td></tr><tr onclick=\"window.location.href='/england/middlesbrough/2003/'\"><td>13</td><td class=\"left paddingleft\">Middlesbrough</td><td>19</td><td>8</td><td>4</td><td>7</td><td>25</td><td>23</td><td>+2</td><td>28 pts</td><td class=\"center\"><img alt=\"W\" height=\"14px\" src=\"/images/w.png\" width=\"14px\"/><img alt=\"L\" height=\"14px\" src=\"/images/l.png\" width=\"14px\"/><img alt=\"W\" height=\"14px\" src=\"/images/w.png\" width=\"14px\"/><img alt=\"W\" height=\"14px\" src=\"/images/w.png\" width=\"14px\"/><img alt=\"W\" height=\"14px\" src=\"/images/w.png\" width=\"14px\"/></td></tr><tr class=\"odd\" onclick=\"window.location.href='/england/charlton-athletic/2003/'\"><td>14</td><td class=\"left paddingleft\">Charlton Athletic</td><td>19</td><td>7</td><td>6</td><td>6</td><td>29</td><td>29</td><td>+0</td><td>27 pts</td><td class=\"center\"><img alt=\"W\" height=\"14px\" src=\"/images/w.png\" width=\"14px\"/><img alt=\"D\" height=\"14px\" src=\"/images/d.png\" width=\"14px\"/><img alt=\"D\" height=\"14px\" src=\"/images/d.png\" width=\"14px\"/><img alt=\"D\" height=\"14px\" src=\"/images/d.png\" width=\"14px\"/><img alt=\"L\" height=\"14px\" src=\"/images/l.png\" width=\"14px\"/></td></tr><tr onclick=\"window.location.href='/england/bolton/2003/'\"><td>15</td><td class=\"left paddingleft\">Bolton</td><td>19</td><td>6</td><td>8</td><td>5</td><td>24</td><td>21</td><td>+3</td><td>26 pts</td><td class=\"center\"><img alt=\"L\" height=\"14px\" src=\"/images/l.png\" width=\"14px\"/><img alt=\"W\" height=\"14px\" src=\"/images/w.png\" width=\"14px\"/><img alt=\"W\" height=\"14px\" src=\"/images/w.png\" width=\"14px\"/><img alt=\"D\" height=\"14px\" src=\"/images/d.png\" width=\"14px\"/><img alt=\"W\" height=\"14px\" src=\"/images/w.png\" width=\"14px\"/></td></tr><tr class=\"odd\" onclick=\"window.location.href='/england/wolverhampton/2003/'\"><td>16</td><td class=\"left paddingleft\">Wolverhampton</td><td>19</td><td>7</td><td>5</td><td>7</td><td>23</td><td>35</td><td>-12</td><td>26 pts</td><td class=\"center\"><img alt=\"L\" height=\"14px\" src=\"/images/l.png\" width=\"14px\"/><img alt=\"W\" height=\"14px\" src=\"/images/w.png\" width=\"14px\"/><img alt=\"W\" height=\"14px\" src=\"/images/w.png\" width=\"14px\"/><img alt=\"L\" height=\"14px\" src=\"/images/l.png\" width=\"14px\"/><img alt=\"L\" height=\"14px\" src=\"/images/l.png\" width=\"14px\"/></td></tr><tr onclick=\"window.location.href='/england/manchester-city/2003/'\"><td>17</td><td class=\"left paddingleft\">Manchester City</td><td>19</td><td>5</td><td>9</td><td>5</td><td>31</td><td>24</td><td>+7</td><td>24 pts</td><td class=\"center\"><img alt=\"W\" height=\"14px\" src=\"/images/w.png\" width=\"14px\"/><img alt=\"W\" height=\"14px\" src=\"/images/w.png\" width=\"14px\"/><img alt=\"L\" height=\"14px\" src=\"/images/l.png\" width=\"14px\"/><img alt=\"D\" height=\"14px\" src=\"/images/d.png\" width=\"14px\"/><img alt=\"D\" height=\"14px\" src=\"/images/d.png\" width=\"14px\"/></td></tr><tr class=\"odd\" onclick=\"window.location.href='/england/leeds/2003/'\"><td>18</td><td class=\"left paddingleft\">Leeds</td><td>19</td><td>5</td><td>7</td><td>7</td><td>25</td><td>31</td><td>-6</td><td>22 pts</td><td class=\"center\"><img alt=\"D\" height=\"14px\" src=\"/images/d.png\" width=\"14px\"/><img alt=\"L\" height=\"14px\" src=\"/images/l.png\" width=\"14px\"/><img alt=\"D\" height=\"14px\" src=\"/images/d.png\" width=\"14px\"/><img alt=\"W\" height=\"14px\" src=\"/images/w.png\" width=\"14px\"/><img alt=\"W\" height=\"14px\" src=\"/images/w.png\" width=\"14px\"/></td></tr><tr onclick=\"window.location.href='/england/blackburn/2003/'\"><td>19</td><td class=\"left paddingleft\">Blackburn</td><td>19</td><td>5</td><td>4</td><td>10</td><td>25</td><td>31</td><td>-6</td><td>19 pts</td><td class=\"center\"><img alt=\"D\" height=\"14px\" src=\"/images/d.png\" width=\"14px\"/><img alt=\"W\" height=\"14px\" src=\"/images/w.png\" width=\"14px\"/><img alt=\"W\" height=\"14px\" src=\"/images/w.png\" width=\"14px\"/><img alt=\"L\" height=\"14px\" src=\"/images/l.png\" width=\"14px\"/><img alt=\"L\" height=\"14px\" src=\"/images/l.png\" width=\"14px\"/></td></tr><tr class=\"odd\" onclick=\"window.location.href='/england/leicester-city/2003/'\"><td>20</td><td class=\"left paddingleft\">Leicester City</td><td>19</td><td>3</td><td>10</td><td>6</td><td>19</td><td>28</td><td>-9</td><td>19 pts</td><td class=\"center\"><img alt=\"W\" height=\"14px\" src=\"/images/w.png\" width=\"14px\"/><img alt=\"D\" height=\"14px\" src=\"/images/d.png\" width=\"14px\"/><img alt=\"L\" height=\"14px\" src=\"/images/l.png\" width=\"14px\"/><img alt=\"D\" height=\"14px\" src=\"/images/d.png\" width=\"14px\"/><img alt=\"D\" height=\"14px\" src=\"/images/d.png\" width=\"14px\"/></td></tr></table><h2>Away Table</h2><table class=\"table\"><tr class=\"tablehead\"><th>#</th><th class=\"left paddingleft\">Team Name</th><th>P</th><th>W</th><th>D</th><th>L</th><th>GS</th><th>GA</th><th>GD</th><th>Points</th><th class=\"center\">Form</th></tr><tr onclick=\"window.location.href='/england/arsenal/2003/'\"><td>1</td><td class=\"left paddingleft\">Arsenal</td><td>19</td><td>11</td><td>8</td><td>0</td><td>33</td><td>12</td><td>+21</td><td>41 pts</td><td class=\"center\"><img alt=\"W\" height=\"14px\" src=\"/images/w.png\" width=\"14px\"/><img alt=\"D\" height=\"14px\" src=\"/images/d.png\" width=\"14px\"/><img alt=\"D\" height=\"14px\" src=\"/images/d.png\" width=\"14px\"/><img alt=\"D\" height=\"14px\" src=\"/images/d.png\" width=\"14px\"/><img alt=\"W\" height=\"14px\" src=\"/images/w.png\" width=\"14px\"/></td></tr><tr class=\"odd\" onclick=\"window.location.href='/england/chelsea/2003/'\"><td>2</td><td class=\"left paddingleft\">Chelsea</td><td>19</td><td>12</td><td>3</td><td>4</td><td>33</td><td>17</td><td>+16</td><td>39 pts</td><td class=\"center\"><img alt=\"D\" height=\"14px\" src=\"/images/d.png\" width=\"14px\"/><img alt=\"L\" height=\"14px\" src=\"/images/l.png\" width=\"14px\"/><img alt=\"L\" height=\"14px\" src=\"/images/l.png\" width=\"14px\"/><img alt=\"W\" height=\"14px\" src=\"/images/w.png\" width=\"14px\"/><img alt=\"W\" height=\"14px\" src=\"/images/w.png\" width=\"14px\"/></td></tr><tr onclick=\"window.location.href='/england/manchester-united/2003/'\"><td>3</td><td class=\"left paddingleft\">Manchester United</td><td>19</td><td>11</td><td>2</td><td>6</td><td>27</td><td>20</td><td>+7</td><td>35 pts</td><td class=\"center\"><img alt=\"W\" height=\"14px\" src=\"/images/w.png\" width=\"14px\"/><img alt=\"L\" height=\"14px\" src=\"/images/l.png\" width=\"14px\"/><img alt=\"L\" height=\"14px\" src=\"/images/l.png\" width=\"14px\"/><img alt=\"W\" height=\"14px\" src=\"/images/w.png\" width=\"14px\"/><img alt=\"D\" height=\"14px\" src=\"/images/d.png\" width=\"14px\"/></td></tr><tr class=\"odd\" onclick=\"window.location.href='/england/bolton/2003/'\"><td>4</td><td class=\"left paddingleft\">Bolton</td><td>19</td><td>8</td><td>3</td><td>8</td><td>24</td><td>35</td><td>-11</td><td>27 pts</td><td class=\"center\"><img alt=\"W\" height=\"14px\" src=\"/images/w.png\" width=\"14px\"/><img alt=\"W\" height=\"14px\" src=\"/images/w.png\" width=\"14px\"/><img alt=\"W\" height=\"14px\" src=\"/images/w.png\" width=\"14px\"/><img alt=\"L\" height=\"14px\" src=\"/images/l.png\" width=\"14px\"/><img alt=\"L\" height=\"14px\" src=\"/images/l.png\" width=\"14px\"/></td></tr><tr onclick=\"window.location.href='/england/liverpool/2003/'\"><td>5</td><td class=\"left paddingleft\">Liverpool</td><td>19</td><td>6</td><td>8</td><td>5</td><td>26</td><td>22</td><td>+4</td><td>26 pts</td><td class=\"center\"><img alt=\"W\" height=\"14px\" src=\"/images/w.png\" width=\"14px\"/><img alt=\"W\" height=\"14px\" src=\"/images/w.png\" width=\"14px\"/><img alt=\"L\" height=\"14px\" src=\"/images/l.png\" width=\"14px\"/><img alt=\"D\" height=\"14px\" src=\"/images/d.png\" width=\"14px\"/><img alt=\"L\" height=\"14px\" src=\"/images/l.png\" width=\"14px\"/></td></tr><tr class=\"odd\" onclick=\"window.location.href='/england/charlton-athletic/2003/'\"><td>6</td><td class=\"left paddingleft\">Charlton Athletic</td><td>19</td><td>7</td><td>5</td><td>7</td><td>22</td><td>22</td><td>+0</td><td>26 pts</td><td class=\"center\"><img alt=\"D\" height=\"14px\" src=\"/images/d.png\" width=\"14px\"/><img alt=\"L\" height=\"14px\" src=\"/images/l.png\" width=\"14px\"/><img alt=\"L\" height=\"14px\" src=\"/images/l.png\" width=\"14px\"/><img alt=\"W\" height=\"14px\" src=\"/images/w.png\" width=\"14px\"/><img alt=\"L\" height=\"14px\" src=\"/images/l.png\" width=\"14px\"/></td></tr><tr onclick=\"window.location.href='/england/blackburn/2003/'\"><td>7</td><td class=\"left paddingleft\">Blackburn</td><td>19</td><td>7</td><td>4</td><td>8</td><td>26</td><td>28</td><td>-2</td><td>25 pts</td><td class=\"center\"><img alt=\"L\" height=\"14px\" src=\"/images/l.png\" width=\"14px\"/><img alt=\"W\" height=\"14px\" src=\"/images/w.png\" width=\"14px\"/><img alt=\"W\" height=\"14px\" src=\"/images/w.png\" width=\"14px\"/><img alt=\"L\" height=\"14px\" src=\"/images/l.png\" width=\"14px\"/><img alt=\"W\" height=\"14px\" src=\"/images/w.png\" width=\"14px\"/></td></tr><tr class=\"odd\" onclick=\"window.location.href='/england/aston-villa/2003/'\"><td>8</td><td class=\"left paddingleft\">Aston Villa</td><td>19</td><td>6</td><td>5</td><td>8</td><td>24</td><td>25</td><td>-1</td><td>23 pts</td><td class=\"center\"><img alt=\"D\" height=\"14px\" src=\"/images/d.png\" width=\"14px\"/><img alt=\"W\" height=\"14px\" src=\"/images/w.png\" width=\"14px\"/><img alt=\"D\" height=\"14px\" src=\"/images/d.png\" width=\"14px\"/><img alt=\"W\" height=\"14px\" src=\"/images/w.png\" width=\"14px\"/><img alt=\"W\" height=\"14px\" src=\"/images/w.png\" width=\"14px\"/></td></tr><tr onclick=\"window.location.href='/england/fulham/2003/'\"><td>9</td><td class=\"left paddingleft\">Fulham</td><td>19</td><td>5</td><td>6</td><td>8</td><td>23</td><td>25</td><td>-2</td><td>21 pts</td><td class=\"center\"><img alt=\"W\" height=\"14px\" src=\"/images/w.png\" width=\"14px\"/><img alt=\"D\" height=\"14px\" src=\"/images/d.png\" width=\"14px\"/><img alt=\"D\" height=\"14px\" src=\"/images/d.png\" width=\"14px\"/><img alt=\"W\" height=\"14px\" src=\"/images/w.png\" width=\"14px\"/><img alt=\"D\" height=\"14px\" src=\"/images/d.png\" width=\"14px\"/></td></tr><tr class=\"odd\" onclick=\"window.location.href='/england/birmingham/2003/'\"><td>10</td><td class=\"left paddingleft\">Birmingham</td><td>19</td><td>4</td><td>9</td><td>6</td><td>17</td><td>24</td><td>-7</td><td>21 pts</td><td class=\"center\"><img alt=\"D\" height=\"14px\" src=\"/images/d.png\" width=\"14px\"/><img alt=\"D\" height=\"14px\" src=\"/images/d.png\" width=\"14px\"/><img alt=\"D\" height=\"14px\" src=\"/images/d.png\" width=\"14px\"/><img alt=\"L\" height=\"14px\" src=\"/images/l.png\" width=\"14px\"/><img alt=\"D\" height=\"14px\" src=\"/images/d.png\" width=\"14px\"/></td></tr><tr onclick=\"window.location.href='/england/middlesbrough/2003/'\"><td>11</td><td class=\"left paddingleft\">Middlesbrough</td><td>19</td><td>5</td><td>5</td><td>9</td><td>19</td><td>29</td><td>-10</td><td>20 pts</td><td class=\"center\"><img alt=\"L\" height=\"14px\" src=\"/images/l.png\" width=\"14px\"/><img alt=\"L\" height=\"14px\" src=\"/images/l.png\" width=\"14px\"/><img alt=\"L\" height=\"14px\" src=\"/images/l.png\" width=\"14px\"/><img alt=\"D\" height=\"14px\" src=\"/images/d.png\" width=\"14px\"/><img alt=\"D\" height=\"14px\" src=\"/images/d.png\" width=\"14px\"/></td></tr><tr class=\"odd\" onclick=\"window.location.href='/england/newcastle/2003/'\"><td>12</td><td class=\"left paddingleft\">Newcastle</td><td>19</td><td>2</td><td>12</td><td>5</td><td>19</td><td>26</td><td>-7</td><td>18 pts</td><td class=\"center\"><img alt=\"D\" height=\"14px\" src=\"/images/d.png\" width=\"14px\"/><img alt=\"D\" height=\"14px\" src=\"/images/d.png\" width=\"14px\"/><img alt=\"L\" height=\"14px\" src=\"/images/l.png\" width=\"14px\"/><img alt=\"D\" height=\"14px\" src=\"/images/d.png\" width=\"14px\"/><img alt=\"L\" height=\"14px\" src=\"/images/l.png\" width=\"14px\"/></td></tr><tr onclick=\"window.location.href='/england/manchester-city/2003/'\"><td>13</td><td class=\"left paddingleft\">Manchester City</td><td>19</td><td>4</td><td>5</td><td>10</td><td>24</td><td>30</td><td>-6</td><td>17 pts</td><td class=\"center\"><img alt=\"L\" height=\"14px\" src=\"/images/l.png\" width=\"14px\"/><img alt=\"D\" height=\"14px\" src=\"/images/d.png\" width=\"14px\"/><img alt=\"D\" height=\"14px\" src=\"/images/d.png\" width=\"14px\"/><img alt=\"D\" height=\"14px\" src=\"/images/d.png\" width=\"14px\"/><img alt=\"L\" height=\"14px\" src=\"/images/l.png\" width=\"14px\"/></td></tr><tr class=\"odd\" onclick=\"window.location.href='/england/southampton/2003/'\"><td>14</td><td class=\"left paddingleft\">Southampton</td><td>19</td><td>4</td><td>5</td><td>10</td><td>20</td><td>28</td><td>-8</td><td>17 pts</td><td class=\"center\"><img alt=\"L\" height=\"14px\" src=\"/images/l.png\" width=\"14px\"/><img alt=\"L\" height=\"14px\" src=\"/images/l.png\" width=\"14px\"/><img alt=\"W\" height=\"14px\" src=\"/images/w.png\" width=\"14px\"/><img alt=\"L\" height=\"14px\" src=\"/images/l.png\" width=\"14px\"/><img alt=\"W\" height=\"14px\" src=\"/images/w.png\" width=\"14px\"/></td></tr><tr onclick=\"window.location.href='/england/leicester-city/2003/'\"><td>15</td><td class=\"left paddingleft\">Leicester City</td><td>19</td><td>3</td><td>5</td><td>11</td><td>29</td><td>37</td><td>-8</td><td>14 pts</td><td class=\"center\"><img alt=\"L\" height=\"14px\" src=\"/images/l.png\" width=\"14px\"/><img alt=\"D\" height=\"14px\" src=\"/images/d.png\" width=\"14px\"/><img alt=\"L\" height=\"14px\" src=\"/images/l.png\" width=\"14px\"/><img alt=\"L\" height=\"14px\" src=\"/images/l.png\" width=\"14px\"/><img alt=\"L\" height=\"14px\" src=\"/images/l.png\" width=\"14px\"/></td></tr><tr class=\"odd\" onclick=\"window.location.href='/england/tottenham/2003/'\"><td>16</td><td class=\"left paddingleft\">Tottenham</td><td>19</td><td>4</td><td>2</td><td>13</td><td>14</td><td>30</td><td>-16</td><td>14 pts</td><td class=\"center\"><img alt=\"W\" height=\"14px\" src=\"/images/w.png\" width=\"14px\"/><img alt=\"L\" height=\"14px\" src=\"/images/l.png\" width=\"14px\"/><img alt=\"L\" height=\"14px\" src=\"/images/l.png\" width=\"14px\"/><img alt=\"L\" height=\"14px\" src=\"/images/l.png\" width=\"14px\"/><img alt=\"L\" height=\"14px\" src=\"/images/l.png\" width=\"14px\"/></td></tr><tr onclick=\"window.location.href='/england/portsmouth/2003/'\"><td>17</td><td class=\"left paddingleft\">Portsmouth</td><td>19</td><td>2</td><td>5</td><td>12</td><td>12</td><td>35</td><td>-23</td><td>11 pts</td><td class=\"center\"><img alt=\"L\" height=\"14px\" src=\"/images/l.png\" width=\"14px\"/><img alt=\"W\" height=\"14px\" src=\"/images/w.png\" width=\"14px\"/><img alt=\"D\" height=\"14px\" src=\"/images/d.png\" width=\"14px\"/><img alt=\"W\" height=\"14px\" src=\"/images/w.png\" width=\"14px\"/><img alt=\"L\" height=\"14px\" src=\"/images/l.png\" width=\"14px\"/></td></tr><tr class=\"odd\" onclick=\"window.location.href='/england/leeds/2003/'\"><td>18</td><td class=\"left paddingleft\">Leeds</td><td>19</td><td>3</td><td>2</td><td>14</td><td>15</td><td>48</td><td>-33</td><td>11 pts</td><td class=\"center\"><img alt=\"L\" height=\"14px\" src=\"/images/l.png\" width=\"14px\"/><img alt=\"L\" height=\"14px\" src=\"/images/l.png\" width=\"14px\"/><img alt=\"L\" height=\"14px\" src=\"/images/l.png\" width=\"14px\"/><img alt=\"W\" height=\"14px\" src=\"/images/w.png\" width=\"14px\"/><img alt=\"L\" height=\"14px\" src=\"/images/l.png\" width=\"14px\"/></td></tr><tr onclick=\"window.location.href='/england/everton/2003/'\"><td>19</td><td class=\"left paddingleft\">Everton</td><td>19</td><td>1</td><td>7</td><td>11</td><td>18</td><td>37</td><td>-19</td><td>10 pts</td><td class=\"center\"><img alt=\"L\" height=\"14px\" src=\"/images/l.png\" width=\"14px\"/><img alt=\"L\" height=\"14px\" src=\"/images/l.png\" width=\"14px\"/><img alt=\"D\" height=\"14px\" src=\"/images/d.png\" width=\"14px\"/><img alt=\"D\" height=\"14px\" src=\"/images/d.png\" width=\"14px\"/><img alt=\"L\" height=\"14px\" src=\"/images/l.png\" width=\"14px\"/></td></tr><tr class=\"odd\" onclick=\"window.location.href='/england/wolverhampton/2003/'\"><td>20</td><td class=\"left paddingleft\">Wolverhampton</td><td>19</td><td>0</td><td>7</td><td>12</td><td>15</td><td>42</td><td>-27</td><td>7 pts</td><td class=\"center\"><img alt=\"D\" height=\"14px\" src=\"/images/d.png\" width=\"14px\"/><img alt=\"D\" height=\"14px\" src=\"/images/d.png\" width=\"14px\"/><img alt=\"D\" height=\"14px\" src=\"/images/d.png\" width=\"14px\"/><img alt=\"L\" height=\"14px\" src=\"/images/l.png\" width=\"14px\"/><img alt=\"L\" height=\"14px\" src=\"/images/l.png\" width=\"14px\"/></td></tr></table><div class=\"invisiblebox\"><p class=\"previous\">« <a href=\"/english-premier-league-tables/2002/\">2002/2003 Premier League tables</a></p><p class=\"next\"><a href=\"/english-premier-league-tables/2004/\">2004/2005 Premier League tables</a> »</p></div></div><div id=\"right\"><div class=\"boxnopadding\"><h2>Premier League 2003/2004</h2><table class=\"results\"><tr class=\"tablehead strong\"><td colspan=\"2\">2004-05-15</td></tr><tr class=\"tablehead strong\"><td colspan=\"2\">Premier League England</td></tr><tr><td>Wolverhampton - Tottenham</td><td style=\"width:20px;\">0-2</td></tr><tr><td>Portsmouth - Middlesbrough</td><td style=\"width:20px;\">5-1</td></tr><tr><td>Manchester City - Everton</td><td style=\"width:20px;\">5-1</td></tr><tr><td>Liverpool - Newcastle</td><td style=\"width:20px;\">1-1</td></tr><tr><td>Chelsea - Leeds</td><td style=\"width:20px;\">1-0</td></tr><tr><td>Charlton Athlet - Southampton</td><td style=\"width:20px;\">2-1</td></tr><tr><td>Bolton - Fulham</td><td style=\"width:20px;\">0-2</td></tr><tr><td>Blackburn - Birmingham</td><td style=\"width:20px;\">1-1</td></tr><tr><td>Aston Villa - Manchester Unit</td><td style=\"width:20px;\">0-2</td></tr><tr><td>Arsenal - Leicester City</td><td style=\"width:20px;\">2-1</td></tr><tr class=\"tablehead strong\"><td colspan=\"2\">2004-05-12</td></tr><tr><td>Southampton - Newcastle</td><td style=\"width:20px;\">3-3</td></tr><tr class=\"tablehead strong\"><td colspan=\"2\">2004-05-09</td></tr><tr><td>Newcastle - Wolverhampton</td><td style=\"width:20px;\">1-1</td></tr><tr><td>Fulham - Arsenal</td><td style=\"width:20px;\">0-1</td></tr><tr class=\"tablehead strong\"><td colspan=\"2\">2004-05-08</td></tr><tr><td>Tottenham - Blackburn</td><td style=\"width:20px;\">1-0</td></tr><tr><td>Southampton - Aston Villa</td><td style=\"width:20px;\">1-1</td></tr><tr><td>Middlesbrough - Manchester City</td><td style=\"width:20px;\">2-1</td></tr><tr><td>Manchester Unit - Chelsea</td><td style=\"width:20px;\">1-1</td></tr><tr><td>Leicester City - Portsmouth</td><td style=\"width:20px;\">3-1</td></tr><tr><td>Leeds - Charlton Athlet</td><td style=\"width:20px;\">3-3</td></tr><tr><td>Everton - Bolton</td><td style=\"width:20px;\">1-2</td></tr></table>\n",
            "</div></div></div>\n",
            "<div id=\"left\">\n",
            "<div class=\"box\"><h3>Football Results</h3><ul><li><a href=\"/english-premier-league/\">Premier League results</a></li><ul><li><a href=\"/english-premier-league/2003/\">2003 Premier League results</a></li><li><strong>2003 Premier League tables</strong></li></ul></ul></div></div></div></body></html>\n",
            "<div class=\"invisiblebox center paddingleft\">\n",
            "<script type=\"text/javascript\"><!--\n",
            "google_ad_client = \"ca-pub-8130320560196838\";\n",
            "\n",
            "google_ad_slot = \"6053604059\";\n",
            "google_ad_width = 160;\n",
            "google_ad_height = 600;\n",
            "//-->\n",
            "</script>\n",
            "<script src=\"http://pagead2.googlesyndication.com/pagead/show_ads.js\" type=\"text/javascript\">\n",
            "</script>\n",
            "</div>\n",
            "\n",
            "\n",
            "<div id=\"footer\">\n",
            "<p>Copyright © 2011-2022 ResultDB.com<br/><a href=\"/privacy.php\">Privacy Policy</a></p>\n",
            "</div>\n",
            "<!-- Begin Cookie Consent plugin by Silktide - http://silktide.com/cookieconsent -->\n",
            "<script type=\"text/javascript\">\n",
            "    window.cookieconsent_options = {\"message\":\"This website uses cookies to ensure you get the best experience on our website\",\"dismiss\":\"Got it!\",\"learnMore\":\"More info\",\"link\":\"http://www.resultdb.com/privacy.php\",\"theme\":\"light-bottom\"};\n",
            "</script>\n",
            "<script src=\"//s3.amazonaws.com/cc.silktide.com/cookieconsent.latest.min.js\" type=\"text/javascript\"></script>\n",
            "<!-- End Cookie Consent plugin -->\n",
            "\n",
            "\n",
            "\n"
          ]
        }
      ],
      "source": [
        "import requests\n",
        "import pandas as pd\n",
        "\n",
        "for year in range(2000, 2004):\n",
        "  years=str(year)\n",
        "  print(years)\n",
        "  page = requests.get(\"http://www.resultdb.com/english-premier-league-tables/\"+years+\"/\")\n",
        "  maindetails = BeautifulSoup(page.text,'html.parser')\n",
        "  print(maindetails)\n",
        "\n",
        "\n",
        "# soup = BeautifulSoup(page.text,'lxml')\n",
        "# table = soup.find('table')\n",
        "\n",
        "# data = []\n",
        "# rows = table.find_all('tr')\n",
        "# for row in rows:\n",
        "#     cols = row.find_all('td')\n",
        "#     cols = [ele.text.strip() for ele in cols]\n",
        "#     data.append([ele for ele in cols if ele]) # Get rid of empty values\n",
        "\n",
        "# columns= ['position','team name','games','won','draw','lost','goal scored','goals conceded','goal difference','points']\n",
        "# season = pd.DataFrame(data[1:],columns=columns)"
      ]
    },
    {
      "cell_type": "code",
      "execution_count": null,
      "metadata": {
        "id": "eAb1s552Rss4"
      },
      "outputs": [],
      "source": [
        "# The details are in the table tag. Find the table\n",
        "table = maindetails.find('table')\n",
        "\n",
        "# Table has rows. Get all the table rows. the result will be a list\n",
        "rows = table.find_all('tr')\n",
        "\n"
      ]
    },
    {
      "cell_type": "code",
      "execution_count": null,
      "metadata": {
        "colab": {
          "base_uri": "https://localhost:8080/"
        },
        "id": "-Eo5IIL_Tkxx",
        "outputId": "50693348-ce6c-4f59-8f02-7ddd1bd5ce3c"
      },
      "outputs": [
        {
          "output_type": "execute_result",
          "data": {
            "text/plain": [
              "['1', 'Arsenal', '38', '26', '12', '0', '73', '26', '+47', '90 pts']"
            ]
          },
          "metadata": {},
          "execution_count": 15
        }
      ],
      "source": [
        "# Get the details in each row\n",
        "# Loop through each row\n",
        "data =[]\n",
        "for row in rows:\n",
        "  details = row.find_all('td')\n",
        "\n",
        "  cols = [ele.text.strip() for ele in details]\n",
        "  data.append([ele for ele in cols if ele])  # Get rid of empty values\n",
        "\n",
        "data[1]\n"
      ]
    },
    {
      "cell_type": "code",
      "execution_count": null,
      "metadata": {
        "id": "5vw857L1USD3"
      },
      "outputs": [],
      "source": [
        "# Create a dataframe where the data will be placed and processed\n",
        "columns= ['position','team name','games','won','draw','lost','goal scored','goals conceded','goal difference','points']\n",
        "season = pd.DataFrame(data[1:],columns=columns)"
      ]
    },
    {
      "cell_type": "code",
      "execution_count": null,
      "metadata": {
        "colab": {
          "base_uri": "https://localhost:8080/",
          "height": 214
        },
        "id": "bJ02wcrnQo48",
        "outputId": "63d2c898-d9a7-499f-aaa6-74bf95dda7f8"
      },
      "outputs": [
        {
          "output_type": "execute_result",
          "data": {
            "text/plain": [
              "  position          team name games won draw lost goal scored goals conceded  \\\n",
              "0        1            Arsenal    38  26   12    0          73             26   \n",
              "1        2            Chelsea    38  24    7    7          67             30   \n",
              "2        3  Manchester United    38  23    6    9          64             35   \n",
              "3        4          Liverpool    38  16   12   10          55             37   \n",
              "4        5          Newcastle    38  13   17    8          52             40   \n",
              "\n",
              "  goal difference  points  \n",
              "0             +47  90 pts  \n",
              "1             +37  79 pts  \n",
              "2             +29  75 pts  \n",
              "3             +18  60 pts  \n",
              "4             +12  56 pts  "
            ],
            "text/html": [
              "\n",
              "  <div id=\"df-e9cd0567-0ae3-44ae-bc32-1866c902a302\">\n",
              "    <div class=\"colab-df-container\">\n",
              "      <div>\n",
              "<style scoped>\n",
              "    .dataframe tbody tr th:only-of-type {\n",
              "        vertical-align: middle;\n",
              "    }\n",
              "\n",
              "    .dataframe tbody tr th {\n",
              "        vertical-align: top;\n",
              "    }\n",
              "\n",
              "    .dataframe thead th {\n",
              "        text-align: right;\n",
              "    }\n",
              "</style>\n",
              "<table border=\"1\" class=\"dataframe\">\n",
              "  <thead>\n",
              "    <tr style=\"text-align: right;\">\n",
              "      <th></th>\n",
              "      <th>position</th>\n",
              "      <th>team name</th>\n",
              "      <th>games</th>\n",
              "      <th>won</th>\n",
              "      <th>draw</th>\n",
              "      <th>lost</th>\n",
              "      <th>goal scored</th>\n",
              "      <th>goals conceded</th>\n",
              "      <th>goal difference</th>\n",
              "      <th>points</th>\n",
              "    </tr>\n",
              "  </thead>\n",
              "  <tbody>\n",
              "    <tr>\n",
              "      <th>0</th>\n",
              "      <td>1</td>\n",
              "      <td>Arsenal</td>\n",
              "      <td>38</td>\n",
              "      <td>26</td>\n",
              "      <td>12</td>\n",
              "      <td>0</td>\n",
              "      <td>73</td>\n",
              "      <td>26</td>\n",
              "      <td>+47</td>\n",
              "      <td>90 pts</td>\n",
              "    </tr>\n",
              "    <tr>\n",
              "      <th>1</th>\n",
              "      <td>2</td>\n",
              "      <td>Chelsea</td>\n",
              "      <td>38</td>\n",
              "      <td>24</td>\n",
              "      <td>7</td>\n",
              "      <td>7</td>\n",
              "      <td>67</td>\n",
              "      <td>30</td>\n",
              "      <td>+37</td>\n",
              "      <td>79 pts</td>\n",
              "    </tr>\n",
              "    <tr>\n",
              "      <th>2</th>\n",
              "      <td>3</td>\n",
              "      <td>Manchester United</td>\n",
              "      <td>38</td>\n",
              "      <td>23</td>\n",
              "      <td>6</td>\n",
              "      <td>9</td>\n",
              "      <td>64</td>\n",
              "      <td>35</td>\n",
              "      <td>+29</td>\n",
              "      <td>75 pts</td>\n",
              "    </tr>\n",
              "    <tr>\n",
              "      <th>3</th>\n",
              "      <td>4</td>\n",
              "      <td>Liverpool</td>\n",
              "      <td>38</td>\n",
              "      <td>16</td>\n",
              "      <td>12</td>\n",
              "      <td>10</td>\n",
              "      <td>55</td>\n",
              "      <td>37</td>\n",
              "      <td>+18</td>\n",
              "      <td>60 pts</td>\n",
              "    </tr>\n",
              "    <tr>\n",
              "      <th>4</th>\n",
              "      <td>5</td>\n",
              "      <td>Newcastle</td>\n",
              "      <td>38</td>\n",
              "      <td>13</td>\n",
              "      <td>17</td>\n",
              "      <td>8</td>\n",
              "      <td>52</td>\n",
              "      <td>40</td>\n",
              "      <td>+12</td>\n",
              "      <td>56 pts</td>\n",
              "    </tr>\n",
              "  </tbody>\n",
              "</table>\n",
              "</div>\n",
              "      <button class=\"colab-df-convert\" onclick=\"convertToInteractive('df-e9cd0567-0ae3-44ae-bc32-1866c902a302')\"\n",
              "              title=\"Convert this dataframe to an interactive table.\"\n",
              "              style=\"display:none;\">\n",
              "        \n",
              "  <svg xmlns=\"http://www.w3.org/2000/svg\" height=\"24px\"viewBox=\"0 0 24 24\"\n",
              "       width=\"24px\">\n",
              "    <path d=\"M0 0h24v24H0V0z\" fill=\"none\"/>\n",
              "    <path d=\"M18.56 5.44l.94 2.06.94-2.06 2.06-.94-2.06-.94-.94-2.06-.94 2.06-2.06.94zm-11 1L8.5 8.5l.94-2.06 2.06-.94-2.06-.94L8.5 2.5l-.94 2.06-2.06.94zm10 10l.94 2.06.94-2.06 2.06-.94-2.06-.94-.94-2.06-.94 2.06-2.06.94z\"/><path d=\"M17.41 7.96l-1.37-1.37c-.4-.4-.92-.59-1.43-.59-.52 0-1.04.2-1.43.59L10.3 9.45l-7.72 7.72c-.78.78-.78 2.05 0 2.83L4 21.41c.39.39.9.59 1.41.59.51 0 1.02-.2 1.41-.59l7.78-7.78 2.81-2.81c.8-.78.8-2.07 0-2.86zM5.41 20L4 18.59l7.72-7.72 1.47 1.35L5.41 20z\"/>\n",
              "  </svg>\n",
              "      </button>\n",
              "      \n",
              "  <style>\n",
              "    .colab-df-container {\n",
              "      display:flex;\n",
              "      flex-wrap:wrap;\n",
              "      gap: 12px;\n",
              "    }\n",
              "\n",
              "    .colab-df-convert {\n",
              "      background-color: #E8F0FE;\n",
              "      border: none;\n",
              "      border-radius: 50%;\n",
              "      cursor: pointer;\n",
              "      display: none;\n",
              "      fill: #1967D2;\n",
              "      height: 32px;\n",
              "      padding: 0 0 0 0;\n",
              "      width: 32px;\n",
              "    }\n",
              "\n",
              "    .colab-df-convert:hover {\n",
              "      background-color: #E2EBFA;\n",
              "      box-shadow: 0px 1px 2px rgba(60, 64, 67, 0.3), 0px 1px 3px 1px rgba(60, 64, 67, 0.15);\n",
              "      fill: #174EA6;\n",
              "    }\n",
              "\n",
              "    [theme=dark] .colab-df-convert {\n",
              "      background-color: #3B4455;\n",
              "      fill: #D2E3FC;\n",
              "    }\n",
              "\n",
              "    [theme=dark] .colab-df-convert:hover {\n",
              "      background-color: #434B5C;\n",
              "      box-shadow: 0px 1px 3px 1px rgba(0, 0, 0, 0.15);\n",
              "      filter: drop-shadow(0px 1px 2px rgba(0, 0, 0, 0.3));\n",
              "      fill: #FFFFFF;\n",
              "    }\n",
              "  </style>\n",
              "\n",
              "      <script>\n",
              "        const buttonEl =\n",
              "          document.querySelector('#df-e9cd0567-0ae3-44ae-bc32-1866c902a302 button.colab-df-convert');\n",
              "        buttonEl.style.display =\n",
              "          google.colab.kernel.accessAllowed ? 'block' : 'none';\n",
              "\n",
              "        async function convertToInteractive(key) {\n",
              "          const element = document.querySelector('#df-e9cd0567-0ae3-44ae-bc32-1866c902a302');\n",
              "          const dataTable =\n",
              "            await google.colab.kernel.invokeFunction('convertToInteractive',\n",
              "                                                     [key], {});\n",
              "          if (!dataTable) return;\n",
              "\n",
              "          const docLinkHtml = 'Like what you see? Visit the ' +\n",
              "            '<a target=\"_blank\" href=https://colab.research.google.com/notebooks/data_table.ipynb>data table notebook</a>'\n",
              "            + ' to learn more about interactive tables.';\n",
              "          element.innerHTML = '';\n",
              "          dataTable['output_type'] = 'display_data';\n",
              "          await google.colab.output.renderOutput(dataTable, element);\n",
              "          const docLink = document.createElement('div');\n",
              "          docLink.innerHTML = docLinkHtml;\n",
              "          element.appendChild(docLink);\n",
              "        }\n",
              "      </script>\n",
              "    </div>\n",
              "  </div>\n",
              "  "
            ]
          },
          "metadata": {},
          "execution_count": 20
        }
      ],
      "source": [
        "season.head()"
      ]
    },
    {
      "cell_type": "code",
      "execution_count": null,
      "metadata": {
        "id": "8aNOuHQSQwG9"
      },
      "outputs": [],
      "source": [
        "# TODO convert the above to a function. Then get the details from 2000-2015, place all the details in one dataframe, add a column called season\n",
        "# ENTER CODE HERE"
      ]
    },
    {
      "cell_type": "code",
      "source": [
        "import requests\n",
        "import pandas as pd\n",
        "\n",
        "for year in range(2000, 2005):\n",
        "  years=str(year)\n",
        "  print(years)\n",
        "  page = requests.get(\"http://www.resultdb.com/english-premier-league-tables/\"+years+\"/\")\n",
        "  maindetails = BeautifulSoup(page.text,'html.parser')\n",
        "  # print(maindetails)\n",
        "  table = maindetails.find('table')\n",
        "  rows = table.find_all('tr')\n",
        "  data =[]\n",
        "  for row in rows:\n",
        "    details = row.find_all('td')\n",
        "\n",
        "    cols = [ele.text.strip() for ele in details]\n",
        "    data.append([ele for ele in cols if ele])  # ....Get rid of empty values .....#\n",
        "\n",
        "  data[1]\n",
        "  columns= ['position','team name','games','won','draw','lost','goal scored','goals conceded','goal difference','points']\n",
        "  season = pd.DataFrame(data[1:],columns=columns)\n",
        "  print(season.head())"
      ],
      "metadata": {
        "colab": {
          "base_uri": "https://localhost:8080/"
        },
        "id": "7QYpfAiANqss",
        "outputId": "36369fd3-8899-4a89-85f0-8a4e5e7d9f76"
      },
      "execution_count": null,
      "outputs": [
        {
          "output_type": "stream",
          "name": "stdout",
          "text": [
            "2000\n",
            "  position          team name games won draw lost goal scored goals conceded  \\\n",
            "0        1  Manchester United    38  24    8    6          79             31   \n",
            "1        2            Arsenal    38  20   10    8          63             38   \n",
            "2        3          Liverpool    38  20    9    9          71             39   \n",
            "3        4              Leeds    38  20    8   10          64             43   \n",
            "4        5       Ipswich Town    38  20    6   12          57             42   \n",
            "\n",
            "  goal difference  points  \n",
            "0             +48  80 pts  \n",
            "1             +25  70 pts  \n",
            "2             +32  69 pts  \n",
            "3             +21  68 pts  \n",
            "4             +15  66 pts  \n",
            "2001\n",
            "  position          team name games won draw lost goal scored goals conceded  \\\n",
            "0        1            Arsenal    38  26    9    3          79             36   \n",
            "1        2          Liverpool    38  24    8    6          67             30   \n",
            "2        3  Manchester United    38  24    5    9          87             45   \n",
            "3        4          Newcastle    38  21    8    9          74             52   \n",
            "4        5              Leeds    38  18   12    8          53             37   \n",
            "\n",
            "  goal difference  points  \n",
            "0             +43  87 pts  \n",
            "1             +37  80 pts  \n",
            "2             +42  77 pts  \n",
            "3             +22  71 pts  \n",
            "4             +16  66 pts  \n",
            "2002\n",
            "  position          team name games won draw lost goal scored goals conceded  \\\n",
            "0        1  Manchester United    38  25    8    5          74             34   \n",
            "1        2            Arsenal    38  23    9    6          85             42   \n",
            "2        3          Newcastle    38  21    6   11          63             48   \n",
            "3        4            Chelsea    38  19   10    9          68             38   \n",
            "4        5          Liverpool    38  18   10   10          61             41   \n",
            "\n",
            "  goal difference  points  \n",
            "0             +40  83 pts  \n",
            "1             +43  78 pts  \n",
            "2             +15  69 pts  \n",
            "3             +30  67 pts  \n",
            "4             +20  64 pts  \n",
            "2003\n",
            "  position          team name games won draw lost goal scored goals conceded  \\\n",
            "0        1            Arsenal    38  26   12    0          73             26   \n",
            "1        2            Chelsea    38  24    7    7          67             30   \n",
            "2        3  Manchester United    38  23    6    9          64             35   \n",
            "3        4          Liverpool    38  16   12   10          55             37   \n",
            "4        5          Newcastle    38  13   17    8          52             40   \n",
            "\n",
            "  goal difference  points  \n",
            "0             +47  90 pts  \n",
            "1             +37  79 pts  \n",
            "2             +29  75 pts  \n",
            "3             +18  60 pts  \n",
            "4             +12  56 pts  \n",
            "2004\n",
            "  position          team name games won draw lost goal scored goals conceded  \\\n",
            "0        1            Chelsea    38  29    8    1          72             15   \n",
            "1        2            Arsenal    38  25    8    5          87             36   \n",
            "2        3  Manchester United    38  22   11    5          58             26   \n",
            "3        4            Everton    38  18    7   13          45             46   \n",
            "4        5          Liverpool    38  17    7   14          52             41   \n",
            "\n",
            "  goal difference  points  \n",
            "0             +57  95 pts  \n",
            "1             +51  83 pts  \n",
            "2             +32  77 pts  \n",
            "3              -1  61 pts  \n",
            "4             +11  58 pts  \n"
          ]
        }
      ]
    },
    {
      "cell_type": "markdown",
      "metadata": {
        "id": "Ls2ZPt8eWEAc"
      },
      "source": [
        "## Assignment\n",
        "Based on the above, get the main articles from igihe from January 2022 - present\n",
        "\n",
        "Steps to do this\n",
        "\n",
        "\n",
        "1.   Get the links to the main pages from january. Create a list\n",
        "2.   In each link, get all the links to the main articles\n",
        "3.   For each article, get the main tag that holds the texts\n",
        "4.   Get the text and store them in a txt file. The data will be used in week 2\n",
        "\n"
      ]
    }
  ],
  "metadata": {
    "colab": {
      "collapsed_sections": [],
      "provenance": [],
      "include_colab_link": true
    },
    "kernelspec": {
      "display_name": "Python 3 (ipykernel)",
      "language": "python",
      "name": "python3"
    },
    "language_info": {
      "codemirror_mode": {
        "name": "ipython",
        "version": 3
      },
      "file_extension": ".py",
      "mimetype": "text/x-python",
      "name": "python",
      "nbconvert_exporter": "python",
      "pygments_lexer": "ipython3",
      "version": "3.9.7"
    },
    "accelerator": "GPU"
  },
  "nbformat": 4,
  "nbformat_minor": 0
}